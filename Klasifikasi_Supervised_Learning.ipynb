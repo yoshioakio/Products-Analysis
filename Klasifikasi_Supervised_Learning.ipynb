{
  "cells": [
    {
      "cell_type": "markdown",
      "metadata": {
        "id": "0npaXgrk2PU1"
      },
      "source": [
        "# **1. Import Library**"
      ]
    },
    {
      "cell_type": "markdown",
      "metadata": {
        "id": "BGX6zBMP3w0K"
      },
      "source": [
        "Beberapa pustaka (library) Python yang dibutuhkan untuk analisis data dan pembangunan model machine learning ini."
      ]
    },
    {
      "cell_type": "code",
      "execution_count": 1,
      "metadata": {
        "id": "R7XbWquY2OsY"
      },
      "outputs": [],
      "source": [
        "import pandas as pd\n",
        "import numpy as np\n",
        "import matplotlib.pyplot as plt\n",
        "import seaborn as sns\n",
        "from sklearn.model_selection import train_test_split, learning_curve\n",
        "from sklearn.linear_model import LogisticRegression\n",
        "from sklearn.svm import SVC\n",
        "from sklearn.metrics import accuracy_score, classification_report, confusion_matrix, precision_score, recall_score, f1_score\n",
        "from sklearn.metrics import ConfusionMatrixDisplay"
      ]
    },
    {
      "cell_type": "markdown",
      "metadata": {
        "id": "p7hydqc92S0K"
      },
      "source": [
        "# **2. Memuat Dataset dari Hasil Clustering**"
      ]
    },
    {
      "cell_type": "markdown",
      "metadata": {
        "id": "bCs3FZIw3jx9"
      },
      "source": [
        "Memuat dataset hasil clustering dari file hasil_clustering.CSV ke dalam variabel DataFrame."
      ]
    },
    {
      "cell_type": "code",
      "execution_count": 2,
      "metadata": {
        "colab": {
          "base_uri": "https://localhost:8080/",
          "height": 226
        },
        "id": "N6eh5Ku-1lLg",
        "outputId": "f03995df-77df-412b-bf4b-55d68cb7626d"
      },
      "outputs": [
        {
          "data": {
            "text/html": [
              "<div>\n",
              "<style scoped>\n",
              "    .dataframe tbody tr th:only-of-type {\n",
              "        vertical-align: middle;\n",
              "    }\n",
              "\n",
              "    .dataframe tbody tr th {\n",
              "        vertical-align: top;\n",
              "    }\n",
              "\n",
              "    .dataframe thead th {\n",
              "        text-align: right;\n",
              "    }\n",
              "</style>\n",
              "<table border=\"1\" class=\"dataframe\">\n",
              "  <thead>\n",
              "    <tr style=\"text-align: right;\">\n",
              "      <th></th>\n",
              "      <th>order_id</th>\n",
              "      <th>customer_id</th>\n",
              "      <th>order_status</th>\n",
              "      <th>order_item_id</th>\n",
              "      <th>product_id</th>\n",
              "      <th>price</th>\n",
              "      <th>freight_value</th>\n",
              "      <th>review_id</th>\n",
              "      <th>review_score</th>\n",
              "      <th>product_category_name_english</th>\n",
              "      <th>order_purchase_date</th>\n",
              "      <th>shipping_duration_days</th>\n",
              "      <th>delivery_accuracy_days</th>\n",
              "      <th>payment_made</th>\n",
              "      <th>product_volume_cm3</th>\n",
              "      <th>product_complexity</th>\n",
              "      <th>order_status_encoded</th>\n",
              "      <th>cluster_category</th>\n",
              "    </tr>\n",
              "  </thead>\n",
              "  <tbody>\n",
              "    <tr>\n",
              "      <th>0</th>\n",
              "      <td>53cdb2fc8bc7dce0b6741e2150273451</td>\n",
              "      <td>b0830fb4747a6c6d20dea0b8c802d7ef</td>\n",
              "      <td>delivered</td>\n",
              "      <td>1</td>\n",
              "      <td>595fac2a385ac33a80bd5114aec74eb8</td>\n",
              "      <td>0.076074</td>\n",
              "      <td>0.118669</td>\n",
              "      <td>8d5266042046a06655c8db133d120ba5</td>\n",
              "      <td>0.750</td>\n",
              "      <td>perfumery</td>\n",
              "      <td>2018-07</td>\n",
              "      <td>0.025243</td>\n",
              "      <td>0.801347</td>\n",
              "      <td>1.0</td>\n",
              "      <td>0.004131</td>\n",
              "      <td>0.042601</td>\n",
              "      <td>2</td>\n",
              "      <td>2</td>\n",
              "    </tr>\n",
              "    <tr>\n",
              "      <th>1</th>\n",
              "      <td>47770eb9100c2d0c44946d9cf07ec65d</td>\n",
              "      <td>41ce2a54c0b03bf3443c3d931a367089</td>\n",
              "      <td>delivered</td>\n",
              "      <td>1</td>\n",
              "      <td>aa4383b373c6aca5d8797843e5594415</td>\n",
              "      <td>0.102670</td>\n",
              "      <td>0.100203</td>\n",
              "      <td>e73b67b67587f7644d5bd1a52deb1b01</td>\n",
              "      <td>1.000</td>\n",
              "      <td>auto</td>\n",
              "      <td>2018-08</td>\n",
              "      <td>0.017476</td>\n",
              "      <td>0.821549</td>\n",
              "      <td>0.0</td>\n",
              "      <td>0.008035</td>\n",
              "      <td>0.060289</td>\n",
              "      <td>2</td>\n",
              "      <td>1</td>\n",
              "    </tr>\n",
              "    <tr>\n",
              "      <th>2</th>\n",
              "      <td>949d5b44dbf5de918fe9c16f97b45f8a</td>\n",
              "      <td>f88197465ea7920adcdbec7375364d82</td>\n",
              "      <td>delivered</td>\n",
              "      <td>1</td>\n",
              "      <td>d0b61bfb1de832b15ba9d266ca96e5b0</td>\n",
              "      <td>0.028500</td>\n",
              "      <td>0.141829</td>\n",
              "      <td>359d03e676b3c069f62cadba8dd3f6e8</td>\n",
              "      <td>1.000</td>\n",
              "      <td>pet_shop</td>\n",
              "      <td>2017-11</td>\n",
              "      <td>0.025243</td>\n",
              "      <td>0.813131</td>\n",
              "      <td>1.0</td>\n",
              "      <td>0.004695</td>\n",
              "      <td>0.122820</td>\n",
              "      <td>2</td>\n",
              "      <td>2</td>\n",
              "    </tr>\n",
              "    <tr>\n",
              "      <th>3</th>\n",
              "      <td>6514b8ad8028c9f2cc2374ded245783f</td>\n",
              "      <td>9bdf08b4b3b52b5526ff42d37d47f222</td>\n",
              "      <td>delivered</td>\n",
              "      <td>1</td>\n",
              "      <td>4520766ec412348b8d4caa5e8a18c464</td>\n",
              "      <td>0.038176</td>\n",
              "      <td>0.079078</td>\n",
              "      <td>07d67dd06ed5f88bef11ef6b464e79ae</td>\n",
              "      <td>1.000</td>\n",
              "      <td>auto</td>\n",
              "      <td>2017-05</td>\n",
              "      <td>0.017476</td>\n",
              "      <td>0.811448</td>\n",
              "      <td>0.0</td>\n",
              "      <td>0.010608</td>\n",
              "      <td>0.243896</td>\n",
              "      <td>2</td>\n",
              "      <td>1</td>\n",
              "    </tr>\n",
              "    <tr>\n",
              "      <th>4</th>\n",
              "      <td>76c6e866289321a7c93b82b54852dc33</td>\n",
              "      <td>f54a9f0e6b351c431402b8461ea51999</td>\n",
              "      <td>delivered</td>\n",
              "      <td>1</td>\n",
              "      <td>ac1789e492dcd698c5c10b97a671243a</td>\n",
              "      <td>0.012297</td>\n",
              "      <td>0.083668</td>\n",
              "      <td>fc4af8aea8ec3f1a3cd181d3d0cadbd5</td>\n",
              "      <td>0.375</td>\n",
              "      <td>furniture_decor</td>\n",
              "      <td>2017-01</td>\n",
              "      <td>0.017476</td>\n",
              "      <td>0.845118</td>\n",
              "      <td>1.0</td>\n",
              "      <td>0.010608</td>\n",
              "      <td>0.109118</td>\n",
              "      <td>2</td>\n",
              "      <td>2</td>\n",
              "    </tr>\n",
              "  </tbody>\n",
              "</table>\n",
              "</div>"
            ],
            "text/plain": [
              "                           order_id                       customer_id  \\\n",
              "0  53cdb2fc8bc7dce0b6741e2150273451  b0830fb4747a6c6d20dea0b8c802d7ef   \n",
              "1  47770eb9100c2d0c44946d9cf07ec65d  41ce2a54c0b03bf3443c3d931a367089   \n",
              "2  949d5b44dbf5de918fe9c16f97b45f8a  f88197465ea7920adcdbec7375364d82   \n",
              "3  6514b8ad8028c9f2cc2374ded245783f  9bdf08b4b3b52b5526ff42d37d47f222   \n",
              "4  76c6e866289321a7c93b82b54852dc33  f54a9f0e6b351c431402b8461ea51999   \n",
              "\n",
              "  order_status  order_item_id                        product_id     price  \\\n",
              "0    delivered              1  595fac2a385ac33a80bd5114aec74eb8  0.076074   \n",
              "1    delivered              1  aa4383b373c6aca5d8797843e5594415  0.102670   \n",
              "2    delivered              1  d0b61bfb1de832b15ba9d266ca96e5b0  0.028500   \n",
              "3    delivered              1  4520766ec412348b8d4caa5e8a18c464  0.038176   \n",
              "4    delivered              1  ac1789e492dcd698c5c10b97a671243a  0.012297   \n",
              "\n",
              "   freight_value                         review_id  review_score  \\\n",
              "0       0.118669  8d5266042046a06655c8db133d120ba5         0.750   \n",
              "1       0.100203  e73b67b67587f7644d5bd1a52deb1b01         1.000   \n",
              "2       0.141829  359d03e676b3c069f62cadba8dd3f6e8         1.000   \n",
              "3       0.079078  07d67dd06ed5f88bef11ef6b464e79ae         1.000   \n",
              "4       0.083668  fc4af8aea8ec3f1a3cd181d3d0cadbd5         0.375   \n",
              "\n",
              "  product_category_name_english order_purchase_date  shipping_duration_days  \\\n",
              "0                     perfumery             2018-07                0.025243   \n",
              "1                          auto             2018-08                0.017476   \n",
              "2                      pet_shop             2017-11                0.025243   \n",
              "3                          auto             2017-05                0.017476   \n",
              "4               furniture_decor             2017-01                0.017476   \n",
              "\n",
              "   delivery_accuracy_days  payment_made  product_volume_cm3  \\\n",
              "0                0.801347           1.0            0.004131   \n",
              "1                0.821549           0.0            0.008035   \n",
              "2                0.813131           1.0            0.004695   \n",
              "3                0.811448           0.0            0.010608   \n",
              "4                0.845118           1.0            0.010608   \n",
              "\n",
              "   product_complexity  order_status_encoded  cluster_category  \n",
              "0            0.042601                     2                 2  \n",
              "1            0.060289                     2                 1  \n",
              "2            0.122820                     2                 2  \n",
              "3            0.243896                     2                 1  \n",
              "4            0.109118                     2                 2  "
            ]
          },
          "execution_count": 2,
          "metadata": {},
          "output_type": "execute_result"
        }
      ],
      "source": [
        "product_df = pd.read_csv(\"dataset/hasil_clustering.csv\")\n",
        "product_df.head()"
      ]
    },
    {
      "cell_type": "code",
      "execution_count": 3,
      "metadata": {
        "colab": {
          "base_uri": "https://localhost:8080/"
        },
        "id": "lTFDGSli5IF9",
        "outputId": "b32ac13c-32c1-4bb6-8dbf-495b47d7c8d2"
      },
      "outputs": [
        {
          "name": "stdout",
          "output_type": "stream",
          "text": [
            "<class 'pandas.core.frame.DataFrame'>\n",
            "RangeIndex: 58765 entries, 0 to 58764\n",
            "Data columns (total 18 columns):\n",
            " #   Column                         Non-Null Count  Dtype  \n",
            "---  ------                         --------------  -----  \n",
            " 0   order_id                       58765 non-null  object \n",
            " 1   customer_id                    58765 non-null  object \n",
            " 2   order_status                   58765 non-null  object \n",
            " 3   order_item_id                  58765 non-null  int64  \n",
            " 4   product_id                     58765 non-null  object \n",
            " 5   price                          58765 non-null  float64\n",
            " 6   freight_value                  58765 non-null  float64\n",
            " 7   review_id                      58765 non-null  object \n",
            " 8   review_score                   58765 non-null  float64\n",
            " 9   product_category_name_english  58765 non-null  object \n",
            " 10  order_purchase_date            58765 non-null  object \n",
            " 11  shipping_duration_days         58765 non-null  float64\n",
            " 12  delivery_accuracy_days         58765 non-null  float64\n",
            " 13  payment_made                   58765 non-null  float64\n",
            " 14  product_volume_cm3             58765 non-null  float64\n",
            " 15  product_complexity             58765 non-null  float64\n",
            " 16  order_status_encoded           58765 non-null  int64  \n",
            " 17  cluster_category               58765 non-null  int64  \n",
            "dtypes: float64(8), int64(3), object(7)\n",
            "memory usage: 8.1+ MB\n"
          ]
        }
      ],
      "source": [
        "product_df.info()"
      ]
    },
    {
      "cell_type": "code",
      "execution_count": 4,
      "metadata": {
        "colab": {
          "base_uri": "https://localhost:8080/"
        },
        "id": "boWqB7zCHQyO",
        "outputId": "49573375-faac-4642-c488-d127a9470ce2"
      },
      "outputs": [
        {
          "name": "stdout",
          "output_type": "stream",
          "text": [
            "Dataset memiliki 58765 baris dan 18 kolom.\n",
            "\n"
          ]
        }
      ],
      "source": [
        "print(f\"Dataset memiliki {product_df.shape[0]} baris dan {product_df.shape[1]} kolom.\\n\")"
      ]
    },
    {
      "cell_type": "code",
      "execution_count": 5,
      "metadata": {
        "colab": {
          "base_uri": "https://localhost:8080/",
          "height": 410
        },
        "id": "zu4KIz3ZH-g1",
        "outputId": "f8250a6d-9e90-43c3-aa71-16211e5ad4a3"
      },
      "outputs": [
        {
          "data": {
            "image/png": "[encoded data removed]",
            "text/plain": [
              "<Figure size 600x400 with 1 Axes>"
            ]
          },
          "metadata": {},
          "output_type": "display_data"
        }
      ],
      "source": [
        "plt.figure(figsize=(6, 4))\n",
        "sns.countplot(data=product_df, x='cluster_category', palette='Set2', hue='cluster_category', dodge=False, legend=False)\n",
        "plt.title('Distribusi Hasil Clustering)')\n",
        "plt.xlabel('Cluster')\n",
        "plt.ylabel('Jumlah')\n",
        "plt.show()"
      ]
    },
    {
      "cell_type": "markdown",
      "metadata": {
        "id": "gOCf5xgA35I2"
      },
      "source": [
        "# **3. Data Splitting**"
      ]
    },
    {
      "cell_type": "markdown",
      "metadata": {
        "id": "KjC5iyDyRN2E"
      },
      "source": [
        "## **a. Pemilihan Fiture**"
      ]
    },
    {
      "cell_type": "markdown",
      "metadata": {
        "id": "Fo3odGBXWSVs"
      },
      "source": [
        "**Pertanyaan Bisnis yang Diambil**"
      ]
    },
    {
      "cell_type": "markdown",
      "metadata": {
        "id": "YU4F-m12WTan"
      },
      "source": [
        "Supervised Learning: Produk mana yang berpotensi untuk lebih laku berdasarkan karakteristik yang telah dikelompokkan?"
      ]
    },
    {
      "cell_type": "markdown",
      "metadata": {
        "id": "rZCbo4ahQ5aj"
      },
      "source": [
        "\n",
        "\n",
        "Untuk pemilihan data, dibagi menjadi fitur X (variabel independen) dan target y (variabel dependen).Pembagian ini memastikan model dilatih menggunakan fitur yang relavan sehingga hasil prediksi menjadi lebih akurat.\n",
        "\n"
      ]
    },
    {
      "cell_type": "markdown",
      "metadata": {
        "id": "TZ7houz9e0mN"
      },
      "source": [
        "Metode assign digunakan untuk mengklasifikasikan produk berdasarkan aturan logis yang didasarkan pada karakteristik seperti kategori, skor ulasan, akurasi pengiriman, dan kompleksitas produk. Pendekatan ini memungkinkan identifikasi produk yang berpotensi laku atau tidak laku secara cepat, memberikan dasar analisis sebelum menerapkan model prediktif yang lebih kompleks."
      ]
    },
    {
      "cell_type": "code",
      "execution_count": 6,
      "metadata": {
        "id": "nqmLAuVA4wjU"
      },
      "outputs": [],
      "source": [
        "def assign_popularity(row):\n",
        "    if row['cluster_category'] == 2 and row['review_score'] >= 1.000 and row['delivery_accuracy_days'] >= 0.8 and row['product_complexity'] >= 0.2:\n",
        "        return '1'\n",
        "    elif row['cluster_category'] == 1 and row['review_score'] >= 1.000 and row['delivery_accuracy_days'] >= 0.8 and row['product_complexity'] >= 0.2:\n",
        "        return '1'\n",
        "    elif row['cluster_category'] == 2 and row['review_score'] < 1.000 and row['delivery_accuracy_days'] < 0.8 and row['product_complexity'] < 0.2:\n",
        "        return '2'\n",
        "    elif row['cluster_category'] == 1 and row['review_score'] < 1.000 and row['delivery_accuracy_days'] < 0.8 and row['product_complexity'] < 0.2:\n",
        "        return '2'\n",
        "    else:\n",
        "        return '2'\n",
        "\n",
        "product_df['popular'] = product_df.apply(assign_popularity, axis=1)"
      ]
    },
    {
      "cell_type": "markdown",
      "metadata": {
        "id": "fbpq4ykASPdW"
      },
      "source": [
        "- Penentuan nilai popular pada variabel depanden (y) didasarkan pada kombinasi beberapa faktor fitur, dan untuk nilainnya diambil dari evaluasi hasil clustering dengan mengambil nilai rata rata tertinggi/terbaik, sehingga bisa menghasilkan produk yang berpotensi lebih laku dan kualitas tertinggi berdasarkan beberapa aspek berikut:\n",
        "\n",
        "  1. **cluster_category:** Kategori produk berdasarkan hasil clustering, yang menunjukkan kelompok produk dengan performa serupa. (cluster 1 dan 2)\n",
        "\n",
        "  2. **review_score:** Skor ulasan produk, dengan produk yang mendapat skor tinggi dianggap lebih populer. (rata rata tertinggi di index >=1.0)\n",
        "\n",
        "  3. **delivery_accuracy_days:** Keakuratan pengiriman, di mana produk yang dikirim tepat waktu lebih dipercaya dan lebih mungkin laris. (rata rata tepat waktu di index >=0.8)\n",
        "\n",
        "  4. **product_complexity:** Keterangan informasi tentang produk, agar produk yang mudah dipahami (rata rata kompelsitas informasi terbaik di index >=0.2)"
      ]
    },
    {
      "cell_type": "markdown",
      "metadata": {
        "id": "ugkPNpQ3dO5M"
      },
      "source": [
        "- Untuk nilai popular diatur menjadi:\n",
        "    - (1) (laris) jika produk memiliki kriteria yang baik dalam aspek-aspek di atas.\n",
        "    - (2) (tidak laku) jika produk tidak memenuhi kriteria tersebut."
      ]
    },
    {
      "cell_type": "code",
      "execution_count": 7,
      "metadata": {
        "id": "WDagoOdg9wjI"
      },
      "outputs": [],
      "source": [
        "all_features = [\n",
        "  'price',\n",
        "  'freight_value',\n",
        "  'review_score',\n",
        "  'shipping_duration_days',\n",
        "  'delivery_accuracy_days',\n",
        "  'product_complexity',\n",
        "  'order_status_encoded',\n",
        "  'cluster_category'\n",
        "]\n",
        "\n",
        "X = product_df[all_features]\n",
        "y = product_df['popular']"
      ]
    },
    {
      "cell_type": "markdown",
      "metadata": {
        "id": "SncmEBLEQ7x0"
      },
      "source": [
        "Untuk Fitur X (Variabel Independen) dipilih beberapa fitur berikut yang relavan:\n",
        "\n",
        "  1. **price (Harga):** Harga memengaruhi keputusan beli konsumen. Produk dengan harga kompetitif lebih laku.\n",
        "\n",
        "  2. **freight_value (Biaya Pengiriman):** Biaya pengiriman yang rendah meningkatkan kenyamanan dan minat beli.\n",
        "  3. **review_score (Skor Ulasan):** Skor tinggi menunjukkan kepuasan, yang mendorong pembelian ulang.\n",
        "  4. **shipping_duration_days (Durasi Pengiriman):** Pengiriman cepat meningkatkan kepuasan pelanggan dan kemungkinan pembelian ulang.\n",
        "  5. **delivery_accuracy_days (Keakuratan Pengiriman):** Pengiriman tepat waktu meningkatkan reputasi dan kepercayaan konsumen.\n",
        "  6. **product_complexity (Kompleksitas Produk):** Deskripsi produk yang jelas mempermudah keputusan beli dan menambah daya tarik.\n",
        "  7. **order_status_encoded (Status Pesanan):** Status pengiriman yang terjamin meningkatkan kepercayaan pembeli.\n",
        "  8. **cluster_category (Kategori Clustering):** Kategori produk yang sukses sebelumnya memiliki potensi untuk laris di masa depan."
      ]
    },
    {
      "cell_type": "markdown",
      "metadata": {
        "id": "6bcFiBdPgKsm"
      },
      "source": [
        "## **b. Memisahkan Data**"
      ]
    },
    {
      "cell_type": "markdown",
      "metadata": {
        "id": "PA0WM-hQgtmj"
      },
      "source": [
        "Data kemudian dibagi menjadi 80% untuk data latih dan 20% untuk data prediksi.\n",
        "\n",
        "Pembagian ini memastikan model dilatih menggunakan data yang cukup, sementara data prediksi digunakan untuk mengukur kemampuan model dalam memprediksi hasil pada data yang belum pernah dilihat sebelumnya."
      ]
    },
    {
      "cell_type": "code",
      "execution_count": 8,
      "metadata": {
        "id": "y-Y4VJ4HQiB0"
      },
      "outputs": [],
      "source": [
        "X_train, X_test, y_train, y_test = train_test_split(X, y, test_size=0.2, random_state=42)"
      ]
    },
    {
      "cell_type": "markdown",
      "metadata": {
        "id": "5DCU7hciJ6RM"
      },
      "source": [
        "\n",
        "## **c. Mengecek distribusi target pada training set**"
      ]
    },
    {
      "cell_type": "code",
      "execution_count": 9,
      "metadata": {
        "colab": {
          "base_uri": "https://localhost:8080/",
          "height": 196
        },
        "id": "GbCIrt19Rg0B",
        "outputId": "8675f038-9221-4efa-94d6-6e4c87067316"
      },
      "outputs": [
        {
          "name": "stdout",
          "output_type": "stream",
          "text": [
            "Distribusi Target pada Training Set:\n"
          ]
        },
        {
          "data": {
            "text/plain": [
              "popular\n",
              "2    38569\n",
              "1     8443\n",
              "Name: count, dtype: int64"
            ]
          },
          "execution_count": 9,
          "metadata": {},
          "output_type": "execute_result"
        }
      ],
      "source": [
        "train_distribution = y_train.value_counts()\n",
        "print(\"Distribusi Target pada Training Set:\")\n",
        "train_distribution"
      ]
    },
    {
      "cell_type": "markdown",
      "metadata": {
        "id": "WflscKXWJ84Y"
      },
      "source": [
        "## **d. Mengecek distribusi target pada test set**"
      ]
    },
    {
      "cell_type": "code",
      "execution_count": 10,
      "metadata": {
        "colab": {
          "base_uri": "https://localhost:8080/",
          "height": 213
        },
        "id": "vi9V0NbWRk3I",
        "outputId": "514b5780-d722-495c-d8b6-8b1147bf39c5"
      },
      "outputs": [
        {
          "name": "stdout",
          "output_type": "stream",
          "text": [
            "\n",
            "Distribusi Target pada Test Set:\n"
          ]
        },
        {
          "data": {
            "text/plain": [
              "popular\n",
              "2    9613\n",
              "1    2140\n",
              "Name: count, dtype: int64"
            ]
          },
          "execution_count": 10,
          "metadata": {},
          "output_type": "execute_result"
        }
      ],
      "source": [
        "test_distribution = y_test.value_counts()\n",
        "print(\"\\nDistribusi Target pada Test Set:\")\n",
        "test_distribution"
      ]
    },
    {
      "cell_type": "markdown",
      "metadata": {
        "id": "NSoa1Ww16vXV"
      },
      "source": [
        "# **4. Membangun Model Klasifikasi**\n"
      ]
    },
    {
      "cell_type": "markdown",
      "metadata": {
        "id": "J8LPBBGK6yvw"
      },
      "source": [
        "## **a. Membangun Model Klasifikasi**"
      ]
    },
    {
      "cell_type": "markdown",
      "metadata": {
        "id": "h1SmUh7jR8N0"
      },
      "source": [
        "### 1. Menggunakan Logistic Regresi"
      ]
    },
    {
      "cell_type": "markdown",
      "metadata": {
        "id": "dy7a1qxP7AMM"
      },
      "source": [
        "#### 1. Pemilihan Algoritma"
      ]
    },
    {
      "cell_type": "markdown",
      "metadata": {
        "id": "5WYU4vyOS_yo"
      },
      "source": [
        "Logistic Regression (LogReg) dipilih karena sederhana dan efektif dalam mengidentifikasi produk yang berpotensi laku berdasarkan fitur yang jelas, seperti harga, skor ulasan, dan kategori produk. Model ini memberikan hasil yang mudah dipahami, cocok untuk prediksi apakah produk akan populer atau tidak."
      ]
    },
    {
      "cell_type": "code",
      "execution_count": 11,
      "metadata": {
        "colab": {
          "base_uri": "https://localhost:8080/",
          "height": 81
        },
        "id": "KCA7eq5KLm6V",
        "outputId": "90b7258e-fbfa-4356-f64e-beb40912a774"
      },
      "outputs": [
        {
          "data": {
            "text/html": [
              "<style>#sk-container-id-1 {\n",
              "  /* Definition of color scheme common for light and dark mode */\n",
              "  --sklearn-color-text: black;\n",
              "  --sklearn-color-line: gray;\n",
              "  /* Definition of color scheme for unfitted estimators */\n",
              "  --sklearn-color-unfitted-level-0: #fff5e6;\n",
              "  --sklearn-color-unfitted-level-1: #f6e4d2;\n",
              "  --sklearn-color-unfitted-level-2: #ffe0b3;\n",
              "  --sklearn-color-unfitted-level-3: chocolate;\n",
              "  /* Definition of color scheme for fitted estimators */\n",
              "  --sklearn-color-fitted-level-0: #f0f8ff;\n",
              "  --sklearn-color-fitted-level-1: #d4ebff;\n",
              "  --sklearn-color-fitted-level-2: #b3dbfd;\n",
              "  --sklearn-color-fitted-level-3: cornflowerblue;\n",
              "\n",
              "  /* Specific color for light theme */\n",
              "  --sklearn-color-text-on-default-background: var(--sg-text-color, var(--theme-code-foreground, var(--jp-content-font-color1, black)));\n",
              "  --sklearn-color-background: var(--sg-background-color, var(--theme-background, var(--jp-layout-color0, white)));\n",
              "  --sklearn-color-border-box: var(--sg-text-color, var(--theme-code-foreground, var(--jp-content-font-color1, black)));\n",
              "  --sklearn-color-icon: #696969;\n",
              "\n",
              "  @media (prefers-color-scheme: dark) {\n",
              "    /* Redefinition of color scheme for dark theme */\n",
              "    --sklearn-color-text-on-default-background: var(--sg-text-color, var(--theme-code-foreground, var(--jp-content-font-color1, white)));\n",
              "    --sklearn-color-background: var(--sg-background-color, var(--theme-background, var(--jp-layout-color0, #111)));\n",
              "    --sklearn-color-border-box: var(--sg-text-color, var(--theme-code-foreground, var(--jp-content-font-color1, white)));\n",
              "    --sklearn-color-icon: #878787;\n",
              "  }\n",
              "}\n",
              "\n",
              "#sk-container-id-1 {\n",
              "  color: var(--sklearn-color-text);\n",
              "}\n",
              "\n",
              "#sk-container-id-1 pre {\n",
              "  padding: 0;\n",
              "}\n",
              "\n",
              "#sk-container-id-1 input.sk-hidden--visually {\n",
              "  border: 0;\n",
              "  clip: rect(1px 1px 1px 1px);\n",
              "  clip: rect(1px, 1px, 1px, 1px);\n",
              "  height: 1px;\n",
              "  margin: -1px;\n",
              "  overflow: hidden;\n",
              "  padding: 0;\n",
              "  position: absolute;\n",
              "  width: 1px;\n",
              "}\n",
              "\n",
              "#sk-container-id-1 div.sk-dashed-wrapped {\n",
              "  border: 1px dashed var(--sklearn-color-line);\n",
              "  margin: 0 0.4em 0.5em 0.4em;\n",
              "  box-sizing: border-box;\n",
              "  padding-bottom: 0.4em;\n",
              "  background-color: var(--sklearn-color-background);\n",
              "}\n",
              "\n",
              "#sk-container-id-1 div.sk-container {\n",
              "  /* jupyter's `normalize.less` sets `[hidden] { display: none; }`\n",
              "     but bootstrap.min.css set `[hidden] { display: none !important; }`\n",
              "     so we also need the `!important` here to be able to override the\n",
              "     default hidden behavior on the sphinx rendered scikit-learn.org.\n",
              "     See: https://github.com/scikit-learn/scikit-learn/issues/21755 */\n",
              "  display: inline-block !important;\n",
              "  position: relative;\n",
              "}\n",
              "\n",
              "#sk-container-id-1 div.sk-text-repr-fallback {\n",
              "  display: none;\n",
              "}\n",
              "\n",
              "div.sk-parallel-item,\n",
              "div.sk-serial,\n",
              "div.sk-item {\n",
              "  /* draw centered vertical line to link estimators */\n",
              "  background-image: linear-gradient(var(--sklearn-color-text-on-default-background), var(--sklearn-color-text-on-default-background));\n",
              "  background-size: 2px 100%;\n",
              "  background-repeat: no-repeat;\n",
              "  background-position: center center;\n",
              "}\n",
              "\n",
              "/* Parallel-specific style estimator block */\n",
              "\n",
              "#sk-container-id-1 div.sk-parallel-item::after {\n",
              "  content: \"\";\n",
              "  width: 100%;\n",
              "  border-bottom: 2px solid var(--sklearn-color-text-on-default-background);\n",
              "  flex-grow: 1;\n",
              "}\n",
              "\n",
              "#sk-container-id-1 div.sk-parallel {\n",
              "  display: flex;\n",
              "  align-items: stretch;\n",
              "  justify-content: center;\n",
              "  background-color: var(--sklearn-color-background);\n",
              "  position: relative;\n",
              "}\n",
              "\n",
              "#sk-container-id-1 div.sk-parallel-item {\n",
              "  display: flex;\n",
              "  flex-direction: column;\n",
              "}\n",
              "\n",
              "#sk-container-id-1 div.sk-parallel-item:first-child::after {\n",
              "  align-self: flex-end;\n",
              "  width: 50%;\n",
              "}\n",
              "\n",
              "#sk-container-id-1 div.sk-parallel-item:last-child::after {\n",
              "  align-self: flex-start;\n",
              "  width: 50%;\n",
              "}\n",
              "\n",
              "#sk-container-id-1 div.sk-parallel-item:only-child::after {\n",
              "  width: 0;\n",
              "}\n",
              "\n",
              "/* Serial-specific style estimator block */\n",
              "\n",
              "#sk-container-id-1 div.sk-serial {\n",
              "  display: flex;\n",
              "  flex-direction: column;\n",
              "  align-items: center;\n",
              "  background-color: var(--sklearn-color-background);\n",
              "  padding-right: 1em;\n",
              "  padding-left: 1em;\n",
              "}\n",
              "\n",
              "\n",
              "/* Toggleable style: style used for estimator/Pipeline/ColumnTransformer box that is\n",
              "clickable and can be expanded/collapsed.\n",
              "- Pipeline and ColumnTransformer use this feature and define the default style\n",
              "- Estimators will overwrite some part of the style using the `sk-estimator` class\n",
              "*/\n",
              "\n",
              "/* Pipeline and ColumnTransformer style (default) */\n",
              "\n",
              "#sk-container-id-1 div.sk-toggleable {\n",
              "  /* Default theme specific background. It is overwritten whether we have a\n",
              "  specific estimator or a Pipeline/ColumnTransformer */\n",
              "  background-color: var(--sklearn-color-background);\n",
              "}\n",
              "\n",
              "/* Toggleable label */\n",
              "#sk-container-id-1 label.sk-toggleable__label {\n",
              "  cursor: pointer;\n",
              "  display: block;\n",
              "  width: 100%;\n",
              "  margin-bottom: 0;\n",
              "  padding: 0.5em;\n",
              "  box-sizing: border-box;\n",
              "  text-align: center;\n",
              "}\n",
              "\n",
              "#sk-container-id-1 label.sk-toggleable__label-arrow:before {\n",
              "  /* Arrow on the left of the label */\n",
              "  content: \"▸\";\n",
              "  float: left;\n",
              "  margin-right: 0.25em;\n",
              "  color: var(--sklearn-color-icon);\n",
              "}\n",
              "\n",
              "#sk-container-id-1 label.sk-toggleable__label-arrow:hover:before {\n",
              "  color: var(--sklearn-color-text);\n",
              "}\n",
              "\n",
              "/* Toggleable content - dropdown */\n",
              "\n",
              "#sk-container-id-1 div.sk-toggleable__content {\n",
              "  max-height: 0;\n",
              "  max-width: 0;\n",
              "  overflow: hidden;\n",
              "  text-align: left;\n",
              "  /* unfitted */\n",
              "  background-color: var(--sklearn-color-unfitted-level-0);\n",
              "}\n",
              "\n",
              "#sk-container-id-1 div.sk-toggleable__content.fitted {\n",
              "  /* fitted */\n",
              "  background-color: var(--sklearn-color-fitted-level-0);\n",
              "}\n",
              "\n",
              "#sk-container-id-1 div.sk-toggleable__content pre {\n",
              "  margin: 0.2em;\n",
              "  border-radius: 0.25em;\n",
              "  color: var(--sklearn-color-text);\n",
              "  /* unfitted */\n",
              "  background-color: var(--sklearn-color-unfitted-level-0);\n",
              "}\n",
              "\n",
              "#sk-container-id-1 div.sk-toggleable__content.fitted pre {\n",
              "  /* unfitted */\n",
              "  background-color: var(--sklearn-color-fitted-level-0);\n",
              "}\n",
              "\n",
              "#sk-container-id-1 input.sk-toggleable__control:checked~div.sk-toggleable__content {\n",
              "  /* Expand drop-down */\n",
              "  max-height: 200px;\n",
              "  max-width: 100%;\n",
              "  overflow: auto;\n",
              "}\n",
              "\n",
              "#sk-container-id-1 input.sk-toggleable__control:checked~label.sk-toggleable__label-arrow:before {\n",
              "  content: \"▾\";\n",
              "}\n",
              "\n",
              "/* Pipeline/ColumnTransformer-specific style */\n",
              "\n",
              "#sk-container-id-1 div.sk-label input.sk-toggleable__control:checked~label.sk-toggleable__label {\n",
              "  color: var(--sklearn-color-text);\n",
              "  background-color: var(--sklearn-color-unfitted-level-2);\n",
              "}\n",
              "\n",
              "#sk-container-id-1 div.sk-label.fitted input.sk-toggleable__control:checked~label.sk-toggleable__label {\n",
              "  background-color: var(--sklearn-color-fitted-level-2);\n",
              "}\n",
              "\n",
              "/* Estimator-specific style */\n",
              "\n",
              "/* Colorize estimator box */\n",
              "#sk-container-id-1 div.sk-estimator input.sk-toggleable__control:checked~label.sk-toggleable__label {\n",
              "  /* unfitted */\n",
              "  background-color: var(--sklearn-color-unfitted-level-2);\n",
              "}\n",
              "\n",
              "#sk-container-id-1 div.sk-estimator.fitted input.sk-toggleable__control:checked~label.sk-toggleable__label {\n",
              "  /* fitted */\n",
              "  background-color: var(--sklearn-color-fitted-level-2);\n",
              "}\n",
              "\n",
              "#sk-container-id-1 div.sk-label label.sk-toggleable__label,\n",
              "#sk-container-id-1 div.sk-label label {\n",
              "  /* The background is the default theme color */\n",
              "  color: var(--sklearn-color-text-on-default-background);\n",
              "}\n",
              "\n",
              "/* On hover, darken the color of the background */\n",
              "#sk-container-id-1 div.sk-label:hover label.sk-toggleable__label {\n",
              "  color: var(--sklearn-color-text);\n",
              "  background-color: var(--sklearn-color-unfitted-level-2);\n",
              "}\n",
              "\n",
              "/* Label box, darken color on hover, fitted */\n",
              "#sk-container-id-1 div.sk-label.fitted:hover label.sk-toggleable__label.fitted {\n",
              "  color: var(--sklearn-color-text);\n",
              "  background-color: var(--sklearn-color-fitted-level-2);\n",
              "}\n",
              "\n",
              "/* Estimator label */\n",
              "\n",
              "#sk-container-id-1 div.sk-label label {\n",
              "  font-family: monospace;\n",
              "  font-weight: bold;\n",
              "  display: inline-block;\n",
              "  line-height: 1.2em;\n",
              "}\n",
              "\n",
              "#sk-container-id-1 div.sk-label-container {\n",
              "  text-align: center;\n",
              "}\n",
              "\n",
              "/* Estimator-specific */\n",
              "#sk-container-id-1 div.sk-estimator {\n",
              "  font-family: monospace;\n",
              "  border: 1px dotted var(--sklearn-color-border-box);\n",
              "  border-radius: 0.25em;\n",
              "  box-sizing: border-box;\n",
              "  margin-bottom: 0.5em;\n",
              "  /* unfitted */\n",
              "  background-color: var(--sklearn-color-unfitted-level-0);\n",
              "}\n",
              "\n",
              "#sk-container-id-1 div.sk-estimator.fitted {\n",
              "  /* fitted */\n",
              "  background-color: var(--sklearn-color-fitted-level-0);\n",
              "}\n",
              "\n",
              "/* on hover */\n",
              "#sk-container-id-1 div.sk-estimator:hover {\n",
              "  /* unfitted */\n",
              "  background-color: var(--sklearn-color-unfitted-level-2);\n",
              "}\n",
              "\n",
              "#sk-container-id-1 div.sk-estimator.fitted:hover {\n",
              "  /* fitted */\n",
              "  background-color: var(--sklearn-color-fitted-level-2);\n",
              "}\n",
              "\n",
              "/* Specification for estimator info (e.g. \"i\" and \"?\") */\n",
              "\n",
              "/* Common style for \"i\" and \"?\" */\n",
              "\n",
              ".sk-estimator-doc-link,\n",
              "a:link.sk-estimator-doc-link,\n",
              "a:visited.sk-estimator-doc-link {\n",
              "  float: right;\n",
              "  font-size: smaller;\n",
              "  line-height: 1em;\n",
              "  font-family: monospace;\n",
              "  background-color: var(--sklearn-color-background);\n",
              "  border-radius: 1em;\n",
              "  height: 1em;\n",
              "  width: 1em;\n",
              "  text-decoration: none !important;\n",
              "  margin-left: 1ex;\n",
              "  /* unfitted */\n",
              "  border: var(--sklearn-color-unfitted-level-1) 1pt solid;\n",
              "  color: var(--sklearn-color-unfitted-level-1);\n",
              "}\n",
              "\n",
              ".sk-estimator-doc-link.fitted,\n",
              "a:link.sk-estimator-doc-link.fitted,\n",
              "a:visited.sk-estimator-doc-link.fitted {\n",
              "  /* fitted */\n",
              "  border: var(--sklearn-color-fitted-level-1) 1pt solid;\n",
              "  color: var(--sklearn-color-fitted-level-1);\n",
              "}\n",
              "\n",
              "/* On hover */\n",
              "div.sk-estimator:hover .sk-estimator-doc-link:hover,\n",
              ".sk-estimator-doc-link:hover,\n",
              "div.sk-label-container:hover .sk-estimator-doc-link:hover,\n",
              ".sk-estimator-doc-link:hover {\n",
              "  /* unfitted */\n",
              "  background-color: var(--sklearn-color-unfitted-level-3);\n",
              "  color: var(--sklearn-color-background);\n",
              "  text-decoration: none;\n",
              "}\n",
              "\n",
              "div.sk-estimator.fitted:hover .sk-estimator-doc-link.fitted:hover,\n",
              ".sk-estimator-doc-link.fitted:hover,\n",
              "div.sk-label-container:hover .sk-estimator-doc-link.fitted:hover,\n",
              ".sk-estimator-doc-link.fitted:hover {\n",
              "  /* fitted */\n",
              "  background-color: var(--sklearn-color-fitted-level-3);\n",
              "  color: var(--sklearn-color-background);\n",
              "  text-decoration: none;\n",
              "}\n",
              "\n",
              "/* Span, style for the box shown on hovering the info icon */\n",
              ".sk-estimator-doc-link span {\n",
              "  display: none;\n",
              "  z-index: 9999;\n",
              "  position: relative;\n",
              "  font-weight: normal;\n",
              "  right: .2ex;\n",
              "  padding: .5ex;\n",
              "  margin: .5ex;\n",
              "  width: min-content;\n",
              "  min-width: 20ex;\n",
              "  max-width: 50ex;\n",
              "  color: var(--sklearn-color-text);\n",
              "  box-shadow: 2pt 2pt 4pt #999;\n",
              "  /* unfitted */\n",
              "  background: var(--sklearn-color-unfitted-level-0);\n",
              "  border: .5pt solid var(--sklearn-color-unfitted-level-3);\n",
              "}\n",
              "\n",
              ".sk-estimator-doc-link.fitted span {\n",
              "  /* fitted */\n",
              "  background: var(--sklearn-color-fitted-level-0);\n",
              "  border: var(--sklearn-color-fitted-level-3);\n",
              "}\n",
              "\n",
              ".sk-estimator-doc-link:hover span {\n",
              "  display: block;\n",
              "}\n",
              "\n",
              "/* \"?\"-specific style due to the `<a>` HTML tag */\n",
              "\n",
              "#sk-container-id-1 a.estimator_doc_link {\n",
              "  float: right;\n",
              "  font-size: 1rem;\n",
              "  line-height: 1em;\n",
              "  font-family: monospace;\n",
              "  background-color: var(--sklearn-color-background);\n",
              "  border-radius: 1rem;\n",
              "  height: 1rem;\n",
              "  width: 1rem;\n",
              "  text-decoration: none;\n",
              "  /* unfitted */\n",
              "  color: var(--sklearn-color-unfitted-level-1);\n",
              "  border: var(--sklearn-color-unfitted-level-1) 1pt solid;\n",
              "}\n",
              "\n",
              "#sk-container-id-1 a.estimator_doc_link.fitted {\n",
              "  /* fitted */\n",
              "  border: var(--sklearn-color-fitted-level-1) 1pt solid;\n",
              "  color: var(--sklearn-color-fitted-level-1);\n",
              "}\n",
              "\n",
              "/* On hover */\n",
              "#sk-container-id-1 a.estimator_doc_link:hover {\n",
              "  /* unfitted */\n",
              "  background-color: var(--sklearn-color-unfitted-level-3);\n",
              "  color: var(--sklearn-color-background);\n",
              "  text-decoration: none;\n",
              "}\n",
              "\n",
              "#sk-container-id-1 a.estimator_doc_link.fitted:hover {\n",
              "  /* fitted */\n",
              "  background-color: var(--sklearn-color-fitted-level-3);\n",
              "}\n",
              "</style><div id=\"sk-container-id-1\" class=\"sk-top-container\"><div class=\"sk-text-repr-fallback\"><pre>LogisticRegression(class_weight=&#x27;balanced&#x27;, random_state=42)</pre><b>In a Jupyter environment, please rerun this cell to show the HTML representation or trust the notebook. <br />On GitHub, the HTML representation is unable to render, please try loading this page with nbviewer.org.</b></div><div class=\"sk-container\" hidden><div class=\"sk-item\"><div class=\"sk-estimator fitted sk-toggleable\"><input class=\"sk-toggleable__control sk-hidden--visually\" id=\"sk-estimator-id-1\" type=\"checkbox\" checked><label for=\"sk-estimator-id-1\" class=\"sk-toggleable__label fitted sk-toggleable__label-arrow fitted\">&nbsp;&nbsp;LogisticRegression<a class=\"sk-estimator-doc-link fitted\" rel=\"noreferrer\" target=\"_blank\" href=\"https://scikit-learn.org/1.5/modules/generated/sklearn.linear_model.LogisticRegression.html\">?<span>Documentation for LogisticRegression</span></a><span class=\"sk-estimator-doc-link fitted\">i<span>Fitted</span></span></label><div class=\"sk-toggleable__content fitted\"><pre>LogisticRegression(class_weight=&#x27;balanced&#x27;, random_state=42)</pre></div> </div></div></div></div>"
            ],
            "text/plain": [
              "LogisticRegression(class_weight='balanced', random_state=42)"
            ]
          },
          "execution_count": 11,
          "metadata": {},
          "output_type": "execute_result"
        }
      ],
      "source": [
        "model = LogisticRegression(class_weight='balanced', random_state=42)\n",
        "model.fit(X_train, y_train)"
      ]
    },
    {
      "cell_type": "markdown",
      "metadata": {
        "id": "M7KNjHtFR0BH"
      },
      "source": [
        "#### 2. Latih model menggunakan data latih."
      ]
    },
    {
      "cell_type": "code",
      "execution_count": 12,
      "metadata": {
        "colab": {
          "base_uri": "https://localhost:8080/"
        },
        "id": "6yRizJ-MTVbG",
        "outputId": "c7c2ade4-f7a5-45e8-d813-7d582711cfd1"
      },
      "outputs": [
        {
          "name": "stdout",
          "output_type": "stream",
          "text": [
            "Akurasi pada data latih menggunakan Logistic Regresi: 0.9610%\n"
          ]
        }
      ],
      "source": [
        "y_train_pred = model.predict(X_train)\n",
        "accuracy_train = accuracy_score(y_train, y_train_pred)\n",
        "print(f\"Akurasi pada data latih menggunakan Logistic Regresi: {accuracy_train:.4f}%\")"
      ]
    },
    {
      "cell_type": "code",
      "execution_count": 13,
      "metadata": {
        "colab": {
          "base_uri": "https://localhost:8080/"
        },
        "id": "pRGmBQqUMmgN",
        "outputId": "2dfb4988-ba6d-475a-8877-988bed418171"
      },
      "outputs": [
        {
          "name": "stdout",
          "output_type": "stream",
          "text": [
            "Classification Report untuk Data Latih menggunakan Logistic Regresi:\n",
            "              precision    recall  f1-score   support\n",
            "\n",
            "           1       0.82      1.00      0.90      8443\n",
            "           2       1.00      0.95      0.98     38569\n",
            "\n",
            "    accuracy                           0.96     47012\n",
            "   macro avg       0.91      0.98      0.94     47012\n",
            "weighted avg       0.97      0.96      0.96     47012\n",
            "\n"
          ]
        }
      ],
      "source": [
        "report_train = classification_report(y_train, y_train_pred)\n",
        "print(\"Classification Report untuk Data Latih menggunakan Logistic Regresi:\")\n",
        "print(report_train)"
      ]
    },
    {
      "cell_type": "markdown",
      "metadata": {
        "id": "reWTYdf4PDLD"
      },
      "source": [
        "### 2. Menggunakan Support Vector Machine"
      ]
    },
    {
      "cell_type": "markdown",
      "metadata": {
        "id": "AfHpNNm5SXNE"
      },
      "source": [
        "#### 1. algoritma klasifikasi yang dipilih\n"
      ]
    },
    {
      "cell_type": "markdown",
      "metadata": {
        "id": "ZQfr9_FYNrX0"
      },
      "source": [
        "Support Vector Machine (SVM) dipilih karena mampu menangani hubungan yang lebih kompleks dan tidak linier antar fitur. Dengan SVM, dapat ditangkap pola-pola yang lebih rumit dalam data yang mungkin tidak terlihat dengan model lain. SVM efektif dalam memberikan prediksi yang lebih akurat, terutama saat data memiliki banyak variabel yang saling mempengaruhi."
      ]
    },
    {
      "cell_type": "code",
      "execution_count": 14,
      "metadata": {
        "colab": {
          "base_uri": "https://localhost:8080/",
          "height": 81
        },
        "id": "L17_VbXPOAzE",
        "outputId": "62e2d351-cbd7-452f-e33a-5b1499ce635a"
      },
      "outputs": [
        {
          "data": {
            "text/html": [
              "<style>#sk-container-id-2 {\n",
              "  /* Definition of color scheme common for light and dark mode */\n",
              "  --sklearn-color-text: black;\n",
              "  --sklearn-color-line: gray;\n",
              "  /* Definition of color scheme for unfitted estimators */\n",
              "  --sklearn-color-unfitted-level-0: #fff5e6;\n",
              "  --sklearn-color-unfitted-level-1: #f6e4d2;\n",
              "  --sklearn-color-unfitted-level-2: #ffe0b3;\n",
              "  --sklearn-color-unfitted-level-3: chocolate;\n",
              "  /* Definition of color scheme for fitted estimators */\n",
              "  --sklearn-color-fitted-level-0: #f0f8ff;\n",
              "  --sklearn-color-fitted-level-1: #d4ebff;\n",
              "  --sklearn-color-fitted-level-2: #b3dbfd;\n",
              "  --sklearn-color-fitted-level-3: cornflowerblue;\n",
              "\n",
              "  /* Specific color for light theme */\n",
              "  --sklearn-color-text-on-default-background: var(--sg-text-color, var(--theme-code-foreground, var(--jp-content-font-color1, black)));\n",
              "  --sklearn-color-background: var(--sg-background-color, var(--theme-background, var(--jp-layout-color0, white)));\n",
              "  --sklearn-color-border-box: var(--sg-text-color, var(--theme-code-foreground, var(--jp-content-font-color1, black)));\n",
              "  --sklearn-color-icon: #696969;\n",
              "\n",
              "  @media (prefers-color-scheme: dark) {\n",
              "    /* Redefinition of color scheme for dark theme */\n",
              "    --sklearn-color-text-on-default-background: var(--sg-text-color, var(--theme-code-foreground, var(--jp-content-font-color1, white)));\n",
              "    --sklearn-color-background: var(--sg-background-color, var(--theme-background, var(--jp-layout-color0, #111)));\n",
              "    --sklearn-color-border-box: var(--sg-text-color, var(--theme-code-foreground, var(--jp-content-font-color1, white)));\n",
              "    --sklearn-color-icon: #878787;\n",
              "  }\n",
              "}\n",
              "\n",
              "#sk-container-id-2 {\n",
              "  color: var(--sklearn-color-text);\n",
              "}\n",
              "\n",
              "#sk-container-id-2 pre {\n",
              "  padding: 0;\n",
              "}\n",
              "\n",
              "#sk-container-id-2 input.sk-hidden--visually {\n",
              "  border: 0;\n",
              "  clip: rect(1px 1px 1px 1px);\n",
              "  clip: rect(1px, 1px, 1px, 1px);\n",
              "  height: 1px;\n",
              "  margin: -1px;\n",
              "  overflow: hidden;\n",
              "  padding: 0;\n",
              "  position: absolute;\n",
              "  width: 1px;\n",
              "}\n",
              "\n",
              "#sk-container-id-2 div.sk-dashed-wrapped {\n",
              "  border: 1px dashed var(--sklearn-color-line);\n",
              "  margin: 0 0.4em 0.5em 0.4em;\n",
              "  box-sizing: border-box;\n",
              "  padding-bottom: 0.4em;\n",
              "  background-color: var(--sklearn-color-background);\n",
              "}\n",
              "\n",
              "#sk-container-id-2 div.sk-container {\n",
              "  /* jupyter's `normalize.less` sets `[hidden] { display: none; }`\n",
              "     but bootstrap.min.css set `[hidden] { display: none !important; }`\n",
              "     so we also need the `!important` here to be able to override the\n",
              "     default hidden behavior on the sphinx rendered scikit-learn.org.\n",
              "     See: https://github.com/scikit-learn/scikit-learn/issues/21755 */\n",
              "  display: inline-block !important;\n",
              "  position: relative;\n",
              "}\n",
              "\n",
              "#sk-container-id-2 div.sk-text-repr-fallback {\n",
              "  display: none;\n",
              "}\n",
              "\n",
              "div.sk-parallel-item,\n",
              "div.sk-serial,\n",
              "div.sk-item {\n",
              "  /* draw centered vertical line to link estimators */\n",
              "  background-image: linear-gradient(var(--sklearn-color-text-on-default-background), var(--sklearn-color-text-on-default-background));\n",
              "  background-size: 2px 100%;\n",
              "  background-repeat: no-repeat;\n",
              "  background-position: center center;\n",
              "}\n",
              "\n",
              "/* Parallel-specific style estimator block */\n",
              "\n",
              "#sk-container-id-2 div.sk-parallel-item::after {\n",
              "  content: \"\";\n",
              "  width: 100%;\n",
              "  border-bottom: 2px solid var(--sklearn-color-text-on-default-background);\n",
              "  flex-grow: 1;\n",
              "}\n",
              "\n",
              "#sk-container-id-2 div.sk-parallel {\n",
              "  display: flex;\n",
              "  align-items: stretch;\n",
              "  justify-content: center;\n",
              "  background-color: var(--sklearn-color-background);\n",
              "  position: relative;\n",
              "}\n",
              "\n",
              "#sk-container-id-2 div.sk-parallel-item {\n",
              "  display: flex;\n",
              "  flex-direction: column;\n",
              "}\n",
              "\n",
              "#sk-container-id-2 div.sk-parallel-item:first-child::after {\n",
              "  align-self: flex-end;\n",
              "  width: 50%;\n",
              "}\n",
              "\n",
              "#sk-container-id-2 div.sk-parallel-item:last-child::after {\n",
              "  align-self: flex-start;\n",
              "  width: 50%;\n",
              "}\n",
              "\n",
              "#sk-container-id-2 div.sk-parallel-item:only-child::after {\n",
              "  width: 0;\n",
              "}\n",
              "\n",
              "/* Serial-specific style estimator block */\n",
              "\n",
              "#sk-container-id-2 div.sk-serial {\n",
              "  display: flex;\n",
              "  flex-direction: column;\n",
              "  align-items: center;\n",
              "  background-color: var(--sklearn-color-background);\n",
              "  padding-right: 1em;\n",
              "  padding-left: 1em;\n",
              "}\n",
              "\n",
              "\n",
              "/* Toggleable style: style used for estimator/Pipeline/ColumnTransformer box that is\n",
              "clickable and can be expanded/collapsed.\n",
              "- Pipeline and ColumnTransformer use this feature and define the default style\n",
              "- Estimators will overwrite some part of the style using the `sk-estimator` class\n",
              "*/\n",
              "\n",
              "/* Pipeline and ColumnTransformer style (default) */\n",
              "\n",
              "#sk-container-id-2 div.sk-toggleable {\n",
              "  /* Default theme specific background. It is overwritten whether we have a\n",
              "  specific estimator or a Pipeline/ColumnTransformer */\n",
              "  background-color: var(--sklearn-color-background);\n",
              "}\n",
              "\n",
              "/* Toggleable label */\n",
              "#sk-container-id-2 label.sk-toggleable__label {\n",
              "  cursor: pointer;\n",
              "  display: block;\n",
              "  width: 100%;\n",
              "  margin-bottom: 0;\n",
              "  padding: 0.5em;\n",
              "  box-sizing: border-box;\n",
              "  text-align: center;\n",
              "}\n",
              "\n",
              "#sk-container-id-2 label.sk-toggleable__label-arrow:before {\n",
              "  /* Arrow on the left of the label */\n",
              "  content: \"▸\";\n",
              "  float: left;\n",
              "  margin-right: 0.25em;\n",
              "  color: var(--sklearn-color-icon);\n",
              "}\n",
              "\n",
              "#sk-container-id-2 label.sk-toggleable__label-arrow:hover:before {\n",
              "  color: var(--sklearn-color-text);\n",
              "}\n",
              "\n",
              "/* Toggleable content - dropdown */\n",
              "\n",
              "#sk-container-id-2 div.sk-toggleable__content {\n",
              "  max-height: 0;\n",
              "  max-width: 0;\n",
              "  overflow: hidden;\n",
              "  text-align: left;\n",
              "  /* unfitted */\n",
              "  background-color: var(--sklearn-color-unfitted-level-0);\n",
              "}\n",
              "\n",
              "#sk-container-id-2 div.sk-toggleable__content.fitted {\n",
              "  /* fitted */\n",
              "  background-color: var(--sklearn-color-fitted-level-0);\n",
              "}\n",
              "\n",
              "#sk-container-id-2 div.sk-toggleable__content pre {\n",
              "  margin: 0.2em;\n",
              "  border-radius: 0.25em;\n",
              "  color: var(--sklearn-color-text);\n",
              "  /* unfitted */\n",
              "  background-color: var(--sklearn-color-unfitted-level-0);\n",
              "}\n",
              "\n",
              "#sk-container-id-2 div.sk-toggleable__content.fitted pre {\n",
              "  /* unfitted */\n",
              "  background-color: var(--sklearn-color-fitted-level-0);\n",
              "}\n",
              "\n",
              "#sk-container-id-2 input.sk-toggleable__control:checked~div.sk-toggleable__content {\n",
              "  /* Expand drop-down */\n",
              "  max-height: 200px;\n",
              "  max-width: 100%;\n",
              "  overflow: auto;\n",
              "}\n",
              "\n",
              "#sk-container-id-2 input.sk-toggleable__control:checked~label.sk-toggleable__label-arrow:before {\n",
              "  content: \"▾\";\n",
              "}\n",
              "\n",
              "/* Pipeline/ColumnTransformer-specific style */\n",
              "\n",
              "#sk-container-id-2 div.sk-label input.sk-toggleable__control:checked~label.sk-toggleable__label {\n",
              "  color: var(--sklearn-color-text);\n",
              "  background-color: var(--sklearn-color-unfitted-level-2);\n",
              "}\n",
              "\n",
              "#sk-container-id-2 div.sk-label.fitted input.sk-toggleable__control:checked~label.sk-toggleable__label {\n",
              "  background-color: var(--sklearn-color-fitted-level-2);\n",
              "}\n",
              "\n",
              "/* Estimator-specific style */\n",
              "\n",
              "/* Colorize estimator box */\n",
              "#sk-container-id-2 div.sk-estimator input.sk-toggleable__control:checked~label.sk-toggleable__label {\n",
              "  /* unfitted */\n",
              "  background-color: var(--sklearn-color-unfitted-level-2);\n",
              "}\n",
              "\n",
              "#sk-container-id-2 div.sk-estimator.fitted input.sk-toggleable__control:checked~label.sk-toggleable__label {\n",
              "  /* fitted */\n",
              "  background-color: var(--sklearn-color-fitted-level-2);\n",
              "}\n",
              "\n",
              "#sk-container-id-2 div.sk-label label.sk-toggleable__label,\n",
              "#sk-container-id-2 div.sk-label label {\n",
              "  /* The background is the default theme color */\n",
              "  color: var(--sklearn-color-text-on-default-background);\n",
              "}\n",
              "\n",
              "/* On hover, darken the color of the background */\n",
              "#sk-container-id-2 div.sk-label:hover label.sk-toggleable__label {\n",
              "  color: var(--sklearn-color-text);\n",
              "  background-color: var(--sklearn-color-unfitted-level-2);\n",
              "}\n",
              "\n",
              "/* Label box, darken color on hover, fitted */\n",
              "#sk-container-id-2 div.sk-label.fitted:hover label.sk-toggleable__label.fitted {\n",
              "  color: var(--sklearn-color-text);\n",
              "  background-color: var(--sklearn-color-fitted-level-2);\n",
              "}\n",
              "\n",
              "/* Estimator label */\n",
              "\n",
              "#sk-container-id-2 div.sk-label label {\n",
              "  font-family: monospace;\n",
              "  font-weight: bold;\n",
              "  display: inline-block;\n",
              "  line-height: 1.2em;\n",
              "}\n",
              "\n",
              "#sk-container-id-2 div.sk-label-container {\n",
              "  text-align: center;\n",
              "}\n",
              "\n",
              "/* Estimator-specific */\n",
              "#sk-container-id-2 div.sk-estimator {\n",
              "  font-family: monospace;\n",
              "  border: 1px dotted var(--sklearn-color-border-box);\n",
              "  border-radius: 0.25em;\n",
              "  box-sizing: border-box;\n",
              "  margin-bottom: 0.5em;\n",
              "  /* unfitted */\n",
              "  background-color: var(--sklearn-color-unfitted-level-0);\n",
              "}\n",
              "\n",
              "#sk-container-id-2 div.sk-estimator.fitted {\n",
              "  /* fitted */\n",
              "  background-color: var(--sklearn-color-fitted-level-0);\n",
              "}\n",
              "\n",
              "/* on hover */\n",
              "#sk-container-id-2 div.sk-estimator:hover {\n",
              "  /* unfitted */\n",
              "  background-color: var(--sklearn-color-unfitted-level-2);\n",
              "}\n",
              "\n",
              "#sk-container-id-2 div.sk-estimator.fitted:hover {\n",
              "  /* fitted */\n",
              "  background-color: var(--sklearn-color-fitted-level-2);\n",
              "}\n",
              "\n",
              "/* Specification for estimator info (e.g. \"i\" and \"?\") */\n",
              "\n",
              "/* Common style for \"i\" and \"?\" */\n",
              "\n",
              ".sk-estimator-doc-link,\n",
              "a:link.sk-estimator-doc-link,\n",
              "a:visited.sk-estimator-doc-link {\n",
              "  float: right;\n",
              "  font-size: smaller;\n",
              "  line-height: 1em;\n",
              "  font-family: monospace;\n",
              "  background-color: var(--sklearn-color-background);\n",
              "  border-radius: 1em;\n",
              "  height: 1em;\n",
              "  width: 1em;\n",
              "  text-decoration: none !important;\n",
              "  margin-left: 1ex;\n",
              "  /* unfitted */\n",
              "  border: var(--sklearn-color-unfitted-level-1) 1pt solid;\n",
              "  color: var(--sklearn-color-unfitted-level-1);\n",
              "}\n",
              "\n",
              ".sk-estimator-doc-link.fitted,\n",
              "a:link.sk-estimator-doc-link.fitted,\n",
              "a:visited.sk-estimator-doc-link.fitted {\n",
              "  /* fitted */\n",
              "  border: var(--sklearn-color-fitted-level-1) 1pt solid;\n",
              "  color: var(--sklearn-color-fitted-level-1);\n",
              "}\n",
              "\n",
              "/* On hover */\n",
              "div.sk-estimator:hover .sk-estimator-doc-link:hover,\n",
              ".sk-estimator-doc-link:hover,\n",
              "div.sk-label-container:hover .sk-estimator-doc-link:hover,\n",
              ".sk-estimator-doc-link:hover {\n",
              "  /* unfitted */\n",
              "  background-color: var(--sklearn-color-unfitted-level-3);\n",
              "  color: var(--sklearn-color-background);\n",
              "  text-decoration: none;\n",
              "}\n",
              "\n",
              "div.sk-estimator.fitted:hover .sk-estimator-doc-link.fitted:hover,\n",
              ".sk-estimator-doc-link.fitted:hover,\n",
              "div.sk-label-container:hover .sk-estimator-doc-link.fitted:hover,\n",
              ".sk-estimator-doc-link.fitted:hover {\n",
              "  /* fitted */\n",
              "  background-color: var(--sklearn-color-fitted-level-3);\n",
              "  color: var(--sklearn-color-background);\n",
              "  text-decoration: none;\n",
              "}\n",
              "\n",
              "/* Span, style for the box shown on hovering the info icon */\n",
              ".sk-estimator-doc-link span {\n",
              "  display: none;\n",
              "  z-index: 9999;\n",
              "  position: relative;\n",
              "  font-weight: normal;\n",
              "  right: .2ex;\n",
              "  padding: .5ex;\n",
              "  margin: .5ex;\n",
              "  width: min-content;\n",
              "  min-width: 20ex;\n",
              "  max-width: 50ex;\n",
              "  color: var(--sklearn-color-text);\n",
              "  box-shadow: 2pt 2pt 4pt #999;\n",
              "  /* unfitted */\n",
              "  background: var(--sklearn-color-unfitted-level-0);\n",
              "  border: .5pt solid var(--sklearn-color-unfitted-level-3);\n",
              "}\n",
              "\n",
              ".sk-estimator-doc-link.fitted span {\n",
              "  /* fitted */\n",
              "  background: var(--sklearn-color-fitted-level-0);\n",
              "  border: var(--sklearn-color-fitted-level-3);\n",
              "}\n",
              "\n",
              ".sk-estimator-doc-link:hover span {\n",
              "  display: block;\n",
              "}\n",
              "\n",
              "/* \"?\"-specific style due to the `<a>` HTML tag */\n",
              "\n",
              "#sk-container-id-2 a.estimator_doc_link {\n",
              "  float: right;\n",
              "  font-size: 1rem;\n",
              "  line-height: 1em;\n",
              "  font-family: monospace;\n",
              "  background-color: var(--sklearn-color-background);\n",
              "  border-radius: 1rem;\n",
              "  height: 1rem;\n",
              "  width: 1rem;\n",
              "  text-decoration: none;\n",
              "  /* unfitted */\n",
              "  color: var(--sklearn-color-unfitted-level-1);\n",
              "  border: var(--sklearn-color-unfitted-level-1) 1pt solid;\n",
              "}\n",
              "\n",
              "#sk-container-id-2 a.estimator_doc_link.fitted {\n",
              "  /* fitted */\n",
              "  border: var(--sklearn-color-fitted-level-1) 1pt solid;\n",
              "  color: var(--sklearn-color-fitted-level-1);\n",
              "}\n",
              "\n",
              "/* On hover */\n",
              "#sk-container-id-2 a.estimator_doc_link:hover {\n",
              "  /* unfitted */\n",
              "  background-color: var(--sklearn-color-unfitted-level-3);\n",
              "  color: var(--sklearn-color-background);\n",
              "  text-decoration: none;\n",
              "}\n",
              "\n",
              "#sk-container-id-2 a.estimator_doc_link.fitted:hover {\n",
              "  /* fitted */\n",
              "  background-color: var(--sklearn-color-fitted-level-3);\n",
              "}\n",
              "</style><div id=\"sk-container-id-2\" class=\"sk-top-container\"><div class=\"sk-text-repr-fallback\"><pre>SVC(kernel=&#x27;linear&#x27;, random_state=42)</pre><b>In a Jupyter environment, please rerun this cell to show the HTML representation or trust the notebook. <br />On GitHub, the HTML representation is unable to render, please try loading this page with nbviewer.org.</b></div><div class=\"sk-container\" hidden><div class=\"sk-item\"><div class=\"sk-estimator fitted sk-toggleable\"><input class=\"sk-toggleable__control sk-hidden--visually\" id=\"sk-estimator-id-2\" type=\"checkbox\" checked><label for=\"sk-estimator-id-2\" class=\"sk-toggleable__label fitted sk-toggleable__label-arrow fitted\">&nbsp;&nbsp;SVC<a class=\"sk-estimator-doc-link fitted\" rel=\"noreferrer\" target=\"_blank\" href=\"https://scikit-learn.org/1.5/modules/generated/sklearn.svm.SVC.html\">?<span>Documentation for SVC</span></a><span class=\"sk-estimator-doc-link fitted\">i<span>Fitted</span></span></label><div class=\"sk-toggleable__content fitted\"><pre>SVC(kernel=&#x27;linear&#x27;, random_state=42)</pre></div> </div></div></div></div>"
            ],
            "text/plain": [
              "SVC(kernel='linear', random_state=42)"
            ]
          },
          "execution_count": 14,
          "metadata": {},
          "output_type": "execute_result"
        }
      ],
      "source": [
        "svm_model = SVC(kernel='linear', random_state=42)\n",
        "svm_model.fit(X_train, y_train)"
      ]
    },
    {
      "cell_type": "markdown",
      "metadata": {
        "id": "XMlCg-wiOkoa"
      },
      "source": [
        "#### 2. Latih model menggunakan data latih."
      ]
    },
    {
      "cell_type": "code",
      "execution_count": 15,
      "metadata": {
        "colab": {
          "base_uri": "https://localhost:8080/"
        },
        "id": "hSkPPnP2Onc6",
        "outputId": "0d6d71c4-22c3-4ea2-a46a-58e5e09ce19d"
      },
      "outputs": [
        {
          "name": "stdout",
          "output_type": "stream",
          "text": [
            "Akurasi pada data latih menggunakan SVM: 0.9574\n"
          ]
        }
      ],
      "source": [
        "y_train_pred_svm = svm_model.predict(X_train)\n",
        "accuracy_train = accuracy_score(y_train, y_train_pred_svm)\n",
        "print(f\"Akurasi pada data latih menggunakan SVM: {accuracy_train:.4f}\")"
      ]
    },
    {
      "cell_type": "code",
      "execution_count": 16,
      "metadata": {
        "colab": {
          "base_uri": "https://localhost:8080/"
        },
        "id": "hJOu5DarPiHp",
        "outputId": "81150489-d5aa-4715-ed38-25615f0e9ee3"
      },
      "outputs": [
        {
          "name": "stdout",
          "output_type": "stream",
          "text": [
            "Classification Report untuk Data Latih menggunakan SVM:\n",
            "              precision    recall  f1-score   support\n",
            "\n",
            "           1       0.90      0.85      0.88      8443\n",
            "           2       0.97      0.98      0.97     38569\n",
            "\n",
            "    accuracy                           0.96     47012\n",
            "   macro avg       0.94      0.92      0.93     47012\n",
            "weighted avg       0.96      0.96      0.96     47012\n",
            "\n"
          ]
        }
      ],
      "source": [
        "report_train = classification_report(y_train, y_train_pred_svm)\n",
        "print(\"Classification Report untuk Data Latih menggunakan SVM:\")\n",
        "print(report_train)"
      ]
    },
    {
      "cell_type": "markdown",
      "metadata": {
        "id": "5vSJea_A_XsR"
      },
      "source": [
        "## **b. Evaluasi Model Klasifikasi**"
      ]
    },
    {
      "cell_type": "markdown",
      "metadata": {
        "id": "1rRduZAAT5AW"
      },
      "source": [
        "### 1. Menggunakan Logistic Regression"
      ]
    },
    {
      "cell_type": "markdown",
      "metadata": {
        "id": "FjzMqzun_ajD"
      },
      "source": [
        "#### 1. Prediksi menggunakan data uji."
      ]
    },
    {
      "cell_type": "code",
      "execution_count": 17,
      "metadata": {
        "colab": {
          "base_uri": "https://localhost:8080/"
        },
        "id": "DPf4_8nfUI6K",
        "outputId": "e1d83af2-d2b8-46b1-c397-3af57eb7eef9"
      },
      "outputs": [
        {
          "name": "stdout",
          "output_type": "stream",
          "text": [
            "Akurasi pada data uji menggunakan Logistic Regresi: 0.9616%\n"
          ]
        }
      ],
      "source": [
        "y_test_pred = model.predict(X_test)\n",
        "accuracy_test = accuracy_score(y_test, y_test_pred)\n",
        "print(f\"Akurasi pada data uji menggunakan Logistic Regresi: {accuracy_test:.4f}%\")"
      ]
    },
    {
      "cell_type": "markdown",
      "metadata": {
        "id": "RtPWo-y5Thwb"
      },
      "source": [
        "#### 2. Hitung metrik evaluasi seperti Accuracy dan F1-Score (Opsional: Precision dan Recall).\n"
      ]
    },
    {
      "cell_type": "code",
      "execution_count": 18,
      "metadata": {
        "colab": {
          "base_uri": "https://localhost:8080/"
        },
        "id": "cnfqKphaUJo1",
        "outputId": "be5474b6-1131-40fe-96cd-f18c580ef0a8"
      },
      "outputs": [
        {
          "name": "stdout",
          "output_type": "stream",
          "text": [
            "Classification Report untuk Data Uji menggunakan Logistic Regresi:\n",
            "              precision    recall  f1-score   support\n",
            "\n",
            "           1       0.83      1.00      0.90      2140\n",
            "           2       1.00      0.95      0.98      9613\n",
            "\n",
            "    accuracy                           0.96     11753\n",
            "   macro avg       0.91      0.98      0.94     11753\n",
            "weighted avg       0.97      0.96      0.96     11753\n",
            "\n"
          ]
        }
      ],
      "source": [
        "report_test = classification_report(y_test, y_test_pred)\n",
        "print(\"Classification Report untuk Data Uji menggunakan Logistic Regresi:\")\n",
        "print(report_test)"
      ]
    },
    {
      "cell_type": "markdown",
      "metadata": {
        "id": "yQPgVQGATjaa"
      },
      "source": [
        "#### 3. Confusion matrix untuk melihat detail prediksi benar dan salah."
      ]
    },
    {
      "cell_type": "code",
      "execution_count": 19,
      "metadata": {
        "colab": {
          "base_uri": "https://localhost:8080/",
          "height": 466
        },
        "id": "OZB7bQjdULA7",
        "outputId": "25ceb649-3636-41b8-fc5a-677eb56a791a"
      },
      "outputs": [
        {
          "data": {
            "text/plain": [
              "<sklearn.metrics._plot.confusion_matrix.ConfusionMatrixDisplay at 0x1a8a85e44a0>"
            ]
          },
          "execution_count": 19,
          "metadata": {},
          "output_type": "execute_result"
        },
        {
          "data": {
            "image/png": "[encoded data removed]",
            "text/plain": [
              "<Figure size 640x480 with 2 Axes>"
            ]
          },
          "metadata": {},
          "output_type": "display_data"
        }
      ],
      "source": [
        "conf_matrix = confusion_matrix(y_test, y_test_pred)\n",
        "disp = ConfusionMatrixDisplay(confusion_matrix=conf_matrix, display_labels=model.classes_)\n",
        "disp.plot(cmap='Blues')"
      ]
    },
    {
      "cell_type": "markdown",
      "metadata": {
        "id": "3muywGbWNYah"
      },
      "source": [
        "### 2. Menggunakan Support Vector Machine"
      ]
    },
    {
      "cell_type": "markdown",
      "metadata": {
        "id": "4LKaoyWISJXd"
      },
      "source": [
        "#### 1. Prediksi menggunakan data uji."
      ]
    },
    {
      "cell_type": "code",
      "execution_count": 20,
      "metadata": {
        "colab": {
          "base_uri": "https://localhost:8080/"
        },
        "id": "7fXUG9nUP5Wv",
        "outputId": "4887a99b-e21f-451f-ad6b-d36acf674875"
      },
      "outputs": [
        {
          "name": "stdout",
          "output_type": "stream",
          "text": [
            "Akurasi pada data uji menggunakan SVM: 0.9557\n"
          ]
        }
      ],
      "source": [
        "y_test_pred_svm = svm_model.predict(X_test)\n",
        "accuracy_test_svm = accuracy_score(y_test, y_test_pred_svm)\n",
        "print(f\"Akurasi pada data uji menggunakan SVM: {accuracy_test_svm:.4f}\")"
      ]
    },
    {
      "cell_type": "markdown",
      "metadata": {
        "id": "KKKY9RzlSFTU"
      },
      "source": [
        "#### 2. Hitung metrik evaluasi seperti Accuracy dan F1-Score (Opsional: Precision dan Recall).\n"
      ]
    },
    {
      "cell_type": "code",
      "execution_count": 21,
      "metadata": {
        "colab": {
          "base_uri": "https://localhost:8080/"
        },
        "id": "1wAFuZzRSj3A",
        "outputId": "6ed4590e-2cc0-47e5-c25b-87cbd3823538"
      },
      "outputs": [
        {
          "name": "stdout",
          "output_type": "stream",
          "text": [
            "Classification Report untuk Data Uji menggunakan SVM:\n",
            "              precision    recall  f1-score   support\n",
            "\n",
            "           1       0.90      0.85      0.87      2140\n",
            "           2       0.97      0.98      0.97      9613\n",
            "\n",
            "    accuracy                           0.96     11753\n",
            "   macro avg       0.93      0.91      0.92     11753\n",
            "weighted avg       0.95      0.96      0.96     11753\n",
            "\n"
          ]
        }
      ],
      "source": [
        "report_test_svm = classification_report(y_test, y_test_pred_svm)\n",
        "print(\"Classification Report untuk Data Uji menggunakan SVM:\")\n",
        "print(report_test_svm)"
      ]
    },
    {
      "cell_type": "markdown",
      "metadata": {
        "id": "2Tv9uy1YSptq"
      },
      "source": [
        "#### 3. Confusion matrix untuk melihat detail prediksi benar dan salah."
      ]
    },
    {
      "cell_type": "code",
      "execution_count": 22,
      "metadata": {
        "colab": {
          "base_uri": "https://localhost:8080/",
          "height": 449
        },
        "id": "EdfmswtFSqRU",
        "outputId": "50d8d81b-8ea1-4c53-9be9-b1cc1680a1c5"
      },
      "outputs": [
        {
          "data": {
            "image/png": "[encoded data removed]",
            "text/plain": [
              "<Figure size 640x480 with 2 Axes>"
            ]
          },
          "metadata": {},
          "output_type": "display_data"
        }
      ],
      "source": [
        "conf_matrix_svm = confusion_matrix(y_test, y_test_pred_svm)\n",
        "disp_svm = ConfusionMatrixDisplay(confusion_matrix=conf_matrix_svm, display_labels=svm_model.classes_)\n",
        "disp_svm.plot(cmap='Blues')\n",
        "plt.show()"
      ]
    },
    {
      "cell_type": "markdown",
      "metadata": {
        "id": "KpSSsO_mTyw5"
      },
      "source": [
        "## **c. Hasil evaluasi algoritma**"
      ]
    },
    {
      "cell_type": "markdown",
      "metadata": {
        "id": "3Q6hIvr9b6f6"
      },
      "source": [
        "#### **1. Hasil implementasi Logistic Regression**"
      ]
    },
    {
      "cell_type": "markdown",
      "metadata": {
        "id": "KkYhha3-UW9d"
      },
      "source": [
        " menunjukkan performa model dalam memprediksi kelarisan produk berdasarkan fitur-fitur penting, seperti harga, ulasan pelanggan, dan akurasi pengiriman. Berdasarkan Confusion Matrix yang dihasilkan:\n",
        "\n",
        "- Prediksi Akurat:\n",
        "    - Sebanyak 2135 produk laris diprediksi dengan benar sebagai laris.\n",
        "    - Sebanyak 9167 produk tidak laku diprediksi dengan benar sebagai tidak laku.\n",
        "\n",
        "- Kesalahan Prediksi:\n",
        "    - Hanya 5 produk laris yang salah diprediksi sebagai tidak laku.\n",
        "    - Sebanyak 446 produk tidak laku salah diprediksi sebagai laris.\n",
        "\n",
        "- Kesimpulan Akurasi:\n",
        "    -  Akurasi keseluruhan model pada data uji adalah 96.16%, menunjukkan bahwa model dapat membedakan dengan baik antara produk yang laris dan tidak laku.\n",
        "    - Tingginya nilai precision, recall, dan f1-score mendukung keandalan model dalam menangani data yang tidak seimbang."
      ]
    },
    {
      "cell_type": "markdown",
      "metadata": {
        "id": "9hYrrdVHTLrM"
      },
      "source": [
        "#### **2. Hasil implementasi Support Vector Machine**"
      ]
    },
    {
      "cell_type": "markdown",
      "metadata": {
        "id": "FC8OhaqNTquo"
      },
      "source": [
        "Model Support Vector Machine (SVM) digunakan untuk memprediksi apakah suatu produk akan populer atau tidak berdasarkan fitur yang tersedia. Dengan menggunakan data uji, model ini menghasilkan akurasi 96%, menunjukkan bahwa prediksi untuk sebagian besar produk akurat.\n",
        "\n",
        "- Prediksi Akurat:\n",
        "  - Model SVM berhasil memprediksi 11,753 produk, dengan akurasi 96%. Dari jumlah tersebut\n",
        "  - ada 2140 produk yang diprediksi sebagai populer dan 9613 produk yang diprediksi tidak populer.\n",
        "\n",
        "- Kesalahan Prediksi:\n",
        "  - Model membuat 324 kesalahan dalam memprediksi produk laris (kategori \"1\")\n",
        "  - Hanya 197 kesalahan dalam memprediksi produk tidak laris (kategori \"2\").\n",
        "\n",
        "- Kesimpulan Akurasi:\n",
        "  -  Model SVM menunjukkan akurasi yang baik dengan nilai 95.74% pada data latih dan 95.57% pada data uji, yang menunjukkan performa yang stabil.\n",
        "  - SVM menunjukkan performa sangat baik dengan F1-Score, Precision, dan Recall di atas 95%, menandakan model akurat dalam mengklasifikasi kategori populer.\n",
        "\n",
        "\n",
        "\n",
        "\n",
        "\n"
      ]
    },
    {
      "cell_type": "markdown",
      "metadata": {
        "id": "eaJBQha0Lb7v"
      },
      "source": [
        "## **d. Evaluasi Model Klasifikasi**"
      ]
    },
    {
      "cell_type": "markdown",
      "metadata": {
        "id": "hzzu-_1FU-FM"
      },
      "source": [
        "### **1. Evaluasi untuk Logistic Regression**"
      ]
    },
    {
      "cell_type": "markdown",
      "metadata": {
        "id": "MN5d1hrbLojN"
      },
      "source": [
        "#### 1. Mengecek Underfiting dan overfitting Model\n"
      ]
    },
    {
      "cell_type": "code",
      "execution_count": 23,
      "metadata": {
        "colab": {
          "base_uri": "https://localhost:8080/",
          "height": 472
        },
        "id": "e-H86Wy_VETW",
        "outputId": "1e85c7cf-21bc-46b9-c77e-a2746a9a4238"
      },
      "outputs": [
        {
          "data": {
            "image/png": "[encoded data removed]",
            "text/plain": [
              "<Figure size 640x480 with 1 Axes>"
            ]
          },
          "metadata": {},
          "output_type": "display_data"
        }
      ],
      "source": [
        "model = LogisticRegression(class_weight='balanced', random_state=42)\n",
        "train_sizes, train_scores, test_scores = learning_curve(\n",
        "    model, X, y, cv=5, n_jobs=-1, train_sizes=np.linspace(0.1, 1.0, 10)\n",
        ")\n",
        "\n",
        "plt.plot(train_sizes, np.mean(train_scores, axis=1), label='Data Latih', color='blue')\n",
        "plt.plot(train_sizes, np.mean(test_scores, axis=1), label='Data Uji', color='green')\n",
        "\n",
        "plt.title('Learning Curve: Logistic Regression')\n",
        "plt.xlabel('Jumlah Data Latih')\n",
        "plt.ylabel('Akurasi')\n",
        "plt.legend()\n",
        "plt.grid(True)\n",
        "plt.show()"
      ]
    },
    {
      "cell_type": "markdown",
      "metadata": {
        "id": "ypsvNUcdU4oh"
      },
      "source": [
        "#### 2. Hitung hasil metrik evaluasi."
      ]
    },
    {
      "cell_type": "code",
      "execution_count": 24,
      "metadata": {
        "colab": {
          "base_uri": "https://localhost:8080/"
        },
        "id": "lm7WTPLKVIQu",
        "outputId": "71345108-de76-4f46-b3d5-bd1a3d2521c1"
      },
      "outputs": [
        {
          "name": "stdout",
          "output_type": "stream",
          "text": [
            "\n",
            "Data Latih Logistic Regression:\n",
            "Akurasi: 0.9610\n",
            "Precision: 0.9679\n",
            "Recall: 0.9610\n",
            "F1-Score: 0.9624\n",
            "\n",
            "Data Prediksi Logistic Regression:\n",
            "Akurasi: 0.9616\n",
            "Precision: 0.9681\n",
            "Recall: 0.9616\n",
            "F1-Score: 0.9630\n"
          ]
        }
      ],
      "source": [
        "for y_true, y_pred, label in [(y_train, y_train_pred, 'Latih Logistic Regression'), (y_test, y_test_pred, 'Prediksi Logistic Regression')]:\n",
        "    print(f\"\\nData {label}:\")\n",
        "    print(f\"Akurasi: {accuracy_score(y_true, y_pred):.4f}\")\n",
        "    print(f\"Precision: {precision_score(y_true, y_pred, average='weighted'):.4f}\")\n",
        "    print(f\"Recall: {recall_score(y_true, y_pred, average='weighted'):.4f}\")\n",
        "    print(f\"F1-Score: {f1_score(y_true, y_pred, average='weighted'):.4f}\")"
      ]
    },
    {
      "cell_type": "markdown",
      "metadata": {
        "id": "Jq6YAH6Gi_51"
      },
      "source": [
        "#### 3. Menampilkan Prediksi Produk Teratas"
      ]
    },
    {
      "cell_type": "code",
      "execution_count": 25,
      "metadata": {
        "colab": {
          "base_uri": "https://localhost:8080/"
        },
        "id": "xWJ_fOlck_1Z",
        "outputId": "81dc5ac8-e0cd-49cb-c591-a322186a7b55"
      },
      "outputs": [
        {
          "name": "stdout",
          "output_type": "stream",
          "text": [
            "\n",
            "Prediksi 10 Kategori Produk Populer dengan Logistic Regression Berdasarkan Karakteristik:\n",
            "product_category_name_english\n",
            "sports_leisure           1961\n",
            "health_beauty            1781\n",
            "computers_accessories    1209\n",
            "furniture_decor           774\n",
            "housewares                770\n",
            "baby                      606\n",
            "auto                      489\n",
            "toys                      474\n",
            "watches_gifts             469\n",
            "pet_shop                  463\n",
            "Name: 1, dtype: int64\n"
          ]
        }
      ],
      "source": [
        "from itertools import product\n",
        "model.fit(X_train, y_train)\n",
        "product_df['popular'] = model.predict(X)\n",
        "category_popularity = product_df.groupby(['product_category_name_english', 'popular']).size().unstack(fill_value=0)\n",
        "top_10_categories = category_popularity['1'].sort_values(ascending=False).head(10)\n",
        "\n",
        "print(\"\\nPrediksi 10 Kategori Produk Populer dengan Logistic Regression Berdasarkan Karakteristik:\")\n",
        "print(top_10_categories)"
      ]
    },
    {
      "cell_type": "code",
      "execution_count": 26,
      "metadata": {
        "colab": {
          "base_uri": "https://localhost:8080/",
          "height": 607
        },
        "id": "oCALznBWmN2j",
        "outputId": "16789930-7396-4b2c-8c80-fb116167c960"
      },
      "outputs": [
        {
          "data": {
            "image/png": "[encoded data removed]",
            "text/plain": [
              "<Figure size 1000x600 with 1 Axes>"
            ]
          },
          "metadata": {},
          "output_type": "display_data"
        }
      ],
      "source": [
        "plt.figure(figsize=(10, 6))\n",
        "sns.barplot(x=top_10_categories.index, y=top_10_categories.values)\n",
        "\n",
        "for index, value in enumerate(top_10_categories.values):\n",
        "    plt.text(index, value + 10, str(value), ha='center', va='bottom', fontsize=12)\n",
        "\n",
        "plt.title('Prediksi 10 Kategori Produk Populer dengan Logistic Regression Berdasarkan Karakteristik')\n",
        "plt.xlabel('Product Category Name')\n",
        "plt.ylabel('Jumlah Produk yang Diperkirakan Akan Populer')\n",
        "plt.xticks(rotation=45, ha='right')\n",
        "plt.tight_layout()\n",
        "plt.show()"
      ]
    },
    {
      "cell_type": "markdown",
      "metadata": {
        "id": "DpuWCNjsV6Xm"
      },
      "source": [
        "### **2. Evaluasi untuk Support Vector Machine**"
      ]
    },
    {
      "cell_type": "markdown",
      "metadata": {
        "id": "RPo7R-v9Wt9H"
      },
      "source": [
        "#### 1. Mengecek Underfiting dan overfitting Model\n"
      ]
    },
    {
      "cell_type": "code",
      "execution_count": 27,
      "metadata": {
        "colab": {
          "base_uri": "https://localhost:8080/",
          "height": 487
        },
        "id": "5zK5pPoFW1IP",
        "outputId": "53495aa7-5cbf-453e-c444-4d8e3f26dfdc"
      },
      "outputs": [
        {
          "data": {
            "image/png": "[encoded data removed]",
            "text/plain": [
              "<Figure size 640x480 with 1 Axes>"
            ]
          },
          "metadata": {},
          "output_type": "display_data"
        }
      ],
      "source": [
        "svm_model = SVC(kernel='linear', random_state=42)\n",
        "train_sizes, train_scores, test_scores = learning_curve(svm_model, X_train, y_train, cv=5)\n",
        "\n",
        "plt.plot(train_sizes, train_scores.mean(axis=1), label='Data Latih', color='blue')\n",
        "plt.plot(train_sizes, test_scores.mean(axis=1), label='Data Uji', color='green')\n",
        "\n",
        "plt.title('Learning Curve - SVM')\n",
        "plt.xlabel('Jumlah Data Latih')\n",
        "plt.ylabel('Skor Akurasi')\n",
        "plt.legend(loc='best')\n",
        "plt.grid(True)\n",
        "plt.tight_layout()\n",
        "plt.show()"
      ]
    },
    {
      "cell_type": "markdown",
      "metadata": {
        "id": "NjkTa2vaWxpH"
      },
      "source": [
        "#### 2. Hitung hasil metrik evaluasi."
      ]
    },
    {
      "cell_type": "code",
      "execution_count": 28,
      "metadata": {
        "colab": {
          "base_uri": "https://localhost:8080/"
        },
        "id": "jfWs-OHCW1vV",
        "outputId": "3700a2b4-9fbf-4b43-9237-fe88a2b70663"
      },
      "outputs": [
        {
          "name": "stdout",
          "output_type": "stream",
          "text": [
            "\n",
            "Latih SVM:\n",
            "Akurasi: 0.9574\n",
            "Precision: 0.9568\n",
            "Recall: 0.9574\n",
            "F1-Score: 0.9569\n",
            "\n",
            "Prediksi SVM:\n",
            "Akurasi: 0.9557\n",
            "Precision: 0.9550\n",
            "Recall: 0.9557\n",
            "F1-Score: 0.9551\n"
          ]
        }
      ],
      "source": [
        "for y_true, y_pred, label in [(y_train, y_train_pred_svm, 'Latih SVM'), (y_test, y_test_pred_svm, 'Prediksi SVM')]:\n",
        "    print(f\"\\n{label}:\")\n",
        "    print(f\"Akurasi: {accuracy_score(y_true, y_pred):.4f}\")\n",
        "    print(f\"Precision: {precision_score(y_true, y_pred, average='weighted'):.4f}\")\n",
        "    print(f\"Recall: {recall_score(y_true, y_pred, average='weighted'):.4f}\")\n",
        "    print(f\"F1-Score: {f1_score(y_true, y_pred, average='weighted'):.4f}\")"
      ]
    },
    {
      "cell_type": "markdown",
      "metadata": {
        "id": "GHt4-wlEW0SV"
      },
      "source": [
        "#### 3. Menampilkan Prediksi Produk Teratas"
      ]
    },
    {
      "cell_type": "code",
      "execution_count": 29,
      "metadata": {
        "colab": {
          "base_uri": "https://localhost:8080/"
        },
        "id": "BzuvNsIbW2YP",
        "outputId": "77361ec5-c654-4e15-e2a3-eafc11636c3b"
      },
      "outputs": [
        {
          "name": "stdout",
          "output_type": "stream",
          "text": [
            "\n",
            "Prediksi 10 Kategori Produk Populer dengan SVM Berdasarkan Karakteristik:\n",
            "product_category_name_english\n",
            "sports_leisure           1647\n",
            "health_beauty            1531\n",
            "computers_accessories    1028\n",
            "furniture_decor           654\n",
            "housewares                460\n",
            "baby                      440\n",
            "auto                      373\n",
            "garden_tools              360\n",
            "watches_gifts             355\n",
            "pet_shop                  352\n",
            "Name: 1, dtype: int64\n"
          ]
        }
      ],
      "source": [
        "svm_model.fit(X_train, y_train)\n",
        "product_df['popular'] = svm_model.predict(X)\n",
        "category_popularity = product_df.groupby(['product_category_name_english', 'popular']).size().unstack(fill_value=0)\n",
        "top_10_categories = category_popularity['1'].sort_values(ascending=False).head(10)\n",
        "\n",
        "print(\"\\nPrediksi 10 Kategori Produk Populer dengan SVM Berdasarkan Karakteristik:\")\n",
        "print(top_10_categories)"
      ]
    },
    {
      "cell_type": "code",
      "execution_count": 30,
      "metadata": {
        "colab": {
          "base_uri": "https://localhost:8080/",
          "height": 607
        },
        "id": "46dfXTrrW2we",
        "outputId": "b1cdf2a5-c24a-42b0-8e73-4db6920ea3a3"
      },
      "outputs": [
        {
          "data": {
            "image/png": "[encoded data removed]",
            "text/plain": [
              "<Figure size 1000x600 with 1 Axes>"
            ]
          },
          "metadata": {},
          "output_type": "display_data"
        }
      ],
      "source": [
        "plt.figure(figsize=(10, 6))\n",
        "sns.barplot(x=top_10_categories.index, y=top_10_categories.values)\n",
        "\n",
        "for index, value in enumerate(top_10_categories.values):\n",
        "    plt.text(index, value + 10, str(value), ha='center', va='bottom', fontsize=12)\n",
        "\n",
        "plt.title('Prediksi 10 Kategori Produk Populer dengan SVM Berdasarkan Karakteristik', fontsize=16)\n",
        "plt.xlabel('Product Category Name', fontsize=12)\n",
        "plt.ylabel('Jumlah Produk yang Diperkirakan Akan Populer', fontsize=12)\n",
        "plt.xticks(rotation=45, ha='right')\n",
        "plt.tight_layout()\n",
        "plt.show()"
      ]
    },
    {
      "cell_type": "markdown",
      "metadata": {
        "id": "R7Uf_8qjMSk_"
      },
      "source": [
        "## **e. Analisis Hasil Evaluasi Model Klasifikasi**"
      ]
    },
    {
      "cell_type": "markdown",
      "metadata": {
        "id": "LA_p8xJuVlEU"
      },
      "source": [
        "### 1. Menggunakan Logistic Regresi"
      ]
    },
    {
      "cell_type": "markdown",
      "metadata": {
        "id": "TAKoh6QjWO9c"
      },
      "source": [
        "- Identifikasi Kelemahan model pada Precision atau Recall rendah untuk kelas tertentu.\n",
        "\n",
        "  - Pada classification report, terlihat bahwa precision untuk kelas 1 (produk populer) adalah 83%, yang berarti sekitar 17% produk yang diprediksi populer sebenarnya tidak populer. Hal ini menunjukkan kelemahan pada model dalam mengidentifikasi produk populer, di mana beberapa produk yang seharusnya tidak populer masih teridentifikasi sebagai populer.\n",
        "\n",
        "  - Sementara itu, recall untuk kelas 2 (produk tidak populer) adalah 95%, yang masih cukup tinggi, menunjukkan bahwa sebagian besar produk yang tidak populer berhasil teridentifikasi dengan baik. Secara keseluruhan, kelemahan terbesar terletak pada precision kelas 1, yang perlu diperbaiki untuk mengurangi kesalahan dalam memprediksi produk yang tidak populer sebagai populer."
      ]
    },
    {
      "cell_type": "markdown",
      "metadata": {
        "id": "nbhEsZu1WRXq"
      },
      "source": [
        "- Apakah model mengalami overfitting atau underfitting?\n",
        "\n",
        "  - Model tidak mengalami overfitting atau underfitting, karena perbedaan akurasi antara data latih (96.10%) dan uji (96.16%) sangat kecil, yang menunjukkan kemampuan model untuk menggeneralisasi dengan baik."
      ]
    },
    {
      "cell_type": "markdown",
      "metadata": {
        "id": "kmo345Kp6nY6"
      },
      "source": [
        "### 2. Menggunakan Support Vector Machine"
      ]
    },
    {
      "cell_type": "markdown",
      "metadata": {
        "id": "x5nYkA7z6x8-"
      },
      "source": [
        "- Identifikasi Kelemahan model pada Precision atau Recall rendah untuk kelas tertentu.\n",
        " \n",
        "    - Model SVM menunjukkan kelemahan pada kelas 1 dengan Recall 0.85, artinya 15% produk tidak populer tidak terdeteksi. Sebaliknya, kelas 2 memiliki Recall 0.98, menunjukkan deteksi yang sangat baik untuk produk populer.\n"
      ]
    },
    {
      "cell_type": "markdown",
      "metadata": {
        "id": "hMZrr_8u60by"
      },
      "source": [
        "- Apakah model mengalami overfitting atau underfitting?\n",
        "\n",
        "    - Model SVM tidak menunjukkan tanda-tanda overfitting atau underfitting karena akurasi pada data latih (0.9574) dan data uji (0.9557) cukup konsisten. Hal ini mengindikasikan model mampu menggeneralisasi dengan baik tanpa terlalu terikat pada data latih atau kehilangan kemampuan untuk memprediksi data baru."
      ]
    },
    {
      "cell_type": "markdown",
      "metadata": {
        "id": "F1hJjNwp65Ae"
      },
      "source": [
        "### 3. Berikan rekomendasi tindakan lanjutan, seperti mengumpulkan data tambahan atau mencoba algoritma lain jika hasil belum memuaskan."
      ]
    },
    {
      "cell_type": "markdown",
      "metadata": {
        "id": "3EO3zuw66_Xf"
      },
      "source": [
        "Mungkin untuk rekomendasi lanjutannya:\n",
        "\n",
        "- Mengumpulkan data tambahan untuk memastikan representasi kelas yang lebih baik dalam dataset\n",
        "\n",
        "- Mencoba algoritma lain seperti Random Forest atau Gradient Boosting untuk meningkatkan akurasi dan menangani masalah varians"
      ]
    }
  ],
  "metadata": {
    "colab": {
      "provenance": []
    },
    "kernelspec": {
      "display_name": "Python 3",
      "name": "python3"
    },
    "language_info": {
      "codemirror_mode": {
        "name": "ipython",
        "version": 3
      },
      "file_extension": ".py",
      "mimetype": "text/x-python",
      "name": "python",
      "nbconvert_exporter": "python",
      "pygments_lexer": "ipython3",
      "version": "3.12.4"
    }
  },
  "nbformat": 4,
  "nbformat_minor": 0
}
