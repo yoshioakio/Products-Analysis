{
  "cells": [
    {
      "cell_type": "markdown",
      "metadata": {
        "id": "Uc6KXiscAPgQ"
      },
      "source": [
        "# Business Requirement Document (BRD): Analisis Data E-Commerce"
      ]
    },
    {
      "cell_type": "markdown",
      "metadata": {
        "id": "adLXuS9PAVcV"
      },
      "source": [
        "## Latar Belakang"
      ]
    },
    {
      "cell_type": "markdown",
      "metadata": {
        "id": "2hC72PaKAZjt"
      },
      "source": [
        "Di dunia e-commerce, pemahaman yang mendalam mengenai produk dan perilaku pelanggan sangat penting untuk meningkatkan penjualan dan kepuasan pelanggan. Untuk itu, dibutuhkan analisis yang dapat mengelompokkan produk berdasarkan karakteristik tertentu dan memprediksi produk mana yang berpotensi menjadi laris. Melalui analisis data yang tepat, bisnis dapat lebih mudah menentukan strategi pemasaran yang efektif dan meningkatkan efisiensi operasional. Dataset yang digunakan dalam analisis ini diambil dari [Dataset Kaggle Brazilian E-Commerce](https://www.kaggle.com/datasets/olistbr/brazilian-ecommerce), yang mencakup informasi terkait produk, pengiriman, dan ulasan pelanggan dan lain sebagainnya."
      ]
    },
    {
      "cell_type": "markdown",
      "metadata": {
        "id": "JqCqRcLtAlB5"
      },
      "source": [
        "## Tujuan"
      ]
    },
    {
      "cell_type": "markdown",
      "metadata": {},
      "source": [
        "Tujuan dari analisis ini adalah untuk mengelompokkan produk dan memprediksi produk yang berpotensi laris di masa depan, menggunakan data yang mencakup harga, ongkos kirim, ulasan pelanggan, dan karakteristik pengiriman. Analisis ini bertujuan untuk memberikan wawasan yang dapat membantu perusahaan dalam merumuskan strategi penjualan yang lebih cerdas."
      ]
    },
    {
      "cell_type": "markdown",
      "metadata": {
        "id": "z4-4QTzkA57M"
      },
      "source": [
        "## Kebutuhan Data"
      ]
    },
    {
      "cell_type": "markdown",
      "metadata": {
        "id": "MsGWg_0cAoLO"
      },
      "source": [
        "Data yang digunakan berasal dari Kaggle Brazilian E-Commerce Dataset, yang mencakup fitur seperti harga produk, ongkos kirim, skor ulasan, durasi pengiriman, dan kompleksitas produk dan lain yang sesuai. Data ini akan dianalisis untuk menemukan pola pengelompokan produk dan memprediksi produk yang berpotensi laris."
      ]
    },
    {
      "cell_type": "markdown",
      "metadata": {
        "id": "NwhW_3KAAtXf"
      },
      "source": [
        "## Scope"
      ]
    },
    {
      "cell_type": "markdown",
      "metadata": {
        "id": "w9J1z7XtAwyz"
      },
      "source": [
        "Proyek ini akan mencakup analisis yang dapat mengelompokkan produk berdasarkan karakteristik tertentu serta memprediksi produk yang kemungkinan besar akan laris, guna mendukung keputusan bisnis yang lebih baik."
      ]
    },
    {
      "cell_type": "markdown",
      "metadata": {
        "id": "wes8Lf-UBIV6"
      },
      "source": [
        "## Pertanyaan Bisnis"
      ]
    },
    {
      "cell_type": "markdown",
      "metadata": {
        "id": "GwCYBHTECfN9"
      },
      "source": [
        "- Unsupervised Learning: Bagaimana produk dapat dikelompokkan berdasarkan harga, ongkos kirim, ulasan pelanggan, dan karakteristik pengiriman (durasi dan akurasi)?\n",
        "\n",
        "- Supervised Learning: Produk mana yang memiliki potensi menjadi laris di masa depan?"
      ]
    },
    {
      "cell_type": "markdown",
      "metadata": {
        "id": "W4ASu88eCptp"
      },
      "source": [
        "## Deliverables"
      ]
    },
    {
      "cell_type": "markdown",
      "metadata": {
        "id": "roWgVnbDBQvz"
      },
      "source": [
        "- Laporan hasil analisis clustering yang mengelompokkan produk berdasarkan harga, ongkos kirim, dan ulasan dan lainnya.\n",
        "- Model yang memprediksi produk laris di masa depan, termasuk evaluasi model dan rekomendasi bisnis.\n",
        "\n",
        "Dengan demikian, proyek ini bertujuan untuk memberikan insight yang berguna bagi strategi pemasaran dan pengelolaan produk dalam bisnis e-commerce."
      ]
    },
    {
      "cell_type": "markdown",
      "metadata": {
        "id": "W52H-Z9XfFVC"
      },
      "source": [
        "# Import Library"
      ]
    },
    {
      "cell_type": "code",
      "execution_count": 1,
      "metadata": {
        "id": "5FmU94hufEsq"
      },
      "outputs": [],
      "source": [
        "import pandas as pd\n",
        "import matplotlib.pyplot as plt\n",
        "import seaborn as sns\n",
        "import numpy as np\n",
        "import datetime"
      ]
    },
    {
      "cell_type": "markdown",
      "metadata": {
        "id": "S2eONxLjDNYb"
      },
      "source": [
        "# Data Wrangling"
      ]
    },
    {
      "cell_type": "markdown",
      "metadata": {
        "id": "7TlpwzKpDY3s"
      },
      "source": [
        "## Gathering Data"
      ]
    },
    {
      "cell_type": "markdown",
      "metadata": {
        "id": "ERtuGalHDxLM"
      },
      "source": [
        "### load data orders"
      ]
    },
    {
      "cell_type": "code",
      "execution_count": 2,
      "metadata": {
        "colab": {
          "base_uri": "https://localhost:8080/",
          "height": 206
        },
        "id": "zRnSHgHnDxvP",
        "outputId": "e2191b2a-9d16-46a3-e5d4-487d82d5f437"
      },
      "outputs": [
        {
          "data": {
            "text/html": [
              "<div>\n",
              "<style scoped>\n",
              "    .dataframe tbody tr th:only-of-type {\n",
              "        vertical-align: middle;\n",
              "    }\n",
              "\n",
              "    .dataframe tbody tr th {\n",
              "        vertical-align: top;\n",
              "    }\n",
              "\n",
              "    .dataframe thead th {\n",
              "        text-align: right;\n",
              "    }\n",
              "</style>\n",
              "<table border=\"1\" class=\"dataframe\">\n",
              "  <thead>\n",
              "    <tr style=\"text-align: right;\">\n",
              "      <th></th>\n",
              "      <th>order_id</th>\n",
              "      <th>customer_id</th>\n",
              "      <th>order_status</th>\n",
              "      <th>order_purchase_timestamp</th>\n",
              "      <th>order_approved_at</th>\n",
              "      <th>order_delivered_carrier_date</th>\n",
              "      <th>order_delivered_customer_date</th>\n",
              "      <th>order_estimated_delivery_date</th>\n",
              "    </tr>\n",
              "  </thead>\n",
              "  <tbody>\n",
              "    <tr>\n",
              "      <th>0</th>\n",
              "      <td>e481f51cbdc54678b7cc49136f2d6af7</td>\n",
              "      <td>9ef432eb6251297304e76186b10a928d</td>\n",
              "      <td>delivered</td>\n",
              "      <td>2017-10-02 10:56:33</td>\n",
              "      <td>2017-10-02 11:07:15</td>\n",
              "      <td>2017-10-04 19:55:00</td>\n",
              "      <td>2017-10-10 21:25:13</td>\n",
              "      <td>2017-10-18 00:00:00</td>\n",
              "    </tr>\n",
              "    <tr>\n",
              "      <th>1</th>\n",
              "      <td>53cdb2fc8bc7dce0b6741e2150273451</td>\n",
              "      <td>b0830fb4747a6c6d20dea0b8c802d7ef</td>\n",
              "      <td>delivered</td>\n",
              "      <td>2018-07-24 20:41:37</td>\n",
              "      <td>2018-07-26 03:24:27</td>\n",
              "      <td>2018-07-26 14:31:00</td>\n",
              "      <td>2018-08-07 15:27:45</td>\n",
              "      <td>2018-08-13 00:00:00</td>\n",
              "    </tr>\n",
              "    <tr>\n",
              "      <th>2</th>\n",
              "      <td>47770eb9100c2d0c44946d9cf07ec65d</td>\n",
              "      <td>41ce2a54c0b03bf3443c3d931a367089</td>\n",
              "      <td>delivered</td>\n",
              "      <td>2018-08-08 08:38:49</td>\n",
              "      <td>2018-08-08 08:55:23</td>\n",
              "      <td>2018-08-08 13:50:00</td>\n",
              "      <td>2018-08-17 18:06:29</td>\n",
              "      <td>2018-09-04 00:00:00</td>\n",
              "    </tr>\n",
              "    <tr>\n",
              "      <th>3</th>\n",
              "      <td>949d5b44dbf5de918fe9c16f97b45f8a</td>\n",
              "      <td>f88197465ea7920adcdbec7375364d82</td>\n",
              "      <td>delivered</td>\n",
              "      <td>2017-11-18 19:28:06</td>\n",
              "      <td>2017-11-18 19:45:59</td>\n",
              "      <td>2017-11-22 13:39:59</td>\n",
              "      <td>2017-12-02 00:28:42</td>\n",
              "      <td>2017-12-15 00:00:00</td>\n",
              "    </tr>\n",
              "    <tr>\n",
              "      <th>4</th>\n",
              "      <td>ad21c59c0840e6cb83a9ceb5573f8159</td>\n",
              "      <td>8ab97904e6daea8866dbdbc4fb7aad2c</td>\n",
              "      <td>delivered</td>\n",
              "      <td>2018-02-13 21:18:39</td>\n",
              "      <td>2018-02-13 22:20:29</td>\n",
              "      <td>2018-02-14 19:46:34</td>\n",
              "      <td>2018-02-16 18:17:02</td>\n",
              "      <td>2018-02-26 00:00:00</td>\n",
              "    </tr>\n",
              "  </tbody>\n",
              "</table>\n",
              "</div>"
            ],
            "text/plain": [
              "                           order_id                       customer_id  \\\n",
              "0  e481f51cbdc54678b7cc49136f2d6af7  9ef432eb6251297304e76186b10a928d   \n",
              "1  53cdb2fc8bc7dce0b6741e2150273451  b0830fb4747a6c6d20dea0b8c802d7ef   \n",
              "2  47770eb9100c2d0c44946d9cf07ec65d  41ce2a54c0b03bf3443c3d931a367089   \n",
              "3  949d5b44dbf5de918fe9c16f97b45f8a  f88197465ea7920adcdbec7375364d82   \n",
              "4  ad21c59c0840e6cb83a9ceb5573f8159  8ab97904e6daea8866dbdbc4fb7aad2c   \n",
              "\n",
              "  order_status order_purchase_timestamp    order_approved_at  \\\n",
              "0    delivered      2017-10-02 10:56:33  2017-10-02 11:07:15   \n",
              "1    delivered      2018-07-24 20:41:37  2018-07-26 03:24:27   \n",
              "2    delivered      2018-08-08 08:38:49  2018-08-08 08:55:23   \n",
              "3    delivered      2017-11-18 19:28:06  2017-11-18 19:45:59   \n",
              "4    delivered      2018-02-13 21:18:39  2018-02-13 22:20:29   \n",
              "\n",
              "  order_delivered_carrier_date order_delivered_customer_date  \\\n",
              "0          2017-10-04 19:55:00           2017-10-10 21:25:13   \n",
              "1          2018-07-26 14:31:00           2018-08-07 15:27:45   \n",
              "2          2018-08-08 13:50:00           2018-08-17 18:06:29   \n",
              "3          2017-11-22 13:39:59           2017-12-02 00:28:42   \n",
              "4          2018-02-14 19:46:34           2018-02-16 18:17:02   \n",
              "\n",
              "  order_estimated_delivery_date  \n",
              "0           2017-10-18 00:00:00  \n",
              "1           2018-08-13 00:00:00  \n",
              "2           2018-09-04 00:00:00  \n",
              "3           2017-12-15 00:00:00  \n",
              "4           2018-02-26 00:00:00  "
            ]
          },
          "execution_count": 2,
          "metadata": {},
          "output_type": "execute_result"
        }
      ],
      "source": [
        "orders_df = pd.read_csv(\"dataset/olist_orders_dataset.csv\")\n",
        "orders_df.head()"
      ]
    },
    {
      "cell_type": "markdown",
      "metadata": {
        "id": "klUmSjSOIUzN"
      },
      "source": [
        "### load data order items"
      ]
    },
    {
      "cell_type": "code",
      "execution_count": 3,
      "metadata": {
        "colab": {
          "base_uri": "https://localhost:8080/",
          "height": 206
        },
        "id": "5GHV43OZG9d3",
        "outputId": "ab0450ad-2957-4911-9783-2508590be109"
      },
      "outputs": [
        {
          "data": {
            "text/html": [
              "<div>\n",
              "<style scoped>\n",
              "    .dataframe tbody tr th:only-of-type {\n",
              "        vertical-align: middle;\n",
              "    }\n",
              "\n",
              "    .dataframe tbody tr th {\n",
              "        vertical-align: top;\n",
              "    }\n",
              "\n",
              "    .dataframe thead th {\n",
              "        text-align: right;\n",
              "    }\n",
              "</style>\n",
              "<table border=\"1\" class=\"dataframe\">\n",
              "  <thead>\n",
              "    <tr style=\"text-align: right;\">\n",
              "      <th></th>\n",
              "      <th>order_id</th>\n",
              "      <th>order_item_id</th>\n",
              "      <th>product_id</th>\n",
              "      <th>seller_id</th>\n",
              "      <th>shipping_limit_date</th>\n",
              "      <th>price</th>\n",
              "      <th>freight_value</th>\n",
              "    </tr>\n",
              "  </thead>\n",
              "  <tbody>\n",
              "    <tr>\n",
              "      <th>0</th>\n",
              "      <td>00010242fe8c5a6d1ba2dd792cb16214</td>\n",
              "      <td>1</td>\n",
              "      <td>4244733e06e7ecb4970a6e2683c13e61</td>\n",
              "      <td>48436dade18ac8b2bce089ec2a041202</td>\n",
              "      <td>2017-09-19 09:45:35</td>\n",
              "      <td>58.90</td>\n",
              "      <td>13.29</td>\n",
              "    </tr>\n",
              "    <tr>\n",
              "      <th>1</th>\n",
              "      <td>00018f77f2f0320c557190d7a144bdd3</td>\n",
              "      <td>1</td>\n",
              "      <td>e5f2d52b802189ee658865ca93d83a8f</td>\n",
              "      <td>dd7ddc04e1b6c2c614352b383efe2d36</td>\n",
              "      <td>2017-05-03 11:05:13</td>\n",
              "      <td>239.90</td>\n",
              "      <td>19.93</td>\n",
              "    </tr>\n",
              "    <tr>\n",
              "      <th>2</th>\n",
              "      <td>000229ec398224ef6ca0657da4fc703e</td>\n",
              "      <td>1</td>\n",
              "      <td>c777355d18b72b67abbeef9df44fd0fd</td>\n",
              "      <td>5b51032eddd242adc84c38acab88f23d</td>\n",
              "      <td>2018-01-18 14:48:30</td>\n",
              "      <td>199.00</td>\n",
              "      <td>17.87</td>\n",
              "    </tr>\n",
              "    <tr>\n",
              "      <th>3</th>\n",
              "      <td>00024acbcdf0a6daa1e931b038114c75</td>\n",
              "      <td>1</td>\n",
              "      <td>7634da152a4610f1595efa32f14722fc</td>\n",
              "      <td>9d7a1d34a5052409006425275ba1c2b4</td>\n",
              "      <td>2018-08-15 10:10:18</td>\n",
              "      <td>12.99</td>\n",
              "      <td>12.79</td>\n",
              "    </tr>\n",
              "    <tr>\n",
              "      <th>4</th>\n",
              "      <td>00042b26cf59d7ce69dfabb4e55b4fd9</td>\n",
              "      <td>1</td>\n",
              "      <td>ac6c3623068f30de03045865e4e10089</td>\n",
              "      <td>df560393f3a51e74553ab94004ba5c87</td>\n",
              "      <td>2017-02-13 13:57:51</td>\n",
              "      <td>199.90</td>\n",
              "      <td>18.14</td>\n",
              "    </tr>\n",
              "  </tbody>\n",
              "</table>\n",
              "</div>"
            ],
            "text/plain": [
              "                           order_id  order_item_id  \\\n",
              "0  00010242fe8c5a6d1ba2dd792cb16214              1   \n",
              "1  00018f77f2f0320c557190d7a144bdd3              1   \n",
              "2  000229ec398224ef6ca0657da4fc703e              1   \n",
              "3  00024acbcdf0a6daa1e931b038114c75              1   \n",
              "4  00042b26cf59d7ce69dfabb4e55b4fd9              1   \n",
              "\n",
              "                         product_id                         seller_id  \\\n",
              "0  4244733e06e7ecb4970a6e2683c13e61  48436dade18ac8b2bce089ec2a041202   \n",
              "1  e5f2d52b802189ee658865ca93d83a8f  dd7ddc04e1b6c2c614352b383efe2d36   \n",
              "2  c777355d18b72b67abbeef9df44fd0fd  5b51032eddd242adc84c38acab88f23d   \n",
              "3  7634da152a4610f1595efa32f14722fc  9d7a1d34a5052409006425275ba1c2b4   \n",
              "4  ac6c3623068f30de03045865e4e10089  df560393f3a51e74553ab94004ba5c87   \n",
              "\n",
              "   shipping_limit_date   price  freight_value  \n",
              "0  2017-09-19 09:45:35   58.90          13.29  \n",
              "1  2017-05-03 11:05:13  239.90          19.93  \n",
              "2  2018-01-18 14:48:30  199.00          17.87  \n",
              "3  2018-08-15 10:10:18   12.99          12.79  \n",
              "4  2017-02-13 13:57:51  199.90          18.14  "
            ]
          },
          "execution_count": 3,
          "metadata": {},
          "output_type": "execute_result"
        }
      ],
      "source": [
        "items_df = pd.read_csv(\"dataset/olist_order_items_dataset.csv\")\n",
        "items_df.head()"
      ]
    },
    {
      "cell_type": "markdown",
      "metadata": {
        "id": "aOScQkRiIVPu"
      },
      "source": [
        "### load data products"
      ]
    },
    {
      "cell_type": "code",
      "execution_count": 4,
      "metadata": {
        "colab": {
          "base_uri": "https://localhost:8080/",
          "height": 206
        },
        "id": "9I4kRSYCG-Af",
        "outputId": "230e54f3-2b1f-442c-ac02-3afd2bd86bb9"
      },
      "outputs": [
        {
          "data": {
            "text/html": [
              "<div>\n",
              "<style scoped>\n",
              "    .dataframe tbody tr th:only-of-type {\n",
              "        vertical-align: middle;\n",
              "    }\n",
              "\n",
              "    .dataframe tbody tr th {\n",
              "        vertical-align: top;\n",
              "    }\n",
              "\n",
              "    .dataframe thead th {\n",
              "        text-align: right;\n",
              "    }\n",
              "</style>\n",
              "<table border=\"1\" class=\"dataframe\">\n",
              "  <thead>\n",
              "    <tr style=\"text-align: right;\">\n",
              "      <th></th>\n",
              "      <th>product_id</th>\n",
              "      <th>product_category_name</th>\n",
              "      <th>product_name_lenght</th>\n",
              "      <th>product_description_lenght</th>\n",
              "      <th>product_photos_qty</th>\n",
              "      <th>product_weight_g</th>\n",
              "      <th>product_length_cm</th>\n",
              "      <th>product_height_cm</th>\n",
              "      <th>product_width_cm</th>\n",
              "    </tr>\n",
              "  </thead>\n",
              "  <tbody>\n",
              "    <tr>\n",
              "      <th>0</th>\n",
              "      <td>1e9e8ef04dbcff4541ed26657ea517e5</td>\n",
              "      <td>perfumaria</td>\n",
              "      <td>40.0</td>\n",
              "      <td>287.0</td>\n",
              "      <td>1.0</td>\n",
              "      <td>225.0</td>\n",
              "      <td>16.0</td>\n",
              "      <td>10.0</td>\n",
              "      <td>14.0</td>\n",
              "    </tr>\n",
              "    <tr>\n",
              "      <th>1</th>\n",
              "      <td>3aa071139cb16b67ca9e5dea641aaa2f</td>\n",
              "      <td>artes</td>\n",
              "      <td>44.0</td>\n",
              "      <td>276.0</td>\n",
              "      <td>1.0</td>\n",
              "      <td>1000.0</td>\n",
              "      <td>30.0</td>\n",
              "      <td>18.0</td>\n",
              "      <td>20.0</td>\n",
              "    </tr>\n",
              "    <tr>\n",
              "      <th>2</th>\n",
              "      <td>96bd76ec8810374ed1b65e291975717f</td>\n",
              "      <td>esporte_lazer</td>\n",
              "      <td>46.0</td>\n",
              "      <td>250.0</td>\n",
              "      <td>1.0</td>\n",
              "      <td>154.0</td>\n",
              "      <td>18.0</td>\n",
              "      <td>9.0</td>\n",
              "      <td>15.0</td>\n",
              "    </tr>\n",
              "    <tr>\n",
              "      <th>3</th>\n",
              "      <td>cef67bcfe19066a932b7673e239eb23d</td>\n",
              "      <td>bebes</td>\n",
              "      <td>27.0</td>\n",
              "      <td>261.0</td>\n",
              "      <td>1.0</td>\n",
              "      <td>371.0</td>\n",
              "      <td>26.0</td>\n",
              "      <td>4.0</td>\n",
              "      <td>26.0</td>\n",
              "    </tr>\n",
              "    <tr>\n",
              "      <th>4</th>\n",
              "      <td>9dc1a7de274444849c219cff195d0b71</td>\n",
              "      <td>utilidades_domesticas</td>\n",
              "      <td>37.0</td>\n",
              "      <td>402.0</td>\n",
              "      <td>4.0</td>\n",
              "      <td>625.0</td>\n",
              "      <td>20.0</td>\n",
              "      <td>17.0</td>\n",
              "      <td>13.0</td>\n",
              "    </tr>\n",
              "  </tbody>\n",
              "</table>\n",
              "</div>"
            ],
            "text/plain": [
              "                         product_id  product_category_name  \\\n",
              "0  1e9e8ef04dbcff4541ed26657ea517e5             perfumaria   \n",
              "1  3aa071139cb16b67ca9e5dea641aaa2f                  artes   \n",
              "2  96bd76ec8810374ed1b65e291975717f          esporte_lazer   \n",
              "3  cef67bcfe19066a932b7673e239eb23d                  bebes   \n",
              "4  9dc1a7de274444849c219cff195d0b71  utilidades_domesticas   \n",
              "\n",
              "   product_name_lenght  product_description_lenght  product_photos_qty  \\\n",
              "0                 40.0                       287.0                 1.0   \n",
              "1                 44.0                       276.0                 1.0   \n",
              "2                 46.0                       250.0                 1.0   \n",
              "3                 27.0                       261.0                 1.0   \n",
              "4                 37.0                       402.0                 4.0   \n",
              "\n",
              "   product_weight_g  product_length_cm  product_height_cm  product_width_cm  \n",
              "0             225.0               16.0               10.0              14.0  \n",
              "1            1000.0               30.0               18.0              20.0  \n",
              "2             154.0               18.0                9.0              15.0  \n",
              "3             371.0               26.0                4.0              26.0  \n",
              "4             625.0               20.0               17.0              13.0  "
            ]
          },
          "execution_count": 4,
          "metadata": {},
          "output_type": "execute_result"
        }
      ],
      "source": [
        "products_df = pd.read_csv(\"dataset/olist_products_dataset.csv\")\n",
        "products_df.head()"
      ]
    },
    {
      "cell_type": "markdown",
      "metadata": {
        "id": "wGA0C7vaIVrp"
      },
      "source": [
        "### load data reviews"
      ]
    },
    {
      "cell_type": "code",
      "execution_count": 5,
      "metadata": {
        "colab": {
          "base_uri": "https://localhost:8080/",
          "height": 206
        },
        "id": "GYevk1pYDz2x",
        "outputId": "fe004487-fb07-4d6f-90e2-8f353340d128"
      },
      "outputs": [
        {
          "data": {
            "text/html": [
              "<div>\n",
              "<style scoped>\n",
              "    .dataframe tbody tr th:only-of-type {\n",
              "        vertical-align: middle;\n",
              "    }\n",
              "\n",
              "    .dataframe tbody tr th {\n",
              "        vertical-align: top;\n",
              "    }\n",
              "\n",
              "    .dataframe thead th {\n",
              "        text-align: right;\n",
              "    }\n",
              "</style>\n",
              "<table border=\"1\" class=\"dataframe\">\n",
              "  <thead>\n",
              "    <tr style=\"text-align: right;\">\n",
              "      <th></th>\n",
              "      <th>review_id</th>\n",
              "      <th>order_id</th>\n",
              "      <th>review_score</th>\n",
              "      <th>review_comment_title</th>\n",
              "      <th>review_comment_message</th>\n",
              "      <th>review_creation_date</th>\n",
              "      <th>review_answer_timestamp</th>\n",
              "    </tr>\n",
              "  </thead>\n",
              "  <tbody>\n",
              "    <tr>\n",
              "      <th>0</th>\n",
              "      <td>7bc2406110b926393aa56f80a40eba40</td>\n",
              "      <td>73fc7af87114b39712e6da79b0a377eb</td>\n",
              "      <td>4</td>\n",
              "      <td>NaN</td>\n",
              "      <td>NaN</td>\n",
              "      <td>2018-01-18 00:00:00</td>\n",
              "      <td>2018-01-18 21:46:59</td>\n",
              "    </tr>\n",
              "    <tr>\n",
              "      <th>1</th>\n",
              "      <td>80e641a11e56f04c1ad469d5645fdfde</td>\n",
              "      <td>a548910a1c6147796b98fdf73dbeba33</td>\n",
              "      <td>5</td>\n",
              "      <td>NaN</td>\n",
              "      <td>NaN</td>\n",
              "      <td>2018-03-10 00:00:00</td>\n",
              "      <td>2018-03-11 03:05:13</td>\n",
              "    </tr>\n",
              "    <tr>\n",
              "      <th>2</th>\n",
              "      <td>228ce5500dc1d8e020d8d1322874b6f0</td>\n",
              "      <td>f9e4b658b201a9f2ecdecbb34bed034b</td>\n",
              "      <td>5</td>\n",
              "      <td>NaN</td>\n",
              "      <td>NaN</td>\n",
              "      <td>2018-02-17 00:00:00</td>\n",
              "      <td>2018-02-18 14:36:24</td>\n",
              "    </tr>\n",
              "    <tr>\n",
              "      <th>3</th>\n",
              "      <td>e64fb393e7b32834bb789ff8bb30750e</td>\n",
              "      <td>658677c97b385a9be170737859d3511b</td>\n",
              "      <td>5</td>\n",
              "      <td>NaN</td>\n",
              "      <td>Recebi bem antes do prazo estipulado.</td>\n",
              "      <td>2017-04-21 00:00:00</td>\n",
              "      <td>2017-04-21 22:02:06</td>\n",
              "    </tr>\n",
              "    <tr>\n",
              "      <th>4</th>\n",
              "      <td>f7c4243c7fe1938f181bec41a392bdeb</td>\n",
              "      <td>8e6bfb81e283fa7e4f11123a3fb894f1</td>\n",
              "      <td>5</td>\n",
              "      <td>NaN</td>\n",
              "      <td>Parabéns lojas lannister adorei comprar pela I...</td>\n",
              "      <td>2018-03-01 00:00:00</td>\n",
              "      <td>2018-03-02 10:26:53</td>\n",
              "    </tr>\n",
              "  </tbody>\n",
              "</table>\n",
              "</div>"
            ],
            "text/plain": [
              "                          review_id                          order_id  \\\n",
              "0  7bc2406110b926393aa56f80a40eba40  73fc7af87114b39712e6da79b0a377eb   \n",
              "1  80e641a11e56f04c1ad469d5645fdfde  a548910a1c6147796b98fdf73dbeba33   \n",
              "2  228ce5500dc1d8e020d8d1322874b6f0  f9e4b658b201a9f2ecdecbb34bed034b   \n",
              "3  e64fb393e7b32834bb789ff8bb30750e  658677c97b385a9be170737859d3511b   \n",
              "4  f7c4243c7fe1938f181bec41a392bdeb  8e6bfb81e283fa7e4f11123a3fb894f1   \n",
              "\n",
              "   review_score review_comment_title  \\\n",
              "0             4                  NaN   \n",
              "1             5                  NaN   \n",
              "2             5                  NaN   \n",
              "3             5                  NaN   \n",
              "4             5                  NaN   \n",
              "\n",
              "                              review_comment_message review_creation_date  \\\n",
              "0                                                NaN  2018-01-18 00:00:00   \n",
              "1                                                NaN  2018-03-10 00:00:00   \n",
              "2                                                NaN  2018-02-17 00:00:00   \n",
              "3              Recebi bem antes do prazo estipulado.  2017-04-21 00:00:00   \n",
              "4  Parabéns lojas lannister adorei comprar pela I...  2018-03-01 00:00:00   \n",
              "\n",
              "  review_answer_timestamp  \n",
              "0     2018-01-18 21:46:59  \n",
              "1     2018-03-11 03:05:13  \n",
              "2     2018-02-18 14:36:24  \n",
              "3     2017-04-21 22:02:06  \n",
              "4     2018-03-02 10:26:53  "
            ]
          },
          "execution_count": 5,
          "metadata": {},
          "output_type": "execute_result"
        }
      ],
      "source": [
        "reviews_df = pd.read_csv(\"dataset/olist_order_reviews_dataset.csv\", on_bad_lines='skip')\n",
        "reviews_df.head()"
      ]
    },
    {
      "cell_type": "markdown",
      "metadata": {
        "id": "QEDjmQ-5IWMu"
      },
      "source": [
        "### load data sellers"
      ]
    },
    {
      "cell_type": "code",
      "execution_count": 6,
      "metadata": {
        "colab": {
          "base_uri": "https://localhost:8080/",
          "height": 206
        },
        "id": "zLjGVb2ND0TS",
        "outputId": "2ef1ef48-0013-4db9-ac8e-f2c931bfada1"
      },
      "outputs": [
        {
          "data": {
            "text/html": [
              "<div>\n",
              "<style scoped>\n",
              "    .dataframe tbody tr th:only-of-type {\n",
              "        vertical-align: middle;\n",
              "    }\n",
              "\n",
              "    .dataframe tbody tr th {\n",
              "        vertical-align: top;\n",
              "    }\n",
              "\n",
              "    .dataframe thead th {\n",
              "        text-align: right;\n",
              "    }\n",
              "</style>\n",
              "<table border=\"1\" class=\"dataframe\">\n",
              "  <thead>\n",
              "    <tr style=\"text-align: right;\">\n",
              "      <th></th>\n",
              "      <th>seller_id</th>\n",
              "      <th>seller_zip_code_prefix</th>\n",
              "      <th>seller_city</th>\n",
              "      <th>seller_state</th>\n",
              "    </tr>\n",
              "  </thead>\n",
              "  <tbody>\n",
              "    <tr>\n",
              "      <th>0</th>\n",
              "      <td>3442f8959a84dea7ee197c632cb2df15</td>\n",
              "      <td>13023</td>\n",
              "      <td>campinas</td>\n",
              "      <td>SP</td>\n",
              "    </tr>\n",
              "    <tr>\n",
              "      <th>1</th>\n",
              "      <td>d1b65fc7debc3361ea86b5f14c68d2e2</td>\n",
              "      <td>13844</td>\n",
              "      <td>mogi guacu</td>\n",
              "      <td>SP</td>\n",
              "    </tr>\n",
              "    <tr>\n",
              "      <th>2</th>\n",
              "      <td>ce3ad9de960102d0677a81f5d0bb7b2d</td>\n",
              "      <td>20031</td>\n",
              "      <td>rio de janeiro</td>\n",
              "      <td>RJ</td>\n",
              "    </tr>\n",
              "    <tr>\n",
              "      <th>3</th>\n",
              "      <td>c0f3eea2e14555b6faeea3dd58c1b1c3</td>\n",
              "      <td>4195</td>\n",
              "      <td>sao paulo</td>\n",
              "      <td>SP</td>\n",
              "    </tr>\n",
              "    <tr>\n",
              "      <th>4</th>\n",
              "      <td>51a04a8a6bdcb23deccc82b0b80742cf</td>\n",
              "      <td>12914</td>\n",
              "      <td>braganca paulista</td>\n",
              "      <td>SP</td>\n",
              "    </tr>\n",
              "  </tbody>\n",
              "</table>\n",
              "</div>"
            ],
            "text/plain": [
              "                          seller_id  seller_zip_code_prefix  \\\n",
              "0  3442f8959a84dea7ee197c632cb2df15                   13023   \n",
              "1  d1b65fc7debc3361ea86b5f14c68d2e2                   13844   \n",
              "2  ce3ad9de960102d0677a81f5d0bb7b2d                   20031   \n",
              "3  c0f3eea2e14555b6faeea3dd58c1b1c3                    4195   \n",
              "4  51a04a8a6bdcb23deccc82b0b80742cf                   12914   \n",
              "\n",
              "         seller_city seller_state  \n",
              "0           campinas           SP  \n",
              "1         mogi guacu           SP  \n",
              "2     rio de janeiro           RJ  \n",
              "3          sao paulo           SP  \n",
              "4  braganca paulista           SP  "
            ]
          },
          "execution_count": 6,
          "metadata": {},
          "output_type": "execute_result"
        }
      ],
      "source": [
        "sellers_df = pd.read_csv(\"dataset/olist_sellers_dataset.csv\", on_bad_lines='skip')\n",
        "sellers_df.head()"
      ]
    },
    {
      "cell_type": "markdown",
      "metadata": {
        "id": "8xIqbbvZIWpF"
      },
      "source": [
        "### load data payments"
      ]
    },
    {
      "cell_type": "code",
      "execution_count": 7,
      "metadata": {
        "colab": {
          "base_uri": "https://localhost:8080/",
          "height": 206
        },
        "id": "gYMwhZVGD0wx",
        "outputId": "2f302915-7f71-4441-8f3c-8974d5815998"
      },
      "outputs": [
        {
          "data": {
            "text/html": [
              "<div>\n",
              "<style scoped>\n",
              "    .dataframe tbody tr th:only-of-type {\n",
              "        vertical-align: middle;\n",
              "    }\n",
              "\n",
              "    .dataframe tbody tr th {\n",
              "        vertical-align: top;\n",
              "    }\n",
              "\n",
              "    .dataframe thead th {\n",
              "        text-align: right;\n",
              "    }\n",
              "</style>\n",
              "<table border=\"1\" class=\"dataframe\">\n",
              "  <thead>\n",
              "    <tr style=\"text-align: right;\">\n",
              "      <th></th>\n",
              "      <th>order_id</th>\n",
              "      <th>payment_sequential</th>\n",
              "      <th>payment_type</th>\n",
              "      <th>payment_installments</th>\n",
              "      <th>payment_value</th>\n",
              "    </tr>\n",
              "  </thead>\n",
              "  <tbody>\n",
              "    <tr>\n",
              "      <th>0</th>\n",
              "      <td>b81ef226f3fe1789b1e8b2acac839d17</td>\n",
              "      <td>1</td>\n",
              "      <td>credit_card</td>\n",
              "      <td>8</td>\n",
              "      <td>99.33</td>\n",
              "    </tr>\n",
              "    <tr>\n",
              "      <th>1</th>\n",
              "      <td>a9810da82917af2d9aefd1278f1dcfa0</td>\n",
              "      <td>1</td>\n",
              "      <td>credit_card</td>\n",
              "      <td>1</td>\n",
              "      <td>24.39</td>\n",
              "    </tr>\n",
              "    <tr>\n",
              "      <th>2</th>\n",
              "      <td>25e8ea4e93396b6fa0d3dd708e76c1bd</td>\n",
              "      <td>1</td>\n",
              "      <td>credit_card</td>\n",
              "      <td>1</td>\n",
              "      <td>65.71</td>\n",
              "    </tr>\n",
              "    <tr>\n",
              "      <th>3</th>\n",
              "      <td>ba78997921bbcdc1373bb41e913ab953</td>\n",
              "      <td>1</td>\n",
              "      <td>credit_card</td>\n",
              "      <td>8</td>\n",
              "      <td>107.78</td>\n",
              "    </tr>\n",
              "    <tr>\n",
              "      <th>4</th>\n",
              "      <td>42fdf880ba16b47b59251dd489d4441a</td>\n",
              "      <td>1</td>\n",
              "      <td>credit_card</td>\n",
              "      <td>2</td>\n",
              "      <td>128.45</td>\n",
              "    </tr>\n",
              "  </tbody>\n",
              "</table>\n",
              "</div>"
            ],
            "text/plain": [
              "                           order_id  payment_sequential payment_type  \\\n",
              "0  b81ef226f3fe1789b1e8b2acac839d17                   1  credit_card   \n",
              "1  a9810da82917af2d9aefd1278f1dcfa0                   1  credit_card   \n",
              "2  25e8ea4e93396b6fa0d3dd708e76c1bd                   1  credit_card   \n",
              "3  ba78997921bbcdc1373bb41e913ab953                   1  credit_card   \n",
              "4  42fdf880ba16b47b59251dd489d4441a                   1  credit_card   \n",
              "\n",
              "   payment_installments  payment_value  \n",
              "0                     8          99.33  \n",
              "1                     1          24.39  \n",
              "2                     1          65.71  \n",
              "3                     8         107.78  \n",
              "4                     2         128.45  "
            ]
          },
          "execution_count": 7,
          "metadata": {},
          "output_type": "execute_result"
        }
      ],
      "source": [
        "payments_df = pd.read_csv(\"dataset/olist_order_payments_dataset.csv\")\n",
        "payments_df.head()"
      ]
    },
    {
      "cell_type": "markdown",
      "metadata": {
        "id": "LasxR9vJK9At"
      },
      "source": [
        "### load data translations"
      ]
    },
    {
      "cell_type": "code",
      "execution_count": 8,
      "metadata": {
        "colab": {
          "base_uri": "https://localhost:8080/",
          "height": 206
        },
        "id": "5YK3MuizK9bn",
        "outputId": "a7e95d28-d13d-4e67-b980-240201a25a73"
      },
      "outputs": [
        {
          "data": {
            "text/html": [
              "<div>\n",
              "<style scoped>\n",
              "    .dataframe tbody tr th:only-of-type {\n",
              "        vertical-align: middle;\n",
              "    }\n",
              "\n",
              "    .dataframe tbody tr th {\n",
              "        vertical-align: top;\n",
              "    }\n",
              "\n",
              "    .dataframe thead th {\n",
              "        text-align: right;\n",
              "    }\n",
              "</style>\n",
              "<table border=\"1\" class=\"dataframe\">\n",
              "  <thead>\n",
              "    <tr style=\"text-align: right;\">\n",
              "      <th></th>\n",
              "      <th>product_category_name</th>\n",
              "      <th>product_category_name_english</th>\n",
              "    </tr>\n",
              "  </thead>\n",
              "  <tbody>\n",
              "    <tr>\n",
              "      <th>0</th>\n",
              "      <td>beleza_saude</td>\n",
              "      <td>health_beauty</td>\n",
              "    </tr>\n",
              "    <tr>\n",
              "      <th>1</th>\n",
              "      <td>informatica_acessorios</td>\n",
              "      <td>computers_accessories</td>\n",
              "    </tr>\n",
              "    <tr>\n",
              "      <th>2</th>\n",
              "      <td>automotivo</td>\n",
              "      <td>auto</td>\n",
              "    </tr>\n",
              "    <tr>\n",
              "      <th>3</th>\n",
              "      <td>cama_mesa_banho</td>\n",
              "      <td>bed_bath_table</td>\n",
              "    </tr>\n",
              "    <tr>\n",
              "      <th>4</th>\n",
              "      <td>moveis_decoracao</td>\n",
              "      <td>furniture_decor</td>\n",
              "    </tr>\n",
              "  </tbody>\n",
              "</table>\n",
              "</div>"
            ],
            "text/plain": [
              "    product_category_name product_category_name_english\n",
              "0            beleza_saude                 health_beauty\n",
              "1  informatica_acessorios         computers_accessories\n",
              "2              automotivo                          auto\n",
              "3         cama_mesa_banho                bed_bath_table\n",
              "4        moveis_decoracao               furniture_decor"
            ]
          },
          "execution_count": 8,
          "metadata": {},
          "output_type": "execute_result"
        }
      ],
      "source": [
        "translations_df = pd.read_csv(\"dataset/product_category_name_translation.csv\")\n",
        "translations_df.head()"
      ]
    },
    {
      "cell_type": "markdown",
      "metadata": {
        "id": "m8yB4_gyDgzU"
      },
      "source": [
        "## Assessing Data"
      ]
    },
    {
      "cell_type": "markdown",
      "metadata": {
        "id": "dvvSX3XjD9fF"
      },
      "source": [
        "### assess the data orders"
      ]
    },
    {
      "cell_type": "code",
      "execution_count": 9,
      "metadata": {
        "colab": {
          "base_uri": "https://localhost:8080/"
        },
        "id": "N3uQEGYUD_yP",
        "outputId": "0d154645-1750-4960-a52f-ec54ad2d2511"
      },
      "outputs": [
        {
          "name": "stdout",
          "output_type": "stream",
          "text": [
            "<class 'pandas.core.frame.DataFrame'>\n",
            "RangeIndex: 99441 entries, 0 to 99440\n",
            "Data columns (total 8 columns):\n",
            " #   Column                         Non-Null Count  Dtype \n",
            "---  ------                         --------------  ----- \n",
            " 0   order_id                       99441 non-null  object\n",
            " 1   customer_id                    99441 non-null  object\n",
            " 2   order_status                   99441 non-null  object\n",
            " 3   order_purchase_timestamp       99441 non-null  object\n",
            " 4   order_approved_at              99281 non-null  object\n",
            " 5   order_delivered_carrier_date   97658 non-null  object\n",
            " 6   order_delivered_customer_date  96476 non-null  object\n",
            " 7   order_estimated_delivery_date  99441 non-null  object\n",
            "dtypes: object(8)\n",
            "memory usage: 6.1+ MB\n"
          ]
        }
      ],
      "source": [
        "orders_df.info()"
      ]
    },
    {
      "cell_type": "code",
      "execution_count": 10,
      "metadata": {
        "colab": {
          "base_uri": "https://localhost:8080/",
          "height": 335
        },
        "id": "Em7LeDeHHI0G",
        "outputId": "1c37d10c-fae1-4fcc-e849-fbf7ae441397"
      },
      "outputs": [
        {
          "data": {
            "text/plain": [
              "order_id                            0\n",
              "customer_id                         0\n",
              "order_status                        0\n",
              "order_purchase_timestamp            0\n",
              "order_approved_at                 160\n",
              "order_delivered_carrier_date     1783\n",
              "order_delivered_customer_date    2965\n",
              "order_estimated_delivery_date       0\n",
              "dtype: int64"
            ]
          },
          "execution_count": 10,
          "metadata": {},
          "output_type": "execute_result"
        }
      ],
      "source": [
        "orders_df.isna().sum()"
      ]
    },
    {
      "cell_type": "code",
      "execution_count": 11,
      "metadata": {
        "colab": {
          "base_uri": "https://localhost:8080/"
        },
        "id": "Bf-tJXcwH63D",
        "outputId": "29cf4813-6d97-4222-a4ee-68eed82d05be"
      },
      "outputs": [
        {
          "name": "stdout",
          "output_type": "stream",
          "text": [
            "Jumlah duplikasi:  0\n"
          ]
        }
      ],
      "source": [
        "print(\"Jumlah duplikasi: \", orders_df.duplicated().sum())"
      ]
    },
    {
      "cell_type": "code",
      "execution_count": 12,
      "metadata": {
        "colab": {
          "base_uri": "https://localhost:8080/",
          "height": 175
        },
        "id": "Z-L7cVN0H7Xm",
        "outputId": "56eed136-c3e7-47f3-ec09-1172fc5780ff"
      },
      "outputs": [
        {
          "data": {
            "text/html": [
              "<div>\n",
              "<style scoped>\n",
              "    .dataframe tbody tr th:only-of-type {\n",
              "        vertical-align: middle;\n",
              "    }\n",
              "\n",
              "    .dataframe tbody tr th {\n",
              "        vertical-align: top;\n",
              "    }\n",
              "\n",
              "    .dataframe thead th {\n",
              "        text-align: right;\n",
              "    }\n",
              "</style>\n",
              "<table border=\"1\" class=\"dataframe\">\n",
              "  <thead>\n",
              "    <tr style=\"text-align: right;\">\n",
              "      <th></th>\n",
              "      <th>order_id</th>\n",
              "      <th>customer_id</th>\n",
              "      <th>order_status</th>\n",
              "      <th>order_purchase_timestamp</th>\n",
              "      <th>order_approved_at</th>\n",
              "      <th>order_delivered_carrier_date</th>\n",
              "      <th>order_delivered_customer_date</th>\n",
              "      <th>order_estimated_delivery_date</th>\n",
              "    </tr>\n",
              "  </thead>\n",
              "  <tbody>\n",
              "    <tr>\n",
              "      <th>count</th>\n",
              "      <td>99441</td>\n",
              "      <td>99441</td>\n",
              "      <td>99441</td>\n",
              "      <td>99441</td>\n",
              "      <td>99281</td>\n",
              "      <td>97658</td>\n",
              "      <td>96476</td>\n",
              "      <td>99441</td>\n",
              "    </tr>\n",
              "    <tr>\n",
              "      <th>unique</th>\n",
              "      <td>99441</td>\n",
              "      <td>99441</td>\n",
              "      <td>8</td>\n",
              "      <td>98875</td>\n",
              "      <td>90733</td>\n",
              "      <td>81018</td>\n",
              "      <td>95664</td>\n",
              "      <td>459</td>\n",
              "    </tr>\n",
              "    <tr>\n",
              "      <th>top</th>\n",
              "      <td>e481f51cbdc54678b7cc49136f2d6af7</td>\n",
              "      <td>9ef432eb6251297304e76186b10a928d</td>\n",
              "      <td>delivered</td>\n",
              "      <td>2018-04-11 10:48:14</td>\n",
              "      <td>2018-02-27 04:31:10</td>\n",
              "      <td>2018-05-09 15:48:00</td>\n",
              "      <td>2018-05-08 23:38:46</td>\n",
              "      <td>2017-12-20 00:00:00</td>\n",
              "    </tr>\n",
              "    <tr>\n",
              "      <th>freq</th>\n",
              "      <td>1</td>\n",
              "      <td>1</td>\n",
              "      <td>96478</td>\n",
              "      <td>3</td>\n",
              "      <td>9</td>\n",
              "      <td>47</td>\n",
              "      <td>3</td>\n",
              "      <td>522</td>\n",
              "    </tr>\n",
              "  </tbody>\n",
              "</table>\n",
              "</div>"
            ],
            "text/plain": [
              "                                order_id                       customer_id  \\\n",
              "count                              99441                             99441   \n",
              "unique                             99441                             99441   \n",
              "top     e481f51cbdc54678b7cc49136f2d6af7  9ef432eb6251297304e76186b10a928d   \n",
              "freq                                   1                                 1   \n",
              "\n",
              "       order_status order_purchase_timestamp    order_approved_at  \\\n",
              "count         99441                    99441                99281   \n",
              "unique            8                    98875                90733   \n",
              "top       delivered      2018-04-11 10:48:14  2018-02-27 04:31:10   \n",
              "freq          96478                        3                    9   \n",
              "\n",
              "       order_delivered_carrier_date order_delivered_customer_date  \\\n",
              "count                         97658                         96476   \n",
              "unique                        81018                         95664   \n",
              "top             2018-05-09 15:48:00           2018-05-08 23:38:46   \n",
              "freq                             47                             3   \n",
              "\n",
              "       order_estimated_delivery_date  \n",
              "count                          99441  \n",
              "unique                           459  \n",
              "top              2017-12-20 00:00:00  \n",
              "freq                             522  "
            ]
          },
          "execution_count": 12,
          "metadata": {},
          "output_type": "execute_result"
        }
      ],
      "source": [
        "orders_df.describe()"
      ]
    },
    {
      "cell_type": "markdown",
      "metadata": {
        "id": "ZpB2jSl6IkF9"
      },
      "source": [
        "### assess the data order items"
      ]
    },
    {
      "cell_type": "code",
      "execution_count": 13,
      "metadata": {
        "colab": {
          "base_uri": "https://localhost:8080/"
        },
        "id": "7GjXI4ziH7v0",
        "outputId": "f694a456-d1bd-4b32-9e18-18057eb99f3d"
      },
      "outputs": [
        {
          "name": "stdout",
          "output_type": "stream",
          "text": [
            "<class 'pandas.core.frame.DataFrame'>\n",
            "RangeIndex: 112650 entries, 0 to 112649\n",
            "Data columns (total 7 columns):\n",
            " #   Column               Non-Null Count   Dtype  \n",
            "---  ------               --------------   -----  \n",
            " 0   order_id             112650 non-null  object \n",
            " 1   order_item_id        112650 non-null  int64  \n",
            " 2   product_id           112650 non-null  object \n",
            " 3   seller_id            112650 non-null  object \n",
            " 4   shipping_limit_date  112650 non-null  object \n",
            " 5   price                112650 non-null  float64\n",
            " 6   freight_value        112650 non-null  float64\n",
            "dtypes: float64(2), int64(1), object(4)\n",
            "memory usage: 6.0+ MB\n"
          ]
        }
      ],
      "source": [
        "items_df.info()"
      ]
    },
    {
      "cell_type": "code",
      "execution_count": 14,
      "metadata": {
        "colab": {
          "base_uri": "https://localhost:8080/",
          "height": 304
        },
        "id": "oQEFNXIKH8FK",
        "outputId": "d96b03df-a550-48ff-be34-cb5bebc83fbb"
      },
      "outputs": [
        {
          "data": {
            "text/plain": [
              "order_id               0\n",
              "order_item_id          0\n",
              "product_id             0\n",
              "seller_id              0\n",
              "shipping_limit_date    0\n",
              "price                  0\n",
              "freight_value          0\n",
              "dtype: int64"
            ]
          },
          "execution_count": 14,
          "metadata": {},
          "output_type": "execute_result"
        }
      ],
      "source": [
        "items_df.isna().sum()"
      ]
    },
    {
      "cell_type": "code",
      "execution_count": 15,
      "metadata": {
        "colab": {
          "base_uri": "https://localhost:8080/"
        },
        "id": "6IylX2yQIkwq",
        "outputId": "3880ef73-6953-4246-b481-6b72231a99cd"
      },
      "outputs": [
        {
          "name": "stdout",
          "output_type": "stream",
          "text": [
            "Jumlah duplikasi:  0\n"
          ]
        }
      ],
      "source": [
        "print(\"Jumlah duplikasi: \", items_df.duplicated().sum())"
      ]
    },
    {
      "cell_type": "code",
      "execution_count": 16,
      "metadata": {
        "colab": {
          "base_uri": "https://localhost:8080/",
          "height": 301
        },
        "id": "j-OwTZFKIlKb",
        "outputId": "da835b20-dcd6-45fb-e96b-82b386be2d0c"
      },
      "outputs": [
        {
          "data": {
            "text/html": [
              "<div>\n",
              "<style scoped>\n",
              "    .dataframe tbody tr th:only-of-type {\n",
              "        vertical-align: middle;\n",
              "    }\n",
              "\n",
              "    .dataframe tbody tr th {\n",
              "        vertical-align: top;\n",
              "    }\n",
              "\n",
              "    .dataframe thead th {\n",
              "        text-align: right;\n",
              "    }\n",
              "</style>\n",
              "<table border=\"1\" class=\"dataframe\">\n",
              "  <thead>\n",
              "    <tr style=\"text-align: right;\">\n",
              "      <th></th>\n",
              "      <th>order_item_id</th>\n",
              "      <th>price</th>\n",
              "      <th>freight_value</th>\n",
              "    </tr>\n",
              "  </thead>\n",
              "  <tbody>\n",
              "    <tr>\n",
              "      <th>count</th>\n",
              "      <td>112650.000000</td>\n",
              "      <td>112650.000000</td>\n",
              "      <td>112650.000000</td>\n",
              "    </tr>\n",
              "    <tr>\n",
              "      <th>mean</th>\n",
              "      <td>1.197834</td>\n",
              "      <td>120.653739</td>\n",
              "      <td>19.990320</td>\n",
              "    </tr>\n",
              "    <tr>\n",
              "      <th>std</th>\n",
              "      <td>0.705124</td>\n",
              "      <td>183.633928</td>\n",
              "      <td>15.806405</td>\n",
              "    </tr>\n",
              "    <tr>\n",
              "      <th>min</th>\n",
              "      <td>1.000000</td>\n",
              "      <td>0.850000</td>\n",
              "      <td>0.000000</td>\n",
              "    </tr>\n",
              "    <tr>\n",
              "      <th>25%</th>\n",
              "      <td>1.000000</td>\n",
              "      <td>39.900000</td>\n",
              "      <td>13.080000</td>\n",
              "    </tr>\n",
              "    <tr>\n",
              "      <th>50%</th>\n",
              "      <td>1.000000</td>\n",
              "      <td>74.990000</td>\n",
              "      <td>16.260000</td>\n",
              "    </tr>\n",
              "    <tr>\n",
              "      <th>75%</th>\n",
              "      <td>1.000000</td>\n",
              "      <td>134.900000</td>\n",
              "      <td>21.150000</td>\n",
              "    </tr>\n",
              "    <tr>\n",
              "      <th>max</th>\n",
              "      <td>21.000000</td>\n",
              "      <td>6735.000000</td>\n",
              "      <td>409.680000</td>\n",
              "    </tr>\n",
              "  </tbody>\n",
              "</table>\n",
              "</div>"
            ],
            "text/plain": [
              "       order_item_id          price  freight_value\n",
              "count  112650.000000  112650.000000  112650.000000\n",
              "mean        1.197834     120.653739      19.990320\n",
              "std         0.705124     183.633928      15.806405\n",
              "min         1.000000       0.850000       0.000000\n",
              "25%         1.000000      39.900000      13.080000\n",
              "50%         1.000000      74.990000      16.260000\n",
              "75%         1.000000     134.900000      21.150000\n",
              "max        21.000000    6735.000000     409.680000"
            ]
          },
          "execution_count": 16,
          "metadata": {},
          "output_type": "execute_result"
        }
      ],
      "source": [
        "items_df.describe()"
      ]
    },
    {
      "cell_type": "markdown",
      "metadata": {
        "id": "zC0pS9N4Imuu"
      },
      "source": [
        "### assess the data products"
      ]
    },
    {
      "cell_type": "code",
      "execution_count": 17,
      "metadata": {
        "colab": {
          "base_uri": "https://localhost:8080/"
        },
        "id": "Yh5aGEmCInLn",
        "outputId": "bf7f9ca3-9aa3-4ab5-8035-3b494e2f89d4"
      },
      "outputs": [
        {
          "name": "stdout",
          "output_type": "stream",
          "text": [
            "<class 'pandas.core.frame.DataFrame'>\n",
            "RangeIndex: 32951 entries, 0 to 32950\n",
            "Data columns (total 9 columns):\n",
            " #   Column                      Non-Null Count  Dtype  \n",
            "---  ------                      --------------  -----  \n",
            " 0   product_id                  32951 non-null  object \n",
            " 1   product_category_name       32341 non-null  object \n",
            " 2   product_name_lenght         32341 non-null  float64\n",
            " 3   product_description_lenght  32341 non-null  float64\n",
            " 4   product_photos_qty          32341 non-null  float64\n",
            " 5   product_weight_g            32949 non-null  float64\n",
            " 6   product_length_cm           32949 non-null  float64\n",
            " 7   product_height_cm           32949 non-null  float64\n",
            " 8   product_width_cm            32949 non-null  float64\n",
            "dtypes: float64(7), object(2)\n",
            "memory usage: 2.3+ MB\n"
          ]
        }
      ],
      "source": [
        "products_df.info()"
      ]
    },
    {
      "cell_type": "code",
      "execution_count": 18,
      "metadata": {
        "colab": {
          "base_uri": "https://localhost:8080/",
          "height": 367
        },
        "id": "pGLuwr-xIoaw",
        "outputId": "c6166b7f-b575-4270-9475-751fded2fbee"
      },
      "outputs": [
        {
          "data": {
            "text/plain": [
              "product_id                      0\n",
              "product_category_name         610\n",
              "product_name_lenght           610\n",
              "product_description_lenght    610\n",
              "product_photos_qty            610\n",
              "product_weight_g                2\n",
              "product_length_cm               2\n",
              "product_height_cm               2\n",
              "product_width_cm                2\n",
              "dtype: int64"
            ]
          },
          "execution_count": 18,
          "metadata": {},
          "output_type": "execute_result"
        }
      ],
      "source": [
        "products_df.isna().sum()"
      ]
    },
    {
      "cell_type": "code",
      "execution_count": 19,
      "metadata": {
        "colab": {
          "base_uri": "https://localhost:8080/"
        },
        "id": "9PbTPIQBIovF",
        "outputId": "54b86c97-a820-4a75-b460-671a0542145a"
      },
      "outputs": [
        {
          "name": "stdout",
          "output_type": "stream",
          "text": [
            "Jumlah duplikasi:  0\n"
          ]
        }
      ],
      "source": [
        "print(\"Jumlah duplikasi: \", products_df.duplicated().sum())"
      ]
    },
    {
      "cell_type": "code",
      "execution_count": 20,
      "metadata": {
        "colab": {
          "base_uri": "https://localhost:8080/",
          "height": 301
        },
        "id": "ufjdfK2KIpFN",
        "outputId": "deaadd2d-0d5a-4951-ebac-b9bf4ddfed6f"
      },
      "outputs": [
        {
          "data": {
            "text/html": [
              "<div>\n",
              "<style scoped>\n",
              "    .dataframe tbody tr th:only-of-type {\n",
              "        vertical-align: middle;\n",
              "    }\n",
              "\n",
              "    .dataframe tbody tr th {\n",
              "        vertical-align: top;\n",
              "    }\n",
              "\n",
              "    .dataframe thead th {\n",
              "        text-align: right;\n",
              "    }\n",
              "</style>\n",
              "<table border=\"1\" class=\"dataframe\">\n",
              "  <thead>\n",
              "    <tr style=\"text-align: right;\">\n",
              "      <th></th>\n",
              "      <th>product_name_lenght</th>\n",
              "      <th>product_description_lenght</th>\n",
              "      <th>product_photos_qty</th>\n",
              "      <th>product_weight_g</th>\n",
              "      <th>product_length_cm</th>\n",
              "      <th>product_height_cm</th>\n",
              "      <th>product_width_cm</th>\n",
              "    </tr>\n",
              "  </thead>\n",
              "  <tbody>\n",
              "    <tr>\n",
              "      <th>count</th>\n",
              "      <td>32341.000000</td>\n",
              "      <td>32341.000000</td>\n",
              "      <td>32341.000000</td>\n",
              "      <td>32949.000000</td>\n",
              "      <td>32949.000000</td>\n",
              "      <td>32949.000000</td>\n",
              "      <td>32949.000000</td>\n",
              "    </tr>\n",
              "    <tr>\n",
              "      <th>mean</th>\n",
              "      <td>48.476949</td>\n",
              "      <td>771.495285</td>\n",
              "      <td>2.188986</td>\n",
              "      <td>2276.472488</td>\n",
              "      <td>30.815078</td>\n",
              "      <td>16.937661</td>\n",
              "      <td>23.196728</td>\n",
              "    </tr>\n",
              "    <tr>\n",
              "      <th>std</th>\n",
              "      <td>10.245741</td>\n",
              "      <td>635.115225</td>\n",
              "      <td>1.736766</td>\n",
              "      <td>4282.038731</td>\n",
              "      <td>16.914458</td>\n",
              "      <td>13.637554</td>\n",
              "      <td>12.079047</td>\n",
              "    </tr>\n",
              "    <tr>\n",
              "      <th>min</th>\n",
              "      <td>5.000000</td>\n",
              "      <td>4.000000</td>\n",
              "      <td>1.000000</td>\n",
              "      <td>0.000000</td>\n",
              "      <td>7.000000</td>\n",
              "      <td>2.000000</td>\n",
              "      <td>6.000000</td>\n",
              "    </tr>\n",
              "    <tr>\n",
              "      <th>25%</th>\n",
              "      <td>42.000000</td>\n",
              "      <td>339.000000</td>\n",
              "      <td>1.000000</td>\n",
              "      <td>300.000000</td>\n",
              "      <td>18.000000</td>\n",
              "      <td>8.000000</td>\n",
              "      <td>15.000000</td>\n",
              "    </tr>\n",
              "    <tr>\n",
              "      <th>50%</th>\n",
              "      <td>51.000000</td>\n",
              "      <td>595.000000</td>\n",
              "      <td>1.000000</td>\n",
              "      <td>700.000000</td>\n",
              "      <td>25.000000</td>\n",
              "      <td>13.000000</td>\n",
              "      <td>20.000000</td>\n",
              "    </tr>\n",
              "    <tr>\n",
              "      <th>75%</th>\n",
              "      <td>57.000000</td>\n",
              "      <td>972.000000</td>\n",
              "      <td>3.000000</td>\n",
              "      <td>1900.000000</td>\n",
              "      <td>38.000000</td>\n",
              "      <td>21.000000</td>\n",
              "      <td>30.000000</td>\n",
              "    </tr>\n",
              "    <tr>\n",
              "      <th>max</th>\n",
              "      <td>76.000000</td>\n",
              "      <td>3992.000000</td>\n",
              "      <td>20.000000</td>\n",
              "      <td>40425.000000</td>\n",
              "      <td>105.000000</td>\n",
              "      <td>105.000000</td>\n",
              "      <td>118.000000</td>\n",
              "    </tr>\n",
              "  </tbody>\n",
              "</table>\n",
              "</div>"
            ],
            "text/plain": [
              "       product_name_lenght  product_description_lenght  product_photos_qty  \\\n",
              "count         32341.000000                32341.000000        32341.000000   \n",
              "mean             48.476949                  771.495285            2.188986   \n",
              "std              10.245741                  635.115225            1.736766   \n",
              "min               5.000000                    4.000000            1.000000   \n",
              "25%              42.000000                  339.000000            1.000000   \n",
              "50%              51.000000                  595.000000            1.000000   \n",
              "75%              57.000000                  972.000000            3.000000   \n",
              "max              76.000000                 3992.000000           20.000000   \n",
              "\n",
              "       product_weight_g  product_length_cm  product_height_cm  \\\n",
              "count      32949.000000       32949.000000       32949.000000   \n",
              "mean        2276.472488          30.815078          16.937661   \n",
              "std         4282.038731          16.914458          13.637554   \n",
              "min            0.000000           7.000000           2.000000   \n",
              "25%          300.000000          18.000000           8.000000   \n",
              "50%          700.000000          25.000000          13.000000   \n",
              "75%         1900.000000          38.000000          21.000000   \n",
              "max        40425.000000         105.000000         105.000000   \n",
              "\n",
              "       product_width_cm  \n",
              "count      32949.000000  \n",
              "mean          23.196728  \n",
              "std           12.079047  \n",
              "min            6.000000  \n",
              "25%           15.000000  \n",
              "50%           20.000000  \n",
              "75%           30.000000  \n",
              "max          118.000000  "
            ]
          },
          "execution_count": 20,
          "metadata": {},
          "output_type": "execute_result"
        }
      ],
      "source": [
        "products_df.describe()"
      ]
    },
    {
      "cell_type": "markdown",
      "metadata": {
        "id": "CauImCtJIpbC"
      },
      "source": [
        "### assess the data reviews"
      ]
    },
    {
      "cell_type": "code",
      "execution_count": 21,
      "metadata": {
        "colab": {
          "base_uri": "https://localhost:8080/"
        },
        "id": "vxBjsiU9Ip4Q",
        "outputId": "f693add3-158f-4bbe-9dd9-abc67a114130"
      },
      "outputs": [
        {
          "name": "stdout",
          "output_type": "stream",
          "text": [
            "<class 'pandas.core.frame.DataFrame'>\n",
            "RangeIndex: 99224 entries, 0 to 99223\n",
            "Data columns (total 7 columns):\n",
            " #   Column                   Non-Null Count  Dtype \n",
            "---  ------                   --------------  ----- \n",
            " 0   review_id                99224 non-null  object\n",
            " 1   order_id                 99224 non-null  object\n",
            " 2   review_score             99224 non-null  int64 \n",
            " 3   review_comment_title     11568 non-null  object\n",
            " 4   review_comment_message   40977 non-null  object\n",
            " 5   review_creation_date     99224 non-null  object\n",
            " 6   review_answer_timestamp  99224 non-null  object\n",
            "dtypes: int64(1), object(6)\n",
            "memory usage: 5.3+ MB\n"
          ]
        }
      ],
      "source": [
        "reviews_df.info()"
      ]
    },
    {
      "cell_type": "code",
      "execution_count": 22,
      "metadata": {
        "colab": {
          "base_uri": "https://localhost:8080/",
          "height": 304
        },
        "id": "07OnBNQ1IqRg",
        "outputId": "2f202d18-7d48-473a-dd22-0ebd39069473"
      },
      "outputs": [
        {
          "data": {
            "text/plain": [
              "review_id                      0\n",
              "order_id                       0\n",
              "review_score                   0\n",
              "review_comment_title       87656\n",
              "review_comment_message     58247\n",
              "review_creation_date           0\n",
              "review_answer_timestamp        0\n",
              "dtype: int64"
            ]
          },
          "execution_count": 22,
          "metadata": {},
          "output_type": "execute_result"
        }
      ],
      "source": [
        "reviews_df.isna().sum()"
      ]
    },
    {
      "cell_type": "code",
      "execution_count": 23,
      "metadata": {
        "colab": {
          "base_uri": "https://localhost:8080/"
        },
        "id": "YCZnXx2DIqlT",
        "outputId": "4bb32213-0c87-4d3e-dcfa-e45e49308dbb"
      },
      "outputs": [
        {
          "name": "stdout",
          "output_type": "stream",
          "text": [
            "Jumlah duplikasi:  0\n"
          ]
        }
      ],
      "source": [
        "print(\"Jumlah duplikasi: \", reviews_df.duplicated().sum())"
      ]
    },
    {
      "cell_type": "code",
      "execution_count": 24,
      "metadata": {
        "colab": {
          "base_uri": "https://localhost:8080/",
          "height": 301
        },
        "id": "n7JvwSebIq9A",
        "outputId": "b07f4a43-d2e3-4a36-849c-4a9ccfd3d651"
      },
      "outputs": [
        {
          "data": {
            "text/html": [
              "<div>\n",
              "<style scoped>\n",
              "    .dataframe tbody tr th:only-of-type {\n",
              "        vertical-align: middle;\n",
              "    }\n",
              "\n",
              "    .dataframe tbody tr th {\n",
              "        vertical-align: top;\n",
              "    }\n",
              "\n",
              "    .dataframe thead th {\n",
              "        text-align: right;\n",
              "    }\n",
              "</style>\n",
              "<table border=\"1\" class=\"dataframe\">\n",
              "  <thead>\n",
              "    <tr style=\"text-align: right;\">\n",
              "      <th></th>\n",
              "      <th>review_score</th>\n",
              "    </tr>\n",
              "  </thead>\n",
              "  <tbody>\n",
              "    <tr>\n",
              "      <th>count</th>\n",
              "      <td>99224.000000</td>\n",
              "    </tr>\n",
              "    <tr>\n",
              "      <th>mean</th>\n",
              "      <td>4.086421</td>\n",
              "    </tr>\n",
              "    <tr>\n",
              "      <th>std</th>\n",
              "      <td>1.347579</td>\n",
              "    </tr>\n",
              "    <tr>\n",
              "      <th>min</th>\n",
              "      <td>1.000000</td>\n",
              "    </tr>\n",
              "    <tr>\n",
              "      <th>25%</th>\n",
              "      <td>4.000000</td>\n",
              "    </tr>\n",
              "    <tr>\n",
              "      <th>50%</th>\n",
              "      <td>5.000000</td>\n",
              "    </tr>\n",
              "    <tr>\n",
              "      <th>75%</th>\n",
              "      <td>5.000000</td>\n",
              "    </tr>\n",
              "    <tr>\n",
              "      <th>max</th>\n",
              "      <td>5.000000</td>\n",
              "    </tr>\n",
              "  </tbody>\n",
              "</table>\n",
              "</div>"
            ],
            "text/plain": [
              "       review_score\n",
              "count  99224.000000\n",
              "mean       4.086421\n",
              "std        1.347579\n",
              "min        1.000000\n",
              "25%        4.000000\n",
              "50%        5.000000\n",
              "75%        5.000000\n",
              "max        5.000000"
            ]
          },
          "execution_count": 24,
          "metadata": {},
          "output_type": "execute_result"
        }
      ],
      "source": [
        "reviews_df.describe()"
      ]
    },
    {
      "cell_type": "markdown",
      "metadata": {
        "id": "HPE-IenQIr7P"
      },
      "source": [
        "### assess the data sellers"
      ]
    },
    {
      "cell_type": "code",
      "execution_count": 25,
      "metadata": {
        "colab": {
          "base_uri": "https://localhost:8080/"
        },
        "id": "2V2_3ZWyIsZc",
        "outputId": "fdce1f69-7427-420d-bc5f-dda31df6c686"
      },
      "outputs": [
        {
          "name": "stdout",
          "output_type": "stream",
          "text": [
            "<class 'pandas.core.frame.DataFrame'>\n",
            "RangeIndex: 3095 entries, 0 to 3094\n",
            "Data columns (total 4 columns):\n",
            " #   Column                  Non-Null Count  Dtype \n",
            "---  ------                  --------------  ----- \n",
            " 0   seller_id               3095 non-null   object\n",
            " 1   seller_zip_code_prefix  3095 non-null   int64 \n",
            " 2   seller_city             3095 non-null   object\n",
            " 3   seller_state            3095 non-null   object\n",
            "dtypes: int64(1), object(3)\n",
            "memory usage: 96.8+ KB\n"
          ]
        }
      ],
      "source": [
        "sellers_df.info()"
      ]
    },
    {
      "cell_type": "code",
      "execution_count": 26,
      "metadata": {
        "colab": {
          "base_uri": "https://localhost:8080/",
          "height": 210
        },
        "id": "LZPE3mi2IswY",
        "outputId": "fa99b7b0-bde1-41e9-d459-d7d07a308c47"
      },
      "outputs": [
        {
          "data": {
            "text/plain": [
              "seller_id                 0\n",
              "seller_zip_code_prefix    0\n",
              "seller_city               0\n",
              "seller_state              0\n",
              "dtype: int64"
            ]
          },
          "execution_count": 26,
          "metadata": {},
          "output_type": "execute_result"
        }
      ],
      "source": [
        "sellers_df.isna().sum()"
      ]
    },
    {
      "cell_type": "code",
      "execution_count": 27,
      "metadata": {
        "colab": {
          "base_uri": "https://localhost:8080/"
        },
        "id": "BaQ7Y12TItI1",
        "outputId": "24cfe710-1ddf-4350-bbe7-7c4fedce87e6"
      },
      "outputs": [
        {
          "name": "stdout",
          "output_type": "stream",
          "text": [
            "Jumlah duplikasi:  0\n"
          ]
        }
      ],
      "source": [
        "print(\"Jumlah duplikasi: \", sellers_df.duplicated().sum())"
      ]
    },
    {
      "cell_type": "code",
      "execution_count": 28,
      "metadata": {
        "colab": {
          "base_uri": "https://localhost:8080/",
          "height": 301
        },
        "id": "M64r4TpcItds",
        "outputId": "7755c7dc-9db1-4a65-8270-9d345401e294"
      },
      "outputs": [
        {
          "data": {
            "text/html": [
              "<div>\n",
              "<style scoped>\n",
              "    .dataframe tbody tr th:only-of-type {\n",
              "        vertical-align: middle;\n",
              "    }\n",
              "\n",
              "    .dataframe tbody tr th {\n",
              "        vertical-align: top;\n",
              "    }\n",
              "\n",
              "    .dataframe thead th {\n",
              "        text-align: right;\n",
              "    }\n",
              "</style>\n",
              "<table border=\"1\" class=\"dataframe\">\n",
              "  <thead>\n",
              "    <tr style=\"text-align: right;\">\n",
              "      <th></th>\n",
              "      <th>seller_zip_code_prefix</th>\n",
              "    </tr>\n",
              "  </thead>\n",
              "  <tbody>\n",
              "    <tr>\n",
              "      <th>count</th>\n",
              "      <td>3095.000000</td>\n",
              "    </tr>\n",
              "    <tr>\n",
              "      <th>mean</th>\n",
              "      <td>32291.059451</td>\n",
              "    </tr>\n",
              "    <tr>\n",
              "      <th>std</th>\n",
              "      <td>32713.453830</td>\n",
              "    </tr>\n",
              "    <tr>\n",
              "      <th>min</th>\n",
              "      <td>1001.000000</td>\n",
              "    </tr>\n",
              "    <tr>\n",
              "      <th>25%</th>\n",
              "      <td>7093.500000</td>\n",
              "    </tr>\n",
              "    <tr>\n",
              "      <th>50%</th>\n",
              "      <td>14940.000000</td>\n",
              "    </tr>\n",
              "    <tr>\n",
              "      <th>75%</th>\n",
              "      <td>64552.500000</td>\n",
              "    </tr>\n",
              "    <tr>\n",
              "      <th>max</th>\n",
              "      <td>99730.000000</td>\n",
              "    </tr>\n",
              "  </tbody>\n",
              "</table>\n",
              "</div>"
            ],
            "text/plain": [
              "       seller_zip_code_prefix\n",
              "count             3095.000000\n",
              "mean             32291.059451\n",
              "std              32713.453830\n",
              "min               1001.000000\n",
              "25%               7093.500000\n",
              "50%              14940.000000\n",
              "75%              64552.500000\n",
              "max              99730.000000"
            ]
          },
          "execution_count": 28,
          "metadata": {},
          "output_type": "execute_result"
        }
      ],
      "source": [
        "sellers_df.describe()"
      ]
    },
    {
      "cell_type": "markdown",
      "metadata": {
        "id": "-U5U5VPiIwHt"
      },
      "source": [
        "### assess the data payments"
      ]
    },
    {
      "cell_type": "code",
      "execution_count": 29,
      "metadata": {
        "colab": {
          "base_uri": "https://localhost:8080/"
        },
        "id": "vkDS_s1sIwhg",
        "outputId": "5c5d812d-2939-4d78-aad0-281c298786db"
      },
      "outputs": [
        {
          "name": "stdout",
          "output_type": "stream",
          "text": [
            "<class 'pandas.core.frame.DataFrame'>\n",
            "RangeIndex: 103886 entries, 0 to 103885\n",
            "Data columns (total 5 columns):\n",
            " #   Column                Non-Null Count   Dtype  \n",
            "---  ------                --------------   -----  \n",
            " 0   order_id              103886 non-null  object \n",
            " 1   payment_sequential    103886 non-null  int64  \n",
            " 2   payment_type          103886 non-null  object \n",
            " 3   payment_installments  103886 non-null  int64  \n",
            " 4   payment_value         103886 non-null  float64\n",
            "dtypes: float64(1), int64(2), object(2)\n",
            "memory usage: 4.0+ MB\n"
          ]
        }
      ],
      "source": [
        "payments_df.info()"
      ]
    },
    {
      "cell_type": "code",
      "execution_count": 30,
      "metadata": {
        "colab": {
          "base_uri": "https://localhost:8080/",
          "height": 241
        },
        "id": "fuOzxf6FIw3o",
        "outputId": "5985f028-e078-42f9-e0b1-07d8ae86aae1"
      },
      "outputs": [
        {
          "data": {
            "text/plain": [
              "order_id                0\n",
              "payment_sequential      0\n",
              "payment_type            0\n",
              "payment_installments    0\n",
              "payment_value           0\n",
              "dtype: int64"
            ]
          },
          "execution_count": 30,
          "metadata": {},
          "output_type": "execute_result"
        }
      ],
      "source": [
        "payments_df.isna().sum()"
      ]
    },
    {
      "cell_type": "code",
      "execution_count": 31,
      "metadata": {
        "colab": {
          "base_uri": "https://localhost:8080/"
        },
        "id": "b1JTUsrJIxRL",
        "outputId": "e99f2751-b217-4aca-e7a4-5a4073639631"
      },
      "outputs": [
        {
          "name": "stdout",
          "output_type": "stream",
          "text": [
            "Jumlah duplikasi:  0\n"
          ]
        }
      ],
      "source": [
        "print(\"Jumlah duplikasi: \", payments_df.duplicated().sum())"
      ]
    },
    {
      "cell_type": "code",
      "execution_count": 32,
      "metadata": {
        "colab": {
          "base_uri": "https://localhost:8080/",
          "height": 301
        },
        "id": "rcOEox8JIx6i",
        "outputId": "82464e4d-6436-4d5d-98a8-306f9e9dd4d1"
      },
      "outputs": [
        {
          "data": {
            "text/html": [
              "<div>\n",
              "<style scoped>\n",
              "    .dataframe tbody tr th:only-of-type {\n",
              "        vertical-align: middle;\n",
              "    }\n",
              "\n",
              "    .dataframe tbody tr th {\n",
              "        vertical-align: top;\n",
              "    }\n",
              "\n",
              "    .dataframe thead th {\n",
              "        text-align: right;\n",
              "    }\n",
              "</style>\n",
              "<table border=\"1\" class=\"dataframe\">\n",
              "  <thead>\n",
              "    <tr style=\"text-align: right;\">\n",
              "      <th></th>\n",
              "      <th>payment_sequential</th>\n",
              "      <th>payment_installments</th>\n",
              "      <th>payment_value</th>\n",
              "    </tr>\n",
              "  </thead>\n",
              "  <tbody>\n",
              "    <tr>\n",
              "      <th>count</th>\n",
              "      <td>103886.000000</td>\n",
              "      <td>103886.000000</td>\n",
              "      <td>103886.000000</td>\n",
              "    </tr>\n",
              "    <tr>\n",
              "      <th>mean</th>\n",
              "      <td>1.092679</td>\n",
              "      <td>2.853349</td>\n",
              "      <td>154.100380</td>\n",
              "    </tr>\n",
              "    <tr>\n",
              "      <th>std</th>\n",
              "      <td>0.706584</td>\n",
              "      <td>2.687051</td>\n",
              "      <td>217.494064</td>\n",
              "    </tr>\n",
              "    <tr>\n",
              "      <th>min</th>\n",
              "      <td>1.000000</td>\n",
              "      <td>0.000000</td>\n",
              "      <td>0.000000</td>\n",
              "    </tr>\n",
              "    <tr>\n",
              "      <th>25%</th>\n",
              "      <td>1.000000</td>\n",
              "      <td>1.000000</td>\n",
              "      <td>56.790000</td>\n",
              "    </tr>\n",
              "    <tr>\n",
              "      <th>50%</th>\n",
              "      <td>1.000000</td>\n",
              "      <td>1.000000</td>\n",
              "      <td>100.000000</td>\n",
              "    </tr>\n",
              "    <tr>\n",
              "      <th>75%</th>\n",
              "      <td>1.000000</td>\n",
              "      <td>4.000000</td>\n",
              "      <td>171.837500</td>\n",
              "    </tr>\n",
              "    <tr>\n",
              "      <th>max</th>\n",
              "      <td>29.000000</td>\n",
              "      <td>24.000000</td>\n",
              "      <td>13664.080000</td>\n",
              "    </tr>\n",
              "  </tbody>\n",
              "</table>\n",
              "</div>"
            ],
            "text/plain": [
              "       payment_sequential  payment_installments  payment_value\n",
              "count       103886.000000         103886.000000  103886.000000\n",
              "mean             1.092679              2.853349     154.100380\n",
              "std              0.706584              2.687051     217.494064\n",
              "min              1.000000              0.000000       0.000000\n",
              "25%              1.000000              1.000000      56.790000\n",
              "50%              1.000000              1.000000     100.000000\n",
              "75%              1.000000              4.000000     171.837500\n",
              "max             29.000000             24.000000   13664.080000"
            ]
          },
          "execution_count": 32,
          "metadata": {},
          "output_type": "execute_result"
        }
      ],
      "source": [
        "payments_df.describe()"
      ]
    },
    {
      "cell_type": "markdown",
      "metadata": {
        "id": "PhYEN802Ls0q"
      },
      "source": [
        "### assess the data translations"
      ]
    },
    {
      "cell_type": "code",
      "execution_count": 33,
      "metadata": {
        "colab": {
          "base_uri": "https://localhost:8080/"
        },
        "id": "J2TZc81QL2hz",
        "outputId": "2866dc73-5db6-4088-dc0c-2fe0930e0e5f"
      },
      "outputs": [
        {
          "name": "stdout",
          "output_type": "stream",
          "text": [
            "<class 'pandas.core.frame.DataFrame'>\n",
            "RangeIndex: 71 entries, 0 to 70\n",
            "Data columns (total 2 columns):\n",
            " #   Column                         Non-Null Count  Dtype \n",
            "---  ------                         --------------  ----- \n",
            " 0   product_category_name          71 non-null     object\n",
            " 1   product_category_name_english  71 non-null     object\n",
            "dtypes: object(2)\n",
            "memory usage: 1.2+ KB\n"
          ]
        }
      ],
      "source": [
        "translations_df.info()"
      ]
    },
    {
      "cell_type": "code",
      "execution_count": 34,
      "metadata": {
        "colab": {
          "base_uri": "https://localhost:8080/",
          "height": 147
        },
        "id": "WB_m0HYtL29K",
        "outputId": "206c57c2-04a7-4cff-9b6e-dc7205b1e220"
      },
      "outputs": [
        {
          "data": {
            "text/plain": [
              "product_category_name            0\n",
              "product_category_name_english    0\n",
              "dtype: int64"
            ]
          },
          "execution_count": 34,
          "metadata": {},
          "output_type": "execute_result"
        }
      ],
      "source": [
        "translations_df.isna().sum()"
      ]
    },
    {
      "cell_type": "code",
      "execution_count": 35,
      "metadata": {
        "colab": {
          "base_uri": "https://localhost:8080/"
        },
        "id": "chyAW94qL3TV",
        "outputId": "186e9231-72a5-45ad-8ebc-dc6c0e974045"
      },
      "outputs": [
        {
          "name": "stdout",
          "output_type": "stream",
          "text": [
            "Jumlah duplikasi:  0\n"
          ]
        }
      ],
      "source": [
        "print(\"Jumlah duplikasi: \", translations_df.duplicated().sum())"
      ]
    },
    {
      "cell_type": "code",
      "execution_count": 36,
      "metadata": {
        "colab": {
          "base_uri": "https://localhost:8080/",
          "height": 175
        },
        "id": "ZcnpSvvhL3xg",
        "outputId": "bef5c6b9-c8e7-461a-91d5-ec0ff810fc4f"
      },
      "outputs": [
        {
          "data": {
            "text/html": [
              "<div>\n",
              "<style scoped>\n",
              "    .dataframe tbody tr th:only-of-type {\n",
              "        vertical-align: middle;\n",
              "    }\n",
              "\n",
              "    .dataframe tbody tr th {\n",
              "        vertical-align: top;\n",
              "    }\n",
              "\n",
              "    .dataframe thead th {\n",
              "        text-align: right;\n",
              "    }\n",
              "</style>\n",
              "<table border=\"1\" class=\"dataframe\">\n",
              "  <thead>\n",
              "    <tr style=\"text-align: right;\">\n",
              "      <th></th>\n",
              "      <th>product_category_name</th>\n",
              "      <th>product_category_name_english</th>\n",
              "    </tr>\n",
              "  </thead>\n",
              "  <tbody>\n",
              "    <tr>\n",
              "      <th>count</th>\n",
              "      <td>71</td>\n",
              "      <td>71</td>\n",
              "    </tr>\n",
              "    <tr>\n",
              "      <th>unique</th>\n",
              "      <td>71</td>\n",
              "      <td>71</td>\n",
              "    </tr>\n",
              "    <tr>\n",
              "      <th>top</th>\n",
              "      <td>beleza_saude</td>\n",
              "      <td>health_beauty</td>\n",
              "    </tr>\n",
              "    <tr>\n",
              "      <th>freq</th>\n",
              "      <td>1</td>\n",
              "      <td>1</td>\n",
              "    </tr>\n",
              "  </tbody>\n",
              "</table>\n",
              "</div>"
            ],
            "text/plain": [
              "       product_category_name product_category_name_english\n",
              "count                     71                            71\n",
              "unique                    71                            71\n",
              "top             beleza_saude                 health_beauty\n",
              "freq                       1                             1"
            ]
          },
          "execution_count": 36,
          "metadata": {},
          "output_type": "execute_result"
        }
      ],
      "source": [
        "translations_df.describe()"
      ]
    },
    {
      "cell_type": "markdown",
      "metadata": {
        "id": "7SAiZbxiDoPP"
      },
      "source": [
        "## Cleaning Data"
      ]
    },
    {
      "cell_type": "markdown",
      "metadata": {
        "id": "zFwBhaMgEBJ5"
      },
      "source": [
        "### clear data orders"
      ]
    },
    {
      "cell_type": "markdown",
      "metadata": {
        "id": "WWefuIUFge-Y"
      },
      "source": [
        "#### Menangani Mising Value"
      ]
    },
    {
      "cell_type": "code",
      "execution_count": 37,
      "metadata": {
        "colab": {
          "base_uri": "https://localhost:8080/",
          "height": 335
        },
        "id": "7eJn-Tx4qe0b",
        "outputId": "ff9d0bac-3b2c-483b-d2a6-adbedae68686"
      },
      "outputs": [
        {
          "data": {
            "text/plain": [
              "order_id                            0\n",
              "customer_id                         0\n",
              "order_status                        0\n",
              "order_purchase_timestamp            0\n",
              "order_approved_at                 160\n",
              "order_delivered_carrier_date     1783\n",
              "order_delivered_customer_date    2965\n",
              "order_estimated_delivery_date       0\n",
              "dtype: int64"
            ]
          },
          "execution_count": 37,
          "metadata": {},
          "output_type": "execute_result"
        }
      ],
      "source": [
        "orders_df.isna().sum()"
      ]
    },
    {
      "cell_type": "markdown",
      "metadata": {
        "id": "zFe24pNIe70I"
      },
      "source": [
        "##### Menangani Mising Value order_approved_at"
      ]
    },
    {
      "cell_type": "code",
      "execution_count": 38,
      "metadata": {
        "colab": {
          "base_uri": "https://localhost:8080/",
          "height": 424
        },
        "id": "Vpcb8UhTECLm",
        "outputId": "f8249867-e14b-4e93-8909-5faa48c6e5a2"
      },
      "outputs": [
        {
          "data": {
            "text/html": [
              "<div>\n",
              "<style scoped>\n",
              "    .dataframe tbody tr th:only-of-type {\n",
              "        vertical-align: middle;\n",
              "    }\n",
              "\n",
              "    .dataframe tbody tr th {\n",
              "        vertical-align: top;\n",
              "    }\n",
              "\n",
              "    .dataframe thead th {\n",
              "        text-align: right;\n",
              "    }\n",
              "</style>\n",
              "<table border=\"1\" class=\"dataframe\">\n",
              "  <thead>\n",
              "    <tr style=\"text-align: right;\">\n",
              "      <th></th>\n",
              "      <th>order_id</th>\n",
              "      <th>customer_id</th>\n",
              "      <th>order_status</th>\n",
              "      <th>order_purchase_timestamp</th>\n",
              "      <th>order_approved_at</th>\n",
              "      <th>order_delivered_carrier_date</th>\n",
              "      <th>order_delivered_customer_date</th>\n",
              "      <th>order_estimated_delivery_date</th>\n",
              "    </tr>\n",
              "  </thead>\n",
              "  <tbody>\n",
              "    <tr>\n",
              "      <th>1130</th>\n",
              "      <td>00b1cb0320190ca0daa2c88b35206009</td>\n",
              "      <td>3532ba38a3fd242259a514ac2b6ae6b6</td>\n",
              "      <td>canceled</td>\n",
              "      <td>2018-08-28 15:26:39</td>\n",
              "      <td>NaN</td>\n",
              "      <td>NaN</td>\n",
              "      <td>NaN</td>\n",
              "      <td>2018-09-12 00:00:00</td>\n",
              "    </tr>\n",
              "    <tr>\n",
              "      <th>1801</th>\n",
              "      <td>ed3efbd3a87bea76c2812c66a0b32219</td>\n",
              "      <td>191984a8ba4cbb2145acb4fe35b69664</td>\n",
              "      <td>canceled</td>\n",
              "      <td>2018-09-20 13:54:16</td>\n",
              "      <td>NaN</td>\n",
              "      <td>NaN</td>\n",
              "      <td>NaN</td>\n",
              "      <td>2018-10-17 00:00:00</td>\n",
              "    </tr>\n",
              "    <tr>\n",
              "      <th>1868</th>\n",
              "      <td>df8282afe61008dc26c6c31011474d02</td>\n",
              "      <td>aa797b187b5466bc6925aaaa4bb3bed1</td>\n",
              "      <td>canceled</td>\n",
              "      <td>2017-03-04 12:14:30</td>\n",
              "      <td>NaN</td>\n",
              "      <td>NaN</td>\n",
              "      <td>NaN</td>\n",
              "      <td>2017-04-10 00:00:00</td>\n",
              "    </tr>\n",
              "    <tr>\n",
              "      <th>2029</th>\n",
              "      <td>8d4c637f1accf7a88a4555f02741e606</td>\n",
              "      <td>b1dd715db389a2077f43174e7a675d07</td>\n",
              "      <td>canceled</td>\n",
              "      <td>2018-08-29 16:27:49</td>\n",
              "      <td>NaN</td>\n",
              "      <td>NaN</td>\n",
              "      <td>NaN</td>\n",
              "      <td>2018-09-13 00:00:00</td>\n",
              "    </tr>\n",
              "    <tr>\n",
              "      <th>2161</th>\n",
              "      <td>7a9d4c7f9b068337875b95465330f2fc</td>\n",
              "      <td>7f71ae48074c0cfec9195f88fcbfac55</td>\n",
              "      <td>canceled</td>\n",
              "      <td>2017-05-01 16:12:39</td>\n",
              "      <td>NaN</td>\n",
              "      <td>NaN</td>\n",
              "      <td>NaN</td>\n",
              "      <td>2017-05-30 00:00:00</td>\n",
              "    </tr>\n",
              "    <tr>\n",
              "      <th>...</th>\n",
              "      <td>...</td>\n",
              "      <td>...</td>\n",
              "      <td>...</td>\n",
              "      <td>...</td>\n",
              "      <td>...</td>\n",
              "      <td>...</td>\n",
              "      <td>...</td>\n",
              "      <td>...</td>\n",
              "    </tr>\n",
              "    <tr>\n",
              "      <th>97696</th>\n",
              "      <td>5a00b4d35edffc56b825c3646a99ba9d</td>\n",
              "      <td>6a3bdf004ca96338fb5fad1b8d93c2e6</td>\n",
              "      <td>canceled</td>\n",
              "      <td>2017-07-02 15:38:46</td>\n",
              "      <td>NaN</td>\n",
              "      <td>NaN</td>\n",
              "      <td>NaN</td>\n",
              "      <td>2017-07-25 00:00:00</td>\n",
              "    </tr>\n",
              "    <tr>\n",
              "      <th>98415</th>\n",
              "      <td>227c804e2a44760671a6a5697ea549e4</td>\n",
              "      <td>62e7477e75e542243ee62a0ba73f410f</td>\n",
              "      <td>canceled</td>\n",
              "      <td>2017-09-28 15:02:56</td>\n",
              "      <td>NaN</td>\n",
              "      <td>NaN</td>\n",
              "      <td>NaN</td>\n",
              "      <td>2017-10-16 00:00:00</td>\n",
              "    </tr>\n",
              "    <tr>\n",
              "      <th>98909</th>\n",
              "      <td>e49e7ce1471b4693482d40c2bd3ad196</td>\n",
              "      <td>e4e7ab3f449aeb401f0216f86c2104db</td>\n",
              "      <td>canceled</td>\n",
              "      <td>2018-08-07 11:16:28</td>\n",
              "      <td>NaN</td>\n",
              "      <td>NaN</td>\n",
              "      <td>NaN</td>\n",
              "      <td>2018-08-10 00:00:00</td>\n",
              "    </tr>\n",
              "    <tr>\n",
              "      <th>99283</th>\n",
              "      <td>3a3cddda5a7c27851bd96c3313412840</td>\n",
              "      <td>0b0d6095c5555fe083844281f6b093bb</td>\n",
              "      <td>canceled</td>\n",
              "      <td>2018-08-31 16:13:44</td>\n",
              "      <td>NaN</td>\n",
              "      <td>NaN</td>\n",
              "      <td>NaN</td>\n",
              "      <td>2018-10-01 00:00:00</td>\n",
              "    </tr>\n",
              "    <tr>\n",
              "      <th>99347</th>\n",
              "      <td>a89abace0dcc01eeb267a9660b5ac126</td>\n",
              "      <td>2f0524a7b1b3845a1a57fcf3910c4333</td>\n",
              "      <td>canceled</td>\n",
              "      <td>2018-09-06 18:45:47</td>\n",
              "      <td>NaN</td>\n",
              "      <td>NaN</td>\n",
              "      <td>NaN</td>\n",
              "      <td>2018-09-27 00:00:00</td>\n",
              "    </tr>\n",
              "  </tbody>\n",
              "</table>\n",
              "<p>160 rows × 8 columns</p>\n",
              "</div>"
            ],
            "text/plain": [
              "                               order_id                       customer_id  \\\n",
              "1130   00b1cb0320190ca0daa2c88b35206009  3532ba38a3fd242259a514ac2b6ae6b6   \n",
              "1801   ed3efbd3a87bea76c2812c66a0b32219  191984a8ba4cbb2145acb4fe35b69664   \n",
              "1868   df8282afe61008dc26c6c31011474d02  aa797b187b5466bc6925aaaa4bb3bed1   \n",
              "2029   8d4c637f1accf7a88a4555f02741e606  b1dd715db389a2077f43174e7a675d07   \n",
              "2161   7a9d4c7f9b068337875b95465330f2fc  7f71ae48074c0cfec9195f88fcbfac55   \n",
              "...                                 ...                               ...   \n",
              "97696  5a00b4d35edffc56b825c3646a99ba9d  6a3bdf004ca96338fb5fad1b8d93c2e6   \n",
              "98415  227c804e2a44760671a6a5697ea549e4  62e7477e75e542243ee62a0ba73f410f   \n",
              "98909  e49e7ce1471b4693482d40c2bd3ad196  e4e7ab3f449aeb401f0216f86c2104db   \n",
              "99283  3a3cddda5a7c27851bd96c3313412840  0b0d6095c5555fe083844281f6b093bb   \n",
              "99347  a89abace0dcc01eeb267a9660b5ac126  2f0524a7b1b3845a1a57fcf3910c4333   \n",
              "\n",
              "      order_status order_purchase_timestamp order_approved_at  \\\n",
              "1130      canceled      2018-08-28 15:26:39               NaN   \n",
              "1801      canceled      2018-09-20 13:54:16               NaN   \n",
              "1868      canceled      2017-03-04 12:14:30               NaN   \n",
              "2029      canceled      2018-08-29 16:27:49               NaN   \n",
              "2161      canceled      2017-05-01 16:12:39               NaN   \n",
              "...            ...                      ...               ...   \n",
              "97696     canceled      2017-07-02 15:38:46               NaN   \n",
              "98415     canceled      2017-09-28 15:02:56               NaN   \n",
              "98909     canceled      2018-08-07 11:16:28               NaN   \n",
              "99283     canceled      2018-08-31 16:13:44               NaN   \n",
              "99347     canceled      2018-09-06 18:45:47               NaN   \n",
              "\n",
              "      order_delivered_carrier_date order_delivered_customer_date  \\\n",
              "1130                           NaN                           NaN   \n",
              "1801                           NaN                           NaN   \n",
              "1868                           NaN                           NaN   \n",
              "2029                           NaN                           NaN   \n",
              "2161                           NaN                           NaN   \n",
              "...                            ...                           ...   \n",
              "97696                          NaN                           NaN   \n",
              "98415                          NaN                           NaN   \n",
              "98909                          NaN                           NaN   \n",
              "99283                          NaN                           NaN   \n",
              "99347                          NaN                           NaN   \n",
              "\n",
              "      order_estimated_delivery_date  \n",
              "1130            2018-09-12 00:00:00  \n",
              "1801            2018-10-17 00:00:00  \n",
              "1868            2017-04-10 00:00:00  \n",
              "2029            2018-09-13 00:00:00  \n",
              "2161            2017-05-30 00:00:00  \n",
              "...                             ...  \n",
              "97696           2017-07-25 00:00:00  \n",
              "98415           2017-10-16 00:00:00  \n",
              "98909           2018-08-10 00:00:00  \n",
              "99283           2018-10-01 00:00:00  \n",
              "99347           2018-09-27 00:00:00  \n",
              "\n",
              "[160 rows x 8 columns]"
            ]
          },
          "execution_count": 38,
          "metadata": {},
          "output_type": "execute_result"
        }
      ],
      "source": [
        "orders_df[orders_df.order_approved_at.isna()]"
      ]
    },
    {
      "cell_type": "markdown",
      "metadata": {
        "id": "CBswlfOBtdqx"
      },
      "source": [
        "**Untuk mengatasi missing value pada kolom order_approved_at, data diisi dengan nilai dari kolom order_purchase_timestamp jika status pesanan adalah canceled. Keputusan ini memastikan data tetap konsisten tanpa menghapus baris, sesuai dengan konteks bisnis.**"
      ]
    },
    {
      "cell_type": "code",
      "execution_count": 39,
      "metadata": {
        "id": "ZeN3yNWmECnI"
      },
      "outputs": [],
      "source": [
        "orders_df['order_approved_at'] = orders_df.apply(\n",
        "    lambda row: row['order_purchase_timestamp'] if pd.isna(row['order_approved_at']) and row['order_status'] == 'canceled' else row['order_approved_at'],\n",
        "    axis=1\n",
        ")"
      ]
    },
    {
      "cell_type": "code",
      "execution_count": 40,
      "metadata": {
        "colab": {
          "base_uri": "https://localhost:8080/"
        },
        "id": "dym-5TcaEDuW",
        "outputId": "57c52bc8-b175-422c-d824-14bef5b64ce2"
      },
      "outputs": [
        {
          "name": "stdout",
          "output_type": "stream",
          "text": [
            "Jumlah missing value (order approved at) setelah pembersihan cancaled :\n",
            " order_id                            0\n",
            "customer_id                         0\n",
            "order_status                        0\n",
            "order_purchase_timestamp            0\n",
            "order_approved_at                  19\n",
            "order_delivered_carrier_date     1783\n",
            "order_delivered_customer_date    2965\n",
            "order_estimated_delivery_date       0\n",
            "dtype: int64\n"
          ]
        }
      ],
      "source": [
        "print(\"Jumlah missing value (order approved at) setelah pembersihan cancaled :\\n\", orders_df.isna().sum())"
      ]
    },
    {
      "cell_type": "code",
      "execution_count": 41,
      "metadata": {
        "colab": {
          "base_uri": "https://localhost:8080/",
          "height": 645
        },
        "id": "7afF8wXZt0MW",
        "outputId": "c3d1587c-584a-4029-b250-12e396c03cc5"
      },
      "outputs": [
        {
          "data": {
            "text/html": [
              "<div>\n",
              "<style scoped>\n",
              "    .dataframe tbody tr th:only-of-type {\n",
              "        vertical-align: middle;\n",
              "    }\n",
              "\n",
              "    .dataframe tbody tr th {\n",
              "        vertical-align: top;\n",
              "    }\n",
              "\n",
              "    .dataframe thead th {\n",
              "        text-align: right;\n",
              "    }\n",
              "</style>\n",
              "<table border=\"1\" class=\"dataframe\">\n",
              "  <thead>\n",
              "    <tr style=\"text-align: right;\">\n",
              "      <th></th>\n",
              "      <th>order_id</th>\n",
              "      <th>customer_id</th>\n",
              "      <th>order_status</th>\n",
              "      <th>order_purchase_timestamp</th>\n",
              "      <th>order_approved_at</th>\n",
              "      <th>order_delivered_carrier_date</th>\n",
              "      <th>order_delivered_customer_date</th>\n",
              "      <th>order_estimated_delivery_date</th>\n",
              "    </tr>\n",
              "  </thead>\n",
              "  <tbody>\n",
              "    <tr>\n",
              "      <th>5323</th>\n",
              "      <td>e04abd8149ef81b95221e88f6ed9ab6a</td>\n",
              "      <td>2127dc6603ac33544953ef05ec155771</td>\n",
              "      <td>delivered</td>\n",
              "      <td>2017-02-18 14:40:00</td>\n",
              "      <td>NaN</td>\n",
              "      <td>2017-02-23 12:04:47</td>\n",
              "      <td>2017-03-01 13:25:33</td>\n",
              "      <td>2017-03-17 00:00:00</td>\n",
              "    </tr>\n",
              "    <tr>\n",
              "      <th>7434</th>\n",
              "      <td>b5359909123fa03c50bdb0cfed07f098</td>\n",
              "      <td>438449d4af8980d107bf04571413a8e7</td>\n",
              "      <td>created</td>\n",
              "      <td>2017-12-05 01:07:52</td>\n",
              "      <td>NaN</td>\n",
              "      <td>NaN</td>\n",
              "      <td>NaN</td>\n",
              "      <td>2018-01-11 00:00:00</td>\n",
              "    </tr>\n",
              "    <tr>\n",
              "      <th>9238</th>\n",
              "      <td>dba5062fbda3af4fb6c33b1e040ca38f</td>\n",
              "      <td>964a6df3d9bdf60fe3e7b8bb69ed893a</td>\n",
              "      <td>created</td>\n",
              "      <td>2018-02-09 17:21:04</td>\n",
              "      <td>NaN</td>\n",
              "      <td>NaN</td>\n",
              "      <td>NaN</td>\n",
              "      <td>2018-03-07 00:00:00</td>\n",
              "    </tr>\n",
              "    <tr>\n",
              "      <th>16567</th>\n",
              "      <td>8a9adc69528e1001fc68dd0aaebbb54a</td>\n",
              "      <td>4c1ccc74e00993733742a3c786dc3c1f</td>\n",
              "      <td>delivered</td>\n",
              "      <td>2017-02-18 12:45:31</td>\n",
              "      <td>NaN</td>\n",
              "      <td>2017-02-23 09:01:52</td>\n",
              "      <td>2017-03-02 10:05:06</td>\n",
              "      <td>2017-03-21 00:00:00</td>\n",
              "    </tr>\n",
              "    <tr>\n",
              "      <th>19031</th>\n",
              "      <td>7013bcfc1c97fe719a7b5e05e61c12db</td>\n",
              "      <td>2941af76d38100e0f8740a374f1a5dc3</td>\n",
              "      <td>delivered</td>\n",
              "      <td>2017-02-18 13:29:47</td>\n",
              "      <td>NaN</td>\n",
              "      <td>2017-02-22 16:25:25</td>\n",
              "      <td>2017-03-01 08:07:38</td>\n",
              "      <td>2017-03-17 00:00:00</td>\n",
              "    </tr>\n",
              "    <tr>\n",
              "      <th>21441</th>\n",
              "      <td>7a4df5d8cff4090e541401a20a22bb80</td>\n",
              "      <td>725e9c75605414b21fd8c8d5a1c2f1d6</td>\n",
              "      <td>created</td>\n",
              "      <td>2017-11-25 11:10:33</td>\n",
              "      <td>NaN</td>\n",
              "      <td>NaN</td>\n",
              "      <td>NaN</td>\n",
              "      <td>2017-12-12 00:00:00</td>\n",
              "    </tr>\n",
              "    <tr>\n",
              "      <th>22663</th>\n",
              "      <td>5cf925b116421afa85ee25e99b4c34fb</td>\n",
              "      <td>29c35fc91fc13fb5073c8f30505d860d</td>\n",
              "      <td>delivered</td>\n",
              "      <td>2017-02-18 16:48:35</td>\n",
              "      <td>NaN</td>\n",
              "      <td>2017-02-22 11:23:10</td>\n",
              "      <td>2017-03-09 07:28:47</td>\n",
              "      <td>2017-03-31 00:00:00</td>\n",
              "    </tr>\n",
              "    <tr>\n",
              "      <th>23156</th>\n",
              "      <td>12a95a3c06dbaec84bcfb0e2da5d228a</td>\n",
              "      <td>1e101e0daffaddce8159d25a8e53f2b2</td>\n",
              "      <td>delivered</td>\n",
              "      <td>2017-02-17 13:05:55</td>\n",
              "      <td>NaN</td>\n",
              "      <td>2017-02-22 11:23:11</td>\n",
              "      <td>2017-03-02 11:09:19</td>\n",
              "      <td>2017-03-20 00:00:00</td>\n",
              "    </tr>\n",
              "    <tr>\n",
              "      <th>26800</th>\n",
              "      <td>c1d4211b3dae76144deccd6c74144a88</td>\n",
              "      <td>684cb238dc5b5d6366244e0e0776b450</td>\n",
              "      <td>delivered</td>\n",
              "      <td>2017-01-19 12:48:08</td>\n",
              "      <td>NaN</td>\n",
              "      <td>2017-01-25 14:56:50</td>\n",
              "      <td>2017-01-30 18:16:01</td>\n",
              "      <td>2017-03-01 00:00:00</td>\n",
              "    </tr>\n",
              "    <tr>\n",
              "      <th>38290</th>\n",
              "      <td>d69e5d356402adc8cf17e08b5033acfb</td>\n",
              "      <td>68d081753ad4fe22fc4d410a9eb1ca01</td>\n",
              "      <td>delivered</td>\n",
              "      <td>2017-02-19 01:28:47</td>\n",
              "      <td>NaN</td>\n",
              "      <td>2017-02-23 03:11:48</td>\n",
              "      <td>2017-03-02 03:41:58</td>\n",
              "      <td>2017-03-27 00:00:00</td>\n",
              "    </tr>\n",
              "    <tr>\n",
              "      <th>39334</th>\n",
              "      <td>d77031d6a3c8a52f019764e68f211c69</td>\n",
              "      <td>0bf35cac6cc7327065da879e2d90fae8</td>\n",
              "      <td>delivered</td>\n",
              "      <td>2017-02-18 11:04:19</td>\n",
              "      <td>NaN</td>\n",
              "      <td>2017-02-23 07:23:36</td>\n",
              "      <td>2017-03-02 16:15:23</td>\n",
              "      <td>2017-03-22 00:00:00</td>\n",
              "    </tr>\n",
              "    <tr>\n",
              "      <th>48401</th>\n",
              "      <td>7002a78c79c519ac54022d4f8a65e6e8</td>\n",
              "      <td>d5de688c321096d15508faae67a27051</td>\n",
              "      <td>delivered</td>\n",
              "      <td>2017-01-19 22:26:59</td>\n",
              "      <td>NaN</td>\n",
              "      <td>2017-01-27 11:08:05</td>\n",
              "      <td>2017-02-06 14:22:19</td>\n",
              "      <td>2017-03-16 00:00:00</td>\n",
              "    </tr>\n",
              "    <tr>\n",
              "      <th>55086</th>\n",
              "      <td>35de4050331c6c644cddc86f4f2d0d64</td>\n",
              "      <td>4ee64f4bfc542546f422da0aeb462853</td>\n",
              "      <td>created</td>\n",
              "      <td>2017-12-05 01:07:58</td>\n",
              "      <td>NaN</td>\n",
              "      <td>NaN</td>\n",
              "      <td>NaN</td>\n",
              "      <td>2018-01-08 00:00:00</td>\n",
              "    </tr>\n",
              "    <tr>\n",
              "      <th>58958</th>\n",
              "      <td>90ab3e7d52544ec7bc3363c82689965f</td>\n",
              "      <td>7d61b9f4f216052ba664f22e9c504ef1</td>\n",
              "      <td>created</td>\n",
              "      <td>2017-11-06 13:12:34</td>\n",
              "      <td>NaN</td>\n",
              "      <td>NaN</td>\n",
              "      <td>NaN</td>\n",
              "      <td>2017-12-01 00:00:00</td>\n",
              "    </tr>\n",
              "    <tr>\n",
              "      <th>61743</th>\n",
              "      <td>2eecb0d85f281280f79fa00f9cec1a95</td>\n",
              "      <td>a3d3c38e58b9d2dfb9207cab690b6310</td>\n",
              "      <td>delivered</td>\n",
              "      <td>2017-02-17 17:21:55</td>\n",
              "      <td>NaN</td>\n",
              "      <td>2017-02-22 11:42:51</td>\n",
              "      <td>2017-03-03 12:16:03</td>\n",
              "      <td>2017-03-20 00:00:00</td>\n",
              "    </tr>\n",
              "    <tr>\n",
              "      <th>63052</th>\n",
              "      <td>51eb2eebd5d76a24625b31c33dd41449</td>\n",
              "      <td>07a2a7e0f63fd8cb757ed77d4245623c</td>\n",
              "      <td>delivered</td>\n",
              "      <td>2017-02-18 15:52:27</td>\n",
              "      <td>NaN</td>\n",
              "      <td>2017-02-23 03:09:14</td>\n",
              "      <td>2017-03-07 13:57:47</td>\n",
              "      <td>2017-03-29 00:00:00</td>\n",
              "    </tr>\n",
              "    <tr>\n",
              "      <th>67697</th>\n",
              "      <td>88083e8f64d95b932164187484d90212</td>\n",
              "      <td>f67cd1a215aae2a1074638bbd35a223a</td>\n",
              "      <td>delivered</td>\n",
              "      <td>2017-02-18 22:49:19</td>\n",
              "      <td>NaN</td>\n",
              "      <td>2017-02-22 11:31:06</td>\n",
              "      <td>2017-03-02 12:06:06</td>\n",
              "      <td>2017-03-21 00:00:00</td>\n",
              "    </tr>\n",
              "    <tr>\n",
              "      <th>72407</th>\n",
              "      <td>3c0b8706b065f9919d0505d3b3343881</td>\n",
              "      <td>d85919cb3c0529589c6fa617f5f43281</td>\n",
              "      <td>delivered</td>\n",
              "      <td>2017-02-17 15:53:27</td>\n",
              "      <td>NaN</td>\n",
              "      <td>2017-02-22 11:31:30</td>\n",
              "      <td>2017-03-03 11:47:47</td>\n",
              "      <td>2017-03-23 00:00:00</td>\n",
              "    </tr>\n",
              "    <tr>\n",
              "      <th>84999</th>\n",
              "      <td>2babbb4b15e6d2dfe95e2de765c97bce</td>\n",
              "      <td>74bebaf46603f9340e3b50c6b086f992</td>\n",
              "      <td>delivered</td>\n",
              "      <td>2017-02-18 17:15:03</td>\n",
              "      <td>NaN</td>\n",
              "      <td>2017-02-22 11:23:11</td>\n",
              "      <td>2017-03-03 18:43:43</td>\n",
              "      <td>2017-03-31 00:00:00</td>\n",
              "    </tr>\n",
              "  </tbody>\n",
              "</table>\n",
              "</div>"
            ],
            "text/plain": [
              "                               order_id                       customer_id  \\\n",
              "5323   e04abd8149ef81b95221e88f6ed9ab6a  2127dc6603ac33544953ef05ec155771   \n",
              "7434   b5359909123fa03c50bdb0cfed07f098  438449d4af8980d107bf04571413a8e7   \n",
              "9238   dba5062fbda3af4fb6c33b1e040ca38f  964a6df3d9bdf60fe3e7b8bb69ed893a   \n",
              "16567  8a9adc69528e1001fc68dd0aaebbb54a  4c1ccc74e00993733742a3c786dc3c1f   \n",
              "19031  7013bcfc1c97fe719a7b5e05e61c12db  2941af76d38100e0f8740a374f1a5dc3   \n",
              "21441  7a4df5d8cff4090e541401a20a22bb80  725e9c75605414b21fd8c8d5a1c2f1d6   \n",
              "22663  5cf925b116421afa85ee25e99b4c34fb  29c35fc91fc13fb5073c8f30505d860d   \n",
              "23156  12a95a3c06dbaec84bcfb0e2da5d228a  1e101e0daffaddce8159d25a8e53f2b2   \n",
              "26800  c1d4211b3dae76144deccd6c74144a88  684cb238dc5b5d6366244e0e0776b450   \n",
              "38290  d69e5d356402adc8cf17e08b5033acfb  68d081753ad4fe22fc4d410a9eb1ca01   \n",
              "39334  d77031d6a3c8a52f019764e68f211c69  0bf35cac6cc7327065da879e2d90fae8   \n",
              "48401  7002a78c79c519ac54022d4f8a65e6e8  d5de688c321096d15508faae67a27051   \n",
              "55086  35de4050331c6c644cddc86f4f2d0d64  4ee64f4bfc542546f422da0aeb462853   \n",
              "58958  90ab3e7d52544ec7bc3363c82689965f  7d61b9f4f216052ba664f22e9c504ef1   \n",
              "61743  2eecb0d85f281280f79fa00f9cec1a95  a3d3c38e58b9d2dfb9207cab690b6310   \n",
              "63052  51eb2eebd5d76a24625b31c33dd41449  07a2a7e0f63fd8cb757ed77d4245623c   \n",
              "67697  88083e8f64d95b932164187484d90212  f67cd1a215aae2a1074638bbd35a223a   \n",
              "72407  3c0b8706b065f9919d0505d3b3343881  d85919cb3c0529589c6fa617f5f43281   \n",
              "84999  2babbb4b15e6d2dfe95e2de765c97bce  74bebaf46603f9340e3b50c6b086f992   \n",
              "\n",
              "      order_status order_purchase_timestamp order_approved_at  \\\n",
              "5323     delivered      2017-02-18 14:40:00               NaN   \n",
              "7434       created      2017-12-05 01:07:52               NaN   \n",
              "9238       created      2018-02-09 17:21:04               NaN   \n",
              "16567    delivered      2017-02-18 12:45:31               NaN   \n",
              "19031    delivered      2017-02-18 13:29:47               NaN   \n",
              "21441      created      2017-11-25 11:10:33               NaN   \n",
              "22663    delivered      2017-02-18 16:48:35               NaN   \n",
              "23156    delivered      2017-02-17 13:05:55               NaN   \n",
              "26800    delivered      2017-01-19 12:48:08               NaN   \n",
              "38290    delivered      2017-02-19 01:28:47               NaN   \n",
              "39334    delivered      2017-02-18 11:04:19               NaN   \n",
              "48401    delivered      2017-01-19 22:26:59               NaN   \n",
              "55086      created      2017-12-05 01:07:58               NaN   \n",
              "58958      created      2017-11-06 13:12:34               NaN   \n",
              "61743    delivered      2017-02-17 17:21:55               NaN   \n",
              "63052    delivered      2017-02-18 15:52:27               NaN   \n",
              "67697    delivered      2017-02-18 22:49:19               NaN   \n",
              "72407    delivered      2017-02-17 15:53:27               NaN   \n",
              "84999    delivered      2017-02-18 17:15:03               NaN   \n",
              "\n",
              "      order_delivered_carrier_date order_delivered_customer_date  \\\n",
              "5323           2017-02-23 12:04:47           2017-03-01 13:25:33   \n",
              "7434                           NaN                           NaN   \n",
              "9238                           NaN                           NaN   \n",
              "16567          2017-02-23 09:01:52           2017-03-02 10:05:06   \n",
              "19031          2017-02-22 16:25:25           2017-03-01 08:07:38   \n",
              "21441                          NaN                           NaN   \n",
              "22663          2017-02-22 11:23:10           2017-03-09 07:28:47   \n",
              "23156          2017-02-22 11:23:11           2017-03-02 11:09:19   \n",
              "26800          2017-01-25 14:56:50           2017-01-30 18:16:01   \n",
              "38290          2017-02-23 03:11:48           2017-03-02 03:41:58   \n",
              "39334          2017-02-23 07:23:36           2017-03-02 16:15:23   \n",
              "48401          2017-01-27 11:08:05           2017-02-06 14:22:19   \n",
              "55086                          NaN                           NaN   \n",
              "58958                          NaN                           NaN   \n",
              "61743          2017-02-22 11:42:51           2017-03-03 12:16:03   \n",
              "63052          2017-02-23 03:09:14           2017-03-07 13:57:47   \n",
              "67697          2017-02-22 11:31:06           2017-03-02 12:06:06   \n",
              "72407          2017-02-22 11:31:30           2017-03-03 11:47:47   \n",
              "84999          2017-02-22 11:23:11           2017-03-03 18:43:43   \n",
              "\n",
              "      order_estimated_delivery_date  \n",
              "5323            2017-03-17 00:00:00  \n",
              "7434            2018-01-11 00:00:00  \n",
              "9238            2018-03-07 00:00:00  \n",
              "16567           2017-03-21 00:00:00  \n",
              "19031           2017-03-17 00:00:00  \n",
              "21441           2017-12-12 00:00:00  \n",
              "22663           2017-03-31 00:00:00  \n",
              "23156           2017-03-20 00:00:00  \n",
              "26800           2017-03-01 00:00:00  \n",
              "38290           2017-03-27 00:00:00  \n",
              "39334           2017-03-22 00:00:00  \n",
              "48401           2017-03-16 00:00:00  \n",
              "55086           2018-01-08 00:00:00  \n",
              "58958           2017-12-01 00:00:00  \n",
              "61743           2017-03-20 00:00:00  \n",
              "63052           2017-03-29 00:00:00  \n",
              "67697           2017-03-21 00:00:00  \n",
              "72407           2017-03-23 00:00:00  \n",
              "84999           2017-03-31 00:00:00  "
            ]
          },
          "execution_count": 41,
          "metadata": {},
          "output_type": "execute_result"
        }
      ],
      "source": [
        "orders_df[orders_df.order_approved_at.isna()]"
      ]
    },
    {
      "cell_type": "markdown",
      "metadata": {
        "id": "zuyw2X-z4VF5"
      },
      "source": [
        "**Keputusan yang diambil adalah mengisi nilai order_approved_at untuk status delivered dengan menggunakan rata-rata waktu antara order_purchase_timestamp dan order_delivered_carrier_date. Ini dilakukan untuk memperkirakan kapan pesanan disetujui berdasarkan pola waktu yang ada pada data yang sudah lengkap.**"
      ]
    },
    {
      "cell_type": "code",
      "execution_count": 42,
      "metadata": {
        "id": "kSP1TMQ4uXH6"
      },
      "outputs": [],
      "source": [
        "orders_df['order_delivered_carrier_date'] = pd.to_datetime(orders_df['order_delivered_carrier_date'])\n",
        "orders_df['order_purchase_timestamp'] = pd.to_datetime(orders_df['order_purchase_timestamp'])\n",
        "\n",
        "average_time = (orders_df.loc[orders_df['order_status'] == 'delivered', 'order_delivered_carrier_date'] -\n",
        "                orders_df.loc[orders_df['order_status'] == 'delivered', 'order_purchase_timestamp']).mean()\n",
        "\n",
        "orders_df.loc[orders_df['order_status'] == 'delivered', 'order_approved_at'] = (\n",
        "    orders_df.loc[orders_df['order_status'] == 'delivered', 'order_purchase_timestamp'] + average_time\n",
        ")"
      ]
    },
    {
      "cell_type": "code",
      "execution_count": 43,
      "metadata": {
        "colab": {
          "base_uri": "https://localhost:8080/"
        },
        "id": "Vkd5GfumuZqp",
        "outputId": "98c37b1d-48fb-423f-9b14-9fcfff478081"
      },
      "outputs": [
        {
          "name": "stdout",
          "output_type": "stream",
          "text": [
            "Jumlah missing value (order approved at) setelah pembersihan delivered:\n",
            " order_id                            0\n",
            "customer_id                         0\n",
            "order_status                        0\n",
            "order_purchase_timestamp            0\n",
            "order_approved_at                   5\n",
            "order_delivered_carrier_date     1783\n",
            "order_delivered_customer_date    2965\n",
            "order_estimated_delivery_date       0\n",
            "dtype: int64\n"
          ]
        }
      ],
      "source": [
        "print(\"Jumlah missing value (order approved at) setelah pembersihan delivered:\\n\", orders_df.isna().sum())"
      ]
    },
    {
      "cell_type": "code",
      "execution_count": 44,
      "metadata": {
        "colab": {
          "base_uri": "https://localhost:8080/",
          "height": 206
        },
        "id": "MDlLT105zb3o",
        "outputId": "8fb45de8-49a2-4e8a-fbbe-d89cf1d7749d"
      },
      "outputs": [
        {
          "data": {
            "text/html": [
              "<div>\n",
              "<style scoped>\n",
              "    .dataframe tbody tr th:only-of-type {\n",
              "        vertical-align: middle;\n",
              "    }\n",
              "\n",
              "    .dataframe tbody tr th {\n",
              "        vertical-align: top;\n",
              "    }\n",
              "\n",
              "    .dataframe thead th {\n",
              "        text-align: right;\n",
              "    }\n",
              "</style>\n",
              "<table border=\"1\" class=\"dataframe\">\n",
              "  <thead>\n",
              "    <tr style=\"text-align: right;\">\n",
              "      <th></th>\n",
              "      <th>order_id</th>\n",
              "      <th>customer_id</th>\n",
              "      <th>order_status</th>\n",
              "      <th>order_purchase_timestamp</th>\n",
              "      <th>order_approved_at</th>\n",
              "      <th>order_delivered_carrier_date</th>\n",
              "      <th>order_delivered_customer_date</th>\n",
              "      <th>order_estimated_delivery_date</th>\n",
              "    </tr>\n",
              "  </thead>\n",
              "  <tbody>\n",
              "    <tr>\n",
              "      <th>7434</th>\n",
              "      <td>b5359909123fa03c50bdb0cfed07f098</td>\n",
              "      <td>438449d4af8980d107bf04571413a8e7</td>\n",
              "      <td>created</td>\n",
              "      <td>2017-12-05 01:07:52</td>\n",
              "      <td>NaN</td>\n",
              "      <td>NaT</td>\n",
              "      <td>NaN</td>\n",
              "      <td>2018-01-11 00:00:00</td>\n",
              "    </tr>\n",
              "    <tr>\n",
              "      <th>9238</th>\n",
              "      <td>dba5062fbda3af4fb6c33b1e040ca38f</td>\n",
              "      <td>964a6df3d9bdf60fe3e7b8bb69ed893a</td>\n",
              "      <td>created</td>\n",
              "      <td>2018-02-09 17:21:04</td>\n",
              "      <td>NaN</td>\n",
              "      <td>NaT</td>\n",
              "      <td>NaN</td>\n",
              "      <td>2018-03-07 00:00:00</td>\n",
              "    </tr>\n",
              "    <tr>\n",
              "      <th>21441</th>\n",
              "      <td>7a4df5d8cff4090e541401a20a22bb80</td>\n",
              "      <td>725e9c75605414b21fd8c8d5a1c2f1d6</td>\n",
              "      <td>created</td>\n",
              "      <td>2017-11-25 11:10:33</td>\n",
              "      <td>NaN</td>\n",
              "      <td>NaT</td>\n",
              "      <td>NaN</td>\n",
              "      <td>2017-12-12 00:00:00</td>\n",
              "    </tr>\n",
              "    <tr>\n",
              "      <th>55086</th>\n",
              "      <td>35de4050331c6c644cddc86f4f2d0d64</td>\n",
              "      <td>4ee64f4bfc542546f422da0aeb462853</td>\n",
              "      <td>created</td>\n",
              "      <td>2017-12-05 01:07:58</td>\n",
              "      <td>NaN</td>\n",
              "      <td>NaT</td>\n",
              "      <td>NaN</td>\n",
              "      <td>2018-01-08 00:00:00</td>\n",
              "    </tr>\n",
              "    <tr>\n",
              "      <th>58958</th>\n",
              "      <td>90ab3e7d52544ec7bc3363c82689965f</td>\n",
              "      <td>7d61b9f4f216052ba664f22e9c504ef1</td>\n",
              "      <td>created</td>\n",
              "      <td>2017-11-06 13:12:34</td>\n",
              "      <td>NaN</td>\n",
              "      <td>NaT</td>\n",
              "      <td>NaN</td>\n",
              "      <td>2017-12-01 00:00:00</td>\n",
              "    </tr>\n",
              "  </tbody>\n",
              "</table>\n",
              "</div>"
            ],
            "text/plain": [
              "                               order_id                       customer_id  \\\n",
              "7434   b5359909123fa03c50bdb0cfed07f098  438449d4af8980d107bf04571413a8e7   \n",
              "9238   dba5062fbda3af4fb6c33b1e040ca38f  964a6df3d9bdf60fe3e7b8bb69ed893a   \n",
              "21441  7a4df5d8cff4090e541401a20a22bb80  725e9c75605414b21fd8c8d5a1c2f1d6   \n",
              "55086  35de4050331c6c644cddc86f4f2d0d64  4ee64f4bfc542546f422da0aeb462853   \n",
              "58958  90ab3e7d52544ec7bc3363c82689965f  7d61b9f4f216052ba664f22e9c504ef1   \n",
              "\n",
              "      order_status order_purchase_timestamp order_approved_at  \\\n",
              "7434       created      2017-12-05 01:07:52               NaN   \n",
              "9238       created      2018-02-09 17:21:04               NaN   \n",
              "21441      created      2017-11-25 11:10:33               NaN   \n",
              "55086      created      2017-12-05 01:07:58               NaN   \n",
              "58958      created      2017-11-06 13:12:34               NaN   \n",
              "\n",
              "      order_delivered_carrier_date order_delivered_customer_date  \\\n",
              "7434                           NaT                           NaN   \n",
              "9238                           NaT                           NaN   \n",
              "21441                          NaT                           NaN   \n",
              "55086                          NaT                           NaN   \n",
              "58958                          NaT                           NaN   \n",
              "\n",
              "      order_estimated_delivery_date  \n",
              "7434            2018-01-11 00:00:00  \n",
              "9238            2018-03-07 00:00:00  \n",
              "21441           2017-12-12 00:00:00  \n",
              "55086           2018-01-08 00:00:00  \n",
              "58958           2017-12-01 00:00:00  "
            ]
          },
          "execution_count": 44,
          "metadata": {},
          "output_type": "execute_result"
        }
      ],
      "source": [
        "orders_df[orders_df.order_approved_at.isna()]"
      ]
    },
    {
      "cell_type": "markdown",
      "metadata": {
        "id": "Nn6pxzZg2dYK"
      },
      "source": [
        "**Keputusan yang diambil adalah mengisi nilai order_approved_at pada status created dengan rata-rata waktu antara order_purchase_timestamp dan order_delivered_carrier_date untuk memastikan kelancaran analisis dan akurasi**"
      ]
    },
    {
      "cell_type": "code",
      "execution_count": 45,
      "metadata": {
        "id": "_HXXhToky5Lu"
      },
      "outputs": [],
      "source": [
        "time_diff = orders_df[orders_df.order_status == 'delivered'].apply(\n",
        "    lambda row: (row['order_delivered_carrier_date'] - row['order_purchase_timestamp']).days, axis=1\n",
        ")\n",
        "average_time_diff = time_diff.mean()"
      ]
    },
    {
      "cell_type": "code",
      "execution_count": 46,
      "metadata": {
        "id": "Lx2t7G3t2ooc"
      },
      "outputs": [],
      "source": [
        "orders_df.loc[\n",
        "    (orders_df.order_status == 'created') & (orders_df['order_approved_at'].isna()),\n",
        "    'order_approved_at'\n",
        "] = orders_df['order_purchase_timestamp'] + pd.to_timedelta(average_time_diff, unit='D')"
      ]
    },
    {
      "cell_type": "code",
      "execution_count": 47,
      "metadata": {
        "colab": {
          "base_uri": "https://localhost:8080/"
        },
        "id": "qR_vvWoEzAUO",
        "outputId": "50d36875-c3d6-4185-c936-fcc60b4257f5"
      },
      "outputs": [
        {
          "name": "stdout",
          "output_type": "stream",
          "text": [
            "Jumlah missing value (order approved at) setelah pembersihan created:\n",
            " order_id                            0\n",
            "customer_id                         0\n",
            "order_status                        0\n",
            "order_purchase_timestamp            0\n",
            "order_approved_at                   0\n",
            "order_delivered_carrier_date     1783\n",
            "order_delivered_customer_date    2965\n",
            "order_estimated_delivery_date       0\n",
            "dtype: int64\n"
          ]
        }
      ],
      "source": [
        "print(\"Jumlah missing value (order approved at) setelah pembersihan created:\\n\", orders_df.isna().sum())"
      ]
    },
    {
      "cell_type": "markdown",
      "metadata": {
        "id": "iRTTk0LufLFY"
      },
      "source": [
        "##### Menangani Mising Value order_delivered_carrier_date"
      ]
    },
    {
      "cell_type": "code",
      "execution_count": 48,
      "metadata": {
        "colab": {
          "base_uri": "https://localhost:8080/",
          "height": 424
        },
        "id": "qekKPwlheJAw",
        "outputId": "d1613f8b-07e6-4cec-deb0-166de2be1b31"
      },
      "outputs": [
        {
          "data": {
            "text/html": [
              "<div>\n",
              "<style scoped>\n",
              "    .dataframe tbody tr th:only-of-type {\n",
              "        vertical-align: middle;\n",
              "    }\n",
              "\n",
              "    .dataframe tbody tr th {\n",
              "        vertical-align: top;\n",
              "    }\n",
              "\n",
              "    .dataframe thead th {\n",
              "        text-align: right;\n",
              "    }\n",
              "</style>\n",
              "<table border=\"1\" class=\"dataframe\">\n",
              "  <thead>\n",
              "    <tr style=\"text-align: right;\">\n",
              "      <th></th>\n",
              "      <th>order_id</th>\n",
              "      <th>customer_id</th>\n",
              "      <th>order_status</th>\n",
              "      <th>order_purchase_timestamp</th>\n",
              "      <th>order_approved_at</th>\n",
              "      <th>order_delivered_carrier_date</th>\n",
              "      <th>order_delivered_customer_date</th>\n",
              "      <th>order_estimated_delivery_date</th>\n",
              "    </tr>\n",
              "  </thead>\n",
              "  <tbody>\n",
              "    <tr>\n",
              "      <th>6</th>\n",
              "      <td>136cce7faa42fdb2cefd53fdc79a6098</td>\n",
              "      <td>ed0271e0b7da060a393796590e7b737a</td>\n",
              "      <td>invoiced</td>\n",
              "      <td>2017-04-11 12:22:08</td>\n",
              "      <td>2017-04-13 13:25:17</td>\n",
              "      <td>NaT</td>\n",
              "      <td>NaN</td>\n",
              "      <td>2017-05-09 00:00:00</td>\n",
              "    </tr>\n",
              "    <tr>\n",
              "      <th>103</th>\n",
              "      <td>0760a852e4e9d89eb77bf631eaaf1c84</td>\n",
              "      <td>d2a79636084590b7465af8ab374a8cf5</td>\n",
              "      <td>invoiced</td>\n",
              "      <td>2018-08-03 17:44:42</td>\n",
              "      <td>2018-08-07 06:15:14</td>\n",
              "      <td>NaT</td>\n",
              "      <td>NaN</td>\n",
              "      <td>2018-08-21 00:00:00</td>\n",
              "    </tr>\n",
              "    <tr>\n",
              "      <th>128</th>\n",
              "      <td>15bed8e2fec7fdbadb186b57c46c92f2</td>\n",
              "      <td>f3f0e613e0bdb9c7cee75504f0f90679</td>\n",
              "      <td>processing</td>\n",
              "      <td>2017-09-03 14:22:03</td>\n",
              "      <td>2017-09-03 14:30:09</td>\n",
              "      <td>NaT</td>\n",
              "      <td>NaN</td>\n",
              "      <td>2017-10-03 00:00:00</td>\n",
              "    </tr>\n",
              "    <tr>\n",
              "      <th>266</th>\n",
              "      <td>8e24261a7e58791d10cb1bf9da94df5c</td>\n",
              "      <td>64a254d30eed42cd0e6c36dddb88adf0</td>\n",
              "      <td>unavailable</td>\n",
              "      <td>2017-11-16 15:09:28</td>\n",
              "      <td>2017-11-16 15:26:57</td>\n",
              "      <td>NaT</td>\n",
              "      <td>NaN</td>\n",
              "      <td>2017-12-05 00:00:00</td>\n",
              "    </tr>\n",
              "    <tr>\n",
              "      <th>324</th>\n",
              "      <td>d3c8851a6651eeff2f73b0e011ac45d0</td>\n",
              "      <td>957f8e082185574de25992dc659ebbc0</td>\n",
              "      <td>processing</td>\n",
              "      <td>2016-10-05 22:44:13</td>\n",
              "      <td>2016-10-06 15:51:05</td>\n",
              "      <td>NaT</td>\n",
              "      <td>NaN</td>\n",
              "      <td>2016-12-09 00:00:00</td>\n",
              "    </tr>\n",
              "    <tr>\n",
              "      <th>...</th>\n",
              "      <td>...</td>\n",
              "      <td>...</td>\n",
              "      <td>...</td>\n",
              "      <td>...</td>\n",
              "      <td>...</td>\n",
              "      <td>...</td>\n",
              "      <td>...</td>\n",
              "      <td>...</td>\n",
              "    </tr>\n",
              "    <tr>\n",
              "      <th>99283</th>\n",
              "      <td>3a3cddda5a7c27851bd96c3313412840</td>\n",
              "      <td>0b0d6095c5555fe083844281f6b093bb</td>\n",
              "      <td>canceled</td>\n",
              "      <td>2018-08-31 16:13:44</td>\n",
              "      <td>2018-08-31 16:13:44</td>\n",
              "      <td>NaT</td>\n",
              "      <td>NaN</td>\n",
              "      <td>2018-10-01 00:00:00</td>\n",
              "    </tr>\n",
              "    <tr>\n",
              "      <th>99313</th>\n",
              "      <td>e9e64a17afa9653aacf2616d94c005b8</td>\n",
              "      <td>b4cd0522e632e481f8eaf766a2646e86</td>\n",
              "      <td>processing</td>\n",
              "      <td>2018-01-05 23:07:24</td>\n",
              "      <td>2018-01-09 07:18:05</td>\n",
              "      <td>NaT</td>\n",
              "      <td>NaN</td>\n",
              "      <td>2018-02-06 00:00:00</td>\n",
              "    </tr>\n",
              "    <tr>\n",
              "      <th>99347</th>\n",
              "      <td>a89abace0dcc01eeb267a9660b5ac126</td>\n",
              "      <td>2f0524a7b1b3845a1a57fcf3910c4333</td>\n",
              "      <td>canceled</td>\n",
              "      <td>2018-09-06 18:45:47</td>\n",
              "      <td>2018-09-06 18:45:47</td>\n",
              "      <td>NaT</td>\n",
              "      <td>NaN</td>\n",
              "      <td>2018-09-27 00:00:00</td>\n",
              "    </tr>\n",
              "    <tr>\n",
              "      <th>99348</th>\n",
              "      <td>a69ba794cc7deb415c3e15a0a3877e69</td>\n",
              "      <td>726f0894b5becdf952ea537d5266e543</td>\n",
              "      <td>unavailable</td>\n",
              "      <td>2017-08-23 16:28:04</td>\n",
              "      <td>2017-08-28 15:44:47</td>\n",
              "      <td>NaT</td>\n",
              "      <td>NaN</td>\n",
              "      <td>2017-09-15 00:00:00</td>\n",
              "    </tr>\n",
              "    <tr>\n",
              "      <th>99415</th>\n",
              "      <td>5fabc81b6322c8443648e1b21a6fef21</td>\n",
              "      <td>32c9df889d41b0ee8309a5efb6855dcb</td>\n",
              "      <td>unavailable</td>\n",
              "      <td>2017-10-10 10:50:03</td>\n",
              "      <td>2017-10-14 18:35:57</td>\n",
              "      <td>NaT</td>\n",
              "      <td>NaN</td>\n",
              "      <td>2017-10-23 00:00:00</td>\n",
              "    </tr>\n",
              "  </tbody>\n",
              "</table>\n",
              "<p>1783 rows × 8 columns</p>\n",
              "</div>"
            ],
            "text/plain": [
              "                               order_id                       customer_id  \\\n",
              "6      136cce7faa42fdb2cefd53fdc79a6098  ed0271e0b7da060a393796590e7b737a   \n",
              "103    0760a852e4e9d89eb77bf631eaaf1c84  d2a79636084590b7465af8ab374a8cf5   \n",
              "128    15bed8e2fec7fdbadb186b57c46c92f2  f3f0e613e0bdb9c7cee75504f0f90679   \n",
              "266    8e24261a7e58791d10cb1bf9da94df5c  64a254d30eed42cd0e6c36dddb88adf0   \n",
              "324    d3c8851a6651eeff2f73b0e011ac45d0  957f8e082185574de25992dc659ebbc0   \n",
              "...                                 ...                               ...   \n",
              "99283  3a3cddda5a7c27851bd96c3313412840  0b0d6095c5555fe083844281f6b093bb   \n",
              "99313  e9e64a17afa9653aacf2616d94c005b8  b4cd0522e632e481f8eaf766a2646e86   \n",
              "99347  a89abace0dcc01eeb267a9660b5ac126  2f0524a7b1b3845a1a57fcf3910c4333   \n",
              "99348  a69ba794cc7deb415c3e15a0a3877e69  726f0894b5becdf952ea537d5266e543   \n",
              "99415  5fabc81b6322c8443648e1b21a6fef21  32c9df889d41b0ee8309a5efb6855dcb   \n",
              "\n",
              "      order_status order_purchase_timestamp    order_approved_at  \\\n",
              "6         invoiced      2017-04-11 12:22:08  2017-04-13 13:25:17   \n",
              "103       invoiced      2018-08-03 17:44:42  2018-08-07 06:15:14   \n",
              "128     processing      2017-09-03 14:22:03  2017-09-03 14:30:09   \n",
              "266    unavailable      2017-11-16 15:09:28  2017-11-16 15:26:57   \n",
              "324     processing      2016-10-05 22:44:13  2016-10-06 15:51:05   \n",
              "...            ...                      ...                  ...   \n",
              "99283     canceled      2018-08-31 16:13:44  2018-08-31 16:13:44   \n",
              "99313   processing      2018-01-05 23:07:24  2018-01-09 07:18:05   \n",
              "99347     canceled      2018-09-06 18:45:47  2018-09-06 18:45:47   \n",
              "99348  unavailable      2017-08-23 16:28:04  2017-08-28 15:44:47   \n",
              "99415  unavailable      2017-10-10 10:50:03  2017-10-14 18:35:57   \n",
              "\n",
              "      order_delivered_carrier_date order_delivered_customer_date  \\\n",
              "6                              NaT                           NaN   \n",
              "103                            NaT                           NaN   \n",
              "128                            NaT                           NaN   \n",
              "266                            NaT                           NaN   \n",
              "324                            NaT                           NaN   \n",
              "...                            ...                           ...   \n",
              "99283                          NaT                           NaN   \n",
              "99313                          NaT                           NaN   \n",
              "99347                          NaT                           NaN   \n",
              "99348                          NaT                           NaN   \n",
              "99415                          NaT                           NaN   \n",
              "\n",
              "      order_estimated_delivery_date  \n",
              "6               2017-05-09 00:00:00  \n",
              "103             2018-08-21 00:00:00  \n",
              "128             2017-10-03 00:00:00  \n",
              "266             2017-12-05 00:00:00  \n",
              "324             2016-12-09 00:00:00  \n",
              "...                             ...  \n",
              "99283           2018-10-01 00:00:00  \n",
              "99313           2018-02-06 00:00:00  \n",
              "99347           2018-09-27 00:00:00  \n",
              "99348           2017-09-15 00:00:00  \n",
              "99415           2017-10-23 00:00:00  \n",
              "\n",
              "[1783 rows x 8 columns]"
            ]
          },
          "execution_count": 48,
          "metadata": {},
          "output_type": "execute_result"
        }
      ],
      "source": [
        "orders_df[orders_df.order_delivered_carrier_date.isna()]"
      ]
    },
    {
      "cell_type": "code",
      "execution_count": 49,
      "metadata": {
        "colab": {
          "base_uri": "https://localhost:8080/",
          "height": 490
        },
        "id": "G7MlTM9ofQc3",
        "outputId": "3e21aa04-92a6-4e61-8d4c-c9b743b6f58f"
      },
      "outputs": [
        {
          "data": {
            "text/plain": [
              "order_delivered_carrier_date\n",
              "2018-05-09 15:48:00    47\n",
              "2018-05-10 18:29:00    32\n",
              "2018-05-07 12:31:00    21\n",
              "2018-05-02 15:15:00    16\n",
              "2018-07-24 16:07:00    16\n",
              "                       ..\n",
              "2018-01-03 17:37:21     1\n",
              "2017-10-27 20:07:58     1\n",
              "2017-11-21 18:57:37     1\n",
              "2018-03-21 20:03:37     1\n",
              "2018-03-09 22:11:59     1\n",
              "Name: count, Length: 81018, dtype: int64"
            ]
          },
          "execution_count": 49,
          "metadata": {},
          "output_type": "execute_result"
        }
      ],
      "source": [
        "orders_df.order_delivered_carrier_date.value_counts()"
      ]
    },
    {
      "cell_type": "code",
      "execution_count": 50,
      "metadata": {
        "id": "RHkRXUo0fQ5O"
      },
      "outputs": [],
      "source": [
        "orders_df['order_delivered_carrier_date'] = pd.to_datetime(orders_df['order_delivered_carrier_date'], errors='coerce')"
      ]
    },
    {
      "cell_type": "markdown",
      "metadata": {
        "id": "LFHQTaTLiD3_"
      },
      "source": [
        "**Untuk analisis lebih akurat, digunakan median untuk memberikan nilai tengah yang tidak terpengaruh oleh data ekstrem, sehingga bisa memberikan analisis yang lebih stabil dan akurat.**"
      ]
    },
    {
      "cell_type": "code",
      "execution_count": 51,
      "metadata": {
        "id": "oBKYteCpfRUD"
      },
      "outputs": [],
      "source": [
        "average_date = orders_df['order_delivered_carrier_date'].mean()\n",
        "orders_df['order_delivered_carrier_date'] = orders_df['order_delivered_carrier_date'].fillna(average_date)"
      ]
    },
    {
      "cell_type": "code",
      "execution_count": 52,
      "metadata": {
        "colab": {
          "base_uri": "https://localhost:8080/"
        },
        "id": "EwcAaTzwfmhF",
        "outputId": "c4dd2007-5f74-45f7-afa0-cf2e8231ebfe"
      },
      "outputs": [
        {
          "name": "stdout",
          "output_type": "stream",
          "text": [
            "Jumlah missing value setelah pembersihan (order_delivered_carrier_date:\n",
            " order_id                            0\n",
            "customer_id                         0\n",
            "order_status                        0\n",
            "order_purchase_timestamp            0\n",
            "order_approved_at                   0\n",
            "order_delivered_carrier_date        0\n",
            "order_delivered_customer_date    2965\n",
            "order_estimated_delivery_date       0\n",
            "dtype: int64\n"
          ]
        }
      ],
      "source": [
        "print(\"Jumlah missing value setelah pembersihan (order_delivered_carrier_date:\\n\", orders_df.isna().sum())"
      ]
    },
    {
      "cell_type": "markdown",
      "metadata": {
        "id": "ERgdhJiBfqq3"
      },
      "source": [
        "##### Menangani Mising Value order_delivered_customer_date"
      ]
    },
    {
      "cell_type": "code",
      "execution_count": 53,
      "metadata": {
        "colab": {
          "base_uri": "https://localhost:8080/",
          "height": 424
        },
        "id": "vUOXYfPufrQX",
        "outputId": "138087fc-0907-4560-f012-f3177db71006"
      },
      "outputs": [
        {
          "data": {
            "text/html": [
              "<div>\n",
              "<style scoped>\n",
              "    .dataframe tbody tr th:only-of-type {\n",
              "        vertical-align: middle;\n",
              "    }\n",
              "\n",
              "    .dataframe tbody tr th {\n",
              "        vertical-align: top;\n",
              "    }\n",
              "\n",
              "    .dataframe thead th {\n",
              "        text-align: right;\n",
              "    }\n",
              "</style>\n",
              "<table border=\"1\" class=\"dataframe\">\n",
              "  <thead>\n",
              "    <tr style=\"text-align: right;\">\n",
              "      <th></th>\n",
              "      <th>order_id</th>\n",
              "      <th>customer_id</th>\n",
              "      <th>order_status</th>\n",
              "      <th>order_purchase_timestamp</th>\n",
              "      <th>order_approved_at</th>\n",
              "      <th>order_delivered_carrier_date</th>\n",
              "      <th>order_delivered_customer_date</th>\n",
              "      <th>order_estimated_delivery_date</th>\n",
              "    </tr>\n",
              "  </thead>\n",
              "  <tbody>\n",
              "    <tr>\n",
              "      <th>6</th>\n",
              "      <td>136cce7faa42fdb2cefd53fdc79a6098</td>\n",
              "      <td>ed0271e0b7da060a393796590e7b737a</td>\n",
              "      <td>invoiced</td>\n",
              "      <td>2017-04-11 12:22:08</td>\n",
              "      <td>2017-04-13 13:25:17</td>\n",
              "      <td>2018-01-04 21:49:48.138278656</td>\n",
              "      <td>NaN</td>\n",
              "      <td>2017-05-09 00:00:00</td>\n",
              "    </tr>\n",
              "    <tr>\n",
              "      <th>44</th>\n",
              "      <td>ee64d42b8cf066f35eac1cf57de1aa85</td>\n",
              "      <td>caded193e8e47b8362864762a83db3c5</td>\n",
              "      <td>shipped</td>\n",
              "      <td>2018-06-04 16:44:48</td>\n",
              "      <td>2018-06-05 04:31:18</td>\n",
              "      <td>2018-06-05 14:32:00.000000000</td>\n",
              "      <td>NaN</td>\n",
              "      <td>2018-06-28 00:00:00</td>\n",
              "    </tr>\n",
              "    <tr>\n",
              "      <th>103</th>\n",
              "      <td>0760a852e4e9d89eb77bf631eaaf1c84</td>\n",
              "      <td>d2a79636084590b7465af8ab374a8cf5</td>\n",
              "      <td>invoiced</td>\n",
              "      <td>2018-08-03 17:44:42</td>\n",
              "      <td>2018-08-07 06:15:14</td>\n",
              "      <td>2018-01-04 21:49:48.138278656</td>\n",
              "      <td>NaN</td>\n",
              "      <td>2018-08-21 00:00:00</td>\n",
              "    </tr>\n",
              "    <tr>\n",
              "      <th>128</th>\n",
              "      <td>15bed8e2fec7fdbadb186b57c46c92f2</td>\n",
              "      <td>f3f0e613e0bdb9c7cee75504f0f90679</td>\n",
              "      <td>processing</td>\n",
              "      <td>2017-09-03 14:22:03</td>\n",
              "      <td>2017-09-03 14:30:09</td>\n",
              "      <td>2018-01-04 21:49:48.138278656</td>\n",
              "      <td>NaN</td>\n",
              "      <td>2017-10-03 00:00:00</td>\n",
              "    </tr>\n",
              "    <tr>\n",
              "      <th>154</th>\n",
              "      <td>6942b8da583c2f9957e990d028607019</td>\n",
              "      <td>52006a9383bf149a4fb24226b173106f</td>\n",
              "      <td>shipped</td>\n",
              "      <td>2018-01-10 11:33:07</td>\n",
              "      <td>2018-01-11 02:32:30</td>\n",
              "      <td>2018-01-11 19:39:23.000000000</td>\n",
              "      <td>NaN</td>\n",
              "      <td>2018-02-07 00:00:00</td>\n",
              "    </tr>\n",
              "    <tr>\n",
              "      <th>...</th>\n",
              "      <td>...</td>\n",
              "      <td>...</td>\n",
              "      <td>...</td>\n",
              "      <td>...</td>\n",
              "      <td>...</td>\n",
              "      <td>...</td>\n",
              "      <td>...</td>\n",
              "      <td>...</td>\n",
              "    </tr>\n",
              "    <tr>\n",
              "      <th>99283</th>\n",
              "      <td>3a3cddda5a7c27851bd96c3313412840</td>\n",
              "      <td>0b0d6095c5555fe083844281f6b093bb</td>\n",
              "      <td>canceled</td>\n",
              "      <td>2018-08-31 16:13:44</td>\n",
              "      <td>2018-08-31 16:13:44</td>\n",
              "      <td>2018-01-04 21:49:48.138278656</td>\n",
              "      <td>NaN</td>\n",
              "      <td>2018-10-01 00:00:00</td>\n",
              "    </tr>\n",
              "    <tr>\n",
              "      <th>99313</th>\n",
              "      <td>e9e64a17afa9653aacf2616d94c005b8</td>\n",
              "      <td>b4cd0522e632e481f8eaf766a2646e86</td>\n",
              "      <td>processing</td>\n",
              "      <td>2018-01-05 23:07:24</td>\n",
              "      <td>2018-01-09 07:18:05</td>\n",
              "      <td>2018-01-04 21:49:48.138278656</td>\n",
              "      <td>NaN</td>\n",
              "      <td>2018-02-06 00:00:00</td>\n",
              "    </tr>\n",
              "    <tr>\n",
              "      <th>99347</th>\n",
              "      <td>a89abace0dcc01eeb267a9660b5ac126</td>\n",
              "      <td>2f0524a7b1b3845a1a57fcf3910c4333</td>\n",
              "      <td>canceled</td>\n",
              "      <td>2018-09-06 18:45:47</td>\n",
              "      <td>2018-09-06 18:45:47</td>\n",
              "      <td>2018-01-04 21:49:48.138278656</td>\n",
              "      <td>NaN</td>\n",
              "      <td>2018-09-27 00:00:00</td>\n",
              "    </tr>\n",
              "    <tr>\n",
              "      <th>99348</th>\n",
              "      <td>a69ba794cc7deb415c3e15a0a3877e69</td>\n",
              "      <td>726f0894b5becdf952ea537d5266e543</td>\n",
              "      <td>unavailable</td>\n",
              "      <td>2017-08-23 16:28:04</td>\n",
              "      <td>2017-08-28 15:44:47</td>\n",
              "      <td>2018-01-04 21:49:48.138278656</td>\n",
              "      <td>NaN</td>\n",
              "      <td>2017-09-15 00:00:00</td>\n",
              "    </tr>\n",
              "    <tr>\n",
              "      <th>99415</th>\n",
              "      <td>5fabc81b6322c8443648e1b21a6fef21</td>\n",
              "      <td>32c9df889d41b0ee8309a5efb6855dcb</td>\n",
              "      <td>unavailable</td>\n",
              "      <td>2017-10-10 10:50:03</td>\n",
              "      <td>2017-10-14 18:35:57</td>\n",
              "      <td>2018-01-04 21:49:48.138278656</td>\n",
              "      <td>NaN</td>\n",
              "      <td>2017-10-23 00:00:00</td>\n",
              "    </tr>\n",
              "  </tbody>\n",
              "</table>\n",
              "<p>2965 rows × 8 columns</p>\n",
              "</div>"
            ],
            "text/plain": [
              "                               order_id                       customer_id  \\\n",
              "6      136cce7faa42fdb2cefd53fdc79a6098  ed0271e0b7da060a393796590e7b737a   \n",
              "44     ee64d42b8cf066f35eac1cf57de1aa85  caded193e8e47b8362864762a83db3c5   \n",
              "103    0760a852e4e9d89eb77bf631eaaf1c84  d2a79636084590b7465af8ab374a8cf5   \n",
              "128    15bed8e2fec7fdbadb186b57c46c92f2  f3f0e613e0bdb9c7cee75504f0f90679   \n",
              "154    6942b8da583c2f9957e990d028607019  52006a9383bf149a4fb24226b173106f   \n",
              "...                                 ...                               ...   \n",
              "99283  3a3cddda5a7c27851bd96c3313412840  0b0d6095c5555fe083844281f6b093bb   \n",
              "99313  e9e64a17afa9653aacf2616d94c005b8  b4cd0522e632e481f8eaf766a2646e86   \n",
              "99347  a89abace0dcc01eeb267a9660b5ac126  2f0524a7b1b3845a1a57fcf3910c4333   \n",
              "99348  a69ba794cc7deb415c3e15a0a3877e69  726f0894b5becdf952ea537d5266e543   \n",
              "99415  5fabc81b6322c8443648e1b21a6fef21  32c9df889d41b0ee8309a5efb6855dcb   \n",
              "\n",
              "      order_status order_purchase_timestamp    order_approved_at  \\\n",
              "6         invoiced      2017-04-11 12:22:08  2017-04-13 13:25:17   \n",
              "44         shipped      2018-06-04 16:44:48  2018-06-05 04:31:18   \n",
              "103       invoiced      2018-08-03 17:44:42  2018-08-07 06:15:14   \n",
              "128     processing      2017-09-03 14:22:03  2017-09-03 14:30:09   \n",
              "154        shipped      2018-01-10 11:33:07  2018-01-11 02:32:30   \n",
              "...            ...                      ...                  ...   \n",
              "99283     canceled      2018-08-31 16:13:44  2018-08-31 16:13:44   \n",
              "99313   processing      2018-01-05 23:07:24  2018-01-09 07:18:05   \n",
              "99347     canceled      2018-09-06 18:45:47  2018-09-06 18:45:47   \n",
              "99348  unavailable      2017-08-23 16:28:04  2017-08-28 15:44:47   \n",
              "99415  unavailable      2017-10-10 10:50:03  2017-10-14 18:35:57   \n",
              "\n",
              "       order_delivered_carrier_date order_delivered_customer_date  \\\n",
              "6     2018-01-04 21:49:48.138278656                           NaN   \n",
              "44    2018-06-05 14:32:00.000000000                           NaN   \n",
              "103   2018-01-04 21:49:48.138278656                           NaN   \n",
              "128   2018-01-04 21:49:48.138278656                           NaN   \n",
              "154   2018-01-11 19:39:23.000000000                           NaN   \n",
              "...                             ...                           ...   \n",
              "99283 2018-01-04 21:49:48.138278656                           NaN   \n",
              "99313 2018-01-04 21:49:48.138278656                           NaN   \n",
              "99347 2018-01-04 21:49:48.138278656                           NaN   \n",
              "99348 2018-01-04 21:49:48.138278656                           NaN   \n",
              "99415 2018-01-04 21:49:48.138278656                           NaN   \n",
              "\n",
              "      order_estimated_delivery_date  \n",
              "6               2017-05-09 00:00:00  \n",
              "44              2018-06-28 00:00:00  \n",
              "103             2018-08-21 00:00:00  \n",
              "128             2017-10-03 00:00:00  \n",
              "154             2018-02-07 00:00:00  \n",
              "...                             ...  \n",
              "99283           2018-10-01 00:00:00  \n",
              "99313           2018-02-06 00:00:00  \n",
              "99347           2018-09-27 00:00:00  \n",
              "99348           2017-09-15 00:00:00  \n",
              "99415           2017-10-23 00:00:00  \n",
              "\n",
              "[2965 rows x 8 columns]"
            ]
          },
          "execution_count": 53,
          "metadata": {},
          "output_type": "execute_result"
        }
      ],
      "source": [
        "orders_df[orders_df.order_delivered_customer_date.isna()]"
      ]
    },
    {
      "cell_type": "code",
      "execution_count": 54,
      "metadata": {
        "colab": {
          "base_uri": "https://localhost:8080/",
          "height": 490
        },
        "id": "zSv3KpaWfrwt",
        "outputId": "7c06fd73-d8c9-436b-c241-c87c091ccb17"
      },
      "outputs": [
        {
          "data": {
            "text/plain": [
              "order_delivered_customer_date\n",
              "2018-05-08 23:38:46    3\n",
              "2016-10-27 17:32:07    3\n",
              "2018-02-14 21:09:19    3\n",
              "2017-06-19 18:47:51    3\n",
              "2018-05-08 19:36:48    3\n",
              "                      ..\n",
              "2018-07-12 17:48:45    1\n",
              "2018-05-18 18:24:36    1\n",
              "2018-01-17 13:29:13    1\n",
              "2018-06-29 11:21:34    1\n",
              "2018-03-16 13:08:30    1\n",
              "Name: count, Length: 95664, dtype: int64"
            ]
          },
          "execution_count": 54,
          "metadata": {},
          "output_type": "execute_result"
        }
      ],
      "source": [
        "orders_df.order_delivered_customer_date.value_counts()"
      ]
    },
    {
      "cell_type": "markdown",
      "metadata": {
        "id": "mYAs6guPioaI"
      },
      "source": [
        "**kasus yang ini sama seperti mising value sebelumnnya jadi perlu mengonversi kolom menjadi format tanggal (date time) dan kemudian mengisi missing value**"
      ]
    },
    {
      "cell_type": "code",
      "execution_count": 55,
      "metadata": {
        "id": "NKNcsXk4fsOo"
      },
      "outputs": [],
      "source": [
        "orders_df['order_delivered_customer_date'] = pd.to_datetime(orders_df['order_delivered_customer_date'], errors='coerce')"
      ]
    },
    {
      "cell_type": "markdown",
      "metadata": {
        "id": "IhWqmVYeiqbV"
      },
      "source": [
        "**Digunakan median memberikan nilai tengah yang tidak terpengaruh oleh data ekstrem, sehingga bisa memberikan gambaran yang lebih stabil dan akurat.**"
      ]
    },
    {
      "cell_type": "code",
      "execution_count": 56,
      "metadata": {
        "id": "QHNkACiof7cR"
      },
      "outputs": [],
      "source": [
        "median_date = orders_df['order_delivered_customer_date'].median()\n",
        "orders_df['order_delivered_customer_date'] = orders_df['order_delivered_customer_date'].fillna(median_date)"
      ]
    },
    {
      "cell_type": "code",
      "execution_count": 57,
      "metadata": {
        "colab": {
          "base_uri": "https://localhost:8080/"
        },
        "id": "OuEIQx8Hf_sK",
        "outputId": "9f666700-5ed6-4535-f8bc-086f88e0ba61"
      },
      "outputs": [
        {
          "name": "stdout",
          "output_type": "stream",
          "text": [
            "Jumlah missing value (order_delivered_customer_date) setelah pembersihan:\n",
            " order_id                         0\n",
            "customer_id                      0\n",
            "order_status                     0\n",
            "order_purchase_timestamp         0\n",
            "order_approved_at                0\n",
            "order_delivered_carrier_date     0\n",
            "order_delivered_customer_date    0\n",
            "order_estimated_delivery_date    0\n",
            "dtype: int64\n"
          ]
        }
      ],
      "source": [
        "print(\"Jumlah missing value (order_delivered_customer_date) setelah pembersihan:\\n\", orders_df.isna().sum())"
      ]
    },
    {
      "cell_type": "markdown",
      "metadata": {
        "id": "_SHw51NngBdK"
      },
      "source": [
        "##### Pengecekan Akhir Setalah Pembersihan 3 Missing Value pada orders_df"
      ]
    },
    {
      "cell_type": "code",
      "execution_count": 58,
      "metadata": {
        "colab": {
          "base_uri": "https://localhost:8080/",
          "height": 335
        },
        "id": "JxDuY9VUgB3s",
        "outputId": "5842ddff-f29d-4b5b-9e8b-d24f779c3d55"
      },
      "outputs": [
        {
          "data": {
            "text/plain": [
              "order_id                         0\n",
              "customer_id                      0\n",
              "order_status                     0\n",
              "order_purchase_timestamp         0\n",
              "order_approved_at                0\n",
              "order_delivered_carrier_date     0\n",
              "order_delivered_customer_date    0\n",
              "order_estimated_delivery_date    0\n",
              "dtype: int64"
            ]
          },
          "execution_count": 58,
          "metadata": {},
          "output_type": "execute_result"
        }
      ],
      "source": [
        "orders_df.isna().sum()"
      ]
    },
    {
      "cell_type": "markdown",
      "metadata": {
        "id": "hKZc3QkPguHV"
      },
      "source": [
        "#### Mengecek Duplikasi id"
      ]
    },
    {
      "cell_type": "code",
      "execution_count": 59,
      "metadata": {
        "colab": {
          "base_uri": "https://localhost:8080/"
        },
        "id": "7zPgZz_6hbPZ",
        "outputId": "d27fd79f-90b7-4241-acfa-85f6056978f0"
      },
      "outputs": [
        {
          "data": {
            "text/plain": [
              "True"
            ]
          },
          "execution_count": 59,
          "metadata": {},
          "output_type": "execute_result"
        }
      ],
      "source": [
        "orders_df.order_id.is_unique"
      ]
    },
    {
      "cell_type": "markdown",
      "metadata": {
        "id": "ctBnzCI-hiGO"
      },
      "source": [
        "**True menunjukkan bahwa setiap nilai di kolom orders_id hanya muncul sekali, jadi tidak ada duplikasi.**"
      ]
    },
    {
      "cell_type": "markdown",
      "metadata": {
        "id": "4FFOc8TBhxRw"
      },
      "source": [
        "#### Memeriksa Format Tanggal"
      ]
    },
    {
      "cell_type": "code",
      "execution_count": 60,
      "metadata": {
        "id": "-kkYSBKKh_TI"
      },
      "outputs": [],
      "source": [
        "date_columns = [\n",
        "    'order_purchase_timestamp',\n",
        "    'order_approved_at',\n",
        "    'order_delivered_carrier_date',\n",
        "    'order_delivered_customer_date'\n",
        "]"
      ]
    },
    {
      "cell_type": "code",
      "execution_count": 61,
      "metadata": {
        "id": "f_RqGwVTidPK"
      },
      "outputs": [],
      "source": [
        "def check_date_format(df, date_columns):\n",
        "    for col in date_columns:\n",
        "        try:\n",
        "            df[col] = pd.to_datetime(df[col], errors='raise')\n",
        "            print(f\"Kolom '{col}' valid. Tipe data: {df[col].dtype}\")\n",
        "        except Exception as e:\n",
        "            print(f\"Error pada kolom '{col}': {e}\")"
      ]
    },
    {
      "cell_type": "code",
      "execution_count": 62,
      "metadata": {
        "colab": {
          "base_uri": "https://localhost:8080/"
        },
        "id": "-jGCALNqij4X",
        "outputId": "ad76b294-d4cd-4ae9-a642-24dfff17b64d"
      },
      "outputs": [
        {
          "name": "stdout",
          "output_type": "stream",
          "text": [
            "Kolom 'order_purchase_timestamp' valid. Tipe data: datetime64[ns]\n",
            "Kolom 'order_approved_at' valid. Tipe data: datetime64[ns]\n",
            "Kolom 'order_delivered_carrier_date' valid. Tipe data: datetime64[ns]\n",
            "Kolom 'order_delivered_customer_date' valid. Tipe data: datetime64[ns]\n"
          ]
        }
      ],
      "source": [
        "check_date_format(orders_df, date_columns)"
      ]
    },
    {
      "cell_type": "markdown",
      "metadata": {
        "id": "MRMhvmUiivZE"
      },
      "source": [
        "**kalau valid berarti menunjukan setiap kolom tanggal terformat dengan benar**"
      ]
    },
    {
      "cell_type": "code",
      "execution_count": 63,
      "metadata": {
        "colab": {
          "base_uri": "https://localhost:8080/",
          "height": 335
        },
        "id": "79KOZd2anzdj",
        "outputId": "940d9204-5b3a-4669-95b7-67c38da11bf9"
      },
      "outputs": [
        {
          "data": {
            "text/plain": [
              "order_id                                 object\n",
              "customer_id                              object\n",
              "order_status                             object\n",
              "order_purchase_timestamp         datetime64[ns]\n",
              "order_approved_at                datetime64[ns]\n",
              "order_delivered_carrier_date     datetime64[ns]\n",
              "order_delivered_customer_date    datetime64[ns]\n",
              "order_estimated_delivery_date            object\n",
              "dtype: object"
            ]
          },
          "execution_count": 63,
          "metadata": {},
          "output_type": "execute_result"
        }
      ],
      "source": [
        "orders_df.dtypes"
      ]
    },
    {
      "cell_type": "markdown",
      "metadata": {
        "id": "2as9sq7Rhx6I"
      },
      "source": [
        "#### Menangani Tanggal Pengiriman Yang Lebih Awal Dari Tanggal Pembelian"
      ]
    },
    {
      "cell_type": "code",
      "execution_count": 64,
      "metadata": {
        "colab": {
          "base_uri": "https://localhost:8080/"
        },
        "id": "X1bTAN3iiTRK",
        "outputId": "76103ab8-ca4f-45b1-a345-9afd1c93e026"
      },
      "outputs": [
        {
          "name": "stdout",
          "output_type": "stream",
          "text": [
            "\n",
            "Jumlah baris dengan tanggal pengiriman lebih awal dari tanggal pembelian: 1023\n"
          ]
        }
      ],
      "source": [
        "invalid_delivery_dates = orders_df[orders_df['order_delivered_customer_date'] < orders_df['order_purchase_timestamp']]\n",
        "print(f\"\\nJumlah baris dengan tanggal pengiriman lebih awal dari tanggal pembelian: {invalid_delivery_dates.shape[0]}\")"
      ]
    },
    {
      "cell_type": "code",
      "execution_count": 65,
      "metadata": {
        "colab": {
          "base_uri": "https://localhost:8080/",
          "height": 241
        },
        "id": "5JCNJkdki1pj",
        "outputId": "c8bb2709-a47f-4b22-fd0e-9f362b65a9f8"
      },
      "outputs": [
        {
          "name": "stdout",
          "output_type": "stream",
          "text": [
            "\n",
            "Beberapa baris dengan tanggal pengiriman lebih awal dari tanggal pembelian:\n"
          ]
        },
        {
          "data": {
            "text/html": [
              "<div>\n",
              "<style scoped>\n",
              "    .dataframe tbody tr th:only-of-type {\n",
              "        vertical-align: middle;\n",
              "    }\n",
              "\n",
              "    .dataframe tbody tr th {\n",
              "        vertical-align: top;\n",
              "    }\n",
              "\n",
              "    .dataframe thead th {\n",
              "        text-align: right;\n",
              "    }\n",
              "</style>\n",
              "<table border=\"1\" class=\"dataframe\">\n",
              "  <thead>\n",
              "    <tr style=\"text-align: right;\">\n",
              "      <th></th>\n",
              "      <th>order_id</th>\n",
              "      <th>order_purchase_timestamp</th>\n",
              "      <th>order_delivered_customer_date</th>\n",
              "    </tr>\n",
              "  </thead>\n",
              "  <tbody>\n",
              "    <tr>\n",
              "      <th>44</th>\n",
              "      <td>ee64d42b8cf066f35eac1cf57de1aa85</td>\n",
              "      <td>2018-06-04 16:44:48</td>\n",
              "      <td>2018-02-02 19:28:10.500</td>\n",
              "    </tr>\n",
              "    <tr>\n",
              "      <th>103</th>\n",
              "      <td>0760a852e4e9d89eb77bf631eaaf1c84</td>\n",
              "      <td>2018-08-03 17:44:42</td>\n",
              "      <td>2018-02-02 19:28:10.500</td>\n",
              "    </tr>\n",
              "    <tr>\n",
              "      <th>299</th>\n",
              "      <td>3b4ad687e7e5190db827e1ae5a8989dd</td>\n",
              "      <td>2018-06-28 12:52:15</td>\n",
              "      <td>2018-02-02 19:28:10.500</td>\n",
              "    </tr>\n",
              "    <tr>\n",
              "      <th>305</th>\n",
              "      <td>b68d69564a79dea4776afa33d1d2fcab</td>\n",
              "      <td>2018-02-28 08:57:03</td>\n",
              "      <td>2018-02-02 19:28:10.500</td>\n",
              "    </tr>\n",
              "    <tr>\n",
              "      <th>333</th>\n",
              "      <td>f373335aac9a659de916f7170b8bc07a</td>\n",
              "      <td>2018-03-17 15:32:31</td>\n",
              "      <td>2018-02-02 19:28:10.500</td>\n",
              "    </tr>\n",
              "  </tbody>\n",
              "</table>\n",
              "</div>"
            ],
            "text/plain": [
              "                             order_id order_purchase_timestamp  \\\n",
              "44   ee64d42b8cf066f35eac1cf57de1aa85      2018-06-04 16:44:48   \n",
              "103  0760a852e4e9d89eb77bf631eaaf1c84      2018-08-03 17:44:42   \n",
              "299  3b4ad687e7e5190db827e1ae5a8989dd      2018-06-28 12:52:15   \n",
              "305  b68d69564a79dea4776afa33d1d2fcab      2018-02-28 08:57:03   \n",
              "333  f373335aac9a659de916f7170b8bc07a      2018-03-17 15:32:31   \n",
              "\n",
              "    order_delivered_customer_date  \n",
              "44        2018-02-02 19:28:10.500  \n",
              "103       2018-02-02 19:28:10.500  \n",
              "299       2018-02-02 19:28:10.500  \n",
              "305       2018-02-02 19:28:10.500  \n",
              "333       2018-02-02 19:28:10.500  "
            ]
          },
          "execution_count": 65,
          "metadata": {},
          "output_type": "execute_result"
        }
      ],
      "source": [
        "print(\"\\nBeberapa baris dengan tanggal pengiriman lebih awal dari tanggal pembelian:\")\n",
        "invalid_delivery_dates[['order_id', 'order_purchase_timestamp', 'order_delivered_customer_date']].head()"
      ]
    },
    {
      "cell_type": "markdown",
      "metadata": {
        "id": "nkRQyLIyj3JP"
      },
      "source": [
        "**Dikarenakan adanya tanggal pengiriman yang lebih awal dari tanggal pembelian, keputusan yang diambil adalah mengganti tanggal pengiriman dengan tanggal pembelian sebagai estimasi. Hal ini untuk memastikan data tetap konsisten dan analisis berjalan dengan akurat.**"
      ]
    },
    {
      "cell_type": "code",
      "execution_count": 66,
      "metadata": {
        "id": "0JUyV-9kjMOB"
      },
      "outputs": [],
      "source": [
        "orders_df['order_delivered_customer_date'] = orders_df.apply(\n",
        "    lambda row: row['order_purchase_timestamp'] if row['order_delivered_customer_date'] < row['order_purchase_timestamp'] else row['order_delivered_customer_date'],\n",
        "    axis=1\n",
        ")"
      ]
    },
    {
      "cell_type": "code",
      "execution_count": 67,
      "metadata": {
        "colab": {
          "base_uri": "https://localhost:8080/"
        },
        "id": "NjdR7tFkkWOu",
        "outputId": "34ea7555-b80b-4b2d-b351-dc95cbe2b966"
      },
      "outputs": [
        {
          "name": "stdout",
          "output_type": "stream",
          "text": [
            "\n",
            "Hasil setelah penghapusan untuk memastikan perubahan: 0\n"
          ]
        }
      ],
      "source": [
        "invalid_delivery_dates = orders_df[orders_df['order_delivered_customer_date'] < orders_df['order_purchase_timestamp']]\n",
        "print(f\"\\nHasil setelah penghapusan untuk memastikan perubahan: {invalid_delivery_dates.shape[0]}\")"
      ]
    },
    {
      "cell_type": "markdown",
      "metadata": {
        "id": "_S1C2QwP3ftR"
      },
      "source": [
        "#### Menangani Ketidaksesuaian pada Tanggal Pengiriman oleh Kurir"
      ]
    },
    {
      "cell_type": "code",
      "execution_count": 68,
      "metadata": {
        "colab": {
          "base_uri": "https://localhost:8080/",
          "height": 224
        },
        "id": "2PjIM--y3_V5",
        "outputId": "596bb828-058e-4027-c39e-482df1219d37"
      },
      "outputs": [
        {
          "name": "stdout",
          "output_type": "stream",
          "text": [
            "Jumlah anomali: 570\n"
          ]
        },
        {
          "data": {
            "text/html": [
              "<div>\n",
              "<style scoped>\n",
              "    .dataframe tbody tr th:only-of-type {\n",
              "        vertical-align: middle;\n",
              "    }\n",
              "\n",
              "    .dataframe tbody tr th {\n",
              "        vertical-align: top;\n",
              "    }\n",
              "\n",
              "    .dataframe thead th {\n",
              "        text-align: right;\n",
              "    }\n",
              "</style>\n",
              "<table border=\"1\" class=\"dataframe\">\n",
              "  <thead>\n",
              "    <tr style=\"text-align: right;\">\n",
              "      <th></th>\n",
              "      <th>order_id</th>\n",
              "      <th>customer_id</th>\n",
              "      <th>order_status</th>\n",
              "      <th>order_purchase_timestamp</th>\n",
              "      <th>order_approved_at</th>\n",
              "      <th>order_delivered_carrier_date</th>\n",
              "      <th>order_delivered_customer_date</th>\n",
              "      <th>order_estimated_delivery_date</th>\n",
              "    </tr>\n",
              "  </thead>\n",
              "  <tbody>\n",
              "    <tr>\n",
              "      <th>44</th>\n",
              "      <td>ee64d42b8cf066f35eac1cf57de1aa85</td>\n",
              "      <td>caded193e8e47b8362864762a83db3c5</td>\n",
              "      <td>shipped</td>\n",
              "      <td>2018-06-04 16:44:48</td>\n",
              "      <td>2018-06-05 04:31:18</td>\n",
              "      <td>2018-06-05 14:32:00</td>\n",
              "      <td>2018-06-04 16:44:48</td>\n",
              "      <td>2018-06-28 00:00:00</td>\n",
              "    </tr>\n",
              "    <tr>\n",
              "      <th>299</th>\n",
              "      <td>3b4ad687e7e5190db827e1ae5a8989dd</td>\n",
              "      <td>1a87b8517b7d31373b50396eb15cb445</td>\n",
              "      <td>shipped</td>\n",
              "      <td>2018-06-28 12:52:15</td>\n",
              "      <td>2018-06-28 13:11:09</td>\n",
              "      <td>2018-07-04 15:20:00</td>\n",
              "      <td>2018-06-28 12:52:15</td>\n",
              "      <td>2018-08-03 00:00:00</td>\n",
              "    </tr>\n",
              "    <tr>\n",
              "      <th>305</th>\n",
              "      <td>b68d69564a79dea4776afa33d1d2fcab</td>\n",
              "      <td>de1e5517fb50896bbdcff5814fb31802</td>\n",
              "      <td>shipped</td>\n",
              "      <td>2018-02-28 08:57:03</td>\n",
              "      <td>2018-02-28 10:40:35</td>\n",
              "      <td>2018-03-05 16:10:13</td>\n",
              "      <td>2018-02-28 08:57:03</td>\n",
              "      <td>2018-03-23 00:00:00</td>\n",
              "    </tr>\n",
              "    <tr>\n",
              "      <th>333</th>\n",
              "      <td>f373335aac9a659de916f7170b8bc07a</td>\n",
              "      <td>f06a94a401e52fb019c72f2e8bbf6a2f</td>\n",
              "      <td>shipped</td>\n",
              "      <td>2018-03-17 15:32:31</td>\n",
              "      <td>2018-03-17 15:48:40</td>\n",
              "      <td>2018-03-20 21:08:28</td>\n",
              "      <td>2018-03-17 15:32:31</td>\n",
              "      <td>2018-04-13 00:00:00</td>\n",
              "    </tr>\n",
              "    <tr>\n",
              "      <th>374</th>\n",
              "      <td>5869074071e0f56e9085dc3742c97b2a</td>\n",
              "      <td>7203eb38fea2b4a15dd6c39575314aa4</td>\n",
              "      <td>shipped</td>\n",
              "      <td>2018-06-08 20:06:48</td>\n",
              "      <td>2018-06-12 04:35:37</td>\n",
              "      <td>2018-06-12 14:09:00</td>\n",
              "      <td>2018-06-08 20:06:48</td>\n",
              "      <td>2018-06-28 00:00:00</td>\n",
              "    </tr>\n",
              "  </tbody>\n",
              "</table>\n",
              "</div>"
            ],
            "text/plain": [
              "                             order_id                       customer_id  \\\n",
              "44   ee64d42b8cf066f35eac1cf57de1aa85  caded193e8e47b8362864762a83db3c5   \n",
              "299  3b4ad687e7e5190db827e1ae5a8989dd  1a87b8517b7d31373b50396eb15cb445   \n",
              "305  b68d69564a79dea4776afa33d1d2fcab  de1e5517fb50896bbdcff5814fb31802   \n",
              "333  f373335aac9a659de916f7170b8bc07a  f06a94a401e52fb019c72f2e8bbf6a2f   \n",
              "374  5869074071e0f56e9085dc3742c97b2a  7203eb38fea2b4a15dd6c39575314aa4   \n",
              "\n",
              "    order_status order_purchase_timestamp   order_approved_at  \\\n",
              "44       shipped      2018-06-04 16:44:48 2018-06-05 04:31:18   \n",
              "299      shipped      2018-06-28 12:52:15 2018-06-28 13:11:09   \n",
              "305      shipped      2018-02-28 08:57:03 2018-02-28 10:40:35   \n",
              "333      shipped      2018-03-17 15:32:31 2018-03-17 15:48:40   \n",
              "374      shipped      2018-06-08 20:06:48 2018-06-12 04:35:37   \n",
              "\n",
              "    order_delivered_carrier_date order_delivered_customer_date  \\\n",
              "44           2018-06-05 14:32:00           2018-06-04 16:44:48   \n",
              "299          2018-07-04 15:20:00           2018-06-28 12:52:15   \n",
              "305          2018-03-05 16:10:13           2018-02-28 08:57:03   \n",
              "333          2018-03-20 21:08:28           2018-03-17 15:32:31   \n",
              "374          2018-06-12 14:09:00           2018-06-08 20:06:48   \n",
              "\n",
              "    order_estimated_delivery_date  \n",
              "44            2018-06-28 00:00:00  \n",
              "299           2018-08-03 00:00:00  \n",
              "305           2018-03-23 00:00:00  \n",
              "333           2018-04-13 00:00:00  \n",
              "374           2018-06-28 00:00:00  "
            ]
          },
          "execution_count": 68,
          "metadata": {},
          "output_type": "execute_result"
        }
      ],
      "source": [
        "invalid_dates_carrier = orders_df[orders_df['order_delivered_customer_date'] < orders_df['order_delivered_carrier_date']]\n",
        "print(f\"Jumlah anomali: {len(invalid_dates_carrier)}\")\n",
        "invalid_dates_carrier.head()"
      ]
    },
    {
      "cell_type": "code",
      "execution_count": 69,
      "metadata": {
        "id": "pVm6QXxD-LIc"
      },
      "outputs": [],
      "source": [
        "total_orders = orders_df.shape[0]\n",
        "invalid_dates_carrier = orders_df[orders_df['order_delivered_customer_date'] < orders_df['order_delivered_carrier_date']]\n",
        "valid_dates_carrier = total_orders - invalid_dates_carrier.shape[0]\n",
        "percentage_invalid_carrier = (invalid_dates_carrier.shape[0] / total_orders) * 100\n",
        "percentage_valid_carrier = 100 - percentage_invalid_carrier"
      ]
    },
    {
      "cell_type": "code",
      "execution_count": 70,
      "metadata": {
        "colab": {
          "base_uri": "https://localhost:8080/"
        },
        "id": "RDzLX2x4-Uis",
        "outputId": "3fe7cb88-6606-4ed2-b1de-e605959dd033"
      },
      "outputs": [
        {
          "data": {
            "text/plain": [
              "{'Total Orders': 99441,\n",
              " 'Invalid Orders (Pengiriman Kurir Salah Waktu)': 570,\n",
              " 'Valid Orders (Pengiriman Kurir)': 98871,\n",
              " 'Persentase Invalid Orders (Pengiriman Kurir)': 0.5732042115425228,\n",
              " 'Persentase Valid Orders (Pengiriman Kurir)': 99.42679578845748}"
            ]
          },
          "execution_count": 70,
          "metadata": {},
          "output_type": "execute_result"
        }
      ],
      "source": [
        "comparison = {\n",
        "    \"Total Orders\": total_orders,\n",
        "    \"Invalid Orders (Pengiriman Kurir Salah Waktu)\": invalid_dates_carrier.shape[0],\n",
        "    \"Valid Orders (Pengiriman Kurir)\": valid_dates_carrier,\n",
        "    \"Persentase Invalid Orders (Pengiriman Kurir)\": percentage_invalid_carrier,\n",
        "    \"Persentase Valid Orders (Pengiriman Kurir)\": percentage_valid_carrier,\n",
        "}\n",
        "comparison"
      ]
    },
    {
      "cell_type": "markdown",
      "metadata": {
        "id": "QHnyQje--9Ya"
      },
      "source": [
        "**Karena hanya 0,57% data yang tidak sesuai antara tanggal pengiriman customer dan tanggal pengiriman kurir, keputusan yang diambil adalah menyesuaikan tanggal pengiriman oleh kurir agar sesuai dengan tanggal pengiriman customer yang lebih logis. Hal ini dilakukan untuk memastikan data yang digunakan dalam analisis waktu pengiriman yang cepat tetap akurat dan relevan.**"
      ]
    },
    {
      "cell_type": "code",
      "execution_count": 71,
      "metadata": {
        "id": "CrD8njSKLoEK"
      },
      "outputs": [],
      "source": [
        "orders_df.loc[orders_df['order_delivered_customer_date'] < orders_df['order_delivered_carrier_date'], 'order_delivered_carrier_date'] = orders_df['order_delivered_customer_date']"
      ]
    },
    {
      "cell_type": "code",
      "execution_count": 72,
      "metadata": {
        "colab": {
          "base_uri": "https://localhost:8080/"
        },
        "id": "uJFJioOhDPr7",
        "outputId": "a69a7c30-35b3-4e2d-e55b-4778dd98ff72"
      },
      "outputs": [
        {
          "name": "stdout",
          "output_type": "stream",
          "text": [
            "\n",
            "Hasil setelah penghapusan untuk memastikan perubahan: 0\n"
          ]
        }
      ],
      "source": [
        "print(f\"\\nHasil setelah penghapusan untuk memastikan perubahan: {orders_df[orders_df['order_delivered_customer_date'] < orders_df['order_delivered_carrier_date']].shape[0]}\")"
      ]
    },
    {
      "cell_type": "markdown",
      "metadata": {
        "id": "LNvF8AsFI_SA"
      },
      "source": [
        "### clear  data order items"
      ]
    },
    {
      "cell_type": "markdown",
      "metadata": {
        "id": "434DRh2GmjyD"
      },
      "source": [
        "#### Memeriksa Format Tanggal"
      ]
    },
    {
      "cell_type": "code",
      "execution_count": 73,
      "metadata": {
        "id": "ZavL54hJH9Ld"
      },
      "outputs": [],
      "source": [
        "items_df['shipping_limit_date'] = pd.to_datetime(items_df['shipping_limit_date'], errors='coerce')"
      ]
    },
    {
      "cell_type": "code",
      "execution_count": 74,
      "metadata": {
        "id": "LlOlhBOqnn1D"
      },
      "outputs": [],
      "source": [
        "items_df['price'] = items_df['price'].astype(float)\n",
        "items_df['freight_value'] = items_df['freight_value'].astype(float)"
      ]
    },
    {
      "cell_type": "code",
      "execution_count": 75,
      "metadata": {
        "colab": {
          "base_uri": "https://localhost:8080/",
          "height": 304
        },
        "id": "0kb1X7vOnrXm",
        "outputId": "57bba745-5f30-4a03-b32f-75e9da184a5d"
      },
      "outputs": [
        {
          "data": {
            "text/plain": [
              "order_id                       object\n",
              "order_item_id                   int64\n",
              "product_id                     object\n",
              "seller_id                      object\n",
              "shipping_limit_date    datetime64[ns]\n",
              "price                         float64\n",
              "freight_value                 float64\n",
              "dtype: object"
            ]
          },
          "execution_count": 75,
          "metadata": {},
          "output_type": "execute_result"
        }
      ],
      "source": [
        "items_df.dtypes"
      ]
    },
    {
      "cell_type": "markdown",
      "metadata": {
        "id": "FIAO3gwwn5NR"
      },
      "source": [
        "#### Memeriksa price dan freight_value Yang Negatif"
      ]
    },
    {
      "cell_type": "code",
      "execution_count": 76,
      "metadata": {
        "colab": {
          "base_uri": "https://localhost:8080/"
        },
        "id": "dkMVS7ZlxqBs",
        "outputId": "80f083cd-956d-4182-f8ed-0f6a9ec6daf9"
      },
      "outputs": [
        {
          "name": "stdout",
          "output_type": "stream",
          "text": [
            "Jumlah harga negatif: 0\n",
            "Jumlah biaya pengiriman negatif: 0\n"
          ]
        }
      ],
      "source": [
        "negative_price = items_df[items_df['price'] < 0]\n",
        "negative_freight = items_df[items_df['freight_value'] < 0]\n",
        "\n",
        "print(f\"Jumlah harga negatif: {negative_price.shape[0]}\")\n",
        "print(f\"Jumlah biaya pengiriman negatif: {negative_freight.shape[0]}\")"
      ]
    },
    {
      "cell_type": "markdown",
      "metadata": {
        "id": "ymwAu53R0XfN"
      },
      "source": [
        "#### Memeriksa price dan freight_value Yang Kosong (0)"
      ]
    },
    {
      "cell_type": "code",
      "execution_count": 77,
      "metadata": {
        "colab": {
          "base_uri": "https://localhost:8080/"
        },
        "id": "9mTJerSKyIF-",
        "outputId": "a8adb4a5-4594-4d9a-80c5-e61c00eddc7f"
      },
      "outputs": [
        {
          "name": "stdout",
          "output_type": "stream",
          "text": [
            "Jumlah harga kosong :0\n",
            "Jumlah biaya pengiriman kosong :383\n"
          ]
        }
      ],
      "source": [
        "zero_price = items_df[items_df['price'] == 0]\n",
        "zero_freight = items_df[items_df['freight_value'] == 0]\n",
        "\n",
        "print(f\"Jumlah harga kosong :{zero_price.shape[0]}\")\n",
        "print(f\"Jumlah biaya pengiriman kosong :{zero_freight.shape[0]}\")"
      ]
    },
    {
      "cell_type": "code",
      "execution_count": 78,
      "metadata": {
        "colab": {
          "base_uri": "https://localhost:8080/"
        },
        "id": "Ol44Y-D4Irve",
        "outputId": "2379d759-c261-4db8-e808-904de85a5c03"
      },
      "outputs": [
        {
          "data": {
            "text/plain": [
              "{'Total Data Items': 112650,\n",
              " 'Data dengan Biaya Pengiriman Kosong': 383,\n",
              " 'Persentase Biaya Pengiriman Kosong': 0.33999112294718153,\n",
              " 'Persentase Biaya Pengiriman Tidak Kosong': 99.66000887705282}"
            ]
          },
          "execution_count": 78,
          "metadata": {},
          "output_type": "execute_result"
        }
      ],
      "source": [
        "total_items = items_df.shape[0]\n",
        "total_zero_freight = zero_freight.shape[0]\n",
        "percentage_zero_freight = (zero_freight.shape[0] / total_items) * 100\n",
        "percentage_non_zero_freight = 100 - percentage_zero_freight\n",
        "\n",
        "comparison = {\n",
        "    \"Total Data Items\": total_items,\n",
        "    \"Data dengan Biaya Pengiriman Kosong\": total_zero_freight,\n",
        "    \"Persentase Biaya Pengiriman Kosong\": percentage_zero_freight,\n",
        "    \"Persentase Biaya Pengiriman Tidak Kosong\": percentage_non_zero_freight\n",
        "}\n",
        "comparison"
      ]
    },
    {
      "cell_type": "markdown",
      "metadata": {
        "id": "wNK9D10Dgsuk"
      },
      "source": [
        "**Dikarenakan jumlah biaya pengiriman kosong hanya mencakup kurang dari 1% dari total data, opsi penghapusan data (drop) dipilih untuk memastikan keakuratan analisis terkait preferensi produk dan waktu pengiriman.**"
      ]
    },
    {
      "cell_type": "code",
      "execution_count": 79,
      "metadata": {
        "id": "mDYlfLbSgtJ8"
      },
      "outputs": [],
      "source": [
        "items_df.drop(items_df[items_df['freight_value'] == 0].index, inplace=True)"
      ]
    },
    {
      "cell_type": "code",
      "execution_count": 80,
      "metadata": {
        "colab": {
          "base_uri": "https://localhost:8080/"
        },
        "id": "1ig1XEo3gtyD",
        "outputId": "84970f65-f111-4787-bc4f-4a3239e67c46"
      },
      "outputs": [
        {
          "name": "stdout",
          "output_type": "stream",
          "text": [
            "Hasil setelah penghapusan untuk memastikan perubahan: 0\n"
          ]
        }
      ],
      "source": [
        "zero_freight_after_drop = items_df[items_df['freight_value'] == 0]\n",
        "print(f\"Hasil setelah penghapusan untuk memastikan perubahan: {zero_freight_after_drop.shape[0]}\")"
      ]
    },
    {
      "cell_type": "markdown",
      "metadata": {
        "id": "NAz8n-g0FvIU"
      },
      "source": [
        "#### Memeriksa Kecocokan Beberapa Item (order_id, product_id, seller_id)"
      ]
    },
    {
      "cell_type": "markdown",
      "metadata": {
        "id": "tEZT8MWUGRMn"
      },
      "source": [
        "##### Kecocokan Antara order_id Dengan tabel orders_df"
      ]
    },
    {
      "cell_type": "code",
      "execution_count": 81,
      "metadata": {
        "colab": {
          "base_uri": "https://localhost:8080/"
        },
        "id": "i2PNfnHB1DDD",
        "outputId": "7c36b589-5d83-4d98-b792-d8352e866da4"
      },
      "outputs": [
        {
          "name": "stdout",
          "output_type": "stream",
          "text": [
            "Jumlah order_id yang tidak cocok: 0\n"
          ]
        }
      ],
      "source": [
        "invalid_order_ids = items_df[~items_df['order_id'].isin(orders_df['order_id'])]\n",
        "print(f\"Jumlah order_id yang tidak cocok: {invalid_order_ids.shape[0]}\")"
      ]
    },
    {
      "cell_type": "markdown",
      "metadata": {
        "id": "qW6m27vqVbE5"
      },
      "source": [
        "**Order ID yang tidak ditemukan pada tabel orders_df dihapus karena data ini tidak memiliki informasi pendukung yang lengkap untuk analisis. Pembersihan ini bertujuan untuk meningkatkan akurasi analisis dan prediksi terkait pola pembelian dan ulasan produk**"
      ]
    },
    {
      "cell_type": "code",
      "execution_count": 82,
      "metadata": {
        "id": "HCP7nagrVbiG"
      },
      "outputs": [],
      "source": [
        "items_df.drop(index=items_df[~items_df['order_id'].isin(orders_df['order_id'])].index, inplace=True)"
      ]
    },
    {
      "cell_type": "code",
      "execution_count": 83,
      "metadata": {
        "colab": {
          "base_uri": "https://localhost:8080/"
        },
        "id": "P_FD6GufVb9L",
        "outputId": "62b133e5-26e6-4574-ba99-c1d237ad105a"
      },
      "outputs": [
        {
          "name": "stdout",
          "output_type": "stream",
          "text": [
            "Jumlah order_id yang tidak cocok setelah pembersihan: 0\n",
            "Jumlah data setelah pembersihan: 112267\n"
          ]
        }
      ],
      "source": [
        "invalid_order_ids = items_df[~items_df['order_id'].isin(orders_df['order_id'])]\n",
        "print(f\"Jumlah order_id yang tidak cocok setelah pembersihan: {invalid_order_ids.shape[0]}\")\n",
        "print(f\"Jumlah data setelah pembersihan: {items_df.shape[0]}\")"
      ]
    },
    {
      "cell_type": "markdown",
      "metadata": {
        "id": "YCKshhKnGRub"
      },
      "source": [
        "##### Kecocokan Antara product_id Dengan tabel products_df"
      ]
    },
    {
      "cell_type": "code",
      "execution_count": 84,
      "metadata": {
        "colab": {
          "base_uri": "https://localhost:8080/"
        },
        "id": "6-JjmIEz1Vwl",
        "outputId": "baf68fa9-43d4-4915-a3df-87e6529c9622"
      },
      "outputs": [
        {
          "name": "stdout",
          "output_type": "stream",
          "text": [
            "Jumlah product_id yang tidak cocok: 0\n"
          ]
        }
      ],
      "source": [
        "invalid_product_ids = items_df[~items_df['product_id'].isin(products_df['product_id'])]\n",
        "print(f\"Jumlah product_id yang tidak cocok: {invalid_product_ids.shape[0]}\")"
      ]
    },
    {
      "cell_type": "markdown",
      "metadata": {
        "id": "qYoFik9nGSPz"
      },
      "source": [
        "##### Kecocokan Antara sellers_id Dengan tabel sellers_df"
      ]
    },
    {
      "cell_type": "code",
      "execution_count": 85,
      "metadata": {
        "colab": {
          "base_uri": "https://localhost:8080/"
        },
        "id": "pEgUD5xm1czH",
        "outputId": "a8f98d53-d971-49d6-a6e2-d9596e534d35"
      },
      "outputs": [
        {
          "name": "stdout",
          "output_type": "stream",
          "text": [
            "Jumlah seller_id yang tidak cocok: 0\n"
          ]
        }
      ],
      "source": [
        "invalid_seller_ids = items_df[~items_df['seller_id'].isin(sellers_df['seller_id'])]\n",
        "print(f\"Jumlah seller_id yang tidak cocok: {invalid_seller_ids.shape[0]}\")"
      ]
    },
    {
      "cell_type": "markdown",
      "metadata": {
        "id": "8TTj-AcsmEG2"
      },
      "source": [
        "##### Memeriksa Duplikasi Beberapa Item (order_id, product_id, seller_id)"
      ]
    },
    {
      "cell_type": "code",
      "execution_count": 86,
      "metadata": {
        "colab": {
          "base_uri": "https://localhost:8080/"
        },
        "id": "bdLNo7dZlsIG",
        "outputId": "319967ed-e6c8-4a7e-9378-ccc2db6e5e08"
      },
      "outputs": [
        {
          "name": "stdout",
          "output_type": "stream",
          "text": [
            "Jumlah duplikasi berdasarkan order_id, product_id, dan seller_id: 10181\n"
          ]
        }
      ],
      "source": [
        "items_df.duplicated(subset=['order_id', 'product_id', 'seller_id']).sum()\n",
        "print(\"Jumlah duplikasi berdasarkan order_id, product_id, dan seller_id:\", items_df.duplicated(subset=['order_id', 'product_id', 'seller_id']).sum())"
      ]
    },
    {
      "cell_type": "code",
      "execution_count": 87,
      "metadata": {
        "colab": {
          "base_uri": "https://localhost:8080/",
          "height": 424
        },
        "id": "1cbdTGMxVmhs",
        "outputId": "0e86efd9-4083-44cd-909e-2119a3bbce73"
      },
      "outputs": [
        {
          "data": {
            "text/html": [
              "<div>\n",
              "<style scoped>\n",
              "    .dataframe tbody tr th:only-of-type {\n",
              "        vertical-align: middle;\n",
              "    }\n",
              "\n",
              "    .dataframe tbody tr th {\n",
              "        vertical-align: top;\n",
              "    }\n",
              "\n",
              "    .dataframe thead th {\n",
              "        text-align: right;\n",
              "    }\n",
              "</style>\n",
              "<table border=\"1\" class=\"dataframe\">\n",
              "  <thead>\n",
              "    <tr style=\"text-align: right;\">\n",
              "      <th></th>\n",
              "      <th>order_id</th>\n",
              "      <th>order_item_id</th>\n",
              "      <th>product_id</th>\n",
              "      <th>seller_id</th>\n",
              "      <th>shipping_limit_date</th>\n",
              "      <th>price</th>\n",
              "      <th>freight_value</th>\n",
              "    </tr>\n",
              "  </thead>\n",
              "  <tbody>\n",
              "    <tr>\n",
              "      <th>14</th>\n",
              "      <td>0008288aa423d2a3f00fcb17cd7d8719</td>\n",
              "      <td>2</td>\n",
              "      <td>368c6c730842d78016ad823897a372db</td>\n",
              "      <td>1f50f920176fa81dab994f9023523100</td>\n",
              "      <td>2018-02-21 02:55:52</td>\n",
              "      <td>49.90</td>\n",
              "      <td>13.37</td>\n",
              "    </tr>\n",
              "    <tr>\n",
              "      <th>33</th>\n",
              "      <td>00143d0f86d6fbd9f9b38ab440ac16f5</td>\n",
              "      <td>2</td>\n",
              "      <td>e95ee6822b66ac6058e2e4aff656071a</td>\n",
              "      <td>a17f621c590ea0fab3d5d883e1630ec6</td>\n",
              "      <td>2017-10-20 16:07:52</td>\n",
              "      <td>21.33</td>\n",
              "      <td>15.10</td>\n",
              "    </tr>\n",
              "    <tr>\n",
              "      <th>34</th>\n",
              "      <td>00143d0f86d6fbd9f9b38ab440ac16f5</td>\n",
              "      <td>3</td>\n",
              "      <td>e95ee6822b66ac6058e2e4aff656071a</td>\n",
              "      <td>a17f621c590ea0fab3d5d883e1630ec6</td>\n",
              "      <td>2017-10-20 16:07:52</td>\n",
              "      <td>21.33</td>\n",
              "      <td>15.10</td>\n",
              "    </tr>\n",
              "    <tr>\n",
              "      <th>43</th>\n",
              "      <td>001ab0a7578dd66cd4b0a71f5b6e1e41</td>\n",
              "      <td>2</td>\n",
              "      <td>0b0172eb0fd18479d29c3bc122c058c2</td>\n",
              "      <td>5656537e588803a555b8eb41f07a944b</td>\n",
              "      <td>2018-01-04 02:33:42</td>\n",
              "      <td>24.89</td>\n",
              "      <td>17.63</td>\n",
              "    </tr>\n",
              "    <tr>\n",
              "      <th>44</th>\n",
              "      <td>001ab0a7578dd66cd4b0a71f5b6e1e41</td>\n",
              "      <td>3</td>\n",
              "      <td>0b0172eb0fd18479d29c3bc122c058c2</td>\n",
              "      <td>5656537e588803a555b8eb41f07a944b</td>\n",
              "      <td>2018-01-04 02:33:42</td>\n",
              "      <td>24.89</td>\n",
              "      <td>17.63</td>\n",
              "    </tr>\n",
              "    <tr>\n",
              "      <th>...</th>\n",
              "      <td>...</td>\n",
              "      <td>...</td>\n",
              "      <td>...</td>\n",
              "      <td>...</td>\n",
              "      <td>...</td>\n",
              "      <td>...</td>\n",
              "      <td>...</td>\n",
              "    </tr>\n",
              "    <tr>\n",
              "      <th>112617</th>\n",
              "      <td>ffecd5a79a0084f6a592288c67e3c298</td>\n",
              "      <td>3</td>\n",
              "      <td>50fd2b788dc166edd20512370dac54df</td>\n",
              "      <td>8b321bb669392f5163d04c59e235e066</td>\n",
              "      <td>2018-03-05 20:15:27</td>\n",
              "      <td>21.90</td>\n",
              "      <td>15.79</td>\n",
              "    </tr>\n",
              "    <tr>\n",
              "      <th>112635</th>\n",
              "      <td>fff8287bbae429a99bb7e8c21d151c41</td>\n",
              "      <td>2</td>\n",
              "      <td>bee2e070c39f3dd2f6883a17a5f0da45</td>\n",
              "      <td>4e922959ae960d389249c378d1c939f5</td>\n",
              "      <td>2018-03-27 12:29:22</td>\n",
              "      <td>180.00</td>\n",
              "      <td>48.14</td>\n",
              "    </tr>\n",
              "    <tr>\n",
              "      <th>112641</th>\n",
              "      <td>fffb9224b6fc7c43ebb0904318b10b5f</td>\n",
              "      <td>2</td>\n",
              "      <td>43423cdffde7fda63d0414ed38c11a73</td>\n",
              "      <td>b1fc4f64df5a0e8b6913ab38803c57a9</td>\n",
              "      <td>2017-11-03 02:55:58</td>\n",
              "      <td>55.00</td>\n",
              "      <td>34.19</td>\n",
              "    </tr>\n",
              "    <tr>\n",
              "      <th>112642</th>\n",
              "      <td>fffb9224b6fc7c43ebb0904318b10b5f</td>\n",
              "      <td>3</td>\n",
              "      <td>43423cdffde7fda63d0414ed38c11a73</td>\n",
              "      <td>b1fc4f64df5a0e8b6913ab38803c57a9</td>\n",
              "      <td>2017-11-03 02:55:58</td>\n",
              "      <td>55.00</td>\n",
              "      <td>34.19</td>\n",
              "    </tr>\n",
              "    <tr>\n",
              "      <th>112643</th>\n",
              "      <td>fffb9224b6fc7c43ebb0904318b10b5f</td>\n",
              "      <td>4</td>\n",
              "      <td>43423cdffde7fda63d0414ed38c11a73</td>\n",
              "      <td>b1fc4f64df5a0e8b6913ab38803c57a9</td>\n",
              "      <td>2017-11-03 02:55:58</td>\n",
              "      <td>55.00</td>\n",
              "      <td>34.19</td>\n",
              "    </tr>\n",
              "  </tbody>\n",
              "</table>\n",
              "<p>10181 rows × 7 columns</p>\n",
              "</div>"
            ],
            "text/plain": [
              "                                order_id  order_item_id  \\\n",
              "14      0008288aa423d2a3f00fcb17cd7d8719              2   \n",
              "33      00143d0f86d6fbd9f9b38ab440ac16f5              2   \n",
              "34      00143d0f86d6fbd9f9b38ab440ac16f5              3   \n",
              "43      001ab0a7578dd66cd4b0a71f5b6e1e41              2   \n",
              "44      001ab0a7578dd66cd4b0a71f5b6e1e41              3   \n",
              "...                                  ...            ...   \n",
              "112617  ffecd5a79a0084f6a592288c67e3c298              3   \n",
              "112635  fff8287bbae429a99bb7e8c21d151c41              2   \n",
              "112641  fffb9224b6fc7c43ebb0904318b10b5f              2   \n",
              "112642  fffb9224b6fc7c43ebb0904318b10b5f              3   \n",
              "112643  fffb9224b6fc7c43ebb0904318b10b5f              4   \n",
              "\n",
              "                              product_id                         seller_id  \\\n",
              "14      368c6c730842d78016ad823897a372db  1f50f920176fa81dab994f9023523100   \n",
              "33      e95ee6822b66ac6058e2e4aff656071a  a17f621c590ea0fab3d5d883e1630ec6   \n",
              "34      e95ee6822b66ac6058e2e4aff656071a  a17f621c590ea0fab3d5d883e1630ec6   \n",
              "43      0b0172eb0fd18479d29c3bc122c058c2  5656537e588803a555b8eb41f07a944b   \n",
              "44      0b0172eb0fd18479d29c3bc122c058c2  5656537e588803a555b8eb41f07a944b   \n",
              "...                                  ...                               ...   \n",
              "112617  50fd2b788dc166edd20512370dac54df  8b321bb669392f5163d04c59e235e066   \n",
              "112635  bee2e070c39f3dd2f6883a17a5f0da45  4e922959ae960d389249c378d1c939f5   \n",
              "112641  43423cdffde7fda63d0414ed38c11a73  b1fc4f64df5a0e8b6913ab38803c57a9   \n",
              "112642  43423cdffde7fda63d0414ed38c11a73  b1fc4f64df5a0e8b6913ab38803c57a9   \n",
              "112643  43423cdffde7fda63d0414ed38c11a73  b1fc4f64df5a0e8b6913ab38803c57a9   \n",
              "\n",
              "       shipping_limit_date   price  freight_value  \n",
              "14     2018-02-21 02:55:52   49.90          13.37  \n",
              "33     2017-10-20 16:07:52   21.33          15.10  \n",
              "34     2017-10-20 16:07:52   21.33          15.10  \n",
              "43     2018-01-04 02:33:42   24.89          17.63  \n",
              "44     2018-01-04 02:33:42   24.89          17.63  \n",
              "...                    ...     ...            ...  \n",
              "112617 2018-03-05 20:15:27   21.90          15.79  \n",
              "112635 2018-03-27 12:29:22  180.00          48.14  \n",
              "112641 2017-11-03 02:55:58   55.00          34.19  \n",
              "112642 2017-11-03 02:55:58   55.00          34.19  \n",
              "112643 2017-11-03 02:55:58   55.00          34.19  \n",
              "\n",
              "[10181 rows x 7 columns]"
            ]
          },
          "execution_count": 87,
          "metadata": {},
          "output_type": "execute_result"
        }
      ],
      "source": [
        "items_df[items_df.duplicated(subset=['order_id', 'product_id', 'seller_id'])]"
      ]
    },
    {
      "cell_type": "markdown",
      "metadata": {
        "id": "4vRvS94gVkeM"
      },
      "source": [
        "**Duplikasi data berdasarkan kombinasi order_id, product_id, dan seller_id ditemukan sebanyak 10.181 baris. Untuk menjaga integritas analisis, data duplikasi dihapus dengan menyimpan baris pertama dari setiap kombinasi, memastikan hasil clustering dan prediksi tetap akurat.**"
      ]
    },
    {
      "cell_type": "code",
      "execution_count": 88,
      "metadata": {
        "colab": {
          "base_uri": "https://localhost:8080/"
        },
        "id": "1_O58slmVk9M",
        "outputId": "3eb1a855-e38d-4be2-f910-7200e7ac553c"
      },
      "outputs": [
        {
          "name": "stdout",
          "output_type": "stream",
          "text": [
            "Jumlah duplikasi berdasarkan order_id, product_id, dan seller_id: 0\n"
          ]
        }
      ],
      "source": [
        "items_df.drop_duplicates(subset=['order_id', 'product_id', 'seller_id'], keep='first', inplace=True)\n",
        "print(\"Jumlah duplikasi berdasarkan order_id, product_id, dan seller_id:\", items_df.duplicated(subset=['order_id', 'product_id', 'seller_id']).sum())"
      ]
    },
    {
      "cell_type": "code",
      "execution_count": 89,
      "metadata": {
        "colab": {
          "base_uri": "https://localhost:8080/"
        },
        "id": "APlr2hT8VljL",
        "outputId": "d8a4adc6-0919-4332-eff9-b3cb011fd921"
      },
      "outputs": [
        {
          "name": "stdout",
          "output_type": "stream",
          "text": [
            "Jumlah data items_df setelah pengecekan: 102086\n"
          ]
        }
      ],
      "source": [
        "print(f\"Jumlah data items_df setelah pengecekan: {items_df.shape[0]}\")"
      ]
    },
    {
      "cell_type": "markdown",
      "metadata": {
        "id": "2K_da4F1JADc"
      },
      "source": [
        "### clear  data products"
      ]
    },
    {
      "cell_type": "markdown",
      "metadata": {
        "id": "aPAhuAtQqDE6"
      },
      "source": [
        "#### Menangani Mising Value"
      ]
    },
    {
      "cell_type": "markdown",
      "metadata": {
        "id": "cQaW9w0kq9e9"
      },
      "source": [
        "##### Perbandingan Antara Total Data Dengan missing value"
      ]
    },
    {
      "cell_type": "code",
      "execution_count": 90,
      "metadata": {
        "id": "4SDKkByiq7DN"
      },
      "outputs": [],
      "source": [
        "missing_values = products_df.isna().sum()\n",
        "missing_percentage = (missing_values / len(products_df)) * 100\n",
        "missing_comparison = pd.DataFrame({\n",
        "    'Missing Values': missing_values,\n",
        "    'Total Values': len(products_df),\n",
        "    'Missing Percentage': missing_percentage\n",
        "})"
      ]
    },
    {
      "cell_type": "code",
      "execution_count": 91,
      "metadata": {
        "colab": {
          "base_uri": "https://localhost:8080/"
        },
        "id": "IEHeuEBNrMcL",
        "outputId": "3eb9eb3e-9040-446a-f20a-14d4d458654d"
      },
      "outputs": [
        {
          "name": "stdout",
          "output_type": "stream",
          "text": [
            "                            Missing Values  Total Values  Missing Percentage\n",
            "product_id                               0         32951            0.000000\n",
            "product_category_name                  610         32951            1.851234\n",
            "product_name_lenght                    610         32951            1.851234\n",
            "product_description_lenght             610         32951            1.851234\n",
            "product_photos_qty                     610         32951            1.851234\n",
            "product_weight_g                         2         32951            0.006070\n",
            "product_length_cm                        2         32951            0.006070\n",
            "product_height_cm                        2         32951            0.006070\n",
            "product_width_cm                         2         32951            0.006070\n"
          ]
        }
      ],
      "source": [
        "print(missing_comparison)"
      ]
    },
    {
      "cell_type": "markdown",
      "metadata": {
        "id": "IWuAnQb8qWJ6"
      },
      "source": [
        "##### Menangani Mising Value product_category_name, product_name_lenght, product_description_lenght, & product_photos_qty"
      ]
    },
    {
      "cell_type": "code",
      "execution_count": 92,
      "metadata": {
        "colab": {
          "base_uri": "https://localhost:8080/",
          "height": 424
        },
        "id": "VRx-e1ScJAZ2",
        "outputId": "50d84861-efca-492a-d2b5-ec33727a9531"
      },
      "outputs": [
        {
          "data": {
            "text/html": [
              "<div>\n",
              "<style scoped>\n",
              "    .dataframe tbody tr th:only-of-type {\n",
              "        vertical-align: middle;\n",
              "    }\n",
              "\n",
              "    .dataframe tbody tr th {\n",
              "        vertical-align: top;\n",
              "    }\n",
              "\n",
              "    .dataframe thead th {\n",
              "        text-align: right;\n",
              "    }\n",
              "</style>\n",
              "<table border=\"1\" class=\"dataframe\">\n",
              "  <thead>\n",
              "    <tr style=\"text-align: right;\">\n",
              "      <th></th>\n",
              "      <th>product_id</th>\n",
              "      <th>product_category_name</th>\n",
              "      <th>product_name_lenght</th>\n",
              "      <th>product_description_lenght</th>\n",
              "      <th>product_photos_qty</th>\n",
              "      <th>product_weight_g</th>\n",
              "      <th>product_length_cm</th>\n",
              "      <th>product_height_cm</th>\n",
              "      <th>product_width_cm</th>\n",
              "    </tr>\n",
              "  </thead>\n",
              "  <tbody>\n",
              "    <tr>\n",
              "      <th>105</th>\n",
              "      <td>a41e356c76fab66334f36de622ecbd3a</td>\n",
              "      <td>NaN</td>\n",
              "      <td>NaN</td>\n",
              "      <td>NaN</td>\n",
              "      <td>NaN</td>\n",
              "      <td>650.0</td>\n",
              "      <td>17.0</td>\n",
              "      <td>14.0</td>\n",
              "      <td>12.0</td>\n",
              "    </tr>\n",
              "    <tr>\n",
              "      <th>128</th>\n",
              "      <td>d8dee61c2034d6d075997acef1870e9b</td>\n",
              "      <td>NaN</td>\n",
              "      <td>NaN</td>\n",
              "      <td>NaN</td>\n",
              "      <td>NaN</td>\n",
              "      <td>300.0</td>\n",
              "      <td>16.0</td>\n",
              "      <td>7.0</td>\n",
              "      <td>20.0</td>\n",
              "    </tr>\n",
              "    <tr>\n",
              "      <th>145</th>\n",
              "      <td>56139431d72cd51f19eb9f7dae4d1617</td>\n",
              "      <td>NaN</td>\n",
              "      <td>NaN</td>\n",
              "      <td>NaN</td>\n",
              "      <td>NaN</td>\n",
              "      <td>200.0</td>\n",
              "      <td>20.0</td>\n",
              "      <td>20.0</td>\n",
              "      <td>20.0</td>\n",
              "    </tr>\n",
              "    <tr>\n",
              "      <th>154</th>\n",
              "      <td>46b48281eb6d663ced748f324108c733</td>\n",
              "      <td>NaN</td>\n",
              "      <td>NaN</td>\n",
              "      <td>NaN</td>\n",
              "      <td>NaN</td>\n",
              "      <td>18500.0</td>\n",
              "      <td>41.0</td>\n",
              "      <td>30.0</td>\n",
              "      <td>41.0</td>\n",
              "    </tr>\n",
              "    <tr>\n",
              "      <th>197</th>\n",
              "      <td>5fb61f482620cb672f5e586bb132eae9</td>\n",
              "      <td>NaN</td>\n",
              "      <td>NaN</td>\n",
              "      <td>NaN</td>\n",
              "      <td>NaN</td>\n",
              "      <td>300.0</td>\n",
              "      <td>35.0</td>\n",
              "      <td>7.0</td>\n",
              "      <td>12.0</td>\n",
              "    </tr>\n",
              "    <tr>\n",
              "      <th>...</th>\n",
              "      <td>...</td>\n",
              "      <td>...</td>\n",
              "      <td>...</td>\n",
              "      <td>...</td>\n",
              "      <td>...</td>\n",
              "      <td>...</td>\n",
              "      <td>...</td>\n",
              "      <td>...</td>\n",
              "      <td>...</td>\n",
              "    </tr>\n",
              "    <tr>\n",
              "      <th>32515</th>\n",
              "      <td>b0a0c5dd78e644373b199380612c350a</td>\n",
              "      <td>NaN</td>\n",
              "      <td>NaN</td>\n",
              "      <td>NaN</td>\n",
              "      <td>NaN</td>\n",
              "      <td>1800.0</td>\n",
              "      <td>30.0</td>\n",
              "      <td>20.0</td>\n",
              "      <td>70.0</td>\n",
              "    </tr>\n",
              "    <tr>\n",
              "      <th>32589</th>\n",
              "      <td>10dbe0fbaa2c505123c17fdc34a63c56</td>\n",
              "      <td>NaN</td>\n",
              "      <td>NaN</td>\n",
              "      <td>NaN</td>\n",
              "      <td>NaN</td>\n",
              "      <td>800.0</td>\n",
              "      <td>30.0</td>\n",
              "      <td>10.0</td>\n",
              "      <td>23.0</td>\n",
              "    </tr>\n",
              "    <tr>\n",
              "      <th>32616</th>\n",
              "      <td>bd2ada37b58ae94cc838b9c0569fecd8</td>\n",
              "      <td>NaN</td>\n",
              "      <td>NaN</td>\n",
              "      <td>NaN</td>\n",
              "      <td>NaN</td>\n",
              "      <td>200.0</td>\n",
              "      <td>21.0</td>\n",
              "      <td>8.0</td>\n",
              "      <td>16.0</td>\n",
              "    </tr>\n",
              "    <tr>\n",
              "      <th>32772</th>\n",
              "      <td>fa51e914046aab32764c41356b9d4ea4</td>\n",
              "      <td>NaN</td>\n",
              "      <td>NaN</td>\n",
              "      <td>NaN</td>\n",
              "      <td>NaN</td>\n",
              "      <td>1300.0</td>\n",
              "      <td>45.0</td>\n",
              "      <td>16.0</td>\n",
              "      <td>45.0</td>\n",
              "    </tr>\n",
              "    <tr>\n",
              "      <th>32852</th>\n",
              "      <td>c4ceee876c82b8328e9c293fa0e1989b</td>\n",
              "      <td>NaN</td>\n",
              "      <td>NaN</td>\n",
              "      <td>NaN</td>\n",
              "      <td>NaN</td>\n",
              "      <td>700.0</td>\n",
              "      <td>28.0</td>\n",
              "      <td>3.0</td>\n",
              "      <td>43.0</td>\n",
              "    </tr>\n",
              "  </tbody>\n",
              "</table>\n",
              "<p>610 rows × 9 columns</p>\n",
              "</div>"
            ],
            "text/plain": [
              "                             product_id product_category_name  \\\n",
              "105    a41e356c76fab66334f36de622ecbd3a                   NaN   \n",
              "128    d8dee61c2034d6d075997acef1870e9b                   NaN   \n",
              "145    56139431d72cd51f19eb9f7dae4d1617                   NaN   \n",
              "154    46b48281eb6d663ced748f324108c733                   NaN   \n",
              "197    5fb61f482620cb672f5e586bb132eae9                   NaN   \n",
              "...                                 ...                   ...   \n",
              "32515  b0a0c5dd78e644373b199380612c350a                   NaN   \n",
              "32589  10dbe0fbaa2c505123c17fdc34a63c56                   NaN   \n",
              "32616  bd2ada37b58ae94cc838b9c0569fecd8                   NaN   \n",
              "32772  fa51e914046aab32764c41356b9d4ea4                   NaN   \n",
              "32852  c4ceee876c82b8328e9c293fa0e1989b                   NaN   \n",
              "\n",
              "       product_name_lenght  product_description_lenght  product_photos_qty  \\\n",
              "105                    NaN                         NaN                 NaN   \n",
              "128                    NaN                         NaN                 NaN   \n",
              "145                    NaN                         NaN                 NaN   \n",
              "154                    NaN                         NaN                 NaN   \n",
              "197                    NaN                         NaN                 NaN   \n",
              "...                    ...                         ...                 ...   \n",
              "32515                  NaN                         NaN                 NaN   \n",
              "32589                  NaN                         NaN                 NaN   \n",
              "32616                  NaN                         NaN                 NaN   \n",
              "32772                  NaN                         NaN                 NaN   \n",
              "32852                  NaN                         NaN                 NaN   \n",
              "\n",
              "       product_weight_g  product_length_cm  product_height_cm  \\\n",
              "105               650.0               17.0               14.0   \n",
              "128               300.0               16.0                7.0   \n",
              "145               200.0               20.0               20.0   \n",
              "154             18500.0               41.0               30.0   \n",
              "197               300.0               35.0                7.0   \n",
              "...                 ...                ...                ...   \n",
              "32515            1800.0               30.0               20.0   \n",
              "32589             800.0               30.0               10.0   \n",
              "32616             200.0               21.0                8.0   \n",
              "32772            1300.0               45.0               16.0   \n",
              "32852             700.0               28.0                3.0   \n",
              "\n",
              "       product_width_cm  \n",
              "105                12.0  \n",
              "128                20.0  \n",
              "145                20.0  \n",
              "154                41.0  \n",
              "197                12.0  \n",
              "...                 ...  \n",
              "32515              70.0  \n",
              "32589              23.0  \n",
              "32616              16.0  \n",
              "32772              45.0  \n",
              "32852              43.0  \n",
              "\n",
              "[610 rows x 9 columns]"
            ]
          },
          "execution_count": 92,
          "metadata": {},
          "output_type": "execute_result"
        }
      ],
      "source": [
        "products_df[products_df.product_category_name.isna()]"
      ]
    },
    {
      "cell_type": "markdown",
      "metadata": {
        "id": "vBgngzRRsAfR"
      },
      "source": [
        "**Karena missing values di kolom product_category_name, product_name_lenght, product_description_lenght, & product_photos_qty hanya sekitar index 1.9% (dibulatkan) dari total keseluruhan dataset, memutuskan untuk menghapus baris dengan nilai hilang, agar menghindari bias dan outlier**"
      ]
    },
    {
      "cell_type": "code",
      "execution_count": 93,
      "metadata": {
        "id": "c8JfNlNuJA3h"
      },
      "outputs": [],
      "source": [
        "products_df.dropna(subset=['product_category_name', 'product_name_lenght', 'product_description_lenght', 'product_photos_qty'], inplace=True)"
      ]
    },
    {
      "cell_type": "code",
      "execution_count": 94,
      "metadata": {
        "colab": {
          "base_uri": "https://localhost:8080/"
        },
        "id": "0luRKBtyJBhw",
        "outputId": "6ba6661d-b15c-4f89-a07e-8afae7da0551"
      },
      "outputs": [
        {
          "name": "stdout",
          "output_type": "stream",
          "text": [
            "Jumlah missing value setelah pembersihan (product_category_name, product_name_lenght, product_description_lenght, & product_photos_qty):\n",
            " product_id                    0\n",
            "product_category_name         0\n",
            "product_name_lenght           0\n",
            "product_description_lenght    0\n",
            "product_photos_qty            0\n",
            "product_weight_g              1\n",
            "product_length_cm             1\n",
            "product_height_cm             1\n",
            "product_width_cm              1\n",
            "dtype: int64\n"
          ]
        }
      ],
      "source": [
        "print(\"Jumlah missing value setelah pembersihan (product_category_name, product_name_lenght, product_description_lenght, & product_photos_qty):\\n\", products_df.isna().sum())"
      ]
    },
    {
      "cell_type": "markdown",
      "metadata": {
        "id": "OLQKeUsdsMnv"
      },
      "source": [
        "##### Menangani Mising Value product_category_name, product_name_lenght, product_description_lenght, & product_photos_qty"
      ]
    },
    {
      "cell_type": "code",
      "execution_count": 95,
      "metadata": {
        "colab": {
          "base_uri": "https://localhost:8080/",
          "height": 81
        },
        "id": "812zvqr6qkgp",
        "outputId": "615765d2-c133-4fad-d63c-225455344617"
      },
      "outputs": [
        {
          "data": {
            "text/html": [
              "<div>\n",
              "<style scoped>\n",
              "    .dataframe tbody tr th:only-of-type {\n",
              "        vertical-align: middle;\n",
              "    }\n",
              "\n",
              "    .dataframe tbody tr th {\n",
              "        vertical-align: top;\n",
              "    }\n",
              "\n",
              "    .dataframe thead th {\n",
              "        text-align: right;\n",
              "    }\n",
              "</style>\n",
              "<table border=\"1\" class=\"dataframe\">\n",
              "  <thead>\n",
              "    <tr style=\"text-align: right;\">\n",
              "      <th></th>\n",
              "      <th>product_id</th>\n",
              "      <th>product_category_name</th>\n",
              "      <th>product_name_lenght</th>\n",
              "      <th>product_description_lenght</th>\n",
              "      <th>product_photos_qty</th>\n",
              "      <th>product_weight_g</th>\n",
              "      <th>product_length_cm</th>\n",
              "      <th>product_height_cm</th>\n",
              "      <th>product_width_cm</th>\n",
              "    </tr>\n",
              "  </thead>\n",
              "  <tbody>\n",
              "    <tr>\n",
              "      <th>8578</th>\n",
              "      <td>09ff539a621711667c43eba6a3bd8466</td>\n",
              "      <td>bebes</td>\n",
              "      <td>60.0</td>\n",
              "      <td>865.0</td>\n",
              "      <td>3.0</td>\n",
              "      <td>NaN</td>\n",
              "      <td>NaN</td>\n",
              "      <td>NaN</td>\n",
              "      <td>NaN</td>\n",
              "    </tr>\n",
              "  </tbody>\n",
              "</table>\n",
              "</div>"
            ],
            "text/plain": [
              "                            product_id product_category_name  \\\n",
              "8578  09ff539a621711667c43eba6a3bd8466                 bebes   \n",
              "\n",
              "      product_name_lenght  product_description_lenght  product_photos_qty  \\\n",
              "8578                 60.0                       865.0                 3.0   \n",
              "\n",
              "      product_weight_g  product_length_cm  product_height_cm  product_width_cm  \n",
              "8578               NaN                NaN                NaN               NaN  "
            ]
          },
          "execution_count": 95,
          "metadata": {},
          "output_type": "execute_result"
        }
      ],
      "source": [
        "products_df[products_df.product_weight_g.isna()]"
      ]
    },
    {
      "cell_type": "code",
      "execution_count": 96,
      "metadata": {
        "id": "C_Elrsdfqk-0"
      },
      "outputs": [],
      "source": [
        "products_df['product_weight_g'] = products_df['product_weight_g'].fillna(products_df['product_weight_g'].median())\n",
        "products_df['product_length_cm'] = products_df['product_length_cm'].fillna(products_df['product_length_cm'].median())\n",
        "products_df['product_height_cm'] = products_df['product_height_cm'].fillna(products_df['product_height_cm'].median())\n",
        "products_df['product_width_cm'] = products_df['product_width_cm'].fillna(products_df['product_width_cm'].median())"
      ]
    },
    {
      "cell_type": "code",
      "execution_count": 97,
      "metadata": {
        "colab": {
          "base_uri": "https://localhost:8080/"
        },
        "id": "VySzjRtpsb0U",
        "outputId": "ecc5b9b7-3b18-4f3d-9372-0b72c62e1f75"
      },
      "outputs": [
        {
          "name": "stdout",
          "output_type": "stream",
          "text": [
            "Jumlah missing value setelah pembersihan (product_weight_g, product_length_cm, product_height_cm, & product_width_cm).:\n",
            " product_id                    0\n",
            "product_category_name         0\n",
            "product_name_lenght           0\n",
            "product_description_lenght    0\n",
            "product_photos_qty            0\n",
            "product_weight_g              0\n",
            "product_length_cm             0\n",
            "product_height_cm             0\n",
            "product_width_cm              0\n",
            "dtype: int64\n"
          ]
        }
      ],
      "source": [
        "print(\"Jumlah missing value setelah pembersihan (product_weight_g, product_length_cm, product_height_cm, & product_width_cm).:\\n\",products_df.isna().sum())"
      ]
    },
    {
      "cell_type": "markdown",
      "metadata": {
        "id": "h8BzCAJcsydP"
      },
      "source": [
        "##### Pengecekan Akhir Setalah Pembersihan 8 Missing Value pada items_df"
      ]
    },
    {
      "cell_type": "code",
      "execution_count": 98,
      "metadata": {
        "colab": {
          "base_uri": "https://localhost:8080/",
          "height": 367
        },
        "id": "OzMfnewzs614",
        "outputId": "ef4abadb-8290-4424-fc1a-63b90f87f49f"
      },
      "outputs": [
        {
          "data": {
            "text/plain": [
              "product_id                    0\n",
              "product_category_name         0\n",
              "product_name_lenght           0\n",
              "product_description_lenght    0\n",
              "product_photos_qty            0\n",
              "product_weight_g              0\n",
              "product_length_cm             0\n",
              "product_height_cm             0\n",
              "product_width_cm              0\n",
              "dtype: int64"
            ]
          },
          "execution_count": 98,
          "metadata": {},
          "output_type": "execute_result"
        }
      ],
      "source": [
        "products_df.isna().sum()"
      ]
    },
    {
      "cell_type": "markdown",
      "metadata": {
        "id": "VpvyNYbFtru9"
      },
      "source": [
        "#### Menangani Nilai Ekstrem (Outliers)"
      ]
    },
    {
      "cell_type": "markdown",
      "metadata": {
        "id": "7OgHOwDtyTLv"
      },
      "source": [
        "##### Mengecek Produk Dengan Berat O Gram"
      ]
    },
    {
      "cell_type": "code",
      "execution_count": 99,
      "metadata": {
        "colab": {
          "base_uri": "https://localhost:8080/",
          "height": 335
        },
        "id": "tcBfTCdRyPFf",
        "outputId": "a5d5114f-b41a-4d4a-b357-e8a1aeb86527"
      },
      "outputs": [
        {
          "data": {
            "text/plain": [
              "count    32341.000000\n",
              "mean      2276.907826\n",
              "std       4279.234668\n",
              "min          0.000000\n",
              "25%        300.000000\n",
              "50%        700.000000\n",
              "75%       1900.000000\n",
              "max      40425.000000\n",
              "Name: product_weight_g, dtype: float64"
            ]
          },
          "execution_count": 99,
          "metadata": {},
          "output_type": "execute_result"
        }
      ],
      "source": [
        "products_df['product_weight_g'].describe()"
      ]
    },
    {
      "cell_type": "code",
      "execution_count": 100,
      "metadata": {
        "colab": {
          "base_uri": "https://localhost:8080/",
          "height": 192
        },
        "id": "IGPu0FU7xrOD",
        "outputId": "55d02d1c-ee9d-4926-966d-5c7653d759e5"
      },
      "outputs": [
        {
          "name": "stdout",
          "output_type": "stream",
          "text": [
            "Jumlah produk dengan berat kurang dari atau sama dengan 0 gram: 4\n"
          ]
        },
        {
          "data": {
            "text/html": [
              "<div>\n",
              "<style scoped>\n",
              "    .dataframe tbody tr th:only-of-type {\n",
              "        vertical-align: middle;\n",
              "    }\n",
              "\n",
              "    .dataframe tbody tr th {\n",
              "        vertical-align: top;\n",
              "    }\n",
              "\n",
              "    .dataframe thead th {\n",
              "        text-align: right;\n",
              "    }\n",
              "</style>\n",
              "<table border=\"1\" class=\"dataframe\">\n",
              "  <thead>\n",
              "    <tr style=\"text-align: right;\">\n",
              "      <th></th>\n",
              "      <th>product_id</th>\n",
              "      <th>product_category_name</th>\n",
              "      <th>product_name_lenght</th>\n",
              "      <th>product_description_lenght</th>\n",
              "      <th>product_photos_qty</th>\n",
              "      <th>product_weight_g</th>\n",
              "      <th>product_length_cm</th>\n",
              "      <th>product_height_cm</th>\n",
              "      <th>product_width_cm</th>\n",
              "    </tr>\n",
              "  </thead>\n",
              "  <tbody>\n",
              "    <tr>\n",
              "      <th>9769</th>\n",
              "      <td>81781c0fed9fe1ad6e8c81fca1e1cb08</td>\n",
              "      <td>cama_mesa_banho</td>\n",
              "      <td>51.0</td>\n",
              "      <td>529.0</td>\n",
              "      <td>1.0</td>\n",
              "      <td>0.0</td>\n",
              "      <td>30.0</td>\n",
              "      <td>25.0</td>\n",
              "      <td>30.0</td>\n",
              "    </tr>\n",
              "    <tr>\n",
              "      <th>13683</th>\n",
              "      <td>8038040ee2a71048d4bdbbdc985b69ab</td>\n",
              "      <td>cama_mesa_banho</td>\n",
              "      <td>48.0</td>\n",
              "      <td>528.0</td>\n",
              "      <td>1.0</td>\n",
              "      <td>0.0</td>\n",
              "      <td>30.0</td>\n",
              "      <td>25.0</td>\n",
              "      <td>30.0</td>\n",
              "    </tr>\n",
              "    <tr>\n",
              "      <th>14997</th>\n",
              "      <td>36ba42dd187055e1fbe943b2d11430ca</td>\n",
              "      <td>cama_mesa_banho</td>\n",
              "      <td>53.0</td>\n",
              "      <td>528.0</td>\n",
              "      <td>1.0</td>\n",
              "      <td>0.0</td>\n",
              "      <td>30.0</td>\n",
              "      <td>25.0</td>\n",
              "      <td>30.0</td>\n",
              "    </tr>\n",
              "    <tr>\n",
              "      <th>32079</th>\n",
              "      <td>e673e90efa65a5409ff4196c038bb5af</td>\n",
              "      <td>cama_mesa_banho</td>\n",
              "      <td>53.0</td>\n",
              "      <td>528.0</td>\n",
              "      <td>1.0</td>\n",
              "      <td>0.0</td>\n",
              "      <td>30.0</td>\n",
              "      <td>25.0</td>\n",
              "      <td>30.0</td>\n",
              "    </tr>\n",
              "  </tbody>\n",
              "</table>\n",
              "</div>"
            ],
            "text/plain": [
              "                             product_id product_category_name  \\\n",
              "9769   81781c0fed9fe1ad6e8c81fca1e1cb08       cama_mesa_banho   \n",
              "13683  8038040ee2a71048d4bdbbdc985b69ab       cama_mesa_banho   \n",
              "14997  36ba42dd187055e1fbe943b2d11430ca       cama_mesa_banho   \n",
              "32079  e673e90efa65a5409ff4196c038bb5af       cama_mesa_banho   \n",
              "\n",
              "       product_name_lenght  product_description_lenght  product_photos_qty  \\\n",
              "9769                  51.0                       529.0                 1.0   \n",
              "13683                 48.0                       528.0                 1.0   \n",
              "14997                 53.0                       528.0                 1.0   \n",
              "32079                 53.0                       528.0                 1.0   \n",
              "\n",
              "       product_weight_g  product_length_cm  product_height_cm  \\\n",
              "9769                0.0               30.0               25.0   \n",
              "13683               0.0               30.0               25.0   \n",
              "14997               0.0               30.0               25.0   \n",
              "32079               0.0               30.0               25.0   \n",
              "\n",
              "       product_width_cm  \n",
              "9769               30.0  \n",
              "13683              30.0  \n",
              "14997              30.0  \n",
              "32079              30.0  "
            ]
          },
          "execution_count": 100,
          "metadata": {},
          "output_type": "execute_result"
        }
      ],
      "source": [
        "print(f\"Jumlah produk dengan berat kurang dari atau sama dengan 0 gram: {products_df[products_df['product_weight_g'] <= 0].shape[0]}\")\n",
        "products_df[products_df['product_weight_g'] <= 0].head()"
      ]
    },
    {
      "cell_type": "markdown",
      "metadata": {
        "id": "3JEAAX-61AhY"
      },
      "source": [
        "**Karena terdapat nilai berat 0 gram pada produk cama_mesa_banho diganti dengan median berat produk kategori yang sama (dengan berat valid) untuk menjaga konsistensi data dan relevansi analisis.**"
      ]
    },
    {
      "cell_type": "code",
      "execution_count": 101,
      "metadata": {
        "id": "HJef1-Zr2mZA"
      },
      "outputs": [],
      "source": [
        "products_df.loc[products_df['product_weight_g'] == 0, 'product_weight_g'] = products_df.loc[\n",
        "    (products_df['product_category_name'] == 'cama_mesa_banho') &\n",
        "    (products_df['product_weight_g'] > 0),\n",
        "    'product_weight_g'\n",
        "].median()"
      ]
    },
    {
      "cell_type": "code",
      "execution_count": 102,
      "metadata": {
        "colab": {
          "base_uri": "https://localhost:8080/"
        },
        "id": "dDy3WUOt3D_B",
        "outputId": "2b3d538a-d495-4b6c-fa44-383feb51567b"
      },
      "outputs": [
        {
          "name": "stdout",
          "output_type": "stream",
          "text": [
            "Jumlah produk dengan berat kurang dari atau sama dengan 0 gram setelah perbaikan: 0\n"
          ]
        }
      ],
      "source": [
        "print(f\"Jumlah produk dengan berat kurang dari atau sama dengan 0 gram setelah perbaikan: {products_df[products_df['product_weight_g'] <= 0].shape[0]}\")"
      ]
    },
    {
      "cell_type": "markdown",
      "metadata": {
        "id": "kfYFTG1-JCxI"
      },
      "source": [
        "### clear  data reviews"
      ]
    },
    {
      "cell_type": "markdown",
      "metadata": {
        "id": "-d22W-KzpvCO"
      },
      "source": [
        "#### Menangani Mising Value"
      ]
    },
    {
      "cell_type": "markdown",
      "metadata": {
        "id": "JKpYCWUipyQa"
      },
      "source": [
        "##### Menangani Mising Value review_comment_title"
      ]
    },
    {
      "cell_type": "code",
      "execution_count": 103,
      "metadata": {
        "colab": {
          "base_uri": "https://localhost:8080/",
          "height": 424
        },
        "id": "IUzSFMpRJB7O",
        "outputId": "ff5b7458-0f86-4cda-85fb-41e8abe956dc"
      },
      "outputs": [
        {
          "data": {
            "text/html": [
              "<div>\n",
              "<style scoped>\n",
              "    .dataframe tbody tr th:only-of-type {\n",
              "        vertical-align: middle;\n",
              "    }\n",
              "\n",
              "    .dataframe tbody tr th {\n",
              "        vertical-align: top;\n",
              "    }\n",
              "\n",
              "    .dataframe thead th {\n",
              "        text-align: right;\n",
              "    }\n",
              "</style>\n",
              "<table border=\"1\" class=\"dataframe\">\n",
              "  <thead>\n",
              "    <tr style=\"text-align: right;\">\n",
              "      <th></th>\n",
              "      <th>review_id</th>\n",
              "      <th>order_id</th>\n",
              "      <th>review_score</th>\n",
              "      <th>review_comment_title</th>\n",
              "      <th>review_comment_message</th>\n",
              "      <th>review_creation_date</th>\n",
              "      <th>review_answer_timestamp</th>\n",
              "    </tr>\n",
              "  </thead>\n",
              "  <tbody>\n",
              "    <tr>\n",
              "      <th>0</th>\n",
              "      <td>7bc2406110b926393aa56f80a40eba40</td>\n",
              "      <td>73fc7af87114b39712e6da79b0a377eb</td>\n",
              "      <td>4</td>\n",
              "      <td>NaN</td>\n",
              "      <td>NaN</td>\n",
              "      <td>2018-01-18 00:00:00</td>\n",
              "      <td>2018-01-18 21:46:59</td>\n",
              "    </tr>\n",
              "    <tr>\n",
              "      <th>1</th>\n",
              "      <td>80e641a11e56f04c1ad469d5645fdfde</td>\n",
              "      <td>a548910a1c6147796b98fdf73dbeba33</td>\n",
              "      <td>5</td>\n",
              "      <td>NaN</td>\n",
              "      <td>NaN</td>\n",
              "      <td>2018-03-10 00:00:00</td>\n",
              "      <td>2018-03-11 03:05:13</td>\n",
              "    </tr>\n",
              "    <tr>\n",
              "      <th>2</th>\n",
              "      <td>228ce5500dc1d8e020d8d1322874b6f0</td>\n",
              "      <td>f9e4b658b201a9f2ecdecbb34bed034b</td>\n",
              "      <td>5</td>\n",
              "      <td>NaN</td>\n",
              "      <td>NaN</td>\n",
              "      <td>2018-02-17 00:00:00</td>\n",
              "      <td>2018-02-18 14:36:24</td>\n",
              "    </tr>\n",
              "    <tr>\n",
              "      <th>3</th>\n",
              "      <td>e64fb393e7b32834bb789ff8bb30750e</td>\n",
              "      <td>658677c97b385a9be170737859d3511b</td>\n",
              "      <td>5</td>\n",
              "      <td>NaN</td>\n",
              "      <td>Recebi bem antes do prazo estipulado.</td>\n",
              "      <td>2017-04-21 00:00:00</td>\n",
              "      <td>2017-04-21 22:02:06</td>\n",
              "    </tr>\n",
              "    <tr>\n",
              "      <th>4</th>\n",
              "      <td>f7c4243c7fe1938f181bec41a392bdeb</td>\n",
              "      <td>8e6bfb81e283fa7e4f11123a3fb894f1</td>\n",
              "      <td>5</td>\n",
              "      <td>NaN</td>\n",
              "      <td>Parabéns lojas lannister adorei comprar pela I...</td>\n",
              "      <td>2018-03-01 00:00:00</td>\n",
              "      <td>2018-03-02 10:26:53</td>\n",
              "    </tr>\n",
              "    <tr>\n",
              "      <th>...</th>\n",
              "      <td>...</td>\n",
              "      <td>...</td>\n",
              "      <td>...</td>\n",
              "      <td>...</td>\n",
              "      <td>...</td>\n",
              "      <td>...</td>\n",
              "      <td>...</td>\n",
              "    </tr>\n",
              "    <tr>\n",
              "      <th>99219</th>\n",
              "      <td>574ed12dd733e5fa530cfd4bbf39d7c9</td>\n",
              "      <td>2a8c23fee101d4d5662fa670396eb8da</td>\n",
              "      <td>5</td>\n",
              "      <td>NaN</td>\n",
              "      <td>NaN</td>\n",
              "      <td>2018-07-07 00:00:00</td>\n",
              "      <td>2018-07-14 17:18:30</td>\n",
              "    </tr>\n",
              "    <tr>\n",
              "      <th>99220</th>\n",
              "      <td>f3897127253a9592a73be9bdfdf4ed7a</td>\n",
              "      <td>22ec9f0669f784db00fa86d035cf8602</td>\n",
              "      <td>5</td>\n",
              "      <td>NaN</td>\n",
              "      <td>NaN</td>\n",
              "      <td>2017-12-09 00:00:00</td>\n",
              "      <td>2017-12-11 20:06:42</td>\n",
              "    </tr>\n",
              "    <tr>\n",
              "      <th>99221</th>\n",
              "      <td>b3de70c89b1510c4cd3d0649fd302472</td>\n",
              "      <td>55d4004744368f5571d1f590031933e4</td>\n",
              "      <td>5</td>\n",
              "      <td>NaN</td>\n",
              "      <td>Excelente mochila, entrega super rápida. Super...</td>\n",
              "      <td>2018-03-22 00:00:00</td>\n",
              "      <td>2018-03-23 09:10:43</td>\n",
              "    </tr>\n",
              "    <tr>\n",
              "      <th>99222</th>\n",
              "      <td>1adeb9d84d72fe4e337617733eb85149</td>\n",
              "      <td>7725825d039fc1f0ceb7635e3f7d9206</td>\n",
              "      <td>4</td>\n",
              "      <td>NaN</td>\n",
              "      <td>NaN</td>\n",
              "      <td>2018-07-01 00:00:00</td>\n",
              "      <td>2018-07-02 12:59:13</td>\n",
              "    </tr>\n",
              "    <tr>\n",
              "      <th>99223</th>\n",
              "      <td>efe49f1d6f951dd88b51e6ccd4cc548f</td>\n",
              "      <td>90531360ecb1eec2a1fbb265a0db0508</td>\n",
              "      <td>1</td>\n",
              "      <td>NaN</td>\n",
              "      <td>meu produto chegou e ja tenho que devolver, po...</td>\n",
              "      <td>2017-07-03 00:00:00</td>\n",
              "      <td>2017-07-03 21:01:49</td>\n",
              "    </tr>\n",
              "  </tbody>\n",
              "</table>\n",
              "<p>87656 rows × 7 columns</p>\n",
              "</div>"
            ],
            "text/plain": [
              "                              review_id                          order_id  \\\n",
              "0      7bc2406110b926393aa56f80a40eba40  73fc7af87114b39712e6da79b0a377eb   \n",
              "1      80e641a11e56f04c1ad469d5645fdfde  a548910a1c6147796b98fdf73dbeba33   \n",
              "2      228ce5500dc1d8e020d8d1322874b6f0  f9e4b658b201a9f2ecdecbb34bed034b   \n",
              "3      e64fb393e7b32834bb789ff8bb30750e  658677c97b385a9be170737859d3511b   \n",
              "4      f7c4243c7fe1938f181bec41a392bdeb  8e6bfb81e283fa7e4f11123a3fb894f1   \n",
              "...                                 ...                               ...   \n",
              "99219  574ed12dd733e5fa530cfd4bbf39d7c9  2a8c23fee101d4d5662fa670396eb8da   \n",
              "99220  f3897127253a9592a73be9bdfdf4ed7a  22ec9f0669f784db00fa86d035cf8602   \n",
              "99221  b3de70c89b1510c4cd3d0649fd302472  55d4004744368f5571d1f590031933e4   \n",
              "99222  1adeb9d84d72fe4e337617733eb85149  7725825d039fc1f0ceb7635e3f7d9206   \n",
              "99223  efe49f1d6f951dd88b51e6ccd4cc548f  90531360ecb1eec2a1fbb265a0db0508   \n",
              "\n",
              "       review_score review_comment_title  \\\n",
              "0                 4                  NaN   \n",
              "1                 5                  NaN   \n",
              "2                 5                  NaN   \n",
              "3                 5                  NaN   \n",
              "4                 5                  NaN   \n",
              "...             ...                  ...   \n",
              "99219             5                  NaN   \n",
              "99220             5                  NaN   \n",
              "99221             5                  NaN   \n",
              "99222             4                  NaN   \n",
              "99223             1                  NaN   \n",
              "\n",
              "                                  review_comment_message review_creation_date  \\\n",
              "0                                                    NaN  2018-01-18 00:00:00   \n",
              "1                                                    NaN  2018-03-10 00:00:00   \n",
              "2                                                    NaN  2018-02-17 00:00:00   \n",
              "3                  Recebi bem antes do prazo estipulado.  2017-04-21 00:00:00   \n",
              "4      Parabéns lojas lannister adorei comprar pela I...  2018-03-01 00:00:00   \n",
              "...                                                  ...                  ...   \n",
              "99219                                                NaN  2018-07-07 00:00:00   \n",
              "99220                                                NaN  2017-12-09 00:00:00   \n",
              "99221  Excelente mochila, entrega super rápida. Super...  2018-03-22 00:00:00   \n",
              "99222                                                NaN  2018-07-01 00:00:00   \n",
              "99223  meu produto chegou e ja tenho que devolver, po...  2017-07-03 00:00:00   \n",
              "\n",
              "      review_answer_timestamp  \n",
              "0         2018-01-18 21:46:59  \n",
              "1         2018-03-11 03:05:13  \n",
              "2         2018-02-18 14:36:24  \n",
              "3         2017-04-21 22:02:06  \n",
              "4         2018-03-02 10:26:53  \n",
              "...                       ...  \n",
              "99219     2018-07-14 17:18:30  \n",
              "99220     2017-12-11 20:06:42  \n",
              "99221     2018-03-23 09:10:43  \n",
              "99222     2018-07-02 12:59:13  \n",
              "99223     2017-07-03 21:01:49  \n",
              "\n",
              "[87656 rows x 7 columns]"
            ]
          },
          "execution_count": 103,
          "metadata": {},
          "output_type": "execute_result"
        }
      ],
      "source": [
        "reviews_df[reviews_df.review_comment_title.isna()]"
      ]
    },
    {
      "cell_type": "markdown",
      "metadata": {
        "id": "6kTkZ3ktus1C"
      },
      "source": [
        "**Dikarenakan kolom tersebut tidak terlalu relavan dengan analisi ini kedepannya, maka opsi penghapusan kolom (review_comments_title) merupakan langkah terbaik agar analsiis data lebih akurat dan sesuai.**"
      ]
    },
    {
      "cell_type": "code",
      "execution_count": 104,
      "metadata": {
        "id": "5mqFKeKBwG-0"
      },
      "outputs": [],
      "source": [
        "reviews_df.drop(['review_comment_title'], axis=1, inplace=True)"
      ]
    },
    {
      "cell_type": "code",
      "execution_count": 105,
      "metadata": {
        "colab": {
          "base_uri": "https://localhost:8080/",
          "height": 206
        },
        "id": "08UsiZjzwUgZ",
        "outputId": "1a0f48f1-c593-45fa-fe5a-3d48233f6027"
      },
      "outputs": [
        {
          "data": {
            "text/html": [
              "<div>\n",
              "<style scoped>\n",
              "    .dataframe tbody tr th:only-of-type {\n",
              "        vertical-align: middle;\n",
              "    }\n",
              "\n",
              "    .dataframe tbody tr th {\n",
              "        vertical-align: top;\n",
              "    }\n",
              "\n",
              "    .dataframe thead th {\n",
              "        text-align: right;\n",
              "    }\n",
              "</style>\n",
              "<table border=\"1\" class=\"dataframe\">\n",
              "  <thead>\n",
              "    <tr style=\"text-align: right;\">\n",
              "      <th></th>\n",
              "      <th>review_id</th>\n",
              "      <th>order_id</th>\n",
              "      <th>review_score</th>\n",
              "      <th>review_comment_message</th>\n",
              "      <th>review_creation_date</th>\n",
              "      <th>review_answer_timestamp</th>\n",
              "    </tr>\n",
              "  </thead>\n",
              "  <tbody>\n",
              "    <tr>\n",
              "      <th>0</th>\n",
              "      <td>7bc2406110b926393aa56f80a40eba40</td>\n",
              "      <td>73fc7af87114b39712e6da79b0a377eb</td>\n",
              "      <td>4</td>\n",
              "      <td>NaN</td>\n",
              "      <td>2018-01-18 00:00:00</td>\n",
              "      <td>2018-01-18 21:46:59</td>\n",
              "    </tr>\n",
              "    <tr>\n",
              "      <th>1</th>\n",
              "      <td>80e641a11e56f04c1ad469d5645fdfde</td>\n",
              "      <td>a548910a1c6147796b98fdf73dbeba33</td>\n",
              "      <td>5</td>\n",
              "      <td>NaN</td>\n",
              "      <td>2018-03-10 00:00:00</td>\n",
              "      <td>2018-03-11 03:05:13</td>\n",
              "    </tr>\n",
              "    <tr>\n",
              "      <th>2</th>\n",
              "      <td>228ce5500dc1d8e020d8d1322874b6f0</td>\n",
              "      <td>f9e4b658b201a9f2ecdecbb34bed034b</td>\n",
              "      <td>5</td>\n",
              "      <td>NaN</td>\n",
              "      <td>2018-02-17 00:00:00</td>\n",
              "      <td>2018-02-18 14:36:24</td>\n",
              "    </tr>\n",
              "    <tr>\n",
              "      <th>3</th>\n",
              "      <td>e64fb393e7b32834bb789ff8bb30750e</td>\n",
              "      <td>658677c97b385a9be170737859d3511b</td>\n",
              "      <td>5</td>\n",
              "      <td>Recebi bem antes do prazo estipulado.</td>\n",
              "      <td>2017-04-21 00:00:00</td>\n",
              "      <td>2017-04-21 22:02:06</td>\n",
              "    </tr>\n",
              "    <tr>\n",
              "      <th>4</th>\n",
              "      <td>f7c4243c7fe1938f181bec41a392bdeb</td>\n",
              "      <td>8e6bfb81e283fa7e4f11123a3fb894f1</td>\n",
              "      <td>5</td>\n",
              "      <td>Parabéns lojas lannister adorei comprar pela I...</td>\n",
              "      <td>2018-03-01 00:00:00</td>\n",
              "      <td>2018-03-02 10:26:53</td>\n",
              "    </tr>\n",
              "  </tbody>\n",
              "</table>\n",
              "</div>"
            ],
            "text/plain": [
              "                          review_id                          order_id  \\\n",
              "0  7bc2406110b926393aa56f80a40eba40  73fc7af87114b39712e6da79b0a377eb   \n",
              "1  80e641a11e56f04c1ad469d5645fdfde  a548910a1c6147796b98fdf73dbeba33   \n",
              "2  228ce5500dc1d8e020d8d1322874b6f0  f9e4b658b201a9f2ecdecbb34bed034b   \n",
              "3  e64fb393e7b32834bb789ff8bb30750e  658677c97b385a9be170737859d3511b   \n",
              "4  f7c4243c7fe1938f181bec41a392bdeb  8e6bfb81e283fa7e4f11123a3fb894f1   \n",
              "\n",
              "   review_score                             review_comment_message  \\\n",
              "0             4                                                NaN   \n",
              "1             5                                                NaN   \n",
              "2             5                                                NaN   \n",
              "3             5              Recebi bem antes do prazo estipulado.   \n",
              "4             5  Parabéns lojas lannister adorei comprar pela I...   \n",
              "\n",
              "  review_creation_date review_answer_timestamp  \n",
              "0  2018-01-18 00:00:00     2018-01-18 21:46:59  \n",
              "1  2018-03-10 00:00:00     2018-03-11 03:05:13  \n",
              "2  2018-02-17 00:00:00     2018-02-18 14:36:24  \n",
              "3  2017-04-21 00:00:00     2017-04-21 22:02:06  \n",
              "4  2018-03-01 00:00:00     2018-03-02 10:26:53  "
            ]
          },
          "execution_count": 105,
          "metadata": {},
          "output_type": "execute_result"
        }
      ],
      "source": [
        "reviews_df.head()"
      ]
    },
    {
      "cell_type": "markdown",
      "metadata": {
        "id": "QupplGMYuhiZ"
      },
      "source": [
        "##### Menangani Mising Value review_comment_message"
      ]
    },
    {
      "cell_type": "code",
      "execution_count": 106,
      "metadata": {
        "colab": {
          "base_uri": "https://localhost:8080/",
          "height": 424
        },
        "id": "vnKgC1GgukMS",
        "outputId": "35876558-b951-4ed0-81d6-bf7c1bdbe1b6"
      },
      "outputs": [
        {
          "data": {
            "text/html": [
              "<div>\n",
              "<style scoped>\n",
              "    .dataframe tbody tr th:only-of-type {\n",
              "        vertical-align: middle;\n",
              "    }\n",
              "\n",
              "    .dataframe tbody tr th {\n",
              "        vertical-align: top;\n",
              "    }\n",
              "\n",
              "    .dataframe thead th {\n",
              "        text-align: right;\n",
              "    }\n",
              "</style>\n",
              "<table border=\"1\" class=\"dataframe\">\n",
              "  <thead>\n",
              "    <tr style=\"text-align: right;\">\n",
              "      <th></th>\n",
              "      <th>review_id</th>\n",
              "      <th>order_id</th>\n",
              "      <th>review_score</th>\n",
              "      <th>review_comment_message</th>\n",
              "      <th>review_creation_date</th>\n",
              "      <th>review_answer_timestamp</th>\n",
              "    </tr>\n",
              "  </thead>\n",
              "  <tbody>\n",
              "    <tr>\n",
              "      <th>0</th>\n",
              "      <td>7bc2406110b926393aa56f80a40eba40</td>\n",
              "      <td>73fc7af87114b39712e6da79b0a377eb</td>\n",
              "      <td>4</td>\n",
              "      <td>NaN</td>\n",
              "      <td>2018-01-18 00:00:00</td>\n",
              "      <td>2018-01-18 21:46:59</td>\n",
              "    </tr>\n",
              "    <tr>\n",
              "      <th>1</th>\n",
              "      <td>80e641a11e56f04c1ad469d5645fdfde</td>\n",
              "      <td>a548910a1c6147796b98fdf73dbeba33</td>\n",
              "      <td>5</td>\n",
              "      <td>NaN</td>\n",
              "      <td>2018-03-10 00:00:00</td>\n",
              "      <td>2018-03-11 03:05:13</td>\n",
              "    </tr>\n",
              "    <tr>\n",
              "      <th>2</th>\n",
              "      <td>228ce5500dc1d8e020d8d1322874b6f0</td>\n",
              "      <td>f9e4b658b201a9f2ecdecbb34bed034b</td>\n",
              "      <td>5</td>\n",
              "      <td>NaN</td>\n",
              "      <td>2018-02-17 00:00:00</td>\n",
              "      <td>2018-02-18 14:36:24</td>\n",
              "    </tr>\n",
              "    <tr>\n",
              "      <th>5</th>\n",
              "      <td>15197aa66ff4d0650b5434f1b46cda19</td>\n",
              "      <td>b18dcdf73be66366873cd26c5724d1dc</td>\n",
              "      <td>1</td>\n",
              "      <td>NaN</td>\n",
              "      <td>2018-04-13 00:00:00</td>\n",
              "      <td>2018-04-16 00:39:37</td>\n",
              "    </tr>\n",
              "    <tr>\n",
              "      <th>6</th>\n",
              "      <td>07f9bee5d1b850860defd761afa7ff16</td>\n",
              "      <td>e48aa0d2dcec3a2e87348811bcfdf22b</td>\n",
              "      <td>5</td>\n",
              "      <td>NaN</td>\n",
              "      <td>2017-07-16 00:00:00</td>\n",
              "      <td>2017-07-18 19:30:34</td>\n",
              "    </tr>\n",
              "    <tr>\n",
              "      <th>...</th>\n",
              "      <td>...</td>\n",
              "      <td>...</td>\n",
              "      <td>...</td>\n",
              "      <td>...</td>\n",
              "      <td>...</td>\n",
              "      <td>...</td>\n",
              "    </tr>\n",
              "    <tr>\n",
              "      <th>99217</th>\n",
              "      <td>c6b270c61f67c9f7cb07d84ea8aeaf8b</td>\n",
              "      <td>48f7ee67313eda32bfcf5b9c1dd9522d</td>\n",
              "      <td>5</td>\n",
              "      <td>NaN</td>\n",
              "      <td>2017-12-13 00:00:00</td>\n",
              "      <td>2017-12-14 11:09:36</td>\n",
              "    </tr>\n",
              "    <tr>\n",
              "      <th>99218</th>\n",
              "      <td>af2dc0519de6e0720ef0c74292fb4114</td>\n",
              "      <td>d699c734a0b1c8111f2272a3f36d398c</td>\n",
              "      <td>5</td>\n",
              "      <td>NaN</td>\n",
              "      <td>2018-04-27 00:00:00</td>\n",
              "      <td>2018-04-30 01:18:57</td>\n",
              "    </tr>\n",
              "    <tr>\n",
              "      <th>99219</th>\n",
              "      <td>574ed12dd733e5fa530cfd4bbf39d7c9</td>\n",
              "      <td>2a8c23fee101d4d5662fa670396eb8da</td>\n",
              "      <td>5</td>\n",
              "      <td>NaN</td>\n",
              "      <td>2018-07-07 00:00:00</td>\n",
              "      <td>2018-07-14 17:18:30</td>\n",
              "    </tr>\n",
              "    <tr>\n",
              "      <th>99220</th>\n",
              "      <td>f3897127253a9592a73be9bdfdf4ed7a</td>\n",
              "      <td>22ec9f0669f784db00fa86d035cf8602</td>\n",
              "      <td>5</td>\n",
              "      <td>NaN</td>\n",
              "      <td>2017-12-09 00:00:00</td>\n",
              "      <td>2017-12-11 20:06:42</td>\n",
              "    </tr>\n",
              "    <tr>\n",
              "      <th>99222</th>\n",
              "      <td>1adeb9d84d72fe4e337617733eb85149</td>\n",
              "      <td>7725825d039fc1f0ceb7635e3f7d9206</td>\n",
              "      <td>4</td>\n",
              "      <td>NaN</td>\n",
              "      <td>2018-07-01 00:00:00</td>\n",
              "      <td>2018-07-02 12:59:13</td>\n",
              "    </tr>\n",
              "  </tbody>\n",
              "</table>\n",
              "<p>58247 rows × 6 columns</p>\n",
              "</div>"
            ],
            "text/plain": [
              "                              review_id                          order_id  \\\n",
              "0      7bc2406110b926393aa56f80a40eba40  73fc7af87114b39712e6da79b0a377eb   \n",
              "1      80e641a11e56f04c1ad469d5645fdfde  a548910a1c6147796b98fdf73dbeba33   \n",
              "2      228ce5500dc1d8e020d8d1322874b6f0  f9e4b658b201a9f2ecdecbb34bed034b   \n",
              "5      15197aa66ff4d0650b5434f1b46cda19  b18dcdf73be66366873cd26c5724d1dc   \n",
              "6      07f9bee5d1b850860defd761afa7ff16  e48aa0d2dcec3a2e87348811bcfdf22b   \n",
              "...                                 ...                               ...   \n",
              "99217  c6b270c61f67c9f7cb07d84ea8aeaf8b  48f7ee67313eda32bfcf5b9c1dd9522d   \n",
              "99218  af2dc0519de6e0720ef0c74292fb4114  d699c734a0b1c8111f2272a3f36d398c   \n",
              "99219  574ed12dd733e5fa530cfd4bbf39d7c9  2a8c23fee101d4d5662fa670396eb8da   \n",
              "99220  f3897127253a9592a73be9bdfdf4ed7a  22ec9f0669f784db00fa86d035cf8602   \n",
              "99222  1adeb9d84d72fe4e337617733eb85149  7725825d039fc1f0ceb7635e3f7d9206   \n",
              "\n",
              "       review_score review_comment_message review_creation_date  \\\n",
              "0                 4                    NaN  2018-01-18 00:00:00   \n",
              "1                 5                    NaN  2018-03-10 00:00:00   \n",
              "2                 5                    NaN  2018-02-17 00:00:00   \n",
              "5                 1                    NaN  2018-04-13 00:00:00   \n",
              "6                 5                    NaN  2017-07-16 00:00:00   \n",
              "...             ...                    ...                  ...   \n",
              "99217             5                    NaN  2017-12-13 00:00:00   \n",
              "99218             5                    NaN  2018-04-27 00:00:00   \n",
              "99219             5                    NaN  2018-07-07 00:00:00   \n",
              "99220             5                    NaN  2017-12-09 00:00:00   \n",
              "99222             4                    NaN  2018-07-01 00:00:00   \n",
              "\n",
              "      review_answer_timestamp  \n",
              "0         2018-01-18 21:46:59  \n",
              "1         2018-03-11 03:05:13  \n",
              "2         2018-02-18 14:36:24  \n",
              "5         2018-04-16 00:39:37  \n",
              "6         2017-07-18 19:30:34  \n",
              "...                       ...  \n",
              "99217     2017-12-14 11:09:36  \n",
              "99218     2018-04-30 01:18:57  \n",
              "99219     2018-07-14 17:18:30  \n",
              "99220     2017-12-11 20:06:42  \n",
              "99222     2018-07-02 12:59:13  \n",
              "\n",
              "[58247 rows x 6 columns]"
            ]
          },
          "execution_count": 106,
          "metadata": {},
          "output_type": "execute_result"
        }
      ],
      "source": [
        "reviews_df[reviews_df.review_comment_message.isna()]"
      ]
    },
    {
      "cell_type": "markdown",
      "metadata": {
        "id": "0T4CUh6TutZJ"
      },
      "source": [
        "**Sama Seperti kolom sebelumnnya, maka opsi penghapusan kolom (review_comments_message) merupakan langkah terbaik agar analsiis data lebih akurat dan sesuai.**"
      ]
    },
    {
      "cell_type": "code",
      "execution_count": 107,
      "metadata": {
        "id": "hX7M4kicwcTj"
      },
      "outputs": [],
      "source": [
        "reviews_df.drop(['review_comment_message'], axis=1, inplace=True)"
      ]
    },
    {
      "cell_type": "code",
      "execution_count": 108,
      "metadata": {
        "colab": {
          "base_uri": "https://localhost:8080/",
          "height": 206
        },
        "id": "r6YHXkgGwjyY",
        "outputId": "abe0f626-fe56-4b79-8b15-6d9261cbd8b3"
      },
      "outputs": [
        {
          "data": {
            "text/html": [
              "<div>\n",
              "<style scoped>\n",
              "    .dataframe tbody tr th:only-of-type {\n",
              "        vertical-align: middle;\n",
              "    }\n",
              "\n",
              "    .dataframe tbody tr th {\n",
              "        vertical-align: top;\n",
              "    }\n",
              "\n",
              "    .dataframe thead th {\n",
              "        text-align: right;\n",
              "    }\n",
              "</style>\n",
              "<table border=\"1\" class=\"dataframe\">\n",
              "  <thead>\n",
              "    <tr style=\"text-align: right;\">\n",
              "      <th></th>\n",
              "      <th>review_id</th>\n",
              "      <th>order_id</th>\n",
              "      <th>review_score</th>\n",
              "      <th>review_creation_date</th>\n",
              "      <th>review_answer_timestamp</th>\n",
              "    </tr>\n",
              "  </thead>\n",
              "  <tbody>\n",
              "    <tr>\n",
              "      <th>0</th>\n",
              "      <td>7bc2406110b926393aa56f80a40eba40</td>\n",
              "      <td>73fc7af87114b39712e6da79b0a377eb</td>\n",
              "      <td>4</td>\n",
              "      <td>2018-01-18 00:00:00</td>\n",
              "      <td>2018-01-18 21:46:59</td>\n",
              "    </tr>\n",
              "    <tr>\n",
              "      <th>1</th>\n",
              "      <td>80e641a11e56f04c1ad469d5645fdfde</td>\n",
              "      <td>a548910a1c6147796b98fdf73dbeba33</td>\n",
              "      <td>5</td>\n",
              "      <td>2018-03-10 00:00:00</td>\n",
              "      <td>2018-03-11 03:05:13</td>\n",
              "    </tr>\n",
              "    <tr>\n",
              "      <th>2</th>\n",
              "      <td>228ce5500dc1d8e020d8d1322874b6f0</td>\n",
              "      <td>f9e4b658b201a9f2ecdecbb34bed034b</td>\n",
              "      <td>5</td>\n",
              "      <td>2018-02-17 00:00:00</td>\n",
              "      <td>2018-02-18 14:36:24</td>\n",
              "    </tr>\n",
              "    <tr>\n",
              "      <th>3</th>\n",
              "      <td>e64fb393e7b32834bb789ff8bb30750e</td>\n",
              "      <td>658677c97b385a9be170737859d3511b</td>\n",
              "      <td>5</td>\n",
              "      <td>2017-04-21 00:00:00</td>\n",
              "      <td>2017-04-21 22:02:06</td>\n",
              "    </tr>\n",
              "    <tr>\n",
              "      <th>4</th>\n",
              "      <td>f7c4243c7fe1938f181bec41a392bdeb</td>\n",
              "      <td>8e6bfb81e283fa7e4f11123a3fb894f1</td>\n",
              "      <td>5</td>\n",
              "      <td>2018-03-01 00:00:00</td>\n",
              "      <td>2018-03-02 10:26:53</td>\n",
              "    </tr>\n",
              "  </tbody>\n",
              "</table>\n",
              "</div>"
            ],
            "text/plain": [
              "                          review_id                          order_id  \\\n",
              "0  7bc2406110b926393aa56f80a40eba40  73fc7af87114b39712e6da79b0a377eb   \n",
              "1  80e641a11e56f04c1ad469d5645fdfde  a548910a1c6147796b98fdf73dbeba33   \n",
              "2  228ce5500dc1d8e020d8d1322874b6f0  f9e4b658b201a9f2ecdecbb34bed034b   \n",
              "3  e64fb393e7b32834bb789ff8bb30750e  658677c97b385a9be170737859d3511b   \n",
              "4  f7c4243c7fe1938f181bec41a392bdeb  8e6bfb81e283fa7e4f11123a3fb894f1   \n",
              "\n",
              "   review_score review_creation_date review_answer_timestamp  \n",
              "0             4  2018-01-18 00:00:00     2018-01-18 21:46:59  \n",
              "1             5  2018-03-10 00:00:00     2018-03-11 03:05:13  \n",
              "2             5  2018-02-17 00:00:00     2018-02-18 14:36:24  \n",
              "3             5  2017-04-21 00:00:00     2017-04-21 22:02:06  \n",
              "4             5  2018-03-01 00:00:00     2018-03-02 10:26:53  "
            ]
          },
          "execution_count": 108,
          "metadata": {},
          "output_type": "execute_result"
        }
      ],
      "source": [
        "reviews_df.head()"
      ]
    },
    {
      "cell_type": "markdown",
      "metadata": {
        "id": "XQiBOxxlxLAp"
      },
      "source": [
        "##### Pengecekan Akhir Setalah Pembersihan 3 Missing Value pada orders_df"
      ]
    },
    {
      "cell_type": "code",
      "execution_count": 109,
      "metadata": {
        "colab": {
          "base_uri": "https://localhost:8080/",
          "height": 241
        },
        "id": "_GRAQa08xLwH",
        "outputId": "0c9b8387-795c-454b-ff14-b2c9f2e7005a"
      },
      "outputs": [
        {
          "data": {
            "text/plain": [
              "review_id                  0\n",
              "order_id                   0\n",
              "review_score               0\n",
              "review_creation_date       0\n",
              "review_answer_timestamp    0\n",
              "dtype: int64"
            ]
          },
          "execution_count": 109,
          "metadata": {},
          "output_type": "execute_result"
        }
      ],
      "source": [
        "reviews_df.isna().sum()"
      ]
    },
    {
      "cell_type": "markdown",
      "metadata": {
        "id": "cyNwHwzdtrNl"
      },
      "source": [
        "#### Memeriksa Format Tanggal"
      ]
    },
    {
      "cell_type": "code",
      "execution_count": 110,
      "metadata": {
        "id": "foe3ZICPJDLt"
      },
      "outputs": [],
      "source": [
        "reviews_df['review_creation_date'] = pd.to_datetime(reviews_df['review_creation_date'], errors='coerce')\n",
        "reviews_df['review_answer_timestamp'] = pd.to_datetime(reviews_df['review_answer_timestamp'], errors='coerce')"
      ]
    },
    {
      "cell_type": "code",
      "execution_count": 111,
      "metadata": {
        "colab": {
          "base_uri": "https://localhost:8080/",
          "height": 241
        },
        "id": "WV0Bgd5-x5Wd",
        "outputId": "845f3fe4-7e3d-4cf9-f308-8625c96f5d73"
      },
      "outputs": [
        {
          "data": {
            "text/plain": [
              "review_id                          object\n",
              "order_id                           object\n",
              "review_score                        int64\n",
              "review_creation_date       datetime64[ns]\n",
              "review_answer_timestamp    datetime64[ns]\n",
              "dtype: object"
            ]
          },
          "execution_count": 111,
          "metadata": {},
          "output_type": "execute_result"
        }
      ],
      "source": [
        "reviews_df.dtypes"
      ]
    },
    {
      "cell_type": "markdown",
      "metadata": {
        "id": "T0ukPxwz5nw6"
      },
      "source": [
        "#### Memeriksa distribusi review_score"
      ]
    },
    {
      "cell_type": "code",
      "execution_count": 112,
      "metadata": {
        "colab": {
          "base_uri": "https://localhost:8080/",
          "height": 273
        },
        "id": "d5t3TApm5fjf",
        "outputId": "6283decf-d159-4c3d-ba1c-48296bc27366"
      },
      "outputs": [
        {
          "data": {
            "text/plain": [
              "review_score\n",
              "5    57328\n",
              "4    19142\n",
              "1    11424\n",
              "3     8179\n",
              "2     3151\n",
              "Name: count, dtype: int64"
            ]
          },
          "execution_count": 112,
          "metadata": {},
          "output_type": "execute_result"
        }
      ],
      "source": [
        "reviews_df['review_score'].value_counts()"
      ]
    },
    {
      "cell_type": "markdown",
      "metadata": {
        "id": "GKMkZM550VQP"
      },
      "source": [
        "#### Kecocokan Antara order_id Dengan tabel orders_df"
      ]
    },
    {
      "cell_type": "code",
      "execution_count": 113,
      "metadata": {
        "colab": {
          "base_uri": "https://localhost:8080/"
        },
        "id": "bHvW87ut2tBZ",
        "outputId": "904e4b6a-9558-48d6-853b-992c1095deef"
      },
      "outputs": [
        {
          "name": "stdout",
          "output_type": "stream",
          "text": [
            "Jumlah order_id yang tidak cocok: 0\n"
          ]
        }
      ],
      "source": [
        "missing_order_ids = reviews_df[~reviews_df['order_id'].isin(orders_df['order_id'])]\n",
        "print(f\"Jumlah order_id yang tidak cocok: {missing_order_ids.shape[0]}\")"
      ]
    },
    {
      "cell_type": "markdown",
      "metadata": {
        "id": "A61O4SayJFz7"
      },
      "source": [
        "### clear  data sellers"
      ]
    },
    {
      "cell_type": "markdown",
      "metadata": {
        "id": "UgfgGCkSD6Z0"
      },
      "source": [
        "#### Pengecekan Keunikan Kolom seller_id"
      ]
    },
    {
      "cell_type": "code",
      "execution_count": 114,
      "metadata": {
        "colab": {
          "base_uri": "https://localhost:8080/"
        },
        "id": "BlhVbKBcJEvt",
        "outputId": "ac846a75-bde1-4adb-bba3-c8a41b1c32d5"
      },
      "outputs": [
        {
          "name": "stdout",
          "output_type": "stream",
          "text": [
            "Apakah seller_id unik? True\n"
          ]
        }
      ],
      "source": [
        "is_unique = sellers_df['seller_id'].is_unique\n",
        "print(f\"Apakah seller_id unik? {is_unique}\")"
      ]
    },
    {
      "cell_type": "markdown",
      "metadata": {
        "id": "jtRLyDnsnt4C"
      },
      "source": [
        "**True menunjukkan bahwa setiap nilai di kolom seller_id hanya muncul sekali, jadi tidak ada duplikasi untuk seller_id.**"
      ]
    },
    {
      "cell_type": "markdown",
      "metadata": {
        "id": "5OTECloR2YXo"
      },
      "source": [
        "#### Pengecekan Kode Pos Tidak Valid"
      ]
    },
    {
      "cell_type": "code",
      "execution_count": 115,
      "metadata": {
        "colab": {
          "base_uri": "https://localhost:8080/",
          "height": 196
        },
        "id": "1Dwfb3I4EGe7",
        "outputId": "33f2953d-72fe-44e1-c0d1-e073ef688447"
      },
      "outputs": [
        {
          "name": "stdout",
          "output_type": "stream",
          "text": [
            "Distribusi Kode Pos:\n"
          ]
        },
        {
          "data": {
            "text/plain": [
              "seller_zip_code_prefix\n",
              "5    2068\n",
              "4    1027\n",
              "Name: count, dtype: int64"
            ]
          },
          "execution_count": 115,
          "metadata": {},
          "output_type": "execute_result"
        }
      ],
      "source": [
        "print(\"Distribusi Kode Pos:\")\n",
        "sellers_df['seller_zip_code_prefix'].astype(str).str.len().value_counts()"
      ]
    },
    {
      "cell_type": "code",
      "execution_count": 116,
      "metadata": {
        "colab": {
          "base_uri": "https://localhost:8080/",
          "height": 424
        },
        "id": "bYD1folLEPes",
        "outputId": "ed06fc18-56f4-42c3-e463-a8bc5a0b466c"
      },
      "outputs": [
        {
          "data": {
            "text/html": [
              "<div>\n",
              "<style scoped>\n",
              "    .dataframe tbody tr th:only-of-type {\n",
              "        vertical-align: middle;\n",
              "    }\n",
              "\n",
              "    .dataframe tbody tr th {\n",
              "        vertical-align: top;\n",
              "    }\n",
              "\n",
              "    .dataframe thead th {\n",
              "        text-align: right;\n",
              "    }\n",
              "</style>\n",
              "<table border=\"1\" class=\"dataframe\">\n",
              "  <thead>\n",
              "    <tr style=\"text-align: right;\">\n",
              "      <th></th>\n",
              "      <th>seller_id</th>\n",
              "      <th>seller_zip_code_prefix</th>\n",
              "      <th>seller_city</th>\n",
              "      <th>seller_state</th>\n",
              "    </tr>\n",
              "  </thead>\n",
              "  <tbody>\n",
              "    <tr>\n",
              "      <th>3</th>\n",
              "      <td>c0f3eea2e14555b6faeea3dd58c1b1c3</td>\n",
              "      <td>4195</td>\n",
              "      <td>sao paulo</td>\n",
              "      <td>SP</td>\n",
              "    </tr>\n",
              "    <tr>\n",
              "      <th>8</th>\n",
              "      <td>768a86e36ad6aae3d03ee3c6433d61df</td>\n",
              "      <td>1529</td>\n",
              "      <td>sao paulo</td>\n",
              "      <td>SP</td>\n",
              "    </tr>\n",
              "    <tr>\n",
              "      <th>12</th>\n",
              "      <td>8bd0f31cf0a614c658f6763bd02dea69</td>\n",
              "      <td>1222</td>\n",
              "      <td>sao paulo</td>\n",
              "      <td>SP</td>\n",
              "    </tr>\n",
              "    <tr>\n",
              "      <th>13</th>\n",
              "      <td>05a48cc8859962767935ab9087417fbb</td>\n",
              "      <td>5372</td>\n",
              "      <td>sao paulo</td>\n",
              "      <td>SP</td>\n",
              "    </tr>\n",
              "    <tr>\n",
              "      <th>19</th>\n",
              "      <td>f9ec7093df3a7b346b7bcf7864069ca3</td>\n",
              "      <td>5138</td>\n",
              "      <td>sao paulo</td>\n",
              "      <td>SP</td>\n",
              "    </tr>\n",
              "    <tr>\n",
              "      <th>...</th>\n",
              "      <td>...</td>\n",
              "      <td>...</td>\n",
              "      <td>...</td>\n",
              "      <td>...</td>\n",
              "    </tr>\n",
              "    <tr>\n",
              "      <th>3083</th>\n",
              "      <td>e94b64dc6979b302a5a5be1662c83bb6</td>\n",
              "      <td>6852</td>\n",
              "      <td>itapecerica da serra</td>\n",
              "      <td>SP</td>\n",
              "    </tr>\n",
              "    <tr>\n",
              "      <th>3087</th>\n",
              "      <td>f00f5b35d0abcacbdd863672f4bb2c1a</td>\n",
              "      <td>1238</td>\n",
              "      <td>sao paulo</td>\n",
              "      <td>SP</td>\n",
              "    </tr>\n",
              "    <tr>\n",
              "      <th>3088</th>\n",
              "      <td>7bac63f6603d382cc8d0832eb6c100a8</td>\n",
              "      <td>5713</td>\n",
              "      <td>sao paulo</td>\n",
              "      <td>SP</td>\n",
              "    </tr>\n",
              "    <tr>\n",
              "      <th>3089</th>\n",
              "      <td>f1fdf2d13186575751aa25876536d85c</td>\n",
              "      <td>5314</td>\n",
              "      <td>sao paulo</td>\n",
              "      <td>SP</td>\n",
              "    </tr>\n",
              "    <tr>\n",
              "      <th>3092</th>\n",
              "      <td>74871d19219c7d518d0090283e03c137</td>\n",
              "      <td>4650</td>\n",
              "      <td>sao paulo</td>\n",
              "      <td>SP</td>\n",
              "    </tr>\n",
              "  </tbody>\n",
              "</table>\n",
              "<p>1027 rows × 4 columns</p>\n",
              "</div>"
            ],
            "text/plain": [
              "                             seller_id  seller_zip_code_prefix  \\\n",
              "3     c0f3eea2e14555b6faeea3dd58c1b1c3                    4195   \n",
              "8     768a86e36ad6aae3d03ee3c6433d61df                    1529   \n",
              "12    8bd0f31cf0a614c658f6763bd02dea69                    1222   \n",
              "13    05a48cc8859962767935ab9087417fbb                    5372   \n",
              "19    f9ec7093df3a7b346b7bcf7864069ca3                    5138   \n",
              "...                                ...                     ...   \n",
              "3083  e94b64dc6979b302a5a5be1662c83bb6                    6852   \n",
              "3087  f00f5b35d0abcacbdd863672f4bb2c1a                    1238   \n",
              "3088  7bac63f6603d382cc8d0832eb6c100a8                    5713   \n",
              "3089  f1fdf2d13186575751aa25876536d85c                    5314   \n",
              "3092  74871d19219c7d518d0090283e03c137                    4650   \n",
              "\n",
              "               seller_city seller_state  \n",
              "3                sao paulo           SP  \n",
              "8                sao paulo           SP  \n",
              "12               sao paulo           SP  \n",
              "13               sao paulo           SP  \n",
              "19               sao paulo           SP  \n",
              "...                    ...          ...  \n",
              "3083  itapecerica da serra           SP  \n",
              "3087             sao paulo           SP  \n",
              "3088             sao paulo           SP  \n",
              "3089             sao paulo           SP  \n",
              "3092             sao paulo           SP  \n",
              "\n",
              "[1027 rows x 4 columns]"
            ]
          },
          "execution_count": 116,
          "metadata": {},
          "output_type": "execute_result"
        }
      ],
      "source": [
        "invalid_zip_codes = sellers_df[sellers_df['seller_zip_code_prefix'].astype(str).str.len() == 4]\n",
        "invalid_zip_codes"
      ]
    },
    {
      "cell_type": "markdown",
      "metadata": {
        "id": "bFhfBxrgLulE"
      },
      "source": [
        "**Menghapus data dengan kode pos 4 digit karena kode pos yang valid di Brazil selalu memiliki 8 digit, misalnya \"20920-000\" untuk Rio de Janeiro. Kode pos dengan 4 digit tidak dapat merujuk ke lokasi yang tepat, bahkan jika ditambah \"000\" di belakangnya. Oleh karena itu, hanya data dengan kode pos 5 digit yang dipertahankan, dan untuk kode pos tersebut, misal tambahkan \"-000\" di belakangnya untuk membuatnya valid dan sesuai.**"
      ]
    },
    {
      "cell_type": "code",
      "execution_count": 117,
      "metadata": {
        "id": "BsIhoizZKduE"
      },
      "outputs": [],
      "source": [
        "sellers_df = sellers_df[sellers_df['seller_zip_code_prefix'].astype(str).str.len() == 5]"
      ]
    },
    {
      "cell_type": "code",
      "execution_count": 118,
      "metadata": {
        "colab": {
          "base_uri": "https://localhost:8080/",
          "height": 147
        },
        "id": "JnzzyYoZKiDp",
        "outputId": "10cd2ddf-2c33-4acb-d4a6-722dc771f318"
      },
      "outputs": [
        {
          "data": {
            "text/plain": [
              "seller_zip_code_prefix\n",
              "5    2068\n",
              "Name: count, dtype: int64"
            ]
          },
          "execution_count": 118,
          "metadata": {},
          "output_type": "execute_result"
        }
      ],
      "source": [
        "sellers_df['seller_zip_code_prefix'].astype(str).str.len().value_counts()"
      ]
    },
    {
      "cell_type": "markdown",
      "metadata": {
        "id": "Q9X-Pu29H4ZN"
      },
      "source": [
        "#### Mencocokan seller_id yang ada di sellers_df dengan seller_id yang ada di items_df"
      ]
    },
    {
      "cell_type": "code",
      "execution_count": 119,
      "metadata": {
        "colab": {
          "base_uri": "https://localhost:8080/"
        },
        "id": "YStDEQ9nH1Ck",
        "outputId": "ffca8050-65c8-4c25-b0cd-ff4c3da6ed40"
      },
      "outputs": [
        {
          "name": "stdout",
          "output_type": "stream",
          "text": [
            "Jumlah seller_id yang tidak cocok: 0\n"
          ]
        }
      ],
      "source": [
        "invalid_seller_ids = sellers_df[~sellers_df['seller_id'].isin(items_df['seller_id'])]\n",
        "print(f\"Jumlah seller_id yang tidak cocok: {invalid_seller_ids.shape[0]}\")"
      ]
    },
    {
      "cell_type": "markdown",
      "metadata": {
        "id": "vlUPuBu8JH8W"
      },
      "source": [
        "### clear  data payments"
      ]
    },
    {
      "cell_type": "markdown",
      "metadata": {
        "id": "W5z8-gdvVFb2"
      },
      "source": [
        "#### Penghapusan Outlier pada Kolom Pembayaran"
      ]
    },
    {
      "cell_type": "code",
      "execution_count": 120,
      "metadata": {
        "id": "PEG76zNHJIXs"
      },
      "outputs": [],
      "source": [
        "Q1 = payments_df['payment_value'].quantile(0.25)\n",
        "Q3 = payments_df['payment_value'].quantile(0.75)\n",
        "IQR = Q3 - Q1\n",
        "\n",
        "maximum = Q3 + (1.5 * IQR)\n",
        "minimum = Q1 - (1.5 * IQR)"
      ]
    },
    {
      "cell_type": "code",
      "execution_count": 121,
      "metadata": {
        "colab": {
          "base_uri": "https://localhost:8080/",
          "height": 476
        },
        "id": "quc-ctOVTKr-",
        "outputId": "1d02eb68-c223-4d24-86f8-9690b8f5ba24"
      },
      "outputs": [
        {
          "name": "stdout",
          "output_type": "stream",
          "text": [
            "Outlier yang lebih rendah dari batas minimum:\n",
            "\n",
            "Outlier yang lebih tinggi dari batas maksimum:\n"
          ]
        },
        {
          "data": {
            "text/html": [
              "<div>\n",
              "<style scoped>\n",
              "    .dataframe tbody tr th:only-of-type {\n",
              "        vertical-align: middle;\n",
              "    }\n",
              "\n",
              "    .dataframe tbody tr th {\n",
              "        vertical-align: top;\n",
              "    }\n",
              "\n",
              "    .dataframe thead th {\n",
              "        text-align: right;\n",
              "    }\n",
              "</style>\n",
              "<table border=\"1\" class=\"dataframe\">\n",
              "  <thead>\n",
              "    <tr style=\"text-align: right;\">\n",
              "      <th></th>\n",
              "      <th>payment_value</th>\n",
              "    </tr>\n",
              "  </thead>\n",
              "  <tbody>\n",
              "    <tr>\n",
              "      <th>23</th>\n",
              "      <td>353.09</td>\n",
              "    </tr>\n",
              "    <tr>\n",
              "      <th>26</th>\n",
              "      <td>541.00</td>\n",
              "    </tr>\n",
              "    <tr>\n",
              "      <th>52</th>\n",
              "      <td>542.66</td>\n",
              "    </tr>\n",
              "    <tr>\n",
              "      <th>54</th>\n",
              "      <td>368.98</td>\n",
              "    </tr>\n",
              "    <tr>\n",
              "      <th>61</th>\n",
              "      <td>387.80</td>\n",
              "    </tr>\n",
              "    <tr>\n",
              "      <th>...</th>\n",
              "      <td>...</td>\n",
              "    </tr>\n",
              "    <tr>\n",
              "      <th>103814</th>\n",
              "      <td>713.65</td>\n",
              "    </tr>\n",
              "    <tr>\n",
              "      <th>103843</th>\n",
              "      <td>372.08</td>\n",
              "    </tr>\n",
              "    <tr>\n",
              "      <th>103861</th>\n",
              "      <td>356.53</td>\n",
              "    </tr>\n",
              "    <tr>\n",
              "      <th>103881</th>\n",
              "      <td>363.31</td>\n",
              "    </tr>\n",
              "    <tr>\n",
              "      <th>103884</th>\n",
              "      <td>369.54</td>\n",
              "    </tr>\n",
              "  </tbody>\n",
              "</table>\n",
              "<p>7981 rows × 1 columns</p>\n",
              "</div>"
            ],
            "text/plain": [
              "        payment_value\n",
              "23             353.09\n",
              "26             541.00\n",
              "52             542.66\n",
              "54             368.98\n",
              "61             387.80\n",
              "...               ...\n",
              "103814         713.65\n",
              "103843         372.08\n",
              "103861         356.53\n",
              "103881         363.31\n",
              "103884         369.54\n",
              "\n",
              "[7981 rows x 1 columns]"
            ]
          },
          "execution_count": 121,
          "metadata": {},
          "output_type": "execute_result"
        }
      ],
      "source": [
        "print(\"Outlier yang lebih rendah dari batas minimum:\")\n",
        "payments_df[payments_df['payment_value'] < minimum][['payment_value']]\n",
        "\n",
        "print(\"\\nOutlier yang lebih tinggi dari batas maksimum:\")\n",
        "payments_df[payments_df['payment_value'] > maximum][['payment_value']]"
      ]
    },
    {
      "cell_type": "markdown",
      "metadata": {
        "id": "ILvjrHb6Vems"
      },
      "source": [
        "**Outlier pada kolom pembayaran yang berada di luar rentang IQR dihapus untuk menjaga kualitas data dan menghindari distorsi dalam analisis. Langkah ini memastikan data yang digunakan lebih konsisten dan relevan dengan pertanyaan bisnis, seperti identifikasi produk bestseller dan prediksi produk masa depan.**"
      ]
    },
    {
      "cell_type": "code",
      "execution_count": 122,
      "metadata": {
        "id": "Y9grXubmU_Lm"
      },
      "outputs": [],
      "source": [
        "payments_df = payments_df[(payments_df['payment_value'] >= minimum) & (payments_df['payment_value'] <= maximum)]"
      ]
    },
    {
      "cell_type": "code",
      "execution_count": 123,
      "metadata": {
        "colab": {
          "base_uri": "https://localhost:8080/"
        },
        "id": "CFE2WImnYK9D",
        "outputId": "c8f46edc-d44e-48ce-aea5-8dae71ba5feb"
      },
      "outputs": [
        {
          "name": "stdout",
          "output_type": "stream",
          "text": [
            "\n",
            "Outlier setelah penghapusan:\n",
            "Empty DataFrame\n",
            "Columns: [payment_value]\n",
            "Index: []\n",
            "Empty DataFrame\n",
            "Columns: [payment_value]\n",
            "Index: []\n"
          ]
        }
      ],
      "source": [
        "print(\"\\nOutlier setelah penghapusan:\")\n",
        "print(payments_df[payments_df['payment_value'] < minimum][['payment_value']])\n",
        "print(payments_df[payments_df['payment_value'] > maximum][['payment_value']])"
      ]
    },
    {
      "cell_type": "markdown",
      "metadata": {
        "id": "cLuGrLdHVKVa"
      },
      "source": [
        "#### Memastikan payment_sequential Tidak Melebihi payment_installments"
      ]
    },
    {
      "cell_type": "code",
      "execution_count": 124,
      "metadata": {
        "colab": {
          "base_uri": "https://localhost:8080/"
        },
        "id": "PvBogjPzJIvZ",
        "outputId": "9b0176df-6233-4578-cd0d-e11b6d88d5ee"
      },
      "outputs": [
        {
          "name": "stdout",
          "output_type": "stream",
          "text": [
            "Jumlah pembayaran sekuensial lebih besar dari total cicilan: 4270\n"
          ]
        }
      ],
      "source": [
        "invalid_payment_sequential = payments_df[payments_df['payment_sequential'] > payments_df['payment_installments']]\n",
        "print(f\"Jumlah pembayaran sekuensial lebih besar dari total cicilan: {invalid_payment_sequential.shape[0]}\")"
      ]
    },
    {
      "cell_type": "code",
      "execution_count": 125,
      "metadata": {
        "colab": {
          "base_uri": "https://localhost:8080/",
          "height": 424
        },
        "id": "w3G4AJLGbCRf",
        "outputId": "b2bf0b9d-cb6f-4f33-901e-eb703a36cbe9"
      },
      "outputs": [
        {
          "data": {
            "text/html": [
              "<div>\n",
              "<style scoped>\n",
              "    .dataframe tbody tr th:only-of-type {\n",
              "        vertical-align: middle;\n",
              "    }\n",
              "\n",
              "    .dataframe tbody tr th {\n",
              "        vertical-align: top;\n",
              "    }\n",
              "\n",
              "    .dataframe thead th {\n",
              "        text-align: right;\n",
              "    }\n",
              "</style>\n",
              "<table border=\"1\" class=\"dataframe\">\n",
              "  <thead>\n",
              "    <tr style=\"text-align: right;\">\n",
              "      <th></th>\n",
              "      <th>order_id</th>\n",
              "      <th>payment_sequential</th>\n",
              "      <th>payment_type</th>\n",
              "      <th>payment_installments</th>\n",
              "      <th>payment_value</th>\n",
              "    </tr>\n",
              "  </thead>\n",
              "  <tbody>\n",
              "    <tr>\n",
              "      <th>25</th>\n",
              "      <td>5cfd514482e22bc992e7693f0e3e8df7</td>\n",
              "      <td>2</td>\n",
              "      <td>voucher</td>\n",
              "      <td>1</td>\n",
              "      <td>45.17</td>\n",
              "    </tr>\n",
              "    <tr>\n",
              "      <th>75</th>\n",
              "      <td>3689194c14ad4e2e7361ebd1df0e77b0</td>\n",
              "      <td>2</td>\n",
              "      <td>voucher</td>\n",
              "      <td>1</td>\n",
              "      <td>57.53</td>\n",
              "    </tr>\n",
              "    <tr>\n",
              "      <th>102</th>\n",
              "      <td>21b8b46679ea6482cbf911d960490048</td>\n",
              "      <td>2</td>\n",
              "      <td>voucher</td>\n",
              "      <td>1</td>\n",
              "      <td>43.12</td>\n",
              "    </tr>\n",
              "    <tr>\n",
              "      <th>121</th>\n",
              "      <td>ea9184ad433a404df1d72fa0a8764232</td>\n",
              "      <td>4</td>\n",
              "      <td>voucher</td>\n",
              "      <td>1</td>\n",
              "      <td>22.49</td>\n",
              "    </tr>\n",
              "    <tr>\n",
              "      <th>139</th>\n",
              "      <td>82ffe097d8ddbf319a523b9bbe7725d5</td>\n",
              "      <td>2</td>\n",
              "      <td>voucher</td>\n",
              "      <td>1</td>\n",
              "      <td>30.00</td>\n",
              "    </tr>\n",
              "    <tr>\n",
              "      <th>...</th>\n",
              "      <td>...</td>\n",
              "      <td>...</td>\n",
              "      <td>...</td>\n",
              "      <td>...</td>\n",
              "      <td>...</td>\n",
              "    </tr>\n",
              "    <tr>\n",
              "      <th>103569</th>\n",
              "      <td>fedcd9f7ccdc8cba3a18defedd1a5547</td>\n",
              "      <td>6</td>\n",
              "      <td>voucher</td>\n",
              "      <td>1</td>\n",
              "      <td>8.60</td>\n",
              "    </tr>\n",
              "    <tr>\n",
              "      <th>103732</th>\n",
              "      <td>f0a5b7c94819c69d12a1c0458ec74756</td>\n",
              "      <td>2</td>\n",
              "      <td>voucher</td>\n",
              "      <td>1</td>\n",
              "      <td>80.40</td>\n",
              "    </tr>\n",
              "    <tr>\n",
              "      <th>103747</th>\n",
              "      <td>cf101c3abd3c061ca9f78c1bbb1125af</td>\n",
              "      <td>3</td>\n",
              "      <td>voucher</td>\n",
              "      <td>1</td>\n",
              "      <td>8.46</td>\n",
              "    </tr>\n",
              "    <tr>\n",
              "      <th>103750</th>\n",
              "      <td>d0bff47153ef056bb4f884a2ec2f0691</td>\n",
              "      <td>2</td>\n",
              "      <td>voucher</td>\n",
              "      <td>1</td>\n",
              "      <td>41.89</td>\n",
              "    </tr>\n",
              "    <tr>\n",
              "      <th>103860</th>\n",
              "      <td>31bc09fdbd701a7a4f9b55b5955b8687</td>\n",
              "      <td>6</td>\n",
              "      <td>voucher</td>\n",
              "      <td>1</td>\n",
              "      <td>77.99</td>\n",
              "    </tr>\n",
              "  </tbody>\n",
              "</table>\n",
              "<p>4270 rows × 5 columns</p>\n",
              "</div>"
            ],
            "text/plain": [
              "                                order_id  payment_sequential payment_type  \\\n",
              "25      5cfd514482e22bc992e7693f0e3e8df7                   2      voucher   \n",
              "75      3689194c14ad4e2e7361ebd1df0e77b0                   2      voucher   \n",
              "102     21b8b46679ea6482cbf911d960490048                   2      voucher   \n",
              "121     ea9184ad433a404df1d72fa0a8764232                   4      voucher   \n",
              "139     82ffe097d8ddbf319a523b9bbe7725d5                   2      voucher   \n",
              "...                                  ...                 ...          ...   \n",
              "103569  fedcd9f7ccdc8cba3a18defedd1a5547                   6      voucher   \n",
              "103732  f0a5b7c94819c69d12a1c0458ec74756                   2      voucher   \n",
              "103747  cf101c3abd3c061ca9f78c1bbb1125af                   3      voucher   \n",
              "103750  d0bff47153ef056bb4f884a2ec2f0691                   2      voucher   \n",
              "103860  31bc09fdbd701a7a4f9b55b5955b8687                   6      voucher   \n",
              "\n",
              "        payment_installments  payment_value  \n",
              "25                         1          45.17  \n",
              "75                         1          57.53  \n",
              "102                        1          43.12  \n",
              "121                        1          22.49  \n",
              "139                        1          30.00  \n",
              "...                      ...            ...  \n",
              "103569                     1           8.60  \n",
              "103732                     1          80.40  \n",
              "103747                     1           8.46  \n",
              "103750                     1          41.89  \n",
              "103860                     1          77.99  \n",
              "\n",
              "[4270 rows x 5 columns]"
            ]
          },
          "execution_count": 125,
          "metadata": {},
          "output_type": "execute_result"
        }
      ],
      "source": [
        "invalid_payment_sequential"
      ]
    },
    {
      "cell_type": "code",
      "execution_count": 126,
      "metadata": {
        "colab": {
          "base_uri": "https://localhost:8080/"
        },
        "id": "fF620VUKiYR9",
        "outputId": "ee83eb71-dffc-4ced-8f27-141c102f4c50"
      },
      "outputs": [
        {
          "data": {
            "text/plain": [
              "{'Total Data Payments': 95905,\n",
              " 'Data dengan invalid payment sequential': 4270,\n",
              " 'Persentase invalid payment sequential': 4.4523226109170535,\n",
              " 'Persentase valid payment sequential': 95.54767738908295}"
            ]
          },
          "execution_count": 126,
          "metadata": {},
          "output_type": "execute_result"
        }
      ],
      "source": [
        "total_payments = payments_df.shape[0]\n",
        "total_invalid_payment_sequential = invalid_payment_sequential.shape[0]\n",
        "percentage_invalid_payment_sequential = (invalid_payment_sequential.shape[0] / total_payments) * 100\n",
        "percentage_valid_payment_sequentialt = 100 - percentage_invalid_payment_sequential\n",
        "\n",
        "comparison = {\n",
        "    \"Total Data Payments\": total_payments,\n",
        "    \"Data dengan invalid payment sequential\": total_invalid_payment_sequential,\n",
        "    \"Persentase invalid payment sequential\": percentage_invalid_payment_sequential,\n",
        "    \"Persentase valid payment sequential\": percentage_valid_payment_sequentialt\n",
        "}\n",
        "comparison"
      ]
    },
    {
      "cell_type": "markdown",
      "metadata": {
        "id": "_PtLkeXbkE1z"
      },
      "source": [
        "**Ditemukan bahwa sekitar 4.45% pembayaran memiliki sekuens pembayaran yang lebih besar dari jumlah cicilan, dengan total 4270 pembayaran yang tidak valid. Hal ini menunjukkan adanya inkonsistensi dalam data, di mana pembayaran melebihi jumlah cicilan yang ditetapkan. Oleh karena itu, data ini akan dihapus untuk memastikan hanya pembayaran yang valid yang digunakan dalam analisis.**"
      ]
    },
    {
      "cell_type": "code",
      "execution_count": 127,
      "metadata": {
        "id": "KF4hhu41bCtX"
      },
      "outputs": [],
      "source": [
        "payments_df.drop(payments_df.loc[payments_df['payment_sequential'] > payments_df['payment_installments']].index, inplace=True)"
      ]
    },
    {
      "cell_type": "code",
      "execution_count": 128,
      "metadata": {
        "colab": {
          "base_uri": "https://localhost:8080/"
        },
        "id": "3e2EjN3AkKOR",
        "outputId": "adc1ba4c-5610-4df5-cb8d-3833684257bc"
      },
      "outputs": [
        {
          "name": "stdout",
          "output_type": "stream",
          "text": [
            "Jumlah Data invalid payment sequential Setelah Dibersihkan: 0\n"
          ]
        }
      ],
      "source": [
        "print(f\"Jumlah Data invalid payment sequential Setelah Dibersihkan: {payments_df[payments_df['payment_sequential'] > payments_df['payment_installments']].shape[0]}\")"
      ]
    },
    {
      "cell_type": "markdown",
      "metadata": {
        "id": "2nERf7DgfEwD"
      },
      "source": [
        "#### Memastikan Tidak Ada Nilai 0 atau Negatif"
      ]
    },
    {
      "cell_type": "code",
      "execution_count": 129,
      "metadata": {
        "colab": {
          "base_uri": "https://localhost:8080/",
          "height": 161
        },
        "id": "vv7o3t82bDG3",
        "outputId": "30e6ca1a-fa74-4aed-8c73-ce743f010ce1"
      },
      "outputs": [
        {
          "name": "stdout",
          "output_type": "stream",
          "text": [
            "Jumlah pembayaran dengan nilai 0: 3\n"
          ]
        },
        {
          "data": {
            "text/html": [
              "<div>\n",
              "<style scoped>\n",
              "    .dataframe tbody tr th:only-of-type {\n",
              "        vertical-align: middle;\n",
              "    }\n",
              "\n",
              "    .dataframe tbody tr th {\n",
              "        vertical-align: top;\n",
              "    }\n",
              "\n",
              "    .dataframe thead th {\n",
              "        text-align: right;\n",
              "    }\n",
              "</style>\n",
              "<table border=\"1\" class=\"dataframe\">\n",
              "  <thead>\n",
              "    <tr style=\"text-align: right;\">\n",
              "      <th></th>\n",
              "      <th>order_id</th>\n",
              "      <th>payment_sequential</th>\n",
              "      <th>payment_type</th>\n",
              "      <th>payment_installments</th>\n",
              "      <th>payment_value</th>\n",
              "    </tr>\n",
              "  </thead>\n",
              "  <tbody>\n",
              "    <tr>\n",
              "      <th>51280</th>\n",
              "      <td>4637ca194b6387e2d538dc89b124b0ee</td>\n",
              "      <td>1</td>\n",
              "      <td>not_defined</td>\n",
              "      <td>1</td>\n",
              "      <td>0.0</td>\n",
              "    </tr>\n",
              "    <tr>\n",
              "      <th>57411</th>\n",
              "      <td>00b1cb0320190ca0daa2c88b35206009</td>\n",
              "      <td>1</td>\n",
              "      <td>not_defined</td>\n",
              "      <td>1</td>\n",
              "      <td>0.0</td>\n",
              "    </tr>\n",
              "    <tr>\n",
              "      <th>94427</th>\n",
              "      <td>c8c528189310eaa44a745b8d9d26908b</td>\n",
              "      <td>1</td>\n",
              "      <td>not_defined</td>\n",
              "      <td>1</td>\n",
              "      <td>0.0</td>\n",
              "    </tr>\n",
              "  </tbody>\n",
              "</table>\n",
              "</div>"
            ],
            "text/plain": [
              "                               order_id  payment_sequential payment_type  \\\n",
              "51280  4637ca194b6387e2d538dc89b124b0ee                   1  not_defined   \n",
              "57411  00b1cb0320190ca0daa2c88b35206009                   1  not_defined   \n",
              "94427  c8c528189310eaa44a745b8d9d26908b                   1  not_defined   \n",
              "\n",
              "       payment_installments  payment_value  \n",
              "51280                     1            0.0  \n",
              "57411                     1            0.0  \n",
              "94427                     1            0.0  "
            ]
          },
          "execution_count": 129,
          "metadata": {},
          "output_type": "execute_result"
        }
      ],
      "source": [
        "invalid_payment_value = payments_df[payments_df['payment_value'] <= 0]\n",
        "print(f\"Jumlah pembayaran dengan nilai 0: {invalid_payment_value.shape[0]}\")\n",
        "invalid_payment_value.head()"
      ]
    },
    {
      "cell_type": "markdown",
      "metadata": {
        "id": "3HdxCui8mahq"
      },
      "source": [
        "**Dikarena transaksi dengan nilai pembayaran 0 tidak relevan atau merupakan kesalahan input, agar analisis lebih akurat dan valid opsi pengahpusan data merupakan cara tersesuai untuk menangani nilai kosong tersebut**"
      ]
    },
    {
      "cell_type": "code",
      "execution_count": 130,
      "metadata": {
        "id": "Ac5Bp3tffGKE"
      },
      "outputs": [],
      "source": [
        "payments_df.drop(payments_df[payments_df['payment_value'] <= 0].index, inplace=True)"
      ]
    },
    {
      "cell_type": "code",
      "execution_count": 131,
      "metadata": {
        "colab": {
          "base_uri": "https://localhost:8080/"
        },
        "id": "4gRfNXFzmH0g",
        "outputId": "13a3b6bb-eb84-47a0-b55d-b1187139f962"
      },
      "outputs": [
        {
          "name": "stdout",
          "output_type": "stream",
          "text": [
            "Jumlah pembayaran dengan nilai 0 Setelah Dibersihkan: 0\n"
          ]
        }
      ],
      "source": [
        "print(f\"Jumlah pembayaran dengan nilai 0 Setelah Dibersihkan: {payments_df[payments_df['payment_value'] <= 0].shape[0]}\")"
      ]
    },
    {
      "cell_type": "markdown",
      "metadata": {
        "id": "HDtTBTxUNaN_"
      },
      "source": [
        "### clear data translations"
      ]
    },
    {
      "cell_type": "markdown",
      "metadata": {
        "id": "Z2JhhrP5OVlM"
      },
      "source": [
        "#### Kecocokan Antara product_category_name Dengan tabel products_df"
      ]
    },
    {
      "cell_type": "code",
      "execution_count": 132,
      "metadata": {
        "colab": {
          "base_uri": "https://localhost:8080/"
        },
        "id": "I_G_pPzyPgK-",
        "outputId": "20a80c4d-5ef0-433d-ed85-b38a38eb9df0"
      },
      "outputs": [
        {
          "name": "stdout",
          "output_type": "stream",
          "text": [
            "\n",
            "Kategori di translations_df yang tidak ada di products_df:\n",
            "set()\n"
          ]
        }
      ],
      "source": [
        "print(\"\\nKategori di translations_df yang tidak ada di products_df:\")\n",
        "print(set(translations_df['product_category_name']) - set(products_df['product_category_name'].dropna().unique()))"
      ]
    },
    {
      "cell_type": "markdown",
      "metadata": {
        "id": "Y1pcfSy5QE_k"
      },
      "source": [
        "**tidak ada kategori di translations_df yang tidak ada di products_df.**"
      ]
    },
    {
      "cell_type": "markdown",
      "metadata": {
        "id": "kxckcDEJPwQz"
      },
      "source": [
        "#### Kecocokan Antara product_category_name(products_df) Dengan tabel translations_df"
      ]
    },
    {
      "cell_type": "code",
      "execution_count": 133,
      "metadata": {
        "colab": {
          "base_uri": "https://localhost:8080/"
        },
        "id": "mk-JaPCVNe1K",
        "outputId": "4a8eb5c5-f919-4772-eb65-a003db694498"
      },
      "outputs": [
        {
          "name": "stdout",
          "output_type": "stream",
          "text": [
            "Kategori di products_df yang tidak ada di translations_df:\n",
            "{'portateis_cozinha_e_preparadores_de_alimentos', 'pc_gamer'}\n"
          ]
        }
      ],
      "source": [
        "print(\"Kategori di products_df yang tidak ada di translations_df:\")\n",
        "print(set(products_df['product_category_name'].dropna().unique()) - set(translations_df['product_category_name']))"
      ]
    },
    {
      "cell_type": "code",
      "execution_count": 134,
      "metadata": {
        "colab": {
          "base_uri": "https://localhost:8080/",
          "height": 363
        },
        "id": "ogNs1SK4RvBw",
        "outputId": "061cc9b0-51b6-4650-ba0e-f3188414ee2e"
      },
      "outputs": [
        {
          "data": {
            "text/html": [
              "<div>\n",
              "<style scoped>\n",
              "    .dataframe tbody tr th:only-of-type {\n",
              "        vertical-align: middle;\n",
              "    }\n",
              "\n",
              "    .dataframe tbody tr th {\n",
              "        vertical-align: top;\n",
              "    }\n",
              "\n",
              "    .dataframe thead th {\n",
              "        text-align: right;\n",
              "    }\n",
              "</style>\n",
              "<table border=\"1\" class=\"dataframe\">\n",
              "  <thead>\n",
              "    <tr style=\"text-align: right;\">\n",
              "      <th></th>\n",
              "      <th>product_id</th>\n",
              "      <th>product_category_name</th>\n",
              "      <th>product_name_lenght</th>\n",
              "      <th>product_description_lenght</th>\n",
              "      <th>product_photos_qty</th>\n",
              "      <th>product_weight_g</th>\n",
              "      <th>product_length_cm</th>\n",
              "      <th>product_height_cm</th>\n",
              "      <th>product_width_cm</th>\n",
              "    </tr>\n",
              "  </thead>\n",
              "  <tbody>\n",
              "    <tr>\n",
              "      <th>5821</th>\n",
              "      <td>6fd83eb3e0799b775e4f946bd66657c0</td>\n",
              "      <td>portateis_cozinha_e_preparadores_de_alimentos</td>\n",
              "      <td>52.0</td>\n",
              "      <td>280.0</td>\n",
              "      <td>1.0</td>\n",
              "      <td>1200.0</td>\n",
              "      <td>25.0</td>\n",
              "      <td>33.0</td>\n",
              "      <td>25.0</td>\n",
              "    </tr>\n",
              "    <tr>\n",
              "      <th>7325</th>\n",
              "      <td>5d923ead886c44b86845f69e50520c3e</td>\n",
              "      <td>portateis_cozinha_e_preparadores_de_alimentos</td>\n",
              "      <td>58.0</td>\n",
              "      <td>284.0</td>\n",
              "      <td>1.0</td>\n",
              "      <td>1200.0</td>\n",
              "      <td>25.0</td>\n",
              "      <td>33.0</td>\n",
              "      <td>25.0</td>\n",
              "    </tr>\n",
              "    <tr>\n",
              "      <th>8819</th>\n",
              "      <td>bed164d9d628cf0593003389c535c6e0</td>\n",
              "      <td>portateis_cozinha_e_preparadores_de_alimentos</td>\n",
              "      <td>54.0</td>\n",
              "      <td>382.0</td>\n",
              "      <td>2.0</td>\n",
              "      <td>850.0</td>\n",
              "      <td>30.0</td>\n",
              "      <td>21.0</td>\n",
              "      <td>22.0</td>\n",
              "    </tr>\n",
              "    <tr>\n",
              "      <th>11039</th>\n",
              "      <td>1220978a08a6b29a202bc015b18250e9</td>\n",
              "      <td>portateis_cozinha_e_preparadores_de_alimentos</td>\n",
              "      <td>46.0</td>\n",
              "      <td>280.0</td>\n",
              "      <td>1.0</td>\n",
              "      <td>1200.0</td>\n",
              "      <td>25.0</td>\n",
              "      <td>33.0</td>\n",
              "      <td>25.0</td>\n",
              "    </tr>\n",
              "    <tr>\n",
              "      <th>14266</th>\n",
              "      <td>ae62bb0f95af63d64eae5f93dddea8d3</td>\n",
              "      <td>portateis_cozinha_e_preparadores_de_alimentos</td>\n",
              "      <td>59.0</td>\n",
              "      <td>927.0</td>\n",
              "      <td>1.0</td>\n",
              "      <td>10600.0</td>\n",
              "      <td>40.0</td>\n",
              "      <td>20.0</td>\n",
              "      <td>38.0</td>\n",
              "    </tr>\n",
              "    <tr>\n",
              "      <th>16182</th>\n",
              "      <td>1954739d84629e7323a4295812a3e0ec</td>\n",
              "      <td>portateis_cozinha_e_preparadores_de_alimentos</td>\n",
              "      <td>58.0</td>\n",
              "      <td>792.0</td>\n",
              "      <td>4.0</td>\n",
              "      <td>750.0</td>\n",
              "      <td>30.0</td>\n",
              "      <td>30.0</td>\n",
              "      <td>30.0</td>\n",
              "    </tr>\n",
              "    <tr>\n",
              "      <th>17800</th>\n",
              "      <td>c7a3f1a7f9eef146cc499368b578b884</td>\n",
              "      <td>portateis_cozinha_e_preparadores_de_alimentos</td>\n",
              "      <td>52.0</td>\n",
              "      <td>1372.0</td>\n",
              "      <td>5.0</td>\n",
              "      <td>7350.0</td>\n",
              "      <td>40.0</td>\n",
              "      <td>30.0</td>\n",
              "      <td>23.0</td>\n",
              "    </tr>\n",
              "    <tr>\n",
              "      <th>18610</th>\n",
              "      <td>7afdd65f79f63819ff5bee328843fa37</td>\n",
              "      <td>portateis_cozinha_e_preparadores_de_alimentos</td>\n",
              "      <td>48.0</td>\n",
              "      <td>305.0</td>\n",
              "      <td>1.0</td>\n",
              "      <td>750.0</td>\n",
              "      <td>20.0</td>\n",
              "      <td>20.0</td>\n",
              "      <td>20.0</td>\n",
              "    </tr>\n",
              "    <tr>\n",
              "      <th>26890</th>\n",
              "      <td>a4756663d007b0cd1af865754d08d968</td>\n",
              "      <td>portateis_cozinha_e_preparadores_de_alimentos</td>\n",
              "      <td>60.0</td>\n",
              "      <td>1304.0</td>\n",
              "      <td>4.0</td>\n",
              "      <td>650.0</td>\n",
              "      <td>22.0</td>\n",
              "      <td>6.0</td>\n",
              "      <td>14.0</td>\n",
              "    </tr>\n",
              "    <tr>\n",
              "      <th>29919</th>\n",
              "      <td>cb9d764f38ee4d0c00af64d5c388f837</td>\n",
              "      <td>portateis_cozinha_e_preparadores_de_alimentos</td>\n",
              "      <td>57.0</td>\n",
              "      <td>306.0</td>\n",
              "      <td>1.0</td>\n",
              "      <td>625.0</td>\n",
              "      <td>28.0</td>\n",
              "      <td>27.0</td>\n",
              "      <td>24.0</td>\n",
              "    </tr>\n",
              "  </tbody>\n",
              "</table>\n",
              "</div>"
            ],
            "text/plain": [
              "                             product_id  \\\n",
              "5821   6fd83eb3e0799b775e4f946bd66657c0   \n",
              "7325   5d923ead886c44b86845f69e50520c3e   \n",
              "8819   bed164d9d628cf0593003389c535c6e0   \n",
              "11039  1220978a08a6b29a202bc015b18250e9   \n",
              "14266  ae62bb0f95af63d64eae5f93dddea8d3   \n",
              "16182  1954739d84629e7323a4295812a3e0ec   \n",
              "17800  c7a3f1a7f9eef146cc499368b578b884   \n",
              "18610  7afdd65f79f63819ff5bee328843fa37   \n",
              "26890  a4756663d007b0cd1af865754d08d968   \n",
              "29919  cb9d764f38ee4d0c00af64d5c388f837   \n",
              "\n",
              "                               product_category_name  product_name_lenght  \\\n",
              "5821   portateis_cozinha_e_preparadores_de_alimentos                 52.0   \n",
              "7325   portateis_cozinha_e_preparadores_de_alimentos                 58.0   \n",
              "8819   portateis_cozinha_e_preparadores_de_alimentos                 54.0   \n",
              "11039  portateis_cozinha_e_preparadores_de_alimentos                 46.0   \n",
              "14266  portateis_cozinha_e_preparadores_de_alimentos                 59.0   \n",
              "16182  portateis_cozinha_e_preparadores_de_alimentos                 58.0   \n",
              "17800  portateis_cozinha_e_preparadores_de_alimentos                 52.0   \n",
              "18610  portateis_cozinha_e_preparadores_de_alimentos                 48.0   \n",
              "26890  portateis_cozinha_e_preparadores_de_alimentos                 60.0   \n",
              "29919  portateis_cozinha_e_preparadores_de_alimentos                 57.0   \n",
              "\n",
              "       product_description_lenght  product_photos_qty  product_weight_g  \\\n",
              "5821                        280.0                 1.0            1200.0   \n",
              "7325                        284.0                 1.0            1200.0   \n",
              "8819                        382.0                 2.0             850.0   \n",
              "11039                       280.0                 1.0            1200.0   \n",
              "14266                       927.0                 1.0           10600.0   \n",
              "16182                       792.0                 4.0             750.0   \n",
              "17800                      1372.0                 5.0            7350.0   \n",
              "18610                       305.0                 1.0             750.0   \n",
              "26890                      1304.0                 4.0             650.0   \n",
              "29919                       306.0                 1.0             625.0   \n",
              "\n",
              "       product_length_cm  product_height_cm  product_width_cm  \n",
              "5821                25.0               33.0              25.0  \n",
              "7325                25.0               33.0              25.0  \n",
              "8819                30.0               21.0              22.0  \n",
              "11039               25.0               33.0              25.0  \n",
              "14266               40.0               20.0              38.0  \n",
              "16182               30.0               30.0              30.0  \n",
              "17800               40.0               30.0              23.0  \n",
              "18610               20.0               20.0              20.0  \n",
              "26890               22.0                6.0              14.0  \n",
              "29919               28.0               27.0              24.0  "
            ]
          },
          "execution_count": 134,
          "metadata": {},
          "output_type": "execute_result"
        }
      ],
      "source": [
        "products_df[products_df['product_category_name'] == 'portateis_cozinha_e_preparadores_de_alimentos']"
      ]
    },
    {
      "cell_type": "code",
      "execution_count": 135,
      "metadata": {
        "colab": {
          "base_uri": "https://localhost:8080/",
          "height": 144
        },
        "id": "k3r_gl4wTBeJ",
        "outputId": "02dde9eb-a5f2-49ac-ea63-1c4bda5a9ddb"
      },
      "outputs": [
        {
          "data": {
            "text/html": [
              "<div>\n",
              "<style scoped>\n",
              "    .dataframe tbody tr th:only-of-type {\n",
              "        vertical-align: middle;\n",
              "    }\n",
              "\n",
              "    .dataframe tbody tr th {\n",
              "        vertical-align: top;\n",
              "    }\n",
              "\n",
              "    .dataframe thead th {\n",
              "        text-align: right;\n",
              "    }\n",
              "</style>\n",
              "<table border=\"1\" class=\"dataframe\">\n",
              "  <thead>\n",
              "    <tr style=\"text-align: right;\">\n",
              "      <th></th>\n",
              "      <th>product_id</th>\n",
              "      <th>product_category_name</th>\n",
              "      <th>product_name_lenght</th>\n",
              "      <th>product_description_lenght</th>\n",
              "      <th>product_photos_qty</th>\n",
              "      <th>product_weight_g</th>\n",
              "      <th>product_length_cm</th>\n",
              "      <th>product_height_cm</th>\n",
              "      <th>product_width_cm</th>\n",
              "    </tr>\n",
              "  </thead>\n",
              "  <tbody>\n",
              "    <tr>\n",
              "      <th>1628</th>\n",
              "      <td>0105b5323d24fc655f73052694dbbb3a</td>\n",
              "      <td>pc_gamer</td>\n",
              "      <td>59.0</td>\n",
              "      <td>621.0</td>\n",
              "      <td>4.0</td>\n",
              "      <td>2839.0</td>\n",
              "      <td>19.0</td>\n",
              "      <td>16.0</td>\n",
              "      <td>18.0</td>\n",
              "    </tr>\n",
              "    <tr>\n",
              "      <th>7478</th>\n",
              "      <td>6727051471a0fc4a0e7737b57bff2549</td>\n",
              "      <td>pc_gamer</td>\n",
              "      <td>60.0</td>\n",
              "      <td>1532.0</td>\n",
              "      <td>3.0</td>\n",
              "      <td>650.0</td>\n",
              "      <td>16.0</td>\n",
              "      <td>22.0</td>\n",
              "      <td>20.0</td>\n",
              "    </tr>\n",
              "    <tr>\n",
              "      <th>16930</th>\n",
              "      <td>dbe520fb381ad695a7e1f2807d20c765</td>\n",
              "      <td>pc_gamer</td>\n",
              "      <td>60.0</td>\n",
              "      <td>840.0</td>\n",
              "      <td>6.0</td>\n",
              "      <td>800.0</td>\n",
              "      <td>18.0</td>\n",
              "      <td>22.0</td>\n",
              "      <td>22.0</td>\n",
              "    </tr>\n",
              "  </tbody>\n",
              "</table>\n",
              "</div>"
            ],
            "text/plain": [
              "                             product_id product_category_name  \\\n",
              "1628   0105b5323d24fc655f73052694dbbb3a              pc_gamer   \n",
              "7478   6727051471a0fc4a0e7737b57bff2549              pc_gamer   \n",
              "16930  dbe520fb381ad695a7e1f2807d20c765              pc_gamer   \n",
              "\n",
              "       product_name_lenght  product_description_lenght  product_photos_qty  \\\n",
              "1628                  59.0                       621.0                 4.0   \n",
              "7478                  60.0                      1532.0                 3.0   \n",
              "16930                 60.0                       840.0                 6.0   \n",
              "\n",
              "       product_weight_g  product_length_cm  product_height_cm  \\\n",
              "1628             2839.0               19.0               16.0   \n",
              "7478              650.0               16.0               22.0   \n",
              "16930             800.0               18.0               22.0   \n",
              "\n",
              "       product_width_cm  \n",
              "1628               18.0  \n",
              "7478               20.0  \n",
              "16930              22.0  "
            ]
          },
          "execution_count": 135,
          "metadata": {},
          "output_type": "execute_result"
        }
      ],
      "source": [
        "products_df[products_df['product_category_name'] == 'pc_gamer']"
      ]
    },
    {
      "cell_type": "markdown",
      "metadata": {
        "id": "hggAvXB8TGv3"
      },
      "source": [
        "**Karena kategori portateis_cozinha_e_preparadores_de_alimentos dan pc_gamer cukup banyak ditemukan di products_df tetapi tidak ada di translations_df,keputusan yang tepat adalah menambahkan entri baru untuk kedua kategori tersebut ke dalam translations_df, agar analisis dan akurasi data lebih sesuia**"
      ]
    },
    {
      "cell_type": "code",
      "execution_count": 136,
      "metadata": {
        "colab": {
          "base_uri": "https://localhost:8080/",
          "height": 206
        },
        "id": "Vm5qNX_BTHM2",
        "outputId": "462e260b-fba8-4554-f827-77dd39a66a68"
      },
      "outputs": [
        {
          "data": {
            "text/html": [
              "<div>\n",
              "<style scoped>\n",
              "    .dataframe tbody tr th:only-of-type {\n",
              "        vertical-align: middle;\n",
              "    }\n",
              "\n",
              "    .dataframe tbody tr th {\n",
              "        vertical-align: top;\n",
              "    }\n",
              "\n",
              "    .dataframe thead th {\n",
              "        text-align: right;\n",
              "    }\n",
              "</style>\n",
              "<table border=\"1\" class=\"dataframe\">\n",
              "  <thead>\n",
              "    <tr style=\"text-align: right;\">\n",
              "      <th></th>\n",
              "      <th>product_category_name</th>\n",
              "      <th>product_category_name_english</th>\n",
              "    </tr>\n",
              "  </thead>\n",
              "  <tbody>\n",
              "    <tr>\n",
              "      <th>68</th>\n",
              "      <td>fraldas_higiene</td>\n",
              "      <td>diapers_and_hygiene</td>\n",
              "    </tr>\n",
              "    <tr>\n",
              "      <th>69</th>\n",
              "      <td>fashion_roupa_infanto_juvenil</td>\n",
              "      <td>fashion_childrens_clothes</td>\n",
              "    </tr>\n",
              "    <tr>\n",
              "      <th>70</th>\n",
              "      <td>seguros_e_servicos</td>\n",
              "      <td>security_and_services</td>\n",
              "    </tr>\n",
              "    <tr>\n",
              "      <th>71</th>\n",
              "      <td>portateis_cozinha_e_preparadores_de_alimentos</td>\n",
              "      <td>portable_kitchen_appliances_and_food_preparers</td>\n",
              "    </tr>\n",
              "    <tr>\n",
              "      <th>72</th>\n",
              "      <td>pc_gamer</td>\n",
              "      <td>gaming_pc</td>\n",
              "    </tr>\n",
              "  </tbody>\n",
              "</table>\n",
              "</div>"
            ],
            "text/plain": [
              "                            product_category_name  \\\n",
              "68                                fraldas_higiene   \n",
              "69                  fashion_roupa_infanto_juvenil   \n",
              "70                             seguros_e_servicos   \n",
              "71  portateis_cozinha_e_preparadores_de_alimentos   \n",
              "72                                       pc_gamer   \n",
              "\n",
              "                     product_category_name_english  \n",
              "68                             diapers_and_hygiene  \n",
              "69                       fashion_childrens_clothes  \n",
              "70                           security_and_services  \n",
              "71  portable_kitchen_appliances_and_food_preparers  \n",
              "72                                       gaming_pc  "
            ]
          },
          "execution_count": 136,
          "metadata": {},
          "output_type": "execute_result"
        }
      ],
      "source": [
        "translations_df.loc[len(translations_df)] = ['portateis_cozinha_e_preparadores_de_alimentos', 'portable_kitchen_appliances_and_food_preparers']\n",
        "translations_df.loc[len(translations_df)] = ['pc_gamer', 'gaming_pc']\n",
        "\n",
        "translations_df.tail()"
      ]
    },
    {
      "cell_type": "code",
      "execution_count": 137,
      "metadata": {
        "colab": {
          "base_uri": "https://localhost:8080/"
        },
        "id": "6DI-mm6uTHrR",
        "outputId": "0edcb6e1-bccf-49f4-aa38-702aa619dbda"
      },
      "outputs": [
        {
          "name": "stdout",
          "output_type": "stream",
          "text": [
            "Pengecekan Kembali Kategori di products_df yang tidak ada di translations_df:\n",
            "set()\n"
          ]
        }
      ],
      "source": [
        "print(\"Pengecekan Kembali Kategori di products_df yang tidak ada di translations_df:\")\n",
        "print(set(products_df['product_category_name'].dropna().unique()) - set(translations_df['product_category_name']))"
      ]
    },
    {
      "cell_type": "markdown",
      "metadata": {
        "id": "FysuCbaTVAeq"
      },
      "source": [
        "**berhasil teratasi tidak ada kategori di products_df yang tidak ada di translations_df.**"
      ]
    },
    {
      "cell_type": "markdown",
      "metadata": {
        "id": "DK4B8a6QEM0v"
      },
      "source": [
        "# Exploratory Data Analysis"
      ]
    },
    {
      "cell_type": "markdown",
      "metadata": {
        "id": "qe0m-SzaGXPf"
      },
      "source": [
        "## Eksplorasi Data Tiap Tabel"
      ]
    },
    {
      "cell_type": "markdown",
      "metadata": {
        "id": "kySUZiJL1faU"
      },
      "source": [
        "**Melihat Hasil Dari Proses Wrangling data (gathering data, Assesing data, Clenaing data) sehingga dataset yang digunakan menjadi lebih sesuai dan akurat.**"
      ]
    },
    {
      "cell_type": "markdown",
      "metadata": {
        "id": "6M0K1Ttj15ck"
      },
      "source": [
        "### Tabel orders_df"
      ]
    },
    {
      "cell_type": "code",
      "execution_count": 138,
      "metadata": {
        "colab": {
          "base_uri": "https://localhost:8080/",
          "height": 206
        },
        "id": "Wdl13WfjGXrj",
        "outputId": "3131e1d2-71a1-4255-ee9c-9bbf87a82d09"
      },
      "outputs": [
        {
          "data": {
            "text/html": [
              "<div>\n",
              "<style scoped>\n",
              "    .dataframe tbody tr th:only-of-type {\n",
              "        vertical-align: middle;\n",
              "    }\n",
              "\n",
              "    .dataframe tbody tr th {\n",
              "        vertical-align: top;\n",
              "    }\n",
              "\n",
              "    .dataframe thead th {\n",
              "        text-align: right;\n",
              "    }\n",
              "</style>\n",
              "<table border=\"1\" class=\"dataframe\">\n",
              "  <thead>\n",
              "    <tr style=\"text-align: right;\">\n",
              "      <th></th>\n",
              "      <th>order_id</th>\n",
              "      <th>customer_id</th>\n",
              "      <th>order_status</th>\n",
              "      <th>order_purchase_timestamp</th>\n",
              "      <th>order_approved_at</th>\n",
              "      <th>order_delivered_carrier_date</th>\n",
              "      <th>order_delivered_customer_date</th>\n",
              "      <th>order_estimated_delivery_date</th>\n",
              "    </tr>\n",
              "  </thead>\n",
              "  <tbody>\n",
              "    <tr>\n",
              "      <th>0</th>\n",
              "      <td>e481f51cbdc54678b7cc49136f2d6af7</td>\n",
              "      <td>9ef432eb6251297304e76186b10a928d</td>\n",
              "      <td>delivered</td>\n",
              "      <td>2017-10-02 10:56:33</td>\n",
              "      <td>2017-10-05 16:24:09.321779509</td>\n",
              "      <td>2017-10-04 19:55:00</td>\n",
              "      <td>2017-10-10 21:25:13</td>\n",
              "      <td>2017-10-18 00:00:00</td>\n",
              "    </tr>\n",
              "    <tr>\n",
              "      <th>1</th>\n",
              "      <td>53cdb2fc8bc7dce0b6741e2150273451</td>\n",
              "      <td>b0830fb4747a6c6d20dea0b8c802d7ef</td>\n",
              "      <td>delivered</td>\n",
              "      <td>2018-07-24 20:41:37</td>\n",
              "      <td>2018-07-28 02:09:13.321779509</td>\n",
              "      <td>2018-07-26 14:31:00</td>\n",
              "      <td>2018-08-07 15:27:45</td>\n",
              "      <td>2018-08-13 00:00:00</td>\n",
              "    </tr>\n",
              "    <tr>\n",
              "      <th>2</th>\n",
              "      <td>47770eb9100c2d0c44946d9cf07ec65d</td>\n",
              "      <td>41ce2a54c0b03bf3443c3d931a367089</td>\n",
              "      <td>delivered</td>\n",
              "      <td>2018-08-08 08:38:49</td>\n",
              "      <td>2018-08-11 14:06:25.321779509</td>\n",
              "      <td>2018-08-08 13:50:00</td>\n",
              "      <td>2018-08-17 18:06:29</td>\n",
              "      <td>2018-09-04 00:00:00</td>\n",
              "    </tr>\n",
              "    <tr>\n",
              "      <th>3</th>\n",
              "      <td>949d5b44dbf5de918fe9c16f97b45f8a</td>\n",
              "      <td>f88197465ea7920adcdbec7375364d82</td>\n",
              "      <td>delivered</td>\n",
              "      <td>2017-11-18 19:28:06</td>\n",
              "      <td>2017-11-22 00:55:42.321779509</td>\n",
              "      <td>2017-11-22 13:39:59</td>\n",
              "      <td>2017-12-02 00:28:42</td>\n",
              "      <td>2017-12-15 00:00:00</td>\n",
              "    </tr>\n",
              "    <tr>\n",
              "      <th>4</th>\n",
              "      <td>ad21c59c0840e6cb83a9ceb5573f8159</td>\n",
              "      <td>8ab97904e6daea8866dbdbc4fb7aad2c</td>\n",
              "      <td>delivered</td>\n",
              "      <td>2018-02-13 21:18:39</td>\n",
              "      <td>2018-02-17 02:46:15.321779509</td>\n",
              "      <td>2018-02-14 19:46:34</td>\n",
              "      <td>2018-02-16 18:17:02</td>\n",
              "      <td>2018-02-26 00:00:00</td>\n",
              "    </tr>\n",
              "  </tbody>\n",
              "</table>\n",
              "</div>"
            ],
            "text/plain": [
              "                           order_id                       customer_id  \\\n",
              "0  e481f51cbdc54678b7cc49136f2d6af7  9ef432eb6251297304e76186b10a928d   \n",
              "1  53cdb2fc8bc7dce0b6741e2150273451  b0830fb4747a6c6d20dea0b8c802d7ef   \n",
              "2  47770eb9100c2d0c44946d9cf07ec65d  41ce2a54c0b03bf3443c3d931a367089   \n",
              "3  949d5b44dbf5de918fe9c16f97b45f8a  f88197465ea7920adcdbec7375364d82   \n",
              "4  ad21c59c0840e6cb83a9ceb5573f8159  8ab97904e6daea8866dbdbc4fb7aad2c   \n",
              "\n",
              "  order_status order_purchase_timestamp             order_approved_at  \\\n",
              "0    delivered      2017-10-02 10:56:33 2017-10-05 16:24:09.321779509   \n",
              "1    delivered      2018-07-24 20:41:37 2018-07-28 02:09:13.321779509   \n",
              "2    delivered      2018-08-08 08:38:49 2018-08-11 14:06:25.321779509   \n",
              "3    delivered      2017-11-18 19:28:06 2017-11-22 00:55:42.321779509   \n",
              "4    delivered      2018-02-13 21:18:39 2018-02-17 02:46:15.321779509   \n",
              "\n",
              "  order_delivered_carrier_date order_delivered_customer_date  \\\n",
              "0          2017-10-04 19:55:00           2017-10-10 21:25:13   \n",
              "1          2018-07-26 14:31:00           2018-08-07 15:27:45   \n",
              "2          2018-08-08 13:50:00           2018-08-17 18:06:29   \n",
              "3          2017-11-22 13:39:59           2017-12-02 00:28:42   \n",
              "4          2018-02-14 19:46:34           2018-02-16 18:17:02   \n",
              "\n",
              "  order_estimated_delivery_date  \n",
              "0           2017-10-18 00:00:00  \n",
              "1           2018-08-13 00:00:00  \n",
              "2           2018-09-04 00:00:00  \n",
              "3           2017-12-15 00:00:00  \n",
              "4           2018-02-26 00:00:00  "
            ]
          },
          "execution_count": 138,
          "metadata": {},
          "output_type": "execute_result"
        }
      ],
      "source": [
        "orders_df.head()"
      ]
    },
    {
      "cell_type": "markdown",
      "metadata": {
        "id": "f1BTreAMGYU5"
      },
      "source": [
        "### Tabel items_df"
      ]
    },
    {
      "cell_type": "code",
      "execution_count": 139,
      "metadata": {
        "colab": {
          "base_uri": "https://localhost:8080/",
          "height": 206
        },
        "id": "WzWO416rGY0r",
        "outputId": "c0379faf-e038-4a38-eaac-7c96747beba5"
      },
      "outputs": [
        {
          "data": {
            "text/html": [
              "<div>\n",
              "<style scoped>\n",
              "    .dataframe tbody tr th:only-of-type {\n",
              "        vertical-align: middle;\n",
              "    }\n",
              "\n",
              "    .dataframe tbody tr th {\n",
              "        vertical-align: top;\n",
              "    }\n",
              "\n",
              "    .dataframe thead th {\n",
              "        text-align: right;\n",
              "    }\n",
              "</style>\n",
              "<table border=\"1\" class=\"dataframe\">\n",
              "  <thead>\n",
              "    <tr style=\"text-align: right;\">\n",
              "      <th></th>\n",
              "      <th>order_id</th>\n",
              "      <th>order_item_id</th>\n",
              "      <th>product_id</th>\n",
              "      <th>seller_id</th>\n",
              "      <th>shipping_limit_date</th>\n",
              "      <th>price</th>\n",
              "      <th>freight_value</th>\n",
              "    </tr>\n",
              "  </thead>\n",
              "  <tbody>\n",
              "    <tr>\n",
              "      <th>0</th>\n",
              "      <td>00010242fe8c5a6d1ba2dd792cb16214</td>\n",
              "      <td>1</td>\n",
              "      <td>4244733e06e7ecb4970a6e2683c13e61</td>\n",
              "      <td>48436dade18ac8b2bce089ec2a041202</td>\n",
              "      <td>2017-09-19 09:45:35</td>\n",
              "      <td>58.90</td>\n",
              "      <td>13.29</td>\n",
              "    </tr>\n",
              "    <tr>\n",
              "      <th>1</th>\n",
              "      <td>00018f77f2f0320c557190d7a144bdd3</td>\n",
              "      <td>1</td>\n",
              "      <td>e5f2d52b802189ee658865ca93d83a8f</td>\n",
              "      <td>dd7ddc04e1b6c2c614352b383efe2d36</td>\n",
              "      <td>2017-05-03 11:05:13</td>\n",
              "      <td>239.90</td>\n",
              "      <td>19.93</td>\n",
              "    </tr>\n",
              "    <tr>\n",
              "      <th>2</th>\n",
              "      <td>000229ec398224ef6ca0657da4fc703e</td>\n",
              "      <td>1</td>\n",
              "      <td>c777355d18b72b67abbeef9df44fd0fd</td>\n",
              "      <td>5b51032eddd242adc84c38acab88f23d</td>\n",
              "      <td>2018-01-18 14:48:30</td>\n",
              "      <td>199.00</td>\n",
              "      <td>17.87</td>\n",
              "    </tr>\n",
              "    <tr>\n",
              "      <th>3</th>\n",
              "      <td>00024acbcdf0a6daa1e931b038114c75</td>\n",
              "      <td>1</td>\n",
              "      <td>7634da152a4610f1595efa32f14722fc</td>\n",
              "      <td>9d7a1d34a5052409006425275ba1c2b4</td>\n",
              "      <td>2018-08-15 10:10:18</td>\n",
              "      <td>12.99</td>\n",
              "      <td>12.79</td>\n",
              "    </tr>\n",
              "    <tr>\n",
              "      <th>4</th>\n",
              "      <td>00042b26cf59d7ce69dfabb4e55b4fd9</td>\n",
              "      <td>1</td>\n",
              "      <td>ac6c3623068f30de03045865e4e10089</td>\n",
              "      <td>df560393f3a51e74553ab94004ba5c87</td>\n",
              "      <td>2017-02-13 13:57:51</td>\n",
              "      <td>199.90</td>\n",
              "      <td>18.14</td>\n",
              "    </tr>\n",
              "  </tbody>\n",
              "</table>\n",
              "</div>"
            ],
            "text/plain": [
              "                           order_id  order_item_id  \\\n",
              "0  00010242fe8c5a6d1ba2dd792cb16214              1   \n",
              "1  00018f77f2f0320c557190d7a144bdd3              1   \n",
              "2  000229ec398224ef6ca0657da4fc703e              1   \n",
              "3  00024acbcdf0a6daa1e931b038114c75              1   \n",
              "4  00042b26cf59d7ce69dfabb4e55b4fd9              1   \n",
              "\n",
              "                         product_id                         seller_id  \\\n",
              "0  4244733e06e7ecb4970a6e2683c13e61  48436dade18ac8b2bce089ec2a041202   \n",
              "1  e5f2d52b802189ee658865ca93d83a8f  dd7ddc04e1b6c2c614352b383efe2d36   \n",
              "2  c777355d18b72b67abbeef9df44fd0fd  5b51032eddd242adc84c38acab88f23d   \n",
              "3  7634da152a4610f1595efa32f14722fc  9d7a1d34a5052409006425275ba1c2b4   \n",
              "4  ac6c3623068f30de03045865e4e10089  df560393f3a51e74553ab94004ba5c87   \n",
              "\n",
              "  shipping_limit_date   price  freight_value  \n",
              "0 2017-09-19 09:45:35   58.90          13.29  \n",
              "1 2017-05-03 11:05:13  239.90          19.93  \n",
              "2 2018-01-18 14:48:30  199.00          17.87  \n",
              "3 2018-08-15 10:10:18   12.99          12.79  \n",
              "4 2017-02-13 13:57:51  199.90          18.14  "
            ]
          },
          "execution_count": 139,
          "metadata": {},
          "output_type": "execute_result"
        }
      ],
      "source": [
        "items_df.head()"
      ]
    },
    {
      "cell_type": "markdown",
      "metadata": {
        "id": "I1qBdUaGGZda"
      },
      "source": [
        "### Tabel products_df"
      ]
    },
    {
      "cell_type": "code",
      "execution_count": 140,
      "metadata": {
        "colab": {
          "base_uri": "https://localhost:8080/",
          "height": 206
        },
        "id": "1KVlxO-cGaoa",
        "outputId": "2bab5e63-6158-4c41-bf0f-a8be52e271a2"
      },
      "outputs": [
        {
          "data": {
            "text/html": [
              "<div>\n",
              "<style scoped>\n",
              "    .dataframe tbody tr th:only-of-type {\n",
              "        vertical-align: middle;\n",
              "    }\n",
              "\n",
              "    .dataframe tbody tr th {\n",
              "        vertical-align: top;\n",
              "    }\n",
              "\n",
              "    .dataframe thead th {\n",
              "        text-align: right;\n",
              "    }\n",
              "</style>\n",
              "<table border=\"1\" class=\"dataframe\">\n",
              "  <thead>\n",
              "    <tr style=\"text-align: right;\">\n",
              "      <th></th>\n",
              "      <th>product_id</th>\n",
              "      <th>product_category_name</th>\n",
              "      <th>product_name_lenght</th>\n",
              "      <th>product_description_lenght</th>\n",
              "      <th>product_photos_qty</th>\n",
              "      <th>product_weight_g</th>\n",
              "      <th>product_length_cm</th>\n",
              "      <th>product_height_cm</th>\n",
              "      <th>product_width_cm</th>\n",
              "    </tr>\n",
              "  </thead>\n",
              "  <tbody>\n",
              "    <tr>\n",
              "      <th>0</th>\n",
              "      <td>1e9e8ef04dbcff4541ed26657ea517e5</td>\n",
              "      <td>perfumaria</td>\n",
              "      <td>40.0</td>\n",
              "      <td>287.0</td>\n",
              "      <td>1.0</td>\n",
              "      <td>225.0</td>\n",
              "      <td>16.0</td>\n",
              "      <td>10.0</td>\n",
              "      <td>14.0</td>\n",
              "    </tr>\n",
              "    <tr>\n",
              "      <th>1</th>\n",
              "      <td>3aa071139cb16b67ca9e5dea641aaa2f</td>\n",
              "      <td>artes</td>\n",
              "      <td>44.0</td>\n",
              "      <td>276.0</td>\n",
              "      <td>1.0</td>\n",
              "      <td>1000.0</td>\n",
              "      <td>30.0</td>\n",
              "      <td>18.0</td>\n",
              "      <td>20.0</td>\n",
              "    </tr>\n",
              "    <tr>\n",
              "      <th>2</th>\n",
              "      <td>96bd76ec8810374ed1b65e291975717f</td>\n",
              "      <td>esporte_lazer</td>\n",
              "      <td>46.0</td>\n",
              "      <td>250.0</td>\n",
              "      <td>1.0</td>\n",
              "      <td>154.0</td>\n",
              "      <td>18.0</td>\n",
              "      <td>9.0</td>\n",
              "      <td>15.0</td>\n",
              "    </tr>\n",
              "    <tr>\n",
              "      <th>3</th>\n",
              "      <td>cef67bcfe19066a932b7673e239eb23d</td>\n",
              "      <td>bebes</td>\n",
              "      <td>27.0</td>\n",
              "      <td>261.0</td>\n",
              "      <td>1.0</td>\n",
              "      <td>371.0</td>\n",
              "      <td>26.0</td>\n",
              "      <td>4.0</td>\n",
              "      <td>26.0</td>\n",
              "    </tr>\n",
              "    <tr>\n",
              "      <th>4</th>\n",
              "      <td>9dc1a7de274444849c219cff195d0b71</td>\n",
              "      <td>utilidades_domesticas</td>\n",
              "      <td>37.0</td>\n",
              "      <td>402.0</td>\n",
              "      <td>4.0</td>\n",
              "      <td>625.0</td>\n",
              "      <td>20.0</td>\n",
              "      <td>17.0</td>\n",
              "      <td>13.0</td>\n",
              "    </tr>\n",
              "  </tbody>\n",
              "</table>\n",
              "</div>"
            ],
            "text/plain": [
              "                         product_id  product_category_name  \\\n",
              "0  1e9e8ef04dbcff4541ed26657ea517e5             perfumaria   \n",
              "1  3aa071139cb16b67ca9e5dea641aaa2f                  artes   \n",
              "2  96bd76ec8810374ed1b65e291975717f          esporte_lazer   \n",
              "3  cef67bcfe19066a932b7673e239eb23d                  bebes   \n",
              "4  9dc1a7de274444849c219cff195d0b71  utilidades_domesticas   \n",
              "\n",
              "   product_name_lenght  product_description_lenght  product_photos_qty  \\\n",
              "0                 40.0                       287.0                 1.0   \n",
              "1                 44.0                       276.0                 1.0   \n",
              "2                 46.0                       250.0                 1.0   \n",
              "3                 27.0                       261.0                 1.0   \n",
              "4                 37.0                       402.0                 4.0   \n",
              "\n",
              "   product_weight_g  product_length_cm  product_height_cm  product_width_cm  \n",
              "0             225.0               16.0               10.0              14.0  \n",
              "1            1000.0               30.0               18.0              20.0  \n",
              "2             154.0               18.0                9.0              15.0  \n",
              "3             371.0               26.0                4.0              26.0  \n",
              "4             625.0               20.0               17.0              13.0  "
            ]
          },
          "execution_count": 140,
          "metadata": {},
          "output_type": "execute_result"
        }
      ],
      "source": [
        "products_df.head()"
      ]
    },
    {
      "cell_type": "markdown",
      "metadata": {
        "id": "G5RjHBWzJLHf"
      },
      "source": [
        "### Tabel reviews_df"
      ]
    },
    {
      "cell_type": "code",
      "execution_count": 141,
      "metadata": {
        "colab": {
          "base_uri": "https://localhost:8080/",
          "height": 206
        },
        "id": "2-AKZQYtJLq5",
        "outputId": "fd340395-63be-40f1-e5ba-fe33a1aab506"
      },
      "outputs": [
        {
          "data": {
            "text/html": [
              "<div>\n",
              "<style scoped>\n",
              "    .dataframe tbody tr th:only-of-type {\n",
              "        vertical-align: middle;\n",
              "    }\n",
              "\n",
              "    .dataframe tbody tr th {\n",
              "        vertical-align: top;\n",
              "    }\n",
              "\n",
              "    .dataframe thead th {\n",
              "        text-align: right;\n",
              "    }\n",
              "</style>\n",
              "<table border=\"1\" class=\"dataframe\">\n",
              "  <thead>\n",
              "    <tr style=\"text-align: right;\">\n",
              "      <th></th>\n",
              "      <th>review_id</th>\n",
              "      <th>order_id</th>\n",
              "      <th>review_score</th>\n",
              "      <th>review_creation_date</th>\n",
              "      <th>review_answer_timestamp</th>\n",
              "    </tr>\n",
              "  </thead>\n",
              "  <tbody>\n",
              "    <tr>\n",
              "      <th>0</th>\n",
              "      <td>7bc2406110b926393aa56f80a40eba40</td>\n",
              "      <td>73fc7af87114b39712e6da79b0a377eb</td>\n",
              "      <td>4</td>\n",
              "      <td>2018-01-18</td>\n",
              "      <td>2018-01-18 21:46:59</td>\n",
              "    </tr>\n",
              "    <tr>\n",
              "      <th>1</th>\n",
              "      <td>80e641a11e56f04c1ad469d5645fdfde</td>\n",
              "      <td>a548910a1c6147796b98fdf73dbeba33</td>\n",
              "      <td>5</td>\n",
              "      <td>2018-03-10</td>\n",
              "      <td>2018-03-11 03:05:13</td>\n",
              "    </tr>\n",
              "    <tr>\n",
              "      <th>2</th>\n",
              "      <td>228ce5500dc1d8e020d8d1322874b6f0</td>\n",
              "      <td>f9e4b658b201a9f2ecdecbb34bed034b</td>\n",
              "      <td>5</td>\n",
              "      <td>2018-02-17</td>\n",
              "      <td>2018-02-18 14:36:24</td>\n",
              "    </tr>\n",
              "    <tr>\n",
              "      <th>3</th>\n",
              "      <td>e64fb393e7b32834bb789ff8bb30750e</td>\n",
              "      <td>658677c97b385a9be170737859d3511b</td>\n",
              "      <td>5</td>\n",
              "      <td>2017-04-21</td>\n",
              "      <td>2017-04-21 22:02:06</td>\n",
              "    </tr>\n",
              "    <tr>\n",
              "      <th>4</th>\n",
              "      <td>f7c4243c7fe1938f181bec41a392bdeb</td>\n",
              "      <td>8e6bfb81e283fa7e4f11123a3fb894f1</td>\n",
              "      <td>5</td>\n",
              "      <td>2018-03-01</td>\n",
              "      <td>2018-03-02 10:26:53</td>\n",
              "    </tr>\n",
              "  </tbody>\n",
              "</table>\n",
              "</div>"
            ],
            "text/plain": [
              "                          review_id                          order_id  \\\n",
              "0  7bc2406110b926393aa56f80a40eba40  73fc7af87114b39712e6da79b0a377eb   \n",
              "1  80e641a11e56f04c1ad469d5645fdfde  a548910a1c6147796b98fdf73dbeba33   \n",
              "2  228ce5500dc1d8e020d8d1322874b6f0  f9e4b658b201a9f2ecdecbb34bed034b   \n",
              "3  e64fb393e7b32834bb789ff8bb30750e  658677c97b385a9be170737859d3511b   \n",
              "4  f7c4243c7fe1938f181bec41a392bdeb  8e6bfb81e283fa7e4f11123a3fb894f1   \n",
              "\n",
              "   review_score review_creation_date review_answer_timestamp  \n",
              "0             4           2018-01-18     2018-01-18 21:46:59  \n",
              "1             5           2018-03-10     2018-03-11 03:05:13  \n",
              "2             5           2018-02-17     2018-02-18 14:36:24  \n",
              "3             5           2017-04-21     2017-04-21 22:02:06  \n",
              "4             5           2018-03-01     2018-03-02 10:26:53  "
            ]
          },
          "execution_count": 141,
          "metadata": {},
          "output_type": "execute_result"
        }
      ],
      "source": [
        "reviews_df.head()"
      ]
    },
    {
      "cell_type": "markdown",
      "metadata": {
        "id": "9PCbcVAhJMNR"
      },
      "source": [
        "### Tabel sellers_df"
      ]
    },
    {
      "cell_type": "code",
      "execution_count": 142,
      "metadata": {
        "colab": {
          "base_uri": "https://localhost:8080/",
          "height": 206
        },
        "id": "XlNybuP9JOMV",
        "outputId": "20359f77-8284-449b-b517-71f612e49fd7"
      },
      "outputs": [
        {
          "data": {
            "text/html": [
              "<div>\n",
              "<style scoped>\n",
              "    .dataframe tbody tr th:only-of-type {\n",
              "        vertical-align: middle;\n",
              "    }\n",
              "\n",
              "    .dataframe tbody tr th {\n",
              "        vertical-align: top;\n",
              "    }\n",
              "\n",
              "    .dataframe thead th {\n",
              "        text-align: right;\n",
              "    }\n",
              "</style>\n",
              "<table border=\"1\" class=\"dataframe\">\n",
              "  <thead>\n",
              "    <tr style=\"text-align: right;\">\n",
              "      <th></th>\n",
              "      <th>seller_id</th>\n",
              "      <th>seller_zip_code_prefix</th>\n",
              "      <th>seller_city</th>\n",
              "      <th>seller_state</th>\n",
              "    </tr>\n",
              "  </thead>\n",
              "  <tbody>\n",
              "    <tr>\n",
              "      <th>0</th>\n",
              "      <td>3442f8959a84dea7ee197c632cb2df15</td>\n",
              "      <td>13023</td>\n",
              "      <td>campinas</td>\n",
              "      <td>SP</td>\n",
              "    </tr>\n",
              "    <tr>\n",
              "      <th>1</th>\n",
              "      <td>d1b65fc7debc3361ea86b5f14c68d2e2</td>\n",
              "      <td>13844</td>\n",
              "      <td>mogi guacu</td>\n",
              "      <td>SP</td>\n",
              "    </tr>\n",
              "    <tr>\n",
              "      <th>2</th>\n",
              "      <td>ce3ad9de960102d0677a81f5d0bb7b2d</td>\n",
              "      <td>20031</td>\n",
              "      <td>rio de janeiro</td>\n",
              "      <td>RJ</td>\n",
              "    </tr>\n",
              "    <tr>\n",
              "      <th>4</th>\n",
              "      <td>51a04a8a6bdcb23deccc82b0b80742cf</td>\n",
              "      <td>12914</td>\n",
              "      <td>braganca paulista</td>\n",
              "      <td>SP</td>\n",
              "    </tr>\n",
              "    <tr>\n",
              "      <th>5</th>\n",
              "      <td>c240c4061717ac1806ae6ee72be3533b</td>\n",
              "      <td>20920</td>\n",
              "      <td>rio de janeiro</td>\n",
              "      <td>RJ</td>\n",
              "    </tr>\n",
              "  </tbody>\n",
              "</table>\n",
              "</div>"
            ],
            "text/plain": [
              "                          seller_id  seller_zip_code_prefix  \\\n",
              "0  3442f8959a84dea7ee197c632cb2df15                   13023   \n",
              "1  d1b65fc7debc3361ea86b5f14c68d2e2                   13844   \n",
              "2  ce3ad9de960102d0677a81f5d0bb7b2d                   20031   \n",
              "4  51a04a8a6bdcb23deccc82b0b80742cf                   12914   \n",
              "5  c240c4061717ac1806ae6ee72be3533b                   20920   \n",
              "\n",
              "         seller_city seller_state  \n",
              "0           campinas           SP  \n",
              "1         mogi guacu           SP  \n",
              "2     rio de janeiro           RJ  \n",
              "4  braganca paulista           SP  \n",
              "5     rio de janeiro           RJ  "
            ]
          },
          "execution_count": 142,
          "metadata": {},
          "output_type": "execute_result"
        }
      ],
      "source": [
        "sellers_df.head()"
      ]
    },
    {
      "cell_type": "markdown",
      "metadata": {
        "id": "Pji91SAvJPdl"
      },
      "source": [
        "### Tabel payments_df"
      ]
    },
    {
      "cell_type": "code",
      "execution_count": 143,
      "metadata": {
        "colab": {
          "base_uri": "https://localhost:8080/",
          "height": 206
        },
        "id": "HJuONQu1JQAu",
        "outputId": "7865d3e1-fc84-4975-ca68-f5ff1d51a829"
      },
      "outputs": [
        {
          "data": {
            "text/html": [
              "<div>\n",
              "<style scoped>\n",
              "    .dataframe tbody tr th:only-of-type {\n",
              "        vertical-align: middle;\n",
              "    }\n",
              "\n",
              "    .dataframe tbody tr th {\n",
              "        vertical-align: top;\n",
              "    }\n",
              "\n",
              "    .dataframe thead th {\n",
              "        text-align: right;\n",
              "    }\n",
              "</style>\n",
              "<table border=\"1\" class=\"dataframe\">\n",
              "  <thead>\n",
              "    <tr style=\"text-align: right;\">\n",
              "      <th></th>\n",
              "      <th>order_id</th>\n",
              "      <th>payment_sequential</th>\n",
              "      <th>payment_type</th>\n",
              "      <th>payment_installments</th>\n",
              "      <th>payment_value</th>\n",
              "    </tr>\n",
              "  </thead>\n",
              "  <tbody>\n",
              "    <tr>\n",
              "      <th>0</th>\n",
              "      <td>b81ef226f3fe1789b1e8b2acac839d17</td>\n",
              "      <td>1</td>\n",
              "      <td>credit_card</td>\n",
              "      <td>8</td>\n",
              "      <td>99.33</td>\n",
              "    </tr>\n",
              "    <tr>\n",
              "      <th>1</th>\n",
              "      <td>a9810da82917af2d9aefd1278f1dcfa0</td>\n",
              "      <td>1</td>\n",
              "      <td>credit_card</td>\n",
              "      <td>1</td>\n",
              "      <td>24.39</td>\n",
              "    </tr>\n",
              "    <tr>\n",
              "      <th>2</th>\n",
              "      <td>25e8ea4e93396b6fa0d3dd708e76c1bd</td>\n",
              "      <td>1</td>\n",
              "      <td>credit_card</td>\n",
              "      <td>1</td>\n",
              "      <td>65.71</td>\n",
              "    </tr>\n",
              "    <tr>\n",
              "      <th>3</th>\n",
              "      <td>ba78997921bbcdc1373bb41e913ab953</td>\n",
              "      <td>1</td>\n",
              "      <td>credit_card</td>\n",
              "      <td>8</td>\n",
              "      <td>107.78</td>\n",
              "    </tr>\n",
              "    <tr>\n",
              "      <th>4</th>\n",
              "      <td>42fdf880ba16b47b59251dd489d4441a</td>\n",
              "      <td>1</td>\n",
              "      <td>credit_card</td>\n",
              "      <td>2</td>\n",
              "      <td>128.45</td>\n",
              "    </tr>\n",
              "  </tbody>\n",
              "</table>\n",
              "</div>"
            ],
            "text/plain": [
              "                           order_id  payment_sequential payment_type  \\\n",
              "0  b81ef226f3fe1789b1e8b2acac839d17                   1  credit_card   \n",
              "1  a9810da82917af2d9aefd1278f1dcfa0                   1  credit_card   \n",
              "2  25e8ea4e93396b6fa0d3dd708e76c1bd                   1  credit_card   \n",
              "3  ba78997921bbcdc1373bb41e913ab953                   1  credit_card   \n",
              "4  42fdf880ba16b47b59251dd489d4441a                   1  credit_card   \n",
              "\n",
              "   payment_installments  payment_value  \n",
              "0                     8          99.33  \n",
              "1                     1          24.39  \n",
              "2                     1          65.71  \n",
              "3                     8         107.78  \n",
              "4                     2         128.45  "
            ]
          },
          "execution_count": 143,
          "metadata": {},
          "output_type": "execute_result"
        }
      ],
      "source": [
        "payments_df.head()"
      ]
    },
    {
      "cell_type": "markdown",
      "metadata": {
        "id": "MJPD5zk8JR1Z"
      },
      "source": [
        "### Tabel translations_df"
      ]
    },
    {
      "cell_type": "code",
      "execution_count": 144,
      "metadata": {
        "colab": {
          "base_uri": "https://localhost:8080/",
          "height": 206
        },
        "id": "d8Bq2SH-JSNm",
        "outputId": "ce16ab55-a212-461b-cbc0-c211c17dc755"
      },
      "outputs": [
        {
          "data": {
            "text/html": [
              "<div>\n",
              "<style scoped>\n",
              "    .dataframe tbody tr th:only-of-type {\n",
              "        vertical-align: middle;\n",
              "    }\n",
              "\n",
              "    .dataframe tbody tr th {\n",
              "        vertical-align: top;\n",
              "    }\n",
              "\n",
              "    .dataframe thead th {\n",
              "        text-align: right;\n",
              "    }\n",
              "</style>\n",
              "<table border=\"1\" class=\"dataframe\">\n",
              "  <thead>\n",
              "    <tr style=\"text-align: right;\">\n",
              "      <th></th>\n",
              "      <th>product_category_name</th>\n",
              "      <th>product_category_name_english</th>\n",
              "    </tr>\n",
              "  </thead>\n",
              "  <tbody>\n",
              "    <tr>\n",
              "      <th>0</th>\n",
              "      <td>beleza_saude</td>\n",
              "      <td>health_beauty</td>\n",
              "    </tr>\n",
              "    <tr>\n",
              "      <th>1</th>\n",
              "      <td>informatica_acessorios</td>\n",
              "      <td>computers_accessories</td>\n",
              "    </tr>\n",
              "    <tr>\n",
              "      <th>2</th>\n",
              "      <td>automotivo</td>\n",
              "      <td>auto</td>\n",
              "    </tr>\n",
              "    <tr>\n",
              "      <th>3</th>\n",
              "      <td>cama_mesa_banho</td>\n",
              "      <td>bed_bath_table</td>\n",
              "    </tr>\n",
              "    <tr>\n",
              "      <th>4</th>\n",
              "      <td>moveis_decoracao</td>\n",
              "      <td>furniture_decor</td>\n",
              "    </tr>\n",
              "  </tbody>\n",
              "</table>\n",
              "</div>"
            ],
            "text/plain": [
              "    product_category_name product_category_name_english\n",
              "0            beleza_saude                 health_beauty\n",
              "1  informatica_acessorios         computers_accessories\n",
              "2              automotivo                          auto\n",
              "3         cama_mesa_banho                bed_bath_table\n",
              "4        moveis_decoracao               furniture_decor"
            ]
          },
          "execution_count": 144,
          "metadata": {},
          "output_type": "execute_result"
        }
      ],
      "source": [
        "translations_df.head()"
      ]
    },
    {
      "cell_type": "markdown",
      "metadata": {
        "id": "3J_C1054059M"
      },
      "source": [
        "## Exploratory Data Antar Tabel"
      ]
    },
    {
      "cell_type": "markdown",
      "metadata": {
        "id": "NaB2m0kzJSkS"
      },
      "source": [
        "### Relasi menggabungkan Tabel Orders dan Items (items_df)"
      ]
    },
    {
      "cell_type": "markdown",
      "metadata": {
        "id": "LgKoNwPt3Bgj"
      },
      "source": [
        "**Gabungkan orders_df dengan items_df berdasarkan order_id.**"
      ]
    },
    {
      "cell_type": "code",
      "execution_count": 145,
      "metadata": {
        "colab": {
          "base_uri": "https://localhost:8080/",
          "height": 313
        },
        "id": "-GhZLmHpJTJP",
        "outputId": "218049a3-650f-423f-b961-592bcace0510"
      },
      "outputs": [
        {
          "data": {
            "text/html": [
              "<div>\n",
              "<style scoped>\n",
              "    .dataframe tbody tr th:only-of-type {\n",
              "        vertical-align: middle;\n",
              "    }\n",
              "\n",
              "    .dataframe tbody tr th {\n",
              "        vertical-align: top;\n",
              "    }\n",
              "\n",
              "    .dataframe thead th {\n",
              "        text-align: right;\n",
              "    }\n",
              "</style>\n",
              "<table border=\"1\" class=\"dataframe\">\n",
              "  <thead>\n",
              "    <tr style=\"text-align: right;\">\n",
              "      <th></th>\n",
              "      <th>order_id</th>\n",
              "      <th>customer_id</th>\n",
              "      <th>order_status</th>\n",
              "      <th>order_purchase_timestamp</th>\n",
              "      <th>order_approved_at</th>\n",
              "      <th>order_delivered_carrier_date</th>\n",
              "      <th>order_delivered_customer_date</th>\n",
              "      <th>order_estimated_delivery_date</th>\n",
              "      <th>order_item_id</th>\n",
              "      <th>product_id</th>\n",
              "      <th>seller_id</th>\n",
              "      <th>shipping_limit_date</th>\n",
              "      <th>price</th>\n",
              "      <th>freight_value</th>\n",
              "    </tr>\n",
              "  </thead>\n",
              "  <tbody>\n",
              "    <tr>\n",
              "      <th>0</th>\n",
              "      <td>e481f51cbdc54678b7cc49136f2d6af7</td>\n",
              "      <td>9ef432eb6251297304e76186b10a928d</td>\n",
              "      <td>delivered</td>\n",
              "      <td>2017-10-02 10:56:33</td>\n",
              "      <td>2017-10-05 16:24:09.321779509</td>\n",
              "      <td>2017-10-04 19:55:00</td>\n",
              "      <td>2017-10-10 21:25:13</td>\n",
              "      <td>2017-10-18 00:00:00</td>\n",
              "      <td>1</td>\n",
              "      <td>87285b34884572647811a353c7ac498a</td>\n",
              "      <td>3504c0cb71d7fa48d967e0e4c94d59d9</td>\n",
              "      <td>2017-10-06 11:07:15</td>\n",
              "      <td>29.99</td>\n",
              "      <td>8.72</td>\n",
              "    </tr>\n",
              "    <tr>\n",
              "      <th>1</th>\n",
              "      <td>53cdb2fc8bc7dce0b6741e2150273451</td>\n",
              "      <td>b0830fb4747a6c6d20dea0b8c802d7ef</td>\n",
              "      <td>delivered</td>\n",
              "      <td>2018-07-24 20:41:37</td>\n",
              "      <td>2018-07-28 02:09:13.321779509</td>\n",
              "      <td>2018-07-26 14:31:00</td>\n",
              "      <td>2018-08-07 15:27:45</td>\n",
              "      <td>2018-08-13 00:00:00</td>\n",
              "      <td>1</td>\n",
              "      <td>595fac2a385ac33a80bd5114aec74eb8</td>\n",
              "      <td>289cdb325fb7e7f891c38608bf9e0962</td>\n",
              "      <td>2018-07-30 03:24:27</td>\n",
              "      <td>118.70</td>\n",
              "      <td>22.76</td>\n",
              "    </tr>\n",
              "    <tr>\n",
              "      <th>2</th>\n",
              "      <td>47770eb9100c2d0c44946d9cf07ec65d</td>\n",
              "      <td>41ce2a54c0b03bf3443c3d931a367089</td>\n",
              "      <td>delivered</td>\n",
              "      <td>2018-08-08 08:38:49</td>\n",
              "      <td>2018-08-11 14:06:25.321779509</td>\n",
              "      <td>2018-08-08 13:50:00</td>\n",
              "      <td>2018-08-17 18:06:29</td>\n",
              "      <td>2018-09-04 00:00:00</td>\n",
              "      <td>1</td>\n",
              "      <td>aa4383b373c6aca5d8797843e5594415</td>\n",
              "      <td>4869f7a5dfa277a7dca6462dcf3b52b2</td>\n",
              "      <td>2018-08-13 08:55:23</td>\n",
              "      <td>159.90</td>\n",
              "      <td>19.22</td>\n",
              "    </tr>\n",
              "    <tr>\n",
              "      <th>3</th>\n",
              "      <td>949d5b44dbf5de918fe9c16f97b45f8a</td>\n",
              "      <td>f88197465ea7920adcdbec7375364d82</td>\n",
              "      <td>delivered</td>\n",
              "      <td>2017-11-18 19:28:06</td>\n",
              "      <td>2017-11-22 00:55:42.321779509</td>\n",
              "      <td>2017-11-22 13:39:59</td>\n",
              "      <td>2017-12-02 00:28:42</td>\n",
              "      <td>2017-12-15 00:00:00</td>\n",
              "      <td>1</td>\n",
              "      <td>d0b61bfb1de832b15ba9d266ca96e5b0</td>\n",
              "      <td>66922902710d126a0e7d26b0e3805106</td>\n",
              "      <td>2017-11-23 19:45:59</td>\n",
              "      <td>45.00</td>\n",
              "      <td>27.20</td>\n",
              "    </tr>\n",
              "    <tr>\n",
              "      <th>4</th>\n",
              "      <td>ad21c59c0840e6cb83a9ceb5573f8159</td>\n",
              "      <td>8ab97904e6daea8866dbdbc4fb7aad2c</td>\n",
              "      <td>delivered</td>\n",
              "      <td>2018-02-13 21:18:39</td>\n",
              "      <td>2018-02-17 02:46:15.321779509</td>\n",
              "      <td>2018-02-14 19:46:34</td>\n",
              "      <td>2018-02-16 18:17:02</td>\n",
              "      <td>2018-02-26 00:00:00</td>\n",
              "      <td>1</td>\n",
              "      <td>65266b2da20d04dbe00c5c2d3bb7859e</td>\n",
              "      <td>2c9e548be18521d1c43cde1c582c6de8</td>\n",
              "      <td>2018-02-19 20:31:37</td>\n",
              "      <td>19.90</td>\n",
              "      <td>8.72</td>\n",
              "    </tr>\n",
              "  </tbody>\n",
              "</table>\n",
              "</div>"
            ],
            "text/plain": [
              "                           order_id                       customer_id  \\\n",
              "0  e481f51cbdc54678b7cc49136f2d6af7  9ef432eb6251297304e76186b10a928d   \n",
              "1  53cdb2fc8bc7dce0b6741e2150273451  b0830fb4747a6c6d20dea0b8c802d7ef   \n",
              "2  47770eb9100c2d0c44946d9cf07ec65d  41ce2a54c0b03bf3443c3d931a367089   \n",
              "3  949d5b44dbf5de918fe9c16f97b45f8a  f88197465ea7920adcdbec7375364d82   \n",
              "4  ad21c59c0840e6cb83a9ceb5573f8159  8ab97904e6daea8866dbdbc4fb7aad2c   \n",
              "\n",
              "  order_status order_purchase_timestamp             order_approved_at  \\\n",
              "0    delivered      2017-10-02 10:56:33 2017-10-05 16:24:09.321779509   \n",
              "1    delivered      2018-07-24 20:41:37 2018-07-28 02:09:13.321779509   \n",
              "2    delivered      2018-08-08 08:38:49 2018-08-11 14:06:25.321779509   \n",
              "3    delivered      2017-11-18 19:28:06 2017-11-22 00:55:42.321779509   \n",
              "4    delivered      2018-02-13 21:18:39 2018-02-17 02:46:15.321779509   \n",
              "\n",
              "  order_delivered_carrier_date order_delivered_customer_date  \\\n",
              "0          2017-10-04 19:55:00           2017-10-10 21:25:13   \n",
              "1          2018-07-26 14:31:00           2018-08-07 15:27:45   \n",
              "2          2018-08-08 13:50:00           2018-08-17 18:06:29   \n",
              "3          2017-11-22 13:39:59           2017-12-02 00:28:42   \n",
              "4          2018-02-14 19:46:34           2018-02-16 18:17:02   \n",
              "\n",
              "  order_estimated_delivery_date  order_item_id  \\\n",
              "0           2017-10-18 00:00:00              1   \n",
              "1           2018-08-13 00:00:00              1   \n",
              "2           2018-09-04 00:00:00              1   \n",
              "3           2017-12-15 00:00:00              1   \n",
              "4           2018-02-26 00:00:00              1   \n",
              "\n",
              "                         product_id                         seller_id  \\\n",
              "0  87285b34884572647811a353c7ac498a  3504c0cb71d7fa48d967e0e4c94d59d9   \n",
              "1  595fac2a385ac33a80bd5114aec74eb8  289cdb325fb7e7f891c38608bf9e0962   \n",
              "2  aa4383b373c6aca5d8797843e5594415  4869f7a5dfa277a7dca6462dcf3b52b2   \n",
              "3  d0b61bfb1de832b15ba9d266ca96e5b0  66922902710d126a0e7d26b0e3805106   \n",
              "4  65266b2da20d04dbe00c5c2d3bb7859e  2c9e548be18521d1c43cde1c582c6de8   \n",
              "\n",
              "  shipping_limit_date   price  freight_value  \n",
              "0 2017-10-06 11:07:15   29.99           8.72  \n",
              "1 2018-07-30 03:24:27  118.70          22.76  \n",
              "2 2018-08-13 08:55:23  159.90          19.22  \n",
              "3 2017-11-23 19:45:59   45.00          27.20  \n",
              "4 2018-02-19 20:31:37   19.90           8.72  "
            ]
          },
          "execution_count": 145,
          "metadata": {},
          "output_type": "execute_result"
        }
      ],
      "source": [
        "orders_items_df = pd.merge(orders_df, items_df, on='order_id', how='inner')\n",
        "orders_items_df.head()"
      ]
    },
    {
      "cell_type": "markdown",
      "metadata": {
        "id": "yWp5-TmZECFF"
      },
      "source": [
        "**Menghitung jumlah pesanan berdasarkan status**"
      ]
    },
    {
      "cell_type": "code",
      "execution_count": 146,
      "metadata": {
        "colab": {
          "base_uri": "https://localhost:8080/",
          "height": 353
        },
        "id": "SwEx14Bu4NfA",
        "outputId": "cbefa82f-03bf-48bc-ee57-d14dcf15f831"
      },
      "outputs": [
        {
          "name": "stdout",
          "output_type": "stream",
          "text": [
            "Jumlah Pesanan Berdasarkan Status:\n"
          ]
        },
        {
          "data": {
            "text/plain": [
              "order_status\n",
              "delivered      99859\n",
              "shipped         1125\n",
              "canceled         465\n",
              "invoiced         322\n",
              "processing       306\n",
              "unavailable        7\n",
              "approved           2\n",
              "Name: count, dtype: int64"
            ]
          },
          "execution_count": 146,
          "metadata": {},
          "output_type": "execute_result"
        }
      ],
      "source": [
        "status_count = orders_items_df['order_status'].value_counts()\n",
        "print(\"Jumlah Pesanan Berdasarkan Status:\")\n",
        "status_count"
      ]
    },
    {
      "cell_type": "markdown",
      "metadata": {
        "id": "Nkuji97WEXl4"
      },
      "source": [
        "**Menganalisis rata-rata waktu pemesanan (order_purchase_timestamp)**"
      ]
    },
    {
      "cell_type": "code",
      "execution_count": 147,
      "metadata": {
        "colab": {
          "base_uri": "https://localhost:8080/",
          "height": 886
        },
        "id": "LPqXDwaW4TrL",
        "outputId": "d384804a-6d6a-4429-d681-39ee255335dc"
      },
      "outputs": [
        {
          "name": "stdout",
          "output_type": "stream",
          "text": [
            "Jumlah Pesanan per Bulan:\n"
          ]
        },
        {
          "data": {
            "text/plain": [
              "order_purchase_year  order_purchase_month\n",
              "2016                 9                          4\n",
              "                     10                       327\n",
              "                     12                         1\n",
              "2017                 1                        824\n",
              "                     2                       1793\n",
              "                     3                       2731\n",
              "                     4                       2466\n",
              "                     5                       3803\n",
              "                     6                       3330\n",
              "                     7                       4134\n",
              "                     8                       4454\n",
              "                     9                       4391\n",
              "                     10                      4772\n",
              "                     11                      7782\n",
              "                     12                      5823\n",
              "2018                 1                       7516\n",
              "                     2                       6873\n",
              "                     3                       7417\n",
              "                     4                       7094\n",
              "                     5                       6928\n",
              "                     6                       6404\n",
              "                     7                       6492\n",
              "                     8                       6726\n",
              "                     9                          1\n",
              "dtype: int64"
            ]
          },
          "execution_count": 147,
          "metadata": {},
          "output_type": "execute_result"
        }
      ],
      "source": [
        "orders_items_df['order_purchase_timestamp'] = pd.to_datetime(orders_items_df['order_purchase_timestamp'])\n",
        "orders_items_df['order_purchase_year'] = orders_items_df['order_purchase_timestamp'].dt.year\n",
        "orders_items_df['order_purchase_month'] = orders_items_df['order_purchase_timestamp'].dt.month\n",
        "\n",
        "monthly_orders = orders_items_df.groupby(['order_purchase_year', 'order_purchase_month']).size()\n",
        "print(\"Jumlah Pesanan per Bulan:\")\n",
        "monthly_orders"
      ]
    },
    {
      "cell_type": "markdown",
      "metadata": {
        "id": "pcv2-nuDJTfo"
      },
      "source": [
        "### Relasi menggabungkan dengan Products"
      ]
    },
    {
      "cell_type": "markdown",
      "metadata": {
        "id": "lG7h6krf4tah"
      },
      "source": [
        "**Gabungkan orders_df dengan items_df berdasarkan order_id.**"
      ]
    },
    {
      "cell_type": "code",
      "execution_count": 148,
      "metadata": {
        "colab": {
          "base_uri": "https://localhost:8080/",
          "height": 343
        },
        "id": "b3J0uUEuJT4o",
        "outputId": "9bbea24f-2f46-4c87-c0d6-80b1f8116078"
      },
      "outputs": [
        {
          "data": {
            "text/html": [
              "<div>\n",
              "<style scoped>\n",
              "    .dataframe tbody tr th:only-of-type {\n",
              "        vertical-align: middle;\n",
              "    }\n",
              "\n",
              "    .dataframe tbody tr th {\n",
              "        vertical-align: top;\n",
              "    }\n",
              "\n",
              "    .dataframe thead th {\n",
              "        text-align: right;\n",
              "    }\n",
              "</style>\n",
              "<table border=\"1\" class=\"dataframe\">\n",
              "  <thead>\n",
              "    <tr style=\"text-align: right;\">\n",
              "      <th></th>\n",
              "      <th>order_id</th>\n",
              "      <th>customer_id</th>\n",
              "      <th>order_status</th>\n",
              "      <th>order_purchase_timestamp</th>\n",
              "      <th>order_approved_at</th>\n",
              "      <th>order_delivered_carrier_date</th>\n",
              "      <th>order_delivered_customer_date</th>\n",
              "      <th>order_estimated_delivery_date</th>\n",
              "      <th>order_item_id</th>\n",
              "      <th>product_id</th>\n",
              "      <th>...</th>\n",
              "      <th>order_purchase_year</th>\n",
              "      <th>order_purchase_month</th>\n",
              "      <th>product_category_name</th>\n",
              "      <th>product_name_lenght</th>\n",
              "      <th>product_description_lenght</th>\n",
              "      <th>product_photos_qty</th>\n",
              "      <th>product_weight_g</th>\n",
              "      <th>product_length_cm</th>\n",
              "      <th>product_height_cm</th>\n",
              "      <th>product_width_cm</th>\n",
              "    </tr>\n",
              "  </thead>\n",
              "  <tbody>\n",
              "    <tr>\n",
              "      <th>0</th>\n",
              "      <td>e481f51cbdc54678b7cc49136f2d6af7</td>\n",
              "      <td>9ef432eb6251297304e76186b10a928d</td>\n",
              "      <td>delivered</td>\n",
              "      <td>2017-10-02 10:56:33</td>\n",
              "      <td>2017-10-05 16:24:09.321779509</td>\n",
              "      <td>2017-10-04 19:55:00</td>\n",
              "      <td>2017-10-10 21:25:13</td>\n",
              "      <td>2017-10-18 00:00:00</td>\n",
              "      <td>1</td>\n",
              "      <td>87285b34884572647811a353c7ac498a</td>\n",
              "      <td>...</td>\n",
              "      <td>2017</td>\n",
              "      <td>10</td>\n",
              "      <td>utilidades_domesticas</td>\n",
              "      <td>40.0</td>\n",
              "      <td>268.0</td>\n",
              "      <td>4.0</td>\n",
              "      <td>500.0</td>\n",
              "      <td>19.0</td>\n",
              "      <td>8.0</td>\n",
              "      <td>13.0</td>\n",
              "    </tr>\n",
              "    <tr>\n",
              "      <th>1</th>\n",
              "      <td>53cdb2fc8bc7dce0b6741e2150273451</td>\n",
              "      <td>b0830fb4747a6c6d20dea0b8c802d7ef</td>\n",
              "      <td>delivered</td>\n",
              "      <td>2018-07-24 20:41:37</td>\n",
              "      <td>2018-07-28 02:09:13.321779509</td>\n",
              "      <td>2018-07-26 14:31:00</td>\n",
              "      <td>2018-08-07 15:27:45</td>\n",
              "      <td>2018-08-13 00:00:00</td>\n",
              "      <td>1</td>\n",
              "      <td>595fac2a385ac33a80bd5114aec74eb8</td>\n",
              "      <td>...</td>\n",
              "      <td>2018</td>\n",
              "      <td>7</td>\n",
              "      <td>perfumaria</td>\n",
              "      <td>29.0</td>\n",
              "      <td>178.0</td>\n",
              "      <td>1.0</td>\n",
              "      <td>400.0</td>\n",
              "      <td>19.0</td>\n",
              "      <td>13.0</td>\n",
              "      <td>19.0</td>\n",
              "    </tr>\n",
              "    <tr>\n",
              "      <th>2</th>\n",
              "      <td>47770eb9100c2d0c44946d9cf07ec65d</td>\n",
              "      <td>41ce2a54c0b03bf3443c3d931a367089</td>\n",
              "      <td>delivered</td>\n",
              "      <td>2018-08-08 08:38:49</td>\n",
              "      <td>2018-08-11 14:06:25.321779509</td>\n",
              "      <td>2018-08-08 13:50:00</td>\n",
              "      <td>2018-08-17 18:06:29</td>\n",
              "      <td>2018-09-04 00:00:00</td>\n",
              "      <td>1</td>\n",
              "      <td>aa4383b373c6aca5d8797843e5594415</td>\n",
              "      <td>...</td>\n",
              "      <td>2018</td>\n",
              "      <td>8</td>\n",
              "      <td>automotivo</td>\n",
              "      <td>46.0</td>\n",
              "      <td>232.0</td>\n",
              "      <td>1.0</td>\n",
              "      <td>420.0</td>\n",
              "      <td>24.0</td>\n",
              "      <td>19.0</td>\n",
              "      <td>21.0</td>\n",
              "    </tr>\n",
              "    <tr>\n",
              "      <th>3</th>\n",
              "      <td>949d5b44dbf5de918fe9c16f97b45f8a</td>\n",
              "      <td>f88197465ea7920adcdbec7375364d82</td>\n",
              "      <td>delivered</td>\n",
              "      <td>2017-11-18 19:28:06</td>\n",
              "      <td>2017-11-22 00:55:42.321779509</td>\n",
              "      <td>2017-11-22 13:39:59</td>\n",
              "      <td>2017-12-02 00:28:42</td>\n",
              "      <td>2017-12-15 00:00:00</td>\n",
              "      <td>1</td>\n",
              "      <td>d0b61bfb1de832b15ba9d266ca96e5b0</td>\n",
              "      <td>...</td>\n",
              "      <td>2017</td>\n",
              "      <td>11</td>\n",
              "      <td>pet_shop</td>\n",
              "      <td>59.0</td>\n",
              "      <td>468.0</td>\n",
              "      <td>3.0</td>\n",
              "      <td>450.0</td>\n",
              "      <td>30.0</td>\n",
              "      <td>10.0</td>\n",
              "      <td>20.0</td>\n",
              "    </tr>\n",
              "    <tr>\n",
              "      <th>4</th>\n",
              "      <td>ad21c59c0840e6cb83a9ceb5573f8159</td>\n",
              "      <td>8ab97904e6daea8866dbdbc4fb7aad2c</td>\n",
              "      <td>delivered</td>\n",
              "      <td>2018-02-13 21:18:39</td>\n",
              "      <td>2018-02-17 02:46:15.321779509</td>\n",
              "      <td>2018-02-14 19:46:34</td>\n",
              "      <td>2018-02-16 18:17:02</td>\n",
              "      <td>2018-02-26 00:00:00</td>\n",
              "      <td>1</td>\n",
              "      <td>65266b2da20d04dbe00c5c2d3bb7859e</td>\n",
              "      <td>...</td>\n",
              "      <td>2018</td>\n",
              "      <td>2</td>\n",
              "      <td>papelaria</td>\n",
              "      <td>38.0</td>\n",
              "      <td>316.0</td>\n",
              "      <td>4.0</td>\n",
              "      <td>250.0</td>\n",
              "      <td>51.0</td>\n",
              "      <td>15.0</td>\n",
              "      <td>15.0</td>\n",
              "    </tr>\n",
              "  </tbody>\n",
              "</table>\n",
              "<p>5 rows × 24 columns</p>\n",
              "</div>"
            ],
            "text/plain": [
              "                           order_id                       customer_id  \\\n",
              "0  e481f51cbdc54678b7cc49136f2d6af7  9ef432eb6251297304e76186b10a928d   \n",
              "1  53cdb2fc8bc7dce0b6741e2150273451  b0830fb4747a6c6d20dea0b8c802d7ef   \n",
              "2  47770eb9100c2d0c44946d9cf07ec65d  41ce2a54c0b03bf3443c3d931a367089   \n",
              "3  949d5b44dbf5de918fe9c16f97b45f8a  f88197465ea7920adcdbec7375364d82   \n",
              "4  ad21c59c0840e6cb83a9ceb5573f8159  8ab97904e6daea8866dbdbc4fb7aad2c   \n",
              "\n",
              "  order_status order_purchase_timestamp             order_approved_at  \\\n",
              "0    delivered      2017-10-02 10:56:33 2017-10-05 16:24:09.321779509   \n",
              "1    delivered      2018-07-24 20:41:37 2018-07-28 02:09:13.321779509   \n",
              "2    delivered      2018-08-08 08:38:49 2018-08-11 14:06:25.321779509   \n",
              "3    delivered      2017-11-18 19:28:06 2017-11-22 00:55:42.321779509   \n",
              "4    delivered      2018-02-13 21:18:39 2018-02-17 02:46:15.321779509   \n",
              "\n",
              "  order_delivered_carrier_date order_delivered_customer_date  \\\n",
              "0          2017-10-04 19:55:00           2017-10-10 21:25:13   \n",
              "1          2018-07-26 14:31:00           2018-08-07 15:27:45   \n",
              "2          2018-08-08 13:50:00           2018-08-17 18:06:29   \n",
              "3          2017-11-22 13:39:59           2017-12-02 00:28:42   \n",
              "4          2018-02-14 19:46:34           2018-02-16 18:17:02   \n",
              "\n",
              "  order_estimated_delivery_date  order_item_id  \\\n",
              "0           2017-10-18 00:00:00              1   \n",
              "1           2018-08-13 00:00:00              1   \n",
              "2           2018-09-04 00:00:00              1   \n",
              "3           2017-12-15 00:00:00              1   \n",
              "4           2018-02-26 00:00:00              1   \n",
              "\n",
              "                         product_id  ... order_purchase_year  \\\n",
              "0  87285b34884572647811a353c7ac498a  ...                2017   \n",
              "1  595fac2a385ac33a80bd5114aec74eb8  ...                2018   \n",
              "2  aa4383b373c6aca5d8797843e5594415  ...                2018   \n",
              "3  d0b61bfb1de832b15ba9d266ca96e5b0  ...                2017   \n",
              "4  65266b2da20d04dbe00c5c2d3bb7859e  ...                2018   \n",
              "\n",
              "  order_purchase_month  product_category_name  product_name_lenght  \\\n",
              "0                   10  utilidades_domesticas                 40.0   \n",
              "1                    7             perfumaria                 29.0   \n",
              "2                    8             automotivo                 46.0   \n",
              "3                   11               pet_shop                 59.0   \n",
              "4                    2              papelaria                 38.0   \n",
              "\n",
              "   product_description_lenght  product_photos_qty product_weight_g  \\\n",
              "0                       268.0                 4.0            500.0   \n",
              "1                       178.0                 1.0            400.0   \n",
              "2                       232.0                 1.0            420.0   \n",
              "3                       468.0                 3.0            450.0   \n",
              "4                       316.0                 4.0            250.0   \n",
              "\n",
              "   product_length_cm  product_height_cm  product_width_cm  \n",
              "0               19.0                8.0              13.0  \n",
              "1               19.0               13.0              19.0  \n",
              "2               24.0               19.0              21.0  \n",
              "3               30.0               10.0              20.0  \n",
              "4               51.0               15.0              15.0  \n",
              "\n",
              "[5 rows x 24 columns]"
            ]
          },
          "execution_count": 148,
          "metadata": {},
          "output_type": "execute_result"
        }
      ],
      "source": [
        "orders_items_products_df = pd.merge(orders_items_df, products_df, on='product_id', how='inner')\n",
        "orders_items_products_df.head()"
      ]
    },
    {
      "cell_type": "markdown",
      "metadata": {
        "id": "Patz5FwUEwY1"
      },
      "source": [
        "**Menganalisis Kategori Produk yang Sering Terjual**"
      ]
    },
    {
      "cell_type": "code",
      "execution_count": 149,
      "metadata": {
        "colab": {
          "base_uri": "https://localhost:8080/",
          "height": 447
        },
        "id": "rClm_TtU5De6",
        "outputId": "e763ac87-3e05-400f-9ba5-7e69fb94f71e"
      },
      "outputs": [
        {
          "name": "stdout",
          "output_type": "stream",
          "text": [
            "Kategori Produk yang Sering Terjual:\n"
          ]
        },
        {
          "data": {
            "text/plain": [
              "product_category_name\n",
              "cama_mesa_banho           10151\n",
              "beleza_saude               9021\n",
              "esporte_lazer              7858\n",
              "informatica_acessorios     6887\n",
              "moveis_decoracao           6699\n",
              "utilidades_domesticas      6019\n",
              "relogios_presentes         5597\n",
              "telefonia                  4287\n",
              "automotivo                 3990\n",
              "brinquedos                 3979\n",
              "Name: count, dtype: int64"
            ]
          },
          "execution_count": 149,
          "metadata": {},
          "output_type": "execute_result"
        }
      ],
      "source": [
        "category_count = orders_items_products_df['product_category_name'].value_counts()\n",
        "print(\"Kategori Produk yang Sering Terjual:\")\n",
        "category_count.head(10)"
      ]
    },
    {
      "cell_type": "markdown",
      "metadata": {
        "id": "t28BBj_XoJtK"
      },
      "source": [
        "### Relasi Menggabungkan dengan Reviews"
      ]
    },
    {
      "cell_type": "markdown",
      "metadata": {
        "id": "RqlGT5cv5apL"
      },
      "source": [
        "**Gabungkan orders_items_products_df dengan reviews_df berdasarkan order_id.**"
      ]
    },
    {
      "cell_type": "code",
      "execution_count": 150,
      "metadata": {
        "colab": {
          "base_uri": "https://localhost:8080/",
          "height": 343
        },
        "id": "R5mhR0PtoKHD",
        "outputId": "25fc95aa-3681-434c-ee0b-5f6bcf1d2143"
      },
      "outputs": [
        {
          "data": {
            "text/html": [
              "<div>\n",
              "<style scoped>\n",
              "    .dataframe tbody tr th:only-of-type {\n",
              "        vertical-align: middle;\n",
              "    }\n",
              "\n",
              "    .dataframe tbody tr th {\n",
              "        vertical-align: top;\n",
              "    }\n",
              "\n",
              "    .dataframe thead th {\n",
              "        text-align: right;\n",
              "    }\n",
              "</style>\n",
              "<table border=\"1\" class=\"dataframe\">\n",
              "  <thead>\n",
              "    <tr style=\"text-align: right;\">\n",
              "      <th></th>\n",
              "      <th>order_id</th>\n",
              "      <th>customer_id</th>\n",
              "      <th>order_status</th>\n",
              "      <th>order_purchase_timestamp</th>\n",
              "      <th>order_approved_at</th>\n",
              "      <th>order_delivered_carrier_date</th>\n",
              "      <th>order_delivered_customer_date</th>\n",
              "      <th>order_estimated_delivery_date</th>\n",
              "      <th>order_item_id</th>\n",
              "      <th>product_id</th>\n",
              "      <th>...</th>\n",
              "      <th>product_description_lenght</th>\n",
              "      <th>product_photos_qty</th>\n",
              "      <th>product_weight_g</th>\n",
              "      <th>product_length_cm</th>\n",
              "      <th>product_height_cm</th>\n",
              "      <th>product_width_cm</th>\n",
              "      <th>review_id</th>\n",
              "      <th>review_score</th>\n",
              "      <th>review_creation_date</th>\n",
              "      <th>review_answer_timestamp</th>\n",
              "    </tr>\n",
              "  </thead>\n",
              "  <tbody>\n",
              "    <tr>\n",
              "      <th>0</th>\n",
              "      <td>e481f51cbdc54678b7cc49136f2d6af7</td>\n",
              "      <td>9ef432eb6251297304e76186b10a928d</td>\n",
              "      <td>delivered</td>\n",
              "      <td>2017-10-02 10:56:33</td>\n",
              "      <td>2017-10-05 16:24:09.321779509</td>\n",
              "      <td>2017-10-04 19:55:00</td>\n",
              "      <td>2017-10-10 21:25:13</td>\n",
              "      <td>2017-10-18 00:00:00</td>\n",
              "      <td>1</td>\n",
              "      <td>87285b34884572647811a353c7ac498a</td>\n",
              "      <td>...</td>\n",
              "      <td>268.0</td>\n",
              "      <td>4.0</td>\n",
              "      <td>500.0</td>\n",
              "      <td>19.0</td>\n",
              "      <td>8.0</td>\n",
              "      <td>13.0</td>\n",
              "      <td>a54f0611adc9ed256b57ede6b6eb5114</td>\n",
              "      <td>4</td>\n",
              "      <td>2017-10-11</td>\n",
              "      <td>2017-10-12 03:43:48</td>\n",
              "    </tr>\n",
              "    <tr>\n",
              "      <th>1</th>\n",
              "      <td>53cdb2fc8bc7dce0b6741e2150273451</td>\n",
              "      <td>b0830fb4747a6c6d20dea0b8c802d7ef</td>\n",
              "      <td>delivered</td>\n",
              "      <td>2018-07-24 20:41:37</td>\n",
              "      <td>2018-07-28 02:09:13.321779509</td>\n",
              "      <td>2018-07-26 14:31:00</td>\n",
              "      <td>2018-08-07 15:27:45</td>\n",
              "      <td>2018-08-13 00:00:00</td>\n",
              "      <td>1</td>\n",
              "      <td>595fac2a385ac33a80bd5114aec74eb8</td>\n",
              "      <td>...</td>\n",
              "      <td>178.0</td>\n",
              "      <td>1.0</td>\n",
              "      <td>400.0</td>\n",
              "      <td>19.0</td>\n",
              "      <td>13.0</td>\n",
              "      <td>19.0</td>\n",
              "      <td>8d5266042046a06655c8db133d120ba5</td>\n",
              "      <td>4</td>\n",
              "      <td>2018-08-08</td>\n",
              "      <td>2018-08-08 18:37:50</td>\n",
              "    </tr>\n",
              "    <tr>\n",
              "      <th>2</th>\n",
              "      <td>47770eb9100c2d0c44946d9cf07ec65d</td>\n",
              "      <td>41ce2a54c0b03bf3443c3d931a367089</td>\n",
              "      <td>delivered</td>\n",
              "      <td>2018-08-08 08:38:49</td>\n",
              "      <td>2018-08-11 14:06:25.321779509</td>\n",
              "      <td>2018-08-08 13:50:00</td>\n",
              "      <td>2018-08-17 18:06:29</td>\n",
              "      <td>2018-09-04 00:00:00</td>\n",
              "      <td>1</td>\n",
              "      <td>aa4383b373c6aca5d8797843e5594415</td>\n",
              "      <td>...</td>\n",
              "      <td>232.0</td>\n",
              "      <td>1.0</td>\n",
              "      <td>420.0</td>\n",
              "      <td>24.0</td>\n",
              "      <td>19.0</td>\n",
              "      <td>21.0</td>\n",
              "      <td>e73b67b67587f7644d5bd1a52deb1b01</td>\n",
              "      <td>5</td>\n",
              "      <td>2018-08-18</td>\n",
              "      <td>2018-08-22 19:07:58</td>\n",
              "    </tr>\n",
              "    <tr>\n",
              "      <th>3</th>\n",
              "      <td>949d5b44dbf5de918fe9c16f97b45f8a</td>\n",
              "      <td>f88197465ea7920adcdbec7375364d82</td>\n",
              "      <td>delivered</td>\n",
              "      <td>2017-11-18 19:28:06</td>\n",
              "      <td>2017-11-22 00:55:42.321779509</td>\n",
              "      <td>2017-11-22 13:39:59</td>\n",
              "      <td>2017-12-02 00:28:42</td>\n",
              "      <td>2017-12-15 00:00:00</td>\n",
              "      <td>1</td>\n",
              "      <td>d0b61bfb1de832b15ba9d266ca96e5b0</td>\n",
              "      <td>...</td>\n",
              "      <td>468.0</td>\n",
              "      <td>3.0</td>\n",
              "      <td>450.0</td>\n",
              "      <td>30.0</td>\n",
              "      <td>10.0</td>\n",
              "      <td>20.0</td>\n",
              "      <td>359d03e676b3c069f62cadba8dd3f6e8</td>\n",
              "      <td>5</td>\n",
              "      <td>2017-12-03</td>\n",
              "      <td>2017-12-05 19:21:58</td>\n",
              "    </tr>\n",
              "    <tr>\n",
              "      <th>4</th>\n",
              "      <td>ad21c59c0840e6cb83a9ceb5573f8159</td>\n",
              "      <td>8ab97904e6daea8866dbdbc4fb7aad2c</td>\n",
              "      <td>delivered</td>\n",
              "      <td>2018-02-13 21:18:39</td>\n",
              "      <td>2018-02-17 02:46:15.321779509</td>\n",
              "      <td>2018-02-14 19:46:34</td>\n",
              "      <td>2018-02-16 18:17:02</td>\n",
              "      <td>2018-02-26 00:00:00</td>\n",
              "      <td>1</td>\n",
              "      <td>65266b2da20d04dbe00c5c2d3bb7859e</td>\n",
              "      <td>...</td>\n",
              "      <td>316.0</td>\n",
              "      <td>4.0</td>\n",
              "      <td>250.0</td>\n",
              "      <td>51.0</td>\n",
              "      <td>15.0</td>\n",
              "      <td>15.0</td>\n",
              "      <td>e50934924e227544ba8246aeb3770dd4</td>\n",
              "      <td>5</td>\n",
              "      <td>2018-02-17</td>\n",
              "      <td>2018-02-18 13:02:51</td>\n",
              "    </tr>\n",
              "  </tbody>\n",
              "</table>\n",
              "<p>5 rows × 28 columns</p>\n",
              "</div>"
            ],
            "text/plain": [
              "                           order_id                       customer_id  \\\n",
              "0  e481f51cbdc54678b7cc49136f2d6af7  9ef432eb6251297304e76186b10a928d   \n",
              "1  53cdb2fc8bc7dce0b6741e2150273451  b0830fb4747a6c6d20dea0b8c802d7ef   \n",
              "2  47770eb9100c2d0c44946d9cf07ec65d  41ce2a54c0b03bf3443c3d931a367089   \n",
              "3  949d5b44dbf5de918fe9c16f97b45f8a  f88197465ea7920adcdbec7375364d82   \n",
              "4  ad21c59c0840e6cb83a9ceb5573f8159  8ab97904e6daea8866dbdbc4fb7aad2c   \n",
              "\n",
              "  order_status order_purchase_timestamp             order_approved_at  \\\n",
              "0    delivered      2017-10-02 10:56:33 2017-10-05 16:24:09.321779509   \n",
              "1    delivered      2018-07-24 20:41:37 2018-07-28 02:09:13.321779509   \n",
              "2    delivered      2018-08-08 08:38:49 2018-08-11 14:06:25.321779509   \n",
              "3    delivered      2017-11-18 19:28:06 2017-11-22 00:55:42.321779509   \n",
              "4    delivered      2018-02-13 21:18:39 2018-02-17 02:46:15.321779509   \n",
              "\n",
              "  order_delivered_carrier_date order_delivered_customer_date  \\\n",
              "0          2017-10-04 19:55:00           2017-10-10 21:25:13   \n",
              "1          2018-07-26 14:31:00           2018-08-07 15:27:45   \n",
              "2          2018-08-08 13:50:00           2018-08-17 18:06:29   \n",
              "3          2017-11-22 13:39:59           2017-12-02 00:28:42   \n",
              "4          2018-02-14 19:46:34           2018-02-16 18:17:02   \n",
              "\n",
              "  order_estimated_delivery_date  order_item_id  \\\n",
              "0           2017-10-18 00:00:00              1   \n",
              "1           2018-08-13 00:00:00              1   \n",
              "2           2018-09-04 00:00:00              1   \n",
              "3           2017-12-15 00:00:00              1   \n",
              "4           2018-02-26 00:00:00              1   \n",
              "\n",
              "                         product_id  ... product_description_lenght  \\\n",
              "0  87285b34884572647811a353c7ac498a  ...                      268.0   \n",
              "1  595fac2a385ac33a80bd5114aec74eb8  ...                      178.0   \n",
              "2  aa4383b373c6aca5d8797843e5594415  ...                      232.0   \n",
              "3  d0b61bfb1de832b15ba9d266ca96e5b0  ...                      468.0   \n",
              "4  65266b2da20d04dbe00c5c2d3bb7859e  ...                      316.0   \n",
              "\n",
              "  product_photos_qty  product_weight_g  product_length_cm  product_height_cm  \\\n",
              "0                4.0             500.0               19.0                8.0   \n",
              "1                1.0             400.0               19.0               13.0   \n",
              "2                1.0             420.0               24.0               19.0   \n",
              "3                3.0             450.0               30.0               10.0   \n",
              "4                4.0             250.0               51.0               15.0   \n",
              "\n",
              "   product_width_cm                         review_id  review_score  \\\n",
              "0              13.0  a54f0611adc9ed256b57ede6b6eb5114             4   \n",
              "1              19.0  8d5266042046a06655c8db133d120ba5             4   \n",
              "2              21.0  e73b67b67587f7644d5bd1a52deb1b01             5   \n",
              "3              20.0  359d03e676b3c069f62cadba8dd3f6e8             5   \n",
              "4              15.0  e50934924e227544ba8246aeb3770dd4             5   \n",
              "\n",
              "   review_creation_date  review_answer_timestamp  \n",
              "0            2017-10-11      2017-10-12 03:43:48  \n",
              "1            2018-08-08      2018-08-08 18:37:50  \n",
              "2            2018-08-18      2018-08-22 19:07:58  \n",
              "3            2017-12-03      2017-12-05 19:21:58  \n",
              "4            2018-02-17      2018-02-18 13:02:51  \n",
              "\n",
              "[5 rows x 28 columns]"
            ]
          },
          "execution_count": 150,
          "metadata": {},
          "output_type": "execute_result"
        }
      ],
      "source": [
        "orders_items_products_reviews_df = pd.merge(orders_items_products_df, reviews_df, on='order_id', how='inner')\n",
        "orders_items_products_reviews_df.head()"
      ]
    },
    {
      "cell_type": "markdown",
      "metadata": {
        "id": "vkAL-8g1FI8I"
      },
      "source": [
        "**Menghitung rata-rata Skor Ulasan**"
      ]
    },
    {
      "cell_type": "code",
      "execution_count": 151,
      "metadata": {
        "colab": {
          "base_uri": "https://localhost:8080/"
        },
        "id": "StYPVIpu5mXO",
        "outputId": "105acbac-2df0-492c-d7eb-aad4cde3c1a0"
      },
      "outputs": [
        {
          "name": "stdout",
          "output_type": "stream",
          "text": [
            "Rata-rata Skor Ulasan: 4.077849796389777\n"
          ]
        }
      ],
      "source": [
        "average_review_score = orders_items_products_reviews_df['review_score'].mean()\n",
        "print(f\"Rata-rata Skor Ulasan: {average_review_score}\")"
      ]
    },
    {
      "cell_type": "markdown",
      "metadata": {
        "id": "lIWev7_2FP1S"
      },
      "source": [
        "**Menganalisis Produk dengan Skor Ulasan Tertinggi**"
      ]
    },
    {
      "cell_type": "code",
      "execution_count": 152,
      "metadata": {
        "colab": {
          "base_uri": "https://localhost:8080/",
          "height": 447
        },
        "id": "D4R6MKUE5mvo",
        "outputId": "a24d20ef-961c-4177-c1f2-3851ec17a056"
      },
      "outputs": [
        {
          "name": "stdout",
          "output_type": "stream",
          "text": [
            "Produk dengan Skor Ulasan Tertinggi:\n"
          ]
        },
        {
          "data": {
            "text/plain": [
              "product_id\n",
              "00066f42aeeb9f3007548bb9d3f33c38    5.0\n",
              "6029bc50edfd5d03b89293c6316b570c    5.0\n",
              "c6eea384e62b799e78267eaeea987eaa    5.0\n",
              "6004f0ea115c80b51e2f0e434233c0ca    5.0\n",
              "60061c870d0d52a2c5bc678d56538fdd    5.0\n",
              "c6e5e65a8d521761e0d1a4f6812fc2ea    5.0\n",
              "600add16084eeeead5c56279ccef0d7e    5.0\n",
              "600dd8d6e08f57945bf0798abe1b1b5b    5.0\n",
              "6016ec35b91d455a84929e2066601c01    5.0\n",
              "c6e474e4e7e08a02bd7153cfe6d68dfc    5.0\n",
              "Name: review_score, dtype: float64"
            ]
          },
          "execution_count": 152,
          "metadata": {},
          "output_type": "execute_result"
        }
      ],
      "source": [
        "top_rated_products = orders_items_products_reviews_df.groupby('product_id')['review_score'].mean().sort_values(ascending=False).head(10)\n",
        "print(\"Produk dengan Skor Ulasan Tertinggi:\")\n",
        "top_rated_products.head(10)"
      ]
    },
    {
      "cell_type": "markdown",
      "metadata": {
        "id": "d0wWJjQl2yyu"
      },
      "source": [
        "### Relasi menggabungkan dengan Sellers:"
      ]
    },
    {
      "cell_type": "markdown",
      "metadata": {
        "id": "ZhbhXBRG50TV"
      },
      "source": [
        "**Gabungkan orders_items_products_reviews_df dengan sellers_df berdasarkan seller_id.**"
      ]
    },
    {
      "cell_type": "code",
      "execution_count": 153,
      "metadata": {
        "colab": {
          "base_uri": "https://localhost:8080/",
          "height": 343
        },
        "id": "CaapGQQo2zUh",
        "outputId": "22a337ea-966b-47d3-d2be-2cccf32d8484"
      },
      "outputs": [
        {
          "data": {
            "text/html": [
              "<div>\n",
              "<style scoped>\n",
              "    .dataframe tbody tr th:only-of-type {\n",
              "        vertical-align: middle;\n",
              "    }\n",
              "\n",
              "    .dataframe tbody tr th {\n",
              "        vertical-align: top;\n",
              "    }\n",
              "\n",
              "    .dataframe thead th {\n",
              "        text-align: right;\n",
              "    }\n",
              "</style>\n",
              "<table border=\"1\" class=\"dataframe\">\n",
              "  <thead>\n",
              "    <tr style=\"text-align: right;\">\n",
              "      <th></th>\n",
              "      <th>order_id</th>\n",
              "      <th>customer_id</th>\n",
              "      <th>order_status</th>\n",
              "      <th>order_purchase_timestamp</th>\n",
              "      <th>order_approved_at</th>\n",
              "      <th>order_delivered_carrier_date</th>\n",
              "      <th>order_delivered_customer_date</th>\n",
              "      <th>order_estimated_delivery_date</th>\n",
              "      <th>order_item_id</th>\n",
              "      <th>product_id</th>\n",
              "      <th>...</th>\n",
              "      <th>product_length_cm</th>\n",
              "      <th>product_height_cm</th>\n",
              "      <th>product_width_cm</th>\n",
              "      <th>review_id</th>\n",
              "      <th>review_score</th>\n",
              "      <th>review_creation_date</th>\n",
              "      <th>review_answer_timestamp</th>\n",
              "      <th>seller_zip_code_prefix</th>\n",
              "      <th>seller_city</th>\n",
              "      <th>seller_state</th>\n",
              "    </tr>\n",
              "  </thead>\n",
              "  <tbody>\n",
              "    <tr>\n",
              "      <th>0</th>\n",
              "      <td>53cdb2fc8bc7dce0b6741e2150273451</td>\n",
              "      <td>b0830fb4747a6c6d20dea0b8c802d7ef</td>\n",
              "      <td>delivered</td>\n",
              "      <td>2018-07-24 20:41:37</td>\n",
              "      <td>2018-07-28 02:09:13.321779509</td>\n",
              "      <td>2018-07-26 14:31:00</td>\n",
              "      <td>2018-08-07 15:27:45</td>\n",
              "      <td>2018-08-13 00:00:00</td>\n",
              "      <td>1</td>\n",
              "      <td>595fac2a385ac33a80bd5114aec74eb8</td>\n",
              "      <td>...</td>\n",
              "      <td>19.0</td>\n",
              "      <td>13.0</td>\n",
              "      <td>19.0</td>\n",
              "      <td>8d5266042046a06655c8db133d120ba5</td>\n",
              "      <td>4</td>\n",
              "      <td>2018-08-08</td>\n",
              "      <td>2018-08-08 18:37:50</td>\n",
              "      <td>31570</td>\n",
              "      <td>belo horizonte</td>\n",
              "      <td>SP</td>\n",
              "    </tr>\n",
              "    <tr>\n",
              "      <th>1</th>\n",
              "      <td>47770eb9100c2d0c44946d9cf07ec65d</td>\n",
              "      <td>41ce2a54c0b03bf3443c3d931a367089</td>\n",
              "      <td>delivered</td>\n",
              "      <td>2018-08-08 08:38:49</td>\n",
              "      <td>2018-08-11 14:06:25.321779509</td>\n",
              "      <td>2018-08-08 13:50:00</td>\n",
              "      <td>2018-08-17 18:06:29</td>\n",
              "      <td>2018-09-04 00:00:00</td>\n",
              "      <td>1</td>\n",
              "      <td>aa4383b373c6aca5d8797843e5594415</td>\n",
              "      <td>...</td>\n",
              "      <td>24.0</td>\n",
              "      <td>19.0</td>\n",
              "      <td>21.0</td>\n",
              "      <td>e73b67b67587f7644d5bd1a52deb1b01</td>\n",
              "      <td>5</td>\n",
              "      <td>2018-08-18</td>\n",
              "      <td>2018-08-22 19:07:58</td>\n",
              "      <td>14840</td>\n",
              "      <td>guariba</td>\n",
              "      <td>SP</td>\n",
              "    </tr>\n",
              "    <tr>\n",
              "      <th>2</th>\n",
              "      <td>949d5b44dbf5de918fe9c16f97b45f8a</td>\n",
              "      <td>f88197465ea7920adcdbec7375364d82</td>\n",
              "      <td>delivered</td>\n",
              "      <td>2017-11-18 19:28:06</td>\n",
              "      <td>2017-11-22 00:55:42.321779509</td>\n",
              "      <td>2017-11-22 13:39:59</td>\n",
              "      <td>2017-12-02 00:28:42</td>\n",
              "      <td>2017-12-15 00:00:00</td>\n",
              "      <td>1</td>\n",
              "      <td>d0b61bfb1de832b15ba9d266ca96e5b0</td>\n",
              "      <td>...</td>\n",
              "      <td>30.0</td>\n",
              "      <td>10.0</td>\n",
              "      <td>20.0</td>\n",
              "      <td>359d03e676b3c069f62cadba8dd3f6e8</td>\n",
              "      <td>5</td>\n",
              "      <td>2017-12-03</td>\n",
              "      <td>2017-12-05 19:21:58</td>\n",
              "      <td>31842</td>\n",
              "      <td>belo horizonte</td>\n",
              "      <td>MG</td>\n",
              "    </tr>\n",
              "    <tr>\n",
              "      <th>3</th>\n",
              "      <td>6514b8ad8028c9f2cc2374ded245783f</td>\n",
              "      <td>9bdf08b4b3b52b5526ff42d37d47f222</td>\n",
              "      <td>delivered</td>\n",
              "      <td>2017-05-16 13:10:30</td>\n",
              "      <td>2017-05-19 18:38:06.321779509</td>\n",
              "      <td>2017-05-22 10:07:46</td>\n",
              "      <td>2017-05-26 12:55:51</td>\n",
              "      <td>2017-06-07 00:00:00</td>\n",
              "      <td>1</td>\n",
              "      <td>4520766ec412348b8d4caa5e8a18c464</td>\n",
              "      <td>...</td>\n",
              "      <td>16.0</td>\n",
              "      <td>16.0</td>\n",
              "      <td>17.0</td>\n",
              "      <td>07d67dd06ed5f88bef11ef6b464e79ae</td>\n",
              "      <td>5</td>\n",
              "      <td>2017-05-27</td>\n",
              "      <td>2017-05-28 02:59:57</td>\n",
              "      <td>12940</td>\n",
              "      <td>atibaia</td>\n",
              "      <td>SP</td>\n",
              "    </tr>\n",
              "    <tr>\n",
              "      <th>4</th>\n",
              "      <td>76c6e866289321a7c93b82b54852dc33</td>\n",
              "      <td>f54a9f0e6b351c431402b8461ea51999</td>\n",
              "      <td>delivered</td>\n",
              "      <td>2017-01-23 18:29:09</td>\n",
              "      <td>2017-01-26 23:56:45.321779509</td>\n",
              "      <td>2017-01-26 14:16:31</td>\n",
              "      <td>2017-02-02 14:08:10</td>\n",
              "      <td>2017-03-06 00:00:00</td>\n",
              "      <td>1</td>\n",
              "      <td>ac1789e492dcd698c5c10b97a671243a</td>\n",
              "      <td>...</td>\n",
              "      <td>35.0</td>\n",
              "      <td>35.0</td>\n",
              "      <td>15.0</td>\n",
              "      <td>fc4af8aea8ec3f1a3cd181d3d0cadbd5</td>\n",
              "      <td>1</td>\n",
              "      <td>2017-02-03</td>\n",
              "      <td>2017-02-05 01:58:35</td>\n",
              "      <td>13720</td>\n",
              "      <td>sao jose do rio pardo</td>\n",
              "      <td>SP</td>\n",
              "    </tr>\n",
              "  </tbody>\n",
              "</table>\n",
              "<p>5 rows × 31 columns</p>\n",
              "</div>"
            ],
            "text/plain": [
              "                           order_id                       customer_id  \\\n",
              "0  53cdb2fc8bc7dce0b6741e2150273451  b0830fb4747a6c6d20dea0b8c802d7ef   \n",
              "1  47770eb9100c2d0c44946d9cf07ec65d  41ce2a54c0b03bf3443c3d931a367089   \n",
              "2  949d5b44dbf5de918fe9c16f97b45f8a  f88197465ea7920adcdbec7375364d82   \n",
              "3  6514b8ad8028c9f2cc2374ded245783f  9bdf08b4b3b52b5526ff42d37d47f222   \n",
              "4  76c6e866289321a7c93b82b54852dc33  f54a9f0e6b351c431402b8461ea51999   \n",
              "\n",
              "  order_status order_purchase_timestamp             order_approved_at  \\\n",
              "0    delivered      2018-07-24 20:41:37 2018-07-28 02:09:13.321779509   \n",
              "1    delivered      2018-08-08 08:38:49 2018-08-11 14:06:25.321779509   \n",
              "2    delivered      2017-11-18 19:28:06 2017-11-22 00:55:42.321779509   \n",
              "3    delivered      2017-05-16 13:10:30 2017-05-19 18:38:06.321779509   \n",
              "4    delivered      2017-01-23 18:29:09 2017-01-26 23:56:45.321779509   \n",
              "\n",
              "  order_delivered_carrier_date order_delivered_customer_date  \\\n",
              "0          2018-07-26 14:31:00           2018-08-07 15:27:45   \n",
              "1          2018-08-08 13:50:00           2018-08-17 18:06:29   \n",
              "2          2017-11-22 13:39:59           2017-12-02 00:28:42   \n",
              "3          2017-05-22 10:07:46           2017-05-26 12:55:51   \n",
              "4          2017-01-26 14:16:31           2017-02-02 14:08:10   \n",
              "\n",
              "  order_estimated_delivery_date  order_item_id  \\\n",
              "0           2018-08-13 00:00:00              1   \n",
              "1           2018-09-04 00:00:00              1   \n",
              "2           2017-12-15 00:00:00              1   \n",
              "3           2017-06-07 00:00:00              1   \n",
              "4           2017-03-06 00:00:00              1   \n",
              "\n",
              "                         product_id  ... product_length_cm product_height_cm  \\\n",
              "0  595fac2a385ac33a80bd5114aec74eb8  ...              19.0              13.0   \n",
              "1  aa4383b373c6aca5d8797843e5594415  ...              24.0              19.0   \n",
              "2  d0b61bfb1de832b15ba9d266ca96e5b0  ...              30.0              10.0   \n",
              "3  4520766ec412348b8d4caa5e8a18c464  ...              16.0              16.0   \n",
              "4  ac1789e492dcd698c5c10b97a671243a  ...              35.0              35.0   \n",
              "\n",
              "   product_width_cm                         review_id  review_score  \\\n",
              "0              19.0  8d5266042046a06655c8db133d120ba5             4   \n",
              "1              21.0  e73b67b67587f7644d5bd1a52deb1b01             5   \n",
              "2              20.0  359d03e676b3c069f62cadba8dd3f6e8             5   \n",
              "3              17.0  07d67dd06ed5f88bef11ef6b464e79ae             5   \n",
              "4              15.0  fc4af8aea8ec3f1a3cd181d3d0cadbd5             1   \n",
              "\n",
              "   review_creation_date review_answer_timestamp  seller_zip_code_prefix  \\\n",
              "0            2018-08-08     2018-08-08 18:37:50                   31570   \n",
              "1            2018-08-18     2018-08-22 19:07:58                   14840   \n",
              "2            2017-12-03     2017-12-05 19:21:58                   31842   \n",
              "3            2017-05-27     2017-05-28 02:59:57                   12940   \n",
              "4            2017-02-03     2017-02-05 01:58:35                   13720   \n",
              "\n",
              "             seller_city  seller_state  \n",
              "0         belo horizonte            SP  \n",
              "1                guariba            SP  \n",
              "2         belo horizonte            MG  \n",
              "3                atibaia            SP  \n",
              "4  sao jose do rio pardo            SP  \n",
              "\n",
              "[5 rows x 31 columns]"
            ]
          },
          "execution_count": 153,
          "metadata": {},
          "output_type": "execute_result"
        }
      ],
      "source": [
        "orders_items_products_reviews_sellers_df = pd.merge(orders_items_products_reviews_df, sellers_df, on='seller_id', how='inner')\n",
        "orders_items_products_reviews_sellers_df.head()"
      ]
    },
    {
      "cell_type": "markdown",
      "metadata": {
        "id": "nnRKxZqLGBcV"
      },
      "source": [
        "**Menganalisis Penjual Berdasarkan Kota**"
      ]
    },
    {
      "cell_type": "code",
      "execution_count": 154,
      "metadata": {
        "colab": {
          "base_uri": "https://localhost:8080/",
          "height": 447
        },
        "id": "1Yh9QqLt6Cc5",
        "outputId": "49ab821f-ad3b-4906-f0d9-b9655a602921"
      },
      "outputs": [
        {
          "name": "stdout",
          "output_type": "stream",
          "text": [
            "Jumlah Penjual Berdasarkan Kota:\n"
          ]
        },
        {
          "data": {
            "text/plain": [
              "seller_city\n",
              "ibitinga                 7142\n",
              "curitiba                 2760\n",
              "belo horizonte           2364\n",
              "rio de janeiro           2149\n",
              "sao jose do rio preto    2004\n",
              "maringa                  1938\n",
              "ribeirao preto           1885\n",
              "piracicaba               1757\n",
              "campinas                 1309\n",
              "praia grande             1251\n",
              "Name: count, dtype: int64"
            ]
          },
          "execution_count": 154,
          "metadata": {},
          "output_type": "execute_result"
        }
      ],
      "source": [
        "seller_city_count = orders_items_products_reviews_sellers_df['seller_city'].value_counts()\n",
        "print(\"Jumlah Penjual Berdasarkan Kota:\")\n",
        "seller_city_count.head(10)"
      ]
    },
    {
      "cell_type": "markdown",
      "metadata": {
        "id": "brkBBn1X2zzL"
      },
      "source": [
        "### Relasi menggabungkan dengan Payments"
      ]
    },
    {
      "cell_type": "markdown",
      "metadata": {
        "id": "zTxlCXXf6ON5"
      },
      "source": [
        "**Gabungkan orders_items_products_reviews_sellers_df dengan payments_df berdasarkan order_id.**"
      ]
    },
    {
      "cell_type": "code",
      "execution_count": 155,
      "metadata": {
        "colab": {
          "base_uri": "https://localhost:8080/",
          "height": 343
        },
        "id": "Yto17-N120LA",
        "outputId": "ad605580-7330-4c68-9c92-f60c60e2b32d"
      },
      "outputs": [
        {
          "data": {
            "text/html": [
              "<div>\n",
              "<style scoped>\n",
              "    .dataframe tbody tr th:only-of-type {\n",
              "        vertical-align: middle;\n",
              "    }\n",
              "\n",
              "    .dataframe tbody tr th {\n",
              "        vertical-align: top;\n",
              "    }\n",
              "\n",
              "    .dataframe thead th {\n",
              "        text-align: right;\n",
              "    }\n",
              "</style>\n",
              "<table border=\"1\" class=\"dataframe\">\n",
              "  <thead>\n",
              "    <tr style=\"text-align: right;\">\n",
              "      <th></th>\n",
              "      <th>order_id</th>\n",
              "      <th>customer_id</th>\n",
              "      <th>order_status</th>\n",
              "      <th>order_purchase_timestamp</th>\n",
              "      <th>order_approved_at</th>\n",
              "      <th>order_delivered_carrier_date</th>\n",
              "      <th>order_delivered_customer_date</th>\n",
              "      <th>order_estimated_delivery_date</th>\n",
              "      <th>order_item_id</th>\n",
              "      <th>product_id</th>\n",
              "      <th>...</th>\n",
              "      <th>review_score</th>\n",
              "      <th>review_creation_date</th>\n",
              "      <th>review_answer_timestamp</th>\n",
              "      <th>seller_zip_code_prefix</th>\n",
              "      <th>seller_city</th>\n",
              "      <th>seller_state</th>\n",
              "      <th>payment_sequential</th>\n",
              "      <th>payment_type</th>\n",
              "      <th>payment_installments</th>\n",
              "      <th>payment_value</th>\n",
              "    </tr>\n",
              "  </thead>\n",
              "  <tbody>\n",
              "    <tr>\n",
              "      <th>0</th>\n",
              "      <td>53cdb2fc8bc7dce0b6741e2150273451</td>\n",
              "      <td>b0830fb4747a6c6d20dea0b8c802d7ef</td>\n",
              "      <td>delivered</td>\n",
              "      <td>2018-07-24 20:41:37</td>\n",
              "      <td>2018-07-28 02:09:13.321779509</td>\n",
              "      <td>2018-07-26 14:31:00</td>\n",
              "      <td>2018-08-07 15:27:45</td>\n",
              "      <td>2018-08-13 00:00:00</td>\n",
              "      <td>1</td>\n",
              "      <td>595fac2a385ac33a80bd5114aec74eb8</td>\n",
              "      <td>...</td>\n",
              "      <td>4</td>\n",
              "      <td>2018-08-08</td>\n",
              "      <td>2018-08-08 18:37:50</td>\n",
              "      <td>31570</td>\n",
              "      <td>belo horizonte</td>\n",
              "      <td>SP</td>\n",
              "      <td>1</td>\n",
              "      <td>boleto</td>\n",
              "      <td>1</td>\n",
              "      <td>141.46</td>\n",
              "    </tr>\n",
              "    <tr>\n",
              "      <th>1</th>\n",
              "      <td>47770eb9100c2d0c44946d9cf07ec65d</td>\n",
              "      <td>41ce2a54c0b03bf3443c3d931a367089</td>\n",
              "      <td>delivered</td>\n",
              "      <td>2018-08-08 08:38:49</td>\n",
              "      <td>2018-08-11 14:06:25.321779509</td>\n",
              "      <td>2018-08-08 13:50:00</td>\n",
              "      <td>2018-08-17 18:06:29</td>\n",
              "      <td>2018-09-04 00:00:00</td>\n",
              "      <td>1</td>\n",
              "      <td>aa4383b373c6aca5d8797843e5594415</td>\n",
              "      <td>...</td>\n",
              "      <td>5</td>\n",
              "      <td>2018-08-18</td>\n",
              "      <td>2018-08-22 19:07:58</td>\n",
              "      <td>14840</td>\n",
              "      <td>guariba</td>\n",
              "      <td>SP</td>\n",
              "      <td>1</td>\n",
              "      <td>credit_card</td>\n",
              "      <td>3</td>\n",
              "      <td>179.12</td>\n",
              "    </tr>\n",
              "    <tr>\n",
              "      <th>2</th>\n",
              "      <td>949d5b44dbf5de918fe9c16f97b45f8a</td>\n",
              "      <td>f88197465ea7920adcdbec7375364d82</td>\n",
              "      <td>delivered</td>\n",
              "      <td>2017-11-18 19:28:06</td>\n",
              "      <td>2017-11-22 00:55:42.321779509</td>\n",
              "      <td>2017-11-22 13:39:59</td>\n",
              "      <td>2017-12-02 00:28:42</td>\n",
              "      <td>2017-12-15 00:00:00</td>\n",
              "      <td>1</td>\n",
              "      <td>d0b61bfb1de832b15ba9d266ca96e5b0</td>\n",
              "      <td>...</td>\n",
              "      <td>5</td>\n",
              "      <td>2017-12-03</td>\n",
              "      <td>2017-12-05 19:21:58</td>\n",
              "      <td>31842</td>\n",
              "      <td>belo horizonte</td>\n",
              "      <td>MG</td>\n",
              "      <td>1</td>\n",
              "      <td>credit_card</td>\n",
              "      <td>1</td>\n",
              "      <td>72.20</td>\n",
              "    </tr>\n",
              "    <tr>\n",
              "      <th>3</th>\n",
              "      <td>6514b8ad8028c9f2cc2374ded245783f</td>\n",
              "      <td>9bdf08b4b3b52b5526ff42d37d47f222</td>\n",
              "      <td>delivered</td>\n",
              "      <td>2017-05-16 13:10:30</td>\n",
              "      <td>2017-05-19 18:38:06.321779509</td>\n",
              "      <td>2017-05-22 10:07:46</td>\n",
              "      <td>2017-05-26 12:55:51</td>\n",
              "      <td>2017-06-07 00:00:00</td>\n",
              "      <td>1</td>\n",
              "      <td>4520766ec412348b8d4caa5e8a18c464</td>\n",
              "      <td>...</td>\n",
              "      <td>5</td>\n",
              "      <td>2017-05-27</td>\n",
              "      <td>2017-05-28 02:59:57</td>\n",
              "      <td>12940</td>\n",
              "      <td>atibaia</td>\n",
              "      <td>SP</td>\n",
              "      <td>1</td>\n",
              "      <td>credit_card</td>\n",
              "      <td>3</td>\n",
              "      <td>75.16</td>\n",
              "    </tr>\n",
              "    <tr>\n",
              "      <th>4</th>\n",
              "      <td>76c6e866289321a7c93b82b54852dc33</td>\n",
              "      <td>f54a9f0e6b351c431402b8461ea51999</td>\n",
              "      <td>delivered</td>\n",
              "      <td>2017-01-23 18:29:09</td>\n",
              "      <td>2017-01-26 23:56:45.321779509</td>\n",
              "      <td>2017-01-26 14:16:31</td>\n",
              "      <td>2017-02-02 14:08:10</td>\n",
              "      <td>2017-03-06 00:00:00</td>\n",
              "      <td>1</td>\n",
              "      <td>ac1789e492dcd698c5c10b97a671243a</td>\n",
              "      <td>...</td>\n",
              "      <td>1</td>\n",
              "      <td>2017-02-03</td>\n",
              "      <td>2017-02-05 01:58:35</td>\n",
              "      <td>13720</td>\n",
              "      <td>sao jose do rio pardo</td>\n",
              "      <td>SP</td>\n",
              "      <td>1</td>\n",
              "      <td>boleto</td>\n",
              "      <td>1</td>\n",
              "      <td>35.95</td>\n",
              "    </tr>\n",
              "  </tbody>\n",
              "</table>\n",
              "<p>5 rows × 35 columns</p>\n",
              "</div>"
            ],
            "text/plain": [
              "                           order_id                       customer_id  \\\n",
              "0  53cdb2fc8bc7dce0b6741e2150273451  b0830fb4747a6c6d20dea0b8c802d7ef   \n",
              "1  47770eb9100c2d0c44946d9cf07ec65d  41ce2a54c0b03bf3443c3d931a367089   \n",
              "2  949d5b44dbf5de918fe9c16f97b45f8a  f88197465ea7920adcdbec7375364d82   \n",
              "3  6514b8ad8028c9f2cc2374ded245783f  9bdf08b4b3b52b5526ff42d37d47f222   \n",
              "4  76c6e866289321a7c93b82b54852dc33  f54a9f0e6b351c431402b8461ea51999   \n",
              "\n",
              "  order_status order_purchase_timestamp             order_approved_at  \\\n",
              "0    delivered      2018-07-24 20:41:37 2018-07-28 02:09:13.321779509   \n",
              "1    delivered      2018-08-08 08:38:49 2018-08-11 14:06:25.321779509   \n",
              "2    delivered      2017-11-18 19:28:06 2017-11-22 00:55:42.321779509   \n",
              "3    delivered      2017-05-16 13:10:30 2017-05-19 18:38:06.321779509   \n",
              "4    delivered      2017-01-23 18:29:09 2017-01-26 23:56:45.321779509   \n",
              "\n",
              "  order_delivered_carrier_date order_delivered_customer_date  \\\n",
              "0          2018-07-26 14:31:00           2018-08-07 15:27:45   \n",
              "1          2018-08-08 13:50:00           2018-08-17 18:06:29   \n",
              "2          2017-11-22 13:39:59           2017-12-02 00:28:42   \n",
              "3          2017-05-22 10:07:46           2017-05-26 12:55:51   \n",
              "4          2017-01-26 14:16:31           2017-02-02 14:08:10   \n",
              "\n",
              "  order_estimated_delivery_date  order_item_id  \\\n",
              "0           2018-08-13 00:00:00              1   \n",
              "1           2018-09-04 00:00:00              1   \n",
              "2           2017-12-15 00:00:00              1   \n",
              "3           2017-06-07 00:00:00              1   \n",
              "4           2017-03-06 00:00:00              1   \n",
              "\n",
              "                         product_id  ... review_score review_creation_date  \\\n",
              "0  595fac2a385ac33a80bd5114aec74eb8  ...            4           2018-08-08   \n",
              "1  aa4383b373c6aca5d8797843e5594415  ...            5           2018-08-18   \n",
              "2  d0b61bfb1de832b15ba9d266ca96e5b0  ...            5           2017-12-03   \n",
              "3  4520766ec412348b8d4caa5e8a18c464  ...            5           2017-05-27   \n",
              "4  ac1789e492dcd698c5c10b97a671243a  ...            1           2017-02-03   \n",
              "\n",
              "   review_answer_timestamp  seller_zip_code_prefix            seller_city  \\\n",
              "0      2018-08-08 18:37:50                   31570         belo horizonte   \n",
              "1      2018-08-22 19:07:58                   14840                guariba   \n",
              "2      2017-12-05 19:21:58                   31842         belo horizonte   \n",
              "3      2017-05-28 02:59:57                   12940                atibaia   \n",
              "4      2017-02-05 01:58:35                   13720  sao jose do rio pardo   \n",
              "\n",
              "   seller_state payment_sequential  payment_type  payment_installments  \\\n",
              "0            SP                  1        boleto                     1   \n",
              "1            SP                  1   credit_card                     3   \n",
              "2            MG                  1   credit_card                     1   \n",
              "3            SP                  1   credit_card                     3   \n",
              "4            SP                  1        boleto                     1   \n",
              "\n",
              "   payment_value  \n",
              "0         141.46  \n",
              "1         179.12  \n",
              "2          72.20  \n",
              "3          75.16  \n",
              "4          35.95  \n",
              "\n",
              "[5 rows x 35 columns]"
            ]
          },
          "execution_count": 155,
          "metadata": {},
          "output_type": "execute_result"
        }
      ],
      "source": [
        "orders_items_products_reviews_sellers_payments_df = pd.merge(\n",
        "    orders_items_products_reviews_sellers_df, payments_df, on='order_id', how='inner'\n",
        ")\n",
        "orders_items_products_reviews_sellers_payments_df.head()"
      ]
    },
    {
      "cell_type": "markdown",
      "metadata": {
        "id": "zCaY5xvsGlW-"
      },
      "source": [
        "**Menganalisis jenis Pembayaran yang Paling Sering Digunakan**"
      ]
    },
    {
      "cell_type": "code",
      "execution_count": 156,
      "metadata": {
        "colab": {
          "base_uri": "https://localhost:8080/",
          "height": 259
        },
        "id": "ne1-bi2B6W6u",
        "outputId": "e45f4eef-8eef-4f80-a446-b1e8022d524a"
      },
      "outputs": [
        {
          "name": "stdout",
          "output_type": "stream",
          "text": [
            "Jenis Pembayaran yang Paling Sering Digunakan:\n"
          ]
        },
        {
          "data": {
            "text/plain": [
              "payment_type\n",
              "credit_card    45441\n",
              "boleto         11678\n",
              "voucher          862\n",
              "debit_card       855\n",
              "Name: count, dtype: int64"
            ]
          },
          "execution_count": 156,
          "metadata": {},
          "output_type": "execute_result"
        }
      ],
      "source": [
        "payment_type_count = orders_items_products_reviews_sellers_payments_df['payment_type'].value_counts()\n",
        "print(\"Jenis Pembayaran yang Paling Sering Digunakan:\")\n",
        "payment_type_count"
      ]
    },
    {
      "cell_type": "markdown",
      "metadata": {
        "id": "FXs9Hg7X20u8"
      },
      "source": [
        "### Relasi menggabungkan dengan Translated Product Category Name"
      ]
    },
    {
      "cell_type": "markdown",
      "metadata": {
        "id": "oMh-jbKE51d5"
      },
      "source": [
        "**Gabungkan orders_items_products_reviews_sellers_payments_df dengan translations_df berdasarkan product_category_name.**"
      ]
    },
    {
      "cell_type": "code",
      "execution_count": 157,
      "metadata": {
        "colab": {
          "base_uri": "https://localhost:8080/",
          "height": 343
        },
        "id": "CBXlxqTM21W6",
        "outputId": "480a5ec3-4b31-41e7-a6e3-e8228ddb9f78"
      },
      "outputs": [
        {
          "data": {
            "text/html": [
              "<div>\n",
              "<style scoped>\n",
              "    .dataframe tbody tr th:only-of-type {\n",
              "        vertical-align: middle;\n",
              "    }\n",
              "\n",
              "    .dataframe tbody tr th {\n",
              "        vertical-align: top;\n",
              "    }\n",
              "\n",
              "    .dataframe thead th {\n",
              "        text-align: right;\n",
              "    }\n",
              "</style>\n",
              "<table border=\"1\" class=\"dataframe\">\n",
              "  <thead>\n",
              "    <tr style=\"text-align: right;\">\n",
              "      <th></th>\n",
              "      <th>order_id</th>\n",
              "      <th>customer_id</th>\n",
              "      <th>order_status</th>\n",
              "      <th>order_purchase_timestamp</th>\n",
              "      <th>order_approved_at</th>\n",
              "      <th>order_delivered_carrier_date</th>\n",
              "      <th>order_delivered_customer_date</th>\n",
              "      <th>order_estimated_delivery_date</th>\n",
              "      <th>order_item_id</th>\n",
              "      <th>product_id</th>\n",
              "      <th>...</th>\n",
              "      <th>review_creation_date</th>\n",
              "      <th>review_answer_timestamp</th>\n",
              "      <th>seller_zip_code_prefix</th>\n",
              "      <th>seller_city</th>\n",
              "      <th>seller_state</th>\n",
              "      <th>payment_sequential</th>\n",
              "      <th>payment_type</th>\n",
              "      <th>payment_installments</th>\n",
              "      <th>payment_value</th>\n",
              "      <th>product_category_name_english</th>\n",
              "    </tr>\n",
              "  </thead>\n",
              "  <tbody>\n",
              "    <tr>\n",
              "      <th>0</th>\n",
              "      <td>53cdb2fc8bc7dce0b6741e2150273451</td>\n",
              "      <td>b0830fb4747a6c6d20dea0b8c802d7ef</td>\n",
              "      <td>delivered</td>\n",
              "      <td>2018-07-24 20:41:37</td>\n",
              "      <td>2018-07-28 02:09:13.321779509</td>\n",
              "      <td>2018-07-26 14:31:00</td>\n",
              "      <td>2018-08-07 15:27:45</td>\n",
              "      <td>2018-08-13 00:00:00</td>\n",
              "      <td>1</td>\n",
              "      <td>595fac2a385ac33a80bd5114aec74eb8</td>\n",
              "      <td>...</td>\n",
              "      <td>2018-08-08</td>\n",
              "      <td>2018-08-08 18:37:50</td>\n",
              "      <td>31570</td>\n",
              "      <td>belo horizonte</td>\n",
              "      <td>SP</td>\n",
              "      <td>1</td>\n",
              "      <td>boleto</td>\n",
              "      <td>1</td>\n",
              "      <td>141.46</td>\n",
              "      <td>perfumery</td>\n",
              "    </tr>\n",
              "    <tr>\n",
              "      <th>1</th>\n",
              "      <td>47770eb9100c2d0c44946d9cf07ec65d</td>\n",
              "      <td>41ce2a54c0b03bf3443c3d931a367089</td>\n",
              "      <td>delivered</td>\n",
              "      <td>2018-08-08 08:38:49</td>\n",
              "      <td>2018-08-11 14:06:25.321779509</td>\n",
              "      <td>2018-08-08 13:50:00</td>\n",
              "      <td>2018-08-17 18:06:29</td>\n",
              "      <td>2018-09-04 00:00:00</td>\n",
              "      <td>1</td>\n",
              "      <td>aa4383b373c6aca5d8797843e5594415</td>\n",
              "      <td>...</td>\n",
              "      <td>2018-08-18</td>\n",
              "      <td>2018-08-22 19:07:58</td>\n",
              "      <td>14840</td>\n",
              "      <td>guariba</td>\n",
              "      <td>SP</td>\n",
              "      <td>1</td>\n",
              "      <td>credit_card</td>\n",
              "      <td>3</td>\n",
              "      <td>179.12</td>\n",
              "      <td>auto</td>\n",
              "    </tr>\n",
              "    <tr>\n",
              "      <th>2</th>\n",
              "      <td>949d5b44dbf5de918fe9c16f97b45f8a</td>\n",
              "      <td>f88197465ea7920adcdbec7375364d82</td>\n",
              "      <td>delivered</td>\n",
              "      <td>2017-11-18 19:28:06</td>\n",
              "      <td>2017-11-22 00:55:42.321779509</td>\n",
              "      <td>2017-11-22 13:39:59</td>\n",
              "      <td>2017-12-02 00:28:42</td>\n",
              "      <td>2017-12-15 00:00:00</td>\n",
              "      <td>1</td>\n",
              "      <td>d0b61bfb1de832b15ba9d266ca96e5b0</td>\n",
              "      <td>...</td>\n",
              "      <td>2017-12-03</td>\n",
              "      <td>2017-12-05 19:21:58</td>\n",
              "      <td>31842</td>\n",
              "      <td>belo horizonte</td>\n",
              "      <td>MG</td>\n",
              "      <td>1</td>\n",
              "      <td>credit_card</td>\n",
              "      <td>1</td>\n",
              "      <td>72.20</td>\n",
              "      <td>pet_shop</td>\n",
              "    </tr>\n",
              "    <tr>\n",
              "      <th>3</th>\n",
              "      <td>6514b8ad8028c9f2cc2374ded245783f</td>\n",
              "      <td>9bdf08b4b3b52b5526ff42d37d47f222</td>\n",
              "      <td>delivered</td>\n",
              "      <td>2017-05-16 13:10:30</td>\n",
              "      <td>2017-05-19 18:38:06.321779509</td>\n",
              "      <td>2017-05-22 10:07:46</td>\n",
              "      <td>2017-05-26 12:55:51</td>\n",
              "      <td>2017-06-07 00:00:00</td>\n",
              "      <td>1</td>\n",
              "      <td>4520766ec412348b8d4caa5e8a18c464</td>\n",
              "      <td>...</td>\n",
              "      <td>2017-05-27</td>\n",
              "      <td>2017-05-28 02:59:57</td>\n",
              "      <td>12940</td>\n",
              "      <td>atibaia</td>\n",
              "      <td>SP</td>\n",
              "      <td>1</td>\n",
              "      <td>credit_card</td>\n",
              "      <td>3</td>\n",
              "      <td>75.16</td>\n",
              "      <td>auto</td>\n",
              "    </tr>\n",
              "    <tr>\n",
              "      <th>4</th>\n",
              "      <td>76c6e866289321a7c93b82b54852dc33</td>\n",
              "      <td>f54a9f0e6b351c431402b8461ea51999</td>\n",
              "      <td>delivered</td>\n",
              "      <td>2017-01-23 18:29:09</td>\n",
              "      <td>2017-01-26 23:56:45.321779509</td>\n",
              "      <td>2017-01-26 14:16:31</td>\n",
              "      <td>2017-02-02 14:08:10</td>\n",
              "      <td>2017-03-06 00:00:00</td>\n",
              "      <td>1</td>\n",
              "      <td>ac1789e492dcd698c5c10b97a671243a</td>\n",
              "      <td>...</td>\n",
              "      <td>2017-02-03</td>\n",
              "      <td>2017-02-05 01:58:35</td>\n",
              "      <td>13720</td>\n",
              "      <td>sao jose do rio pardo</td>\n",
              "      <td>SP</td>\n",
              "      <td>1</td>\n",
              "      <td>boleto</td>\n",
              "      <td>1</td>\n",
              "      <td>35.95</td>\n",
              "      <td>furniture_decor</td>\n",
              "    </tr>\n",
              "  </tbody>\n",
              "</table>\n",
              "<p>5 rows × 36 columns</p>\n",
              "</div>"
            ],
            "text/plain": [
              "                           order_id                       customer_id  \\\n",
              "0  53cdb2fc8bc7dce0b6741e2150273451  b0830fb4747a6c6d20dea0b8c802d7ef   \n",
              "1  47770eb9100c2d0c44946d9cf07ec65d  41ce2a54c0b03bf3443c3d931a367089   \n",
              "2  949d5b44dbf5de918fe9c16f97b45f8a  f88197465ea7920adcdbec7375364d82   \n",
              "3  6514b8ad8028c9f2cc2374ded245783f  9bdf08b4b3b52b5526ff42d37d47f222   \n",
              "4  76c6e866289321a7c93b82b54852dc33  f54a9f0e6b351c431402b8461ea51999   \n",
              "\n",
              "  order_status order_purchase_timestamp             order_approved_at  \\\n",
              "0    delivered      2018-07-24 20:41:37 2018-07-28 02:09:13.321779509   \n",
              "1    delivered      2018-08-08 08:38:49 2018-08-11 14:06:25.321779509   \n",
              "2    delivered      2017-11-18 19:28:06 2017-11-22 00:55:42.321779509   \n",
              "3    delivered      2017-05-16 13:10:30 2017-05-19 18:38:06.321779509   \n",
              "4    delivered      2017-01-23 18:29:09 2017-01-26 23:56:45.321779509   \n",
              "\n",
              "  order_delivered_carrier_date order_delivered_customer_date  \\\n",
              "0          2018-07-26 14:31:00           2018-08-07 15:27:45   \n",
              "1          2018-08-08 13:50:00           2018-08-17 18:06:29   \n",
              "2          2017-11-22 13:39:59           2017-12-02 00:28:42   \n",
              "3          2017-05-22 10:07:46           2017-05-26 12:55:51   \n",
              "4          2017-01-26 14:16:31           2017-02-02 14:08:10   \n",
              "\n",
              "  order_estimated_delivery_date  order_item_id  \\\n",
              "0           2018-08-13 00:00:00              1   \n",
              "1           2018-09-04 00:00:00              1   \n",
              "2           2017-12-15 00:00:00              1   \n",
              "3           2017-06-07 00:00:00              1   \n",
              "4           2017-03-06 00:00:00              1   \n",
              "\n",
              "                         product_id  ... review_creation_date  \\\n",
              "0  595fac2a385ac33a80bd5114aec74eb8  ...           2018-08-08   \n",
              "1  aa4383b373c6aca5d8797843e5594415  ...           2018-08-18   \n",
              "2  d0b61bfb1de832b15ba9d266ca96e5b0  ...           2017-12-03   \n",
              "3  4520766ec412348b8d4caa5e8a18c464  ...           2017-05-27   \n",
              "4  ac1789e492dcd698c5c10b97a671243a  ...           2017-02-03   \n",
              "\n",
              "  review_answer_timestamp  seller_zip_code_prefix            seller_city  \\\n",
              "0     2018-08-08 18:37:50                   31570         belo horizonte   \n",
              "1     2018-08-22 19:07:58                   14840                guariba   \n",
              "2     2017-12-05 19:21:58                   31842         belo horizonte   \n",
              "3     2017-05-28 02:59:57                   12940                atibaia   \n",
              "4     2017-02-05 01:58:35                   13720  sao jose do rio pardo   \n",
              "\n",
              "   seller_state  payment_sequential payment_type  payment_installments  \\\n",
              "0            SP                   1       boleto                     1   \n",
              "1            SP                   1  credit_card                     3   \n",
              "2            MG                   1  credit_card                     1   \n",
              "3            SP                   1  credit_card                     3   \n",
              "4            SP                   1       boleto                     1   \n",
              "\n",
              "   payment_value  product_category_name_english  \n",
              "0         141.46                      perfumery  \n",
              "1         179.12                           auto  \n",
              "2          72.20                       pet_shop  \n",
              "3          75.16                           auto  \n",
              "4          35.95                furniture_decor  \n",
              "\n",
              "[5 rows x 36 columns]"
            ]
          },
          "execution_count": 157,
          "metadata": {},
          "output_type": "execute_result"
        }
      ],
      "source": [
        "final_dataset = pd.merge(\n",
        "    orders_items_products_reviews_sellers_payments_df,\n",
        "    translations_df, on='product_category_name', how='left'\n",
        ")\n",
        "final_dataset.head()"
      ]
    },
    {
      "cell_type": "markdown",
      "metadata": {
        "id": "76dQnshPG9Ee"
      },
      "source": [
        "**Menganalisis Kategori Produk yang Tidak Memiliki Terjemahan**"
      ]
    },
    {
      "cell_type": "code",
      "execution_count": 158,
      "metadata": {
        "colab": {
          "base_uri": "https://localhost:8080/"
        },
        "id": "UiKN745q6kdS",
        "outputId": "5ed6196f-f424-434e-fe02-15ddac2a7fe5"
      },
      "outputs": [
        {
          "name": "stdout",
          "output_type": "stream",
          "text": [
            "Kategori Produk yang Tidak Memiliki Terjemahan:\n",
            "[]\n"
          ]
        }
      ],
      "source": [
        "missing_translation = final_dataset[final_dataset['product_category_name_english'].isna()]['product_category_name'].unique()\n",
        "print(\"Kategori Produk yang Tidak Memiliki Terjemahan:\")\n",
        "print(missing_translation)"
      ]
    },
    {
      "cell_type": "markdown",
      "metadata": {
        "id": "5DJdzbgdEeyM"
      },
      "source": [
        "# Combine Data"
      ]
    },
    {
      "cell_type": "markdown",
      "metadata": {
        "id": "v5dJaXdyE1J-"
      },
      "source": [
        "**Menyimpan dataset akhir dalam file CSV** (penggabungan tujuh dataset tersebut dalam satu file akhirt)"
      ]
    },
    {
      "cell_type": "code",
      "execution_count": 159,
      "metadata": {
        "id": "qNOcfojQoNqV"
      },
      "outputs": [],
      "source": [
        "final_dataset.to_csv('final_dataset.csv', index=False)"
      ]
    }
  ],
  "metadata": {
    "colab": {
      "provenance": []
    },
    "kernelspec": {
      "display_name": "Python 3",
      "name": "python3"
    },
    "language_info": {
      "codemirror_mode": {
        "name": "ipython",
        "version": 3
      },
      "file_extension": ".py",
      "mimetype": "text/x-python",
      "name": "python",
      "nbconvert_exporter": "python",
      "pygments_lexer": "ipython3",
      "version": "3.12.4"
    }
  },
  "nbformat": 4,
  "nbformat_minor": 0
}
